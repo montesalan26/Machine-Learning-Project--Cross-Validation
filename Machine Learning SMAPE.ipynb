{
 "cells": [
  {
   "cell_type": "markdown",
   "metadata": {},
   "source": [
    "### Import Libraries"
   ]
  },
  {
   "cell_type": "code",
   "execution_count": 3,
   "metadata": {},
   "outputs": [],
   "source": [
    "import pandas as pd\n",
    "from matplotlib import pyplot as plt\n",
    "import numpy as np\n",
    "from sklearn.linear_model import LinearRegression\n",
    "from sklearn.metrics import mean_absolute_error, mean_absolute_percentage_error, make_scorer, mean_squared_error\n",
    "from sklearn.model_selection import cross_val_score, train_test_split, KFold\n",
    "from sklearn.tree import DecisionTreeRegressor\n",
    "from sklearn.ensemble import RandomForestRegressor\n",
    "from sklearn.dummy import DummyRegressor"
   ]
  },
  {
   "cell_type": "markdown",
   "metadata": {},
   "source": [
    "### Read CSV files"
   ]
  },
  {
   "cell_type": "code",
   "execution_count": 4,
   "metadata": {},
   "outputs": [],
   "source": [
    "data_train = pd.read_csv(\"/datasets/gold_recovery_train.csv\")\n",
    "data_test = pd.read_csv(\"/datasets/gold_recovery_test.csv\")\n",
    "data_full = pd.read_csv(\"/datasets/gold_recovery_full.csv\")"
   ]
  },
  {
   "cell_type": "markdown",
   "metadata": {},
   "source": [
    "### Check DataTypes"
   ]
  },
  {
   "cell_type": "code",
   "execution_count": 5,
   "metadata": {},
   "outputs": [
    {
     "name": "stdout",
     "output_type": "stream",
     "text": [
      "<class 'pandas.core.frame.DataFrame'>\n",
      "RangeIndex: 22716 entries, 0 to 22715\n",
      "Data columns (total 87 columns):\n",
      " #   Column                                              Non-Null Count  Dtype  \n",
      "---  ------                                              --------------  -----  \n",
      " 0   date                                                22716 non-null  object \n",
      " 1   final.output.concentrate_ag                         22627 non-null  float64\n",
      " 2   final.output.concentrate_pb                         22629 non-null  float64\n",
      " 3   final.output.concentrate_sol                        22331 non-null  float64\n",
      " 4   final.output.concentrate_au                         22630 non-null  float64\n",
      " 5   final.output.recovery                               20753 non-null  float64\n",
      " 6   final.output.tail_ag                                22633 non-null  float64\n",
      " 7   final.output.tail_pb                                22516 non-null  float64\n",
      " 8   final.output.tail_sol                               22445 non-null  float64\n",
      " 9   final.output.tail_au                                22635 non-null  float64\n",
      " 10  primary_cleaner.input.sulfate                       21107 non-null  float64\n",
      " 11  primary_cleaner.input.depressant                    21170 non-null  float64\n",
      " 12  primary_cleaner.input.feed_size                     22716 non-null  float64\n",
      " 13  primary_cleaner.input.xanthate                      21565 non-null  float64\n",
      " 14  primary_cleaner.output.concentrate_ag               22618 non-null  float64\n",
      " 15  primary_cleaner.output.concentrate_pb               22268 non-null  float64\n",
      " 16  primary_cleaner.output.concentrate_sol              21918 non-null  float64\n",
      " 17  primary_cleaner.output.concentrate_au               22618 non-null  float64\n",
      " 18  primary_cleaner.output.tail_ag                      22614 non-null  float64\n",
      " 19  primary_cleaner.output.tail_pb                      22594 non-null  float64\n",
      " 20  primary_cleaner.output.tail_sol                     22365 non-null  float64\n",
      " 21  primary_cleaner.output.tail_au                      22617 non-null  float64\n",
      " 22  primary_cleaner.state.floatbank8_a_air              22660 non-null  float64\n",
      " 23  primary_cleaner.state.floatbank8_a_level            22667 non-null  float64\n",
      " 24  primary_cleaner.state.floatbank8_b_air              22660 non-null  float64\n",
      " 25  primary_cleaner.state.floatbank8_b_level            22673 non-null  float64\n",
      " 26  primary_cleaner.state.floatbank8_c_air              22662 non-null  float64\n",
      " 27  primary_cleaner.state.floatbank8_c_level            22673 non-null  float64\n",
      " 28  primary_cleaner.state.floatbank8_d_air              22661 non-null  float64\n",
      " 29  primary_cleaner.state.floatbank8_d_level            22673 non-null  float64\n",
      " 30  rougher.calculation.sulfate_to_au_concentrate       22672 non-null  float64\n",
      " 31  rougher.calculation.floatbank10_sulfate_to_au_feed  22672 non-null  float64\n",
      " 32  rougher.calculation.floatbank11_sulfate_to_au_feed  22672 non-null  float64\n",
      " 33  rougher.calculation.au_pb_ratio                     21089 non-null  float64\n",
      " 34  rougher.input.feed_ag                               22618 non-null  float64\n",
      " 35  rougher.input.feed_pb                               22472 non-null  float64\n",
      " 36  rougher.input.feed_rate                             22163 non-null  float64\n",
      " 37  rougher.input.feed_size                             22277 non-null  float64\n",
      " 38  rougher.input.feed_sol                              22357 non-null  float64\n",
      " 39  rougher.input.feed_au                               22617 non-null  float64\n",
      " 40  rougher.input.floatbank10_sulfate                   21415 non-null  float64\n",
      " 41  rougher.input.floatbank10_xanthate                  22247 non-null  float64\n",
      " 42  rougher.input.floatbank11_sulfate                   22038 non-null  float64\n",
      " 43  rougher.input.floatbank11_xanthate                  20459 non-null  float64\n",
      " 44  rougher.output.concentrate_ag                       22618 non-null  float64\n",
      " 45  rougher.output.concentrate_pb                       22618 non-null  float64\n",
      " 46  rougher.output.concentrate_sol                      22526 non-null  float64\n",
      " 47  rougher.output.concentrate_au                       22618 non-null  float64\n",
      " 48  rougher.output.recovery                             19597 non-null  float64\n",
      " 49  rougher.output.tail_ag                              19979 non-null  float64\n",
      " 50  rougher.output.tail_pb                              22618 non-null  float64\n",
      " 51  rougher.output.tail_sol                             19980 non-null  float64\n",
      " 52  rougher.output.tail_au                              19980 non-null  float64\n",
      " 53  rougher.state.floatbank10_a_air                     22646 non-null  float64\n",
      " 54  rougher.state.floatbank10_a_level                   22647 non-null  float64\n",
      " 55  rougher.state.floatbank10_b_air                     22646 non-null  float64\n",
      " 56  rougher.state.floatbank10_b_level                   22647 non-null  float64\n",
      " 57  rougher.state.floatbank10_c_air                     22646 non-null  float64\n",
      " 58  rougher.state.floatbank10_c_level                   22654 non-null  float64\n",
      " 59  rougher.state.floatbank10_d_air                     22641 non-null  float64\n",
      " 60  rougher.state.floatbank10_d_level                   22649 non-null  float64\n",
      " 61  rougher.state.floatbank10_e_air                     22096 non-null  float64\n",
      " 62  rougher.state.floatbank10_e_level                   22649 non-null  float64\n",
      " 63  rougher.state.floatbank10_f_air                     22641 non-null  float64\n",
      " 64  rougher.state.floatbank10_f_level                   22642 non-null  float64\n",
      " 65  secondary_cleaner.output.tail_ag                    22616 non-null  float64\n",
      " 66  secondary_cleaner.output.tail_pb                    22600 non-null  float64\n",
      " 67  secondary_cleaner.output.tail_sol                   20501 non-null  float64\n",
      " 68  secondary_cleaner.output.tail_au                    22618 non-null  float64\n",
      " 69  secondary_cleaner.state.floatbank2_a_air            22333 non-null  float64\n",
      " 70  secondary_cleaner.state.floatbank2_a_level          22591 non-null  float64\n",
      " 71  secondary_cleaner.state.floatbank2_b_air            22538 non-null  float64\n",
      " 72  secondary_cleaner.state.floatbank2_b_level          22588 non-null  float64\n",
      " 73  secondary_cleaner.state.floatbank3_a_air            22585 non-null  float64\n",
      " 74  secondary_cleaner.state.floatbank3_a_level          22587 non-null  float64\n",
      " 75  secondary_cleaner.state.floatbank3_b_air            22592 non-null  float64\n",
      " 76  secondary_cleaner.state.floatbank3_b_level          22590 non-null  float64\n",
      " 77  secondary_cleaner.state.floatbank4_a_air            22571 non-null  float64\n",
      " 78  secondary_cleaner.state.floatbank4_a_level          22587 non-null  float64\n",
      " 79  secondary_cleaner.state.floatbank4_b_air            22608 non-null  float64\n",
      " 80  secondary_cleaner.state.floatbank4_b_level          22607 non-null  float64\n",
      " 81  secondary_cleaner.state.floatbank5_a_air            22615 non-null  float64\n",
      " 82  secondary_cleaner.state.floatbank5_a_level          22615 non-null  float64\n",
      " 83  secondary_cleaner.state.floatbank5_b_air            22615 non-null  float64\n",
      " 84  secondary_cleaner.state.floatbank5_b_level          22616 non-null  float64\n",
      " 85  secondary_cleaner.state.floatbank6_a_air            22597 non-null  float64\n",
      " 86  secondary_cleaner.state.floatbank6_a_level          22615 non-null  float64\n",
      "dtypes: float64(86), object(1)\n",
      "memory usage: 15.1+ MB\n"
     ]
    }
   ],
   "source": [
    "data_full.info()"
   ]
  },
  {
   "cell_type": "code",
   "execution_count": 6,
   "metadata": {
    "scrolled": true
   },
   "outputs": [
    {
     "name": "stdout",
     "output_type": "stream",
     "text": [
      "<class 'pandas.core.frame.DataFrame'>\n",
      "RangeIndex: 5856 entries, 0 to 5855\n",
      "Data columns (total 53 columns):\n",
      " #   Column                                      Non-Null Count  Dtype  \n",
      "---  ------                                      --------------  -----  \n",
      " 0   date                                        5856 non-null   object \n",
      " 1   primary_cleaner.input.sulfate               5554 non-null   float64\n",
      " 2   primary_cleaner.input.depressant            5572 non-null   float64\n",
      " 3   primary_cleaner.input.feed_size             5856 non-null   float64\n",
      " 4   primary_cleaner.input.xanthate              5690 non-null   float64\n",
      " 5   primary_cleaner.state.floatbank8_a_air      5840 non-null   float64\n",
      " 6   primary_cleaner.state.floatbank8_a_level    5840 non-null   float64\n",
      " 7   primary_cleaner.state.floatbank8_b_air      5840 non-null   float64\n",
      " 8   primary_cleaner.state.floatbank8_b_level    5840 non-null   float64\n",
      " 9   primary_cleaner.state.floatbank8_c_air      5840 non-null   float64\n",
      " 10  primary_cleaner.state.floatbank8_c_level    5840 non-null   float64\n",
      " 11  primary_cleaner.state.floatbank8_d_air      5840 non-null   float64\n",
      " 12  primary_cleaner.state.floatbank8_d_level    5840 non-null   float64\n",
      " 13  rougher.input.feed_ag                       5840 non-null   float64\n",
      " 14  rougher.input.feed_pb                       5840 non-null   float64\n",
      " 15  rougher.input.feed_rate                     5816 non-null   float64\n",
      " 16  rougher.input.feed_size                     5834 non-null   float64\n",
      " 17  rougher.input.feed_sol                      5789 non-null   float64\n",
      " 18  rougher.input.feed_au                       5840 non-null   float64\n",
      " 19  rougher.input.floatbank10_sulfate           5599 non-null   float64\n",
      " 20  rougher.input.floatbank10_xanthate          5733 non-null   float64\n",
      " 21  rougher.input.floatbank11_sulfate           5801 non-null   float64\n",
      " 22  rougher.input.floatbank11_xanthate          5503 non-null   float64\n",
      " 23  rougher.state.floatbank10_a_air             5839 non-null   float64\n",
      " 24  rougher.state.floatbank10_a_level           5840 non-null   float64\n",
      " 25  rougher.state.floatbank10_b_air             5839 non-null   float64\n",
      " 26  rougher.state.floatbank10_b_level           5840 non-null   float64\n",
      " 27  rougher.state.floatbank10_c_air             5839 non-null   float64\n",
      " 28  rougher.state.floatbank10_c_level           5840 non-null   float64\n",
      " 29  rougher.state.floatbank10_d_air             5839 non-null   float64\n",
      " 30  rougher.state.floatbank10_d_level           5840 non-null   float64\n",
      " 31  rougher.state.floatbank10_e_air             5839 non-null   float64\n",
      " 32  rougher.state.floatbank10_e_level           5840 non-null   float64\n",
      " 33  rougher.state.floatbank10_f_air             5839 non-null   float64\n",
      " 34  rougher.state.floatbank10_f_level           5840 non-null   float64\n",
      " 35  secondary_cleaner.state.floatbank2_a_air    5836 non-null   float64\n",
      " 36  secondary_cleaner.state.floatbank2_a_level  5840 non-null   float64\n",
      " 37  secondary_cleaner.state.floatbank2_b_air    5833 non-null   float64\n",
      " 38  secondary_cleaner.state.floatbank2_b_level  5840 non-null   float64\n",
      " 39  secondary_cleaner.state.floatbank3_a_air    5822 non-null   float64\n",
      " 40  secondary_cleaner.state.floatbank3_a_level  5840 non-null   float64\n",
      " 41  secondary_cleaner.state.floatbank3_b_air    5840 non-null   float64\n",
      " 42  secondary_cleaner.state.floatbank3_b_level  5840 non-null   float64\n",
      " 43  secondary_cleaner.state.floatbank4_a_air    5840 non-null   float64\n",
      " 44  secondary_cleaner.state.floatbank4_a_level  5840 non-null   float64\n",
      " 45  secondary_cleaner.state.floatbank4_b_air    5840 non-null   float64\n",
      " 46  secondary_cleaner.state.floatbank4_b_level  5840 non-null   float64\n",
      " 47  secondary_cleaner.state.floatbank5_a_air    5840 non-null   float64\n",
      " 48  secondary_cleaner.state.floatbank5_a_level  5840 non-null   float64\n",
      " 49  secondary_cleaner.state.floatbank5_b_air    5840 non-null   float64\n",
      " 50  secondary_cleaner.state.floatbank5_b_level  5840 non-null   float64\n",
      " 51  secondary_cleaner.state.floatbank6_a_air    5840 non-null   float64\n",
      " 52  secondary_cleaner.state.floatbank6_a_level  5840 non-null   float64\n",
      "dtypes: float64(52), object(1)\n",
      "memory usage: 2.4+ MB\n"
     ]
    }
   ],
   "source": [
    "data_test.info()"
   ]
  },
  {
   "cell_type": "code",
   "execution_count": 7,
   "metadata": {
    "scrolled": true
   },
   "outputs": [
    {
     "name": "stdout",
     "output_type": "stream",
     "text": [
      "<class 'pandas.core.frame.DataFrame'>\n",
      "RangeIndex: 22716 entries, 0 to 22715\n",
      "Data columns (total 87 columns):\n",
      " #   Column                                              Non-Null Count  Dtype  \n",
      "---  ------                                              --------------  -----  \n",
      " 0   date                                                22716 non-null  object \n",
      " 1   final.output.concentrate_ag                         22627 non-null  float64\n",
      " 2   final.output.concentrate_pb                         22629 non-null  float64\n",
      " 3   final.output.concentrate_sol                        22331 non-null  float64\n",
      " 4   final.output.concentrate_au                         22630 non-null  float64\n",
      " 5   final.output.recovery                               20753 non-null  float64\n",
      " 6   final.output.tail_ag                                22633 non-null  float64\n",
      " 7   final.output.tail_pb                                22516 non-null  float64\n",
      " 8   final.output.tail_sol                               22445 non-null  float64\n",
      " 9   final.output.tail_au                                22635 non-null  float64\n",
      " 10  primary_cleaner.input.sulfate                       21107 non-null  float64\n",
      " 11  primary_cleaner.input.depressant                    21170 non-null  float64\n",
      " 12  primary_cleaner.input.feed_size                     22716 non-null  float64\n",
      " 13  primary_cleaner.input.xanthate                      21565 non-null  float64\n",
      " 14  primary_cleaner.output.concentrate_ag               22618 non-null  float64\n",
      " 15  primary_cleaner.output.concentrate_pb               22268 non-null  float64\n",
      " 16  primary_cleaner.output.concentrate_sol              21918 non-null  float64\n",
      " 17  primary_cleaner.output.concentrate_au               22618 non-null  float64\n",
      " 18  primary_cleaner.output.tail_ag                      22614 non-null  float64\n",
      " 19  primary_cleaner.output.tail_pb                      22594 non-null  float64\n",
      " 20  primary_cleaner.output.tail_sol                     22365 non-null  float64\n",
      " 21  primary_cleaner.output.tail_au                      22617 non-null  float64\n",
      " 22  primary_cleaner.state.floatbank8_a_air              22660 non-null  float64\n",
      " 23  primary_cleaner.state.floatbank8_a_level            22667 non-null  float64\n",
      " 24  primary_cleaner.state.floatbank8_b_air              22660 non-null  float64\n",
      " 25  primary_cleaner.state.floatbank8_b_level            22673 non-null  float64\n",
      " 26  primary_cleaner.state.floatbank8_c_air              22662 non-null  float64\n",
      " 27  primary_cleaner.state.floatbank8_c_level            22673 non-null  float64\n",
      " 28  primary_cleaner.state.floatbank8_d_air              22661 non-null  float64\n",
      " 29  primary_cleaner.state.floatbank8_d_level            22673 non-null  float64\n",
      " 30  rougher.calculation.sulfate_to_au_concentrate       22672 non-null  float64\n",
      " 31  rougher.calculation.floatbank10_sulfate_to_au_feed  22672 non-null  float64\n",
      " 32  rougher.calculation.floatbank11_sulfate_to_au_feed  22672 non-null  float64\n",
      " 33  rougher.calculation.au_pb_ratio                     21089 non-null  float64\n",
      " 34  rougher.input.feed_ag                               22618 non-null  float64\n",
      " 35  rougher.input.feed_pb                               22472 non-null  float64\n",
      " 36  rougher.input.feed_rate                             22163 non-null  float64\n",
      " 37  rougher.input.feed_size                             22277 non-null  float64\n",
      " 38  rougher.input.feed_sol                              22357 non-null  float64\n",
      " 39  rougher.input.feed_au                               22617 non-null  float64\n",
      " 40  rougher.input.floatbank10_sulfate                   21415 non-null  float64\n",
      " 41  rougher.input.floatbank10_xanthate                  22247 non-null  float64\n",
      " 42  rougher.input.floatbank11_sulfate                   22038 non-null  float64\n",
      " 43  rougher.input.floatbank11_xanthate                  20459 non-null  float64\n",
      " 44  rougher.output.concentrate_ag                       22618 non-null  float64\n",
      " 45  rougher.output.concentrate_pb                       22618 non-null  float64\n",
      " 46  rougher.output.concentrate_sol                      22526 non-null  float64\n",
      " 47  rougher.output.concentrate_au                       22618 non-null  float64\n",
      " 48  rougher.output.recovery                             19597 non-null  float64\n",
      " 49  rougher.output.tail_ag                              19979 non-null  float64\n",
      " 50  rougher.output.tail_pb                              22618 non-null  float64\n",
      " 51  rougher.output.tail_sol                             19980 non-null  float64\n",
      " 52  rougher.output.tail_au                              19980 non-null  float64\n",
      " 53  rougher.state.floatbank10_a_air                     22646 non-null  float64\n",
      " 54  rougher.state.floatbank10_a_level                   22647 non-null  float64\n",
      " 55  rougher.state.floatbank10_b_air                     22646 non-null  float64\n",
      " 56  rougher.state.floatbank10_b_level                   22647 non-null  float64\n",
      " 57  rougher.state.floatbank10_c_air                     22646 non-null  float64\n",
      " 58  rougher.state.floatbank10_c_level                   22654 non-null  float64\n",
      " 59  rougher.state.floatbank10_d_air                     22641 non-null  float64\n",
      " 60  rougher.state.floatbank10_d_level                   22649 non-null  float64\n",
      " 61  rougher.state.floatbank10_e_air                     22096 non-null  float64\n",
      " 62  rougher.state.floatbank10_e_level                   22649 non-null  float64\n",
      " 63  rougher.state.floatbank10_f_air                     22641 non-null  float64\n",
      " 64  rougher.state.floatbank10_f_level                   22642 non-null  float64\n",
      " 65  secondary_cleaner.output.tail_ag                    22616 non-null  float64\n",
      " 66  secondary_cleaner.output.tail_pb                    22600 non-null  float64\n",
      " 67  secondary_cleaner.output.tail_sol                   20501 non-null  float64\n",
      " 68  secondary_cleaner.output.tail_au                    22618 non-null  float64\n",
      " 69  secondary_cleaner.state.floatbank2_a_air            22333 non-null  float64\n",
      " 70  secondary_cleaner.state.floatbank2_a_level          22591 non-null  float64\n",
      " 71  secondary_cleaner.state.floatbank2_b_air            22538 non-null  float64\n",
      " 72  secondary_cleaner.state.floatbank2_b_level          22588 non-null  float64\n",
      " 73  secondary_cleaner.state.floatbank3_a_air            22585 non-null  float64\n",
      " 74  secondary_cleaner.state.floatbank3_a_level          22587 non-null  float64\n",
      " 75  secondary_cleaner.state.floatbank3_b_air            22592 non-null  float64\n",
      " 76  secondary_cleaner.state.floatbank3_b_level          22590 non-null  float64\n",
      " 77  secondary_cleaner.state.floatbank4_a_air            22571 non-null  float64\n",
      " 78  secondary_cleaner.state.floatbank4_a_level          22587 non-null  float64\n",
      " 79  secondary_cleaner.state.floatbank4_b_air            22608 non-null  float64\n",
      " 80  secondary_cleaner.state.floatbank4_b_level          22607 non-null  float64\n",
      " 81  secondary_cleaner.state.floatbank5_a_air            22615 non-null  float64\n",
      " 82  secondary_cleaner.state.floatbank5_a_level          22615 non-null  float64\n",
      " 83  secondary_cleaner.state.floatbank5_b_air            22615 non-null  float64\n",
      " 84  secondary_cleaner.state.floatbank5_b_level          22616 non-null  float64\n",
      " 85  secondary_cleaner.state.floatbank6_a_air            22597 non-null  float64\n",
      " 86  secondary_cleaner.state.floatbank6_a_level          22615 non-null  float64\n",
      "dtypes: float64(86), object(1)\n",
      "memory usage: 15.1+ MB\n"
     ]
    }
   ],
   "source": [
    "data_full.info()"
   ]
  },
  {
   "cell_type": "markdown",
   "metadata": {},
   "source": [
    "### Converting Date Column to Datetime type"
   ]
  },
  {
   "cell_type": "code",
   "execution_count": 8,
   "metadata": {},
   "outputs": [],
   "source": [
    "data_train['date'] = pd.to_datetime(data_train['date'])"
   ]
  },
  {
   "cell_type": "code",
   "execution_count": 9,
   "metadata": {},
   "outputs": [],
   "source": [
    "data_test['date'] = pd.to_datetime(data_test['date'])"
   ]
  },
  {
   "cell_type": "code",
   "execution_count": 10,
   "metadata": {},
   "outputs": [],
   "source": [
    "data_full['date'] = pd.to_datetime(data_full['date'])"
   ]
  },
  {
   "cell_type": "markdown",
   "metadata": {},
   "source": [
    "### Check if Data has missing Values and Duplicate Values"
   ]
  },
  {
   "cell_type": "code",
   "execution_count": 11,
   "metadata": {
    "scrolled": false
   },
   "outputs": [
    {
     "data": {
      "text/plain": [
       "date                                            0\n",
       "final.output.concentrate_ag                    72\n",
       "final.output.concentrate_pb                    72\n",
       "final.output.concentrate_sol                  370\n",
       "final.output.concentrate_au                    71\n",
       "                                             ... \n",
       "secondary_cleaner.state.floatbank5_a_level     85\n",
       "secondary_cleaner.state.floatbank5_b_air       85\n",
       "secondary_cleaner.state.floatbank5_b_level     84\n",
       "secondary_cleaner.state.floatbank6_a_air      103\n",
       "secondary_cleaner.state.floatbank6_a_level     85\n",
       "Length: 87, dtype: int64"
      ]
     },
     "execution_count": 11,
     "metadata": {},
     "output_type": "execute_result"
    }
   ],
   "source": [
    "data_train.isna().sum()"
   ]
  },
  {
   "cell_type": "code",
   "execution_count": 12,
   "metadata": {},
   "outputs": [
    {
     "data": {
      "text/plain": [
       "0"
      ]
     },
     "execution_count": 12,
     "metadata": {},
     "output_type": "execute_result"
    }
   ],
   "source": [
    "data_train.duplicated().sum()"
   ]
  },
  {
   "cell_type": "code",
   "execution_count": 13,
   "metadata": {
    "scrolled": false
   },
   "outputs": [
    {
     "data": {
      "text/plain": [
       "date                                            0\n",
       "primary_cleaner.input.sulfate                 302\n",
       "primary_cleaner.input.depressant              284\n",
       "primary_cleaner.input.feed_size                 0\n",
       "primary_cleaner.input.xanthate                166\n",
       "primary_cleaner.state.floatbank8_a_air         16\n",
       "primary_cleaner.state.floatbank8_a_level       16\n",
       "primary_cleaner.state.floatbank8_b_air         16\n",
       "primary_cleaner.state.floatbank8_b_level       16\n",
       "primary_cleaner.state.floatbank8_c_air         16\n",
       "primary_cleaner.state.floatbank8_c_level       16\n",
       "primary_cleaner.state.floatbank8_d_air         16\n",
       "primary_cleaner.state.floatbank8_d_level       16\n",
       "rougher.input.feed_ag                          16\n",
       "rougher.input.feed_pb                          16\n",
       "rougher.input.feed_rate                        40\n",
       "rougher.input.feed_size                        22\n",
       "rougher.input.feed_sol                         67\n",
       "rougher.input.feed_au                          16\n",
       "rougher.input.floatbank10_sulfate             257\n",
       "rougher.input.floatbank10_xanthate            123\n",
       "rougher.input.floatbank11_sulfate              55\n",
       "rougher.input.floatbank11_xanthate            353\n",
       "rougher.state.floatbank10_a_air                17\n",
       "rougher.state.floatbank10_a_level              16\n",
       "rougher.state.floatbank10_b_air                17\n",
       "rougher.state.floatbank10_b_level              16\n",
       "rougher.state.floatbank10_c_air                17\n",
       "rougher.state.floatbank10_c_level              16\n",
       "rougher.state.floatbank10_d_air                17\n",
       "rougher.state.floatbank10_d_level              16\n",
       "rougher.state.floatbank10_e_air                17\n",
       "rougher.state.floatbank10_e_level              16\n",
       "rougher.state.floatbank10_f_air                17\n",
       "rougher.state.floatbank10_f_level              16\n",
       "secondary_cleaner.state.floatbank2_a_air       20\n",
       "secondary_cleaner.state.floatbank2_a_level     16\n",
       "secondary_cleaner.state.floatbank2_b_air       23\n",
       "secondary_cleaner.state.floatbank2_b_level     16\n",
       "secondary_cleaner.state.floatbank3_a_air       34\n",
       "secondary_cleaner.state.floatbank3_a_level     16\n",
       "secondary_cleaner.state.floatbank3_b_air       16\n",
       "secondary_cleaner.state.floatbank3_b_level     16\n",
       "secondary_cleaner.state.floatbank4_a_air       16\n",
       "secondary_cleaner.state.floatbank4_a_level     16\n",
       "secondary_cleaner.state.floatbank4_b_air       16\n",
       "secondary_cleaner.state.floatbank4_b_level     16\n",
       "secondary_cleaner.state.floatbank5_a_air       16\n",
       "secondary_cleaner.state.floatbank5_a_level     16\n",
       "secondary_cleaner.state.floatbank5_b_air       16\n",
       "secondary_cleaner.state.floatbank5_b_level     16\n",
       "secondary_cleaner.state.floatbank6_a_air       16\n",
       "secondary_cleaner.state.floatbank6_a_level     16\n",
       "dtype: int64"
      ]
     },
     "execution_count": 13,
     "metadata": {},
     "output_type": "execute_result"
    }
   ],
   "source": [
    "data_test.isna().sum()"
   ]
  },
  {
   "cell_type": "code",
   "execution_count": 14,
   "metadata": {},
   "outputs": [
    {
     "data": {
      "text/plain": [
       "0"
      ]
     },
     "execution_count": 14,
     "metadata": {},
     "output_type": "execute_result"
    }
   ],
   "source": [
    "data_test.duplicated().sum()"
   ]
  },
  {
   "cell_type": "code",
   "execution_count": 15,
   "metadata": {},
   "outputs": [
    {
     "data": {
      "text/plain": [
       "date                                            0\n",
       "final.output.concentrate_ag                    89\n",
       "final.output.concentrate_pb                    87\n",
       "final.output.concentrate_sol                  385\n",
       "final.output.concentrate_au                    86\n",
       "                                             ... \n",
       "secondary_cleaner.state.floatbank5_a_level    101\n",
       "secondary_cleaner.state.floatbank5_b_air      101\n",
       "secondary_cleaner.state.floatbank5_b_level    100\n",
       "secondary_cleaner.state.floatbank6_a_air      119\n",
       "secondary_cleaner.state.floatbank6_a_level    101\n",
       "Length: 87, dtype: int64"
      ]
     },
     "execution_count": 15,
     "metadata": {},
     "output_type": "execute_result"
    }
   ],
   "source": [
    "data_full.isna().sum()"
   ]
  },
  {
   "cell_type": "code",
   "execution_count": 16,
   "metadata": {},
   "outputs": [
    {
     "data": {
      "text/plain": [
       "0"
      ]
     },
     "execution_count": 16,
     "metadata": {},
     "output_type": "execute_result"
    }
   ],
   "source": [
    "data_full.duplicated().sum()"
   ]
  },
  {
   "cell_type": "markdown",
   "metadata": {},
   "source": [
    "As you can see, the datasets have quite a few columns with missing values. In order to create a machine learning model, we must fill those missing values. The best approach to fill those missing values is using the fillna function with the parameter \"method='ffill'\", since the data is indexed by the date, and in the intructions, it specifies that parameters next to each other in terms of time are often similar. The \"method='ffill'\" replaces the missing values with the previous valid observation.\n",
    "\n",
    "Also, you can see that all three dataframs dont have any duplicate values."
   ]
  },
  {
   "cell_type": "markdown",
   "metadata": {},
   "source": [
    "#### Dropping Missing Values in the Target Column"
   ]
  },
  {
   "cell_type": "markdown",
   "metadata": {},
   "source": [
    "Before we can proceed, the missing values in the target columns must be dropped, otherwise, it wont be possible to accurately estimate model error"
   ]
  },
  {
   "cell_type": "code",
   "execution_count": 17,
   "metadata": {
    "scrolled": false
   },
   "outputs": [
    {
     "name": "stdout",
     "output_type": "stream",
     "text": [
      "The Target Column \"rougher.output.recovery\" has: 0 missing values.\n",
      "The Target Column \"final.output.recovery has: 0 missing values.\"\n"
     ]
    }
   ],
   "source": [
    "data_train = data_train.dropna(subset = ['rougher.output.recovery','final.output.recovery'])\n",
    "\n",
    "\n",
    "print(f'''The Target Column \"rougher.output.recovery\" has: {data_train['rougher.output.recovery'].isna().sum()} missing values.\n",
    "The Target Column \"final.output.recovery has: {data_train['final.output.recovery'].isna().sum()} missing values.\"''')"
   ]
  },
  {
   "cell_type": "code",
   "execution_count": 18,
   "metadata": {
    "scrolled": true
   },
   "outputs": [
    {
     "name": "stdout",
     "output_type": "stream",
     "text": [
      "The Data Full Dataset has 0 missing values.\n",
      "The Data Train Dataset has 0 missing values.\n"
     ]
    }
   ],
   "source": [
    "df_full = data_full.dropna(subset=['rougher.output.recovery', 'final.output.recovery'])\n",
    "\n",
    "data_train['rougher.output.recovery'].dropna()\n",
    "\n",
    "df_train = data_train.dropna(subset=['rougher.output.recovery'])\n",
    "\n",
    "print('The Data Full Dataset has', df_full['rougher.output.recovery'].isna().sum(), 'missing values.')\n",
    "print('The Data Train Dataset has', data_train['rougher.output.recovery'].isna().sum(), 'missing values.')\n"
   ]
  },
  {
   "cell_type": "markdown",
   "metadata": {},
   "source": [
    "### Fill Missing Values With Previous Values with previous valid Observation"
   ]
  },
  {
   "cell_type": "code",
   "execution_count": 19,
   "metadata": {},
   "outputs": [],
   "source": [
    "data_train = data_train.fillna(method='ffill')"
   ]
  },
  {
   "cell_type": "code",
   "execution_count": 20,
   "metadata": {},
   "outputs": [],
   "source": [
    "data_train = data_train.drop(['date'],axis=1)"
   ]
  },
  {
   "cell_type": "code",
   "execution_count": 21,
   "metadata": {
    "scrolled": true
   },
   "outputs": [
    {
     "data": {
      "text/plain": [
       "final.output.concentrate_ag                   0\n",
       "final.output.concentrate_pb                   0\n",
       "final.output.concentrate_sol                  0\n",
       "final.output.concentrate_au                   0\n",
       "final.output.recovery                         0\n",
       "                                             ..\n",
       "secondary_cleaner.state.floatbank5_a_level    0\n",
       "secondary_cleaner.state.floatbank5_b_air      0\n",
       "secondary_cleaner.state.floatbank5_b_level    0\n",
       "secondary_cleaner.state.floatbank6_a_air      0\n",
       "secondary_cleaner.state.floatbank6_a_level    0\n",
       "Length: 86, dtype: int64"
      ]
     },
     "execution_count": 21,
     "metadata": {},
     "output_type": "execute_result"
    }
   ],
   "source": [
    "data_train.isna().sum()"
   ]
  },
  {
   "cell_type": "code",
   "execution_count": 22,
   "metadata": {
    "scrolled": true
   },
   "outputs": [
    {
     "data": {
      "text/plain": [
       "date                                          0\n",
       "primary_cleaner.input.sulfate                 0\n",
       "primary_cleaner.input.depressant              0\n",
       "primary_cleaner.input.feed_size               0\n",
       "primary_cleaner.input.xanthate                0\n",
       "primary_cleaner.state.floatbank8_a_air        0\n",
       "primary_cleaner.state.floatbank8_a_level      0\n",
       "primary_cleaner.state.floatbank8_b_air        0\n",
       "primary_cleaner.state.floatbank8_b_level      0\n",
       "primary_cleaner.state.floatbank8_c_air        0\n",
       "primary_cleaner.state.floatbank8_c_level      0\n",
       "primary_cleaner.state.floatbank8_d_air        0\n",
       "primary_cleaner.state.floatbank8_d_level      0\n",
       "rougher.input.feed_ag                         0\n",
       "rougher.input.feed_pb                         0\n",
       "rougher.input.feed_rate                       0\n",
       "rougher.input.feed_size                       0\n",
       "rougher.input.feed_sol                        0\n",
       "rougher.input.feed_au                         0\n",
       "rougher.input.floatbank10_sulfate             0\n",
       "rougher.input.floatbank10_xanthate            0\n",
       "rougher.input.floatbank11_sulfate             0\n",
       "rougher.input.floatbank11_xanthate            0\n",
       "rougher.state.floatbank10_a_air               0\n",
       "rougher.state.floatbank10_a_level             0\n",
       "rougher.state.floatbank10_b_air               0\n",
       "rougher.state.floatbank10_b_level             0\n",
       "rougher.state.floatbank10_c_air               0\n",
       "rougher.state.floatbank10_c_level             0\n",
       "rougher.state.floatbank10_d_air               0\n",
       "rougher.state.floatbank10_d_level             0\n",
       "rougher.state.floatbank10_e_air               0\n",
       "rougher.state.floatbank10_e_level             0\n",
       "rougher.state.floatbank10_f_air               0\n",
       "rougher.state.floatbank10_f_level             0\n",
       "secondary_cleaner.state.floatbank2_a_air      0\n",
       "secondary_cleaner.state.floatbank2_a_level    0\n",
       "secondary_cleaner.state.floatbank2_b_air      0\n",
       "secondary_cleaner.state.floatbank2_b_level    0\n",
       "secondary_cleaner.state.floatbank3_a_air      0\n",
       "secondary_cleaner.state.floatbank3_a_level    0\n",
       "secondary_cleaner.state.floatbank3_b_air      0\n",
       "secondary_cleaner.state.floatbank3_b_level    0\n",
       "secondary_cleaner.state.floatbank4_a_air      0\n",
       "secondary_cleaner.state.floatbank4_a_level    0\n",
       "secondary_cleaner.state.floatbank4_b_air      0\n",
       "secondary_cleaner.state.floatbank4_b_level    0\n",
       "secondary_cleaner.state.floatbank5_a_air      0\n",
       "secondary_cleaner.state.floatbank5_a_level    0\n",
       "secondary_cleaner.state.floatbank5_b_air      0\n",
       "secondary_cleaner.state.floatbank5_b_level    0\n",
       "secondary_cleaner.state.floatbank6_a_air      0\n",
       "secondary_cleaner.state.floatbank6_a_level    0\n",
       "dtype: int64"
      ]
     },
     "execution_count": 22,
     "metadata": {},
     "output_type": "execute_result"
    }
   ],
   "source": [
    "data_test = data_test.fillna(method='ffill')\n",
    "data_test.isna().sum()"
   ]
  },
  {
   "cell_type": "code",
   "execution_count": 23,
   "metadata": {
    "scrolled": true
   },
   "outputs": [
    {
     "data": {
      "text/plain": [
       "date                                          0\n",
       "final.output.concentrate_ag                   0\n",
       "final.output.concentrate_pb                   0\n",
       "final.output.concentrate_sol                  0\n",
       "final.output.concentrate_au                   0\n",
       "                                             ..\n",
       "secondary_cleaner.state.floatbank5_a_level    0\n",
       "secondary_cleaner.state.floatbank5_b_air      0\n",
       "secondary_cleaner.state.floatbank5_b_level    0\n",
       "secondary_cleaner.state.floatbank6_a_air      0\n",
       "secondary_cleaner.state.floatbank6_a_level    0\n",
       "Length: 87, dtype: int64"
      ]
     },
     "execution_count": 23,
     "metadata": {},
     "output_type": "execute_result"
    }
   ],
   "source": [
    "data_full = data_full.fillna(method='ffill')\n",
    "data_full.isna().sum()"
   ]
  },
  {
   "cell_type": "markdown",
   "metadata": {},
   "source": [
    "### Calculating the Mean Absoute Error "
   ]
  },
  {
   "cell_type": "code",
   "execution_count": 24,
   "metadata": {},
   "outputs": [],
   "source": [
    "def recovery(concentrate, feed, tail):\n",
    "    numerator = concentrate * (feed - tail)\n",
    "    denominator = feed * (concentrate - tail)\n",
    "    result = (numerator / denominator) * 100\n",
    "    return result"
   ]
  },
  {
   "cell_type": "code",
   "execution_count": 25,
   "metadata": {},
   "outputs": [],
   "source": [
    "training_recovery = data_train['rougher.output.recovery']"
   ]
  },
  {
   "cell_type": "code",
   "execution_count": 26,
   "metadata": {},
   "outputs": [],
   "source": [
    "au_recovery = recovery(data_train['rougher.output.concentrate_au'], data_train['rougher.input.feed_au'], data_train['rougher.output.tail_au'])"
   ]
  },
  {
   "cell_type": "code",
   "execution_count": 27,
   "metadata": {
    "scrolled": true
   },
   "outputs": [
    {
     "name": "stdout",
     "output_type": "stream",
     "text": [
      "\n",
      "MAE for AU: 9.317053768151204e-15\n"
     ]
    }
   ],
   "source": [
    "mae_au = mean_absolute_error(au_recovery, training_recovery)\n",
    "\n",
    "print(f\"\"\"\n",
    "MAE for AU: {mae_au}\"\"\")"
   ]
  },
  {
   "cell_type": "markdown",
   "metadata": {},
   "source": [
    "After Calculating the Rougher Output Recovery from the training set, and calculating the mean absolute error for Gold, I was able to calculate a mean absolute error of 0.0000000000000093."
   ]
  },
  {
   "cell_type": "markdown",
   "metadata": {},
   "source": [
    "### Analyzing Features Not Available in Test Set"
   ]
  },
  {
   "cell_type": "code",
   "execution_count": 28,
   "metadata": {
    "scrolled": true
   },
   "outputs": [
    {
     "data": {
      "text/plain": [
       "['final.output.concentrate_ag',\n",
       " 'final.output.concentrate_pb',\n",
       " 'final.output.concentrate_sol',\n",
       " 'final.output.concentrate_au',\n",
       " 'final.output.recovery',\n",
       " 'final.output.tail_ag',\n",
       " 'final.output.tail_pb',\n",
       " 'final.output.tail_sol',\n",
       " 'final.output.tail_au',\n",
       " 'primary_cleaner.output.concentrate_ag',\n",
       " 'primary_cleaner.output.concentrate_pb',\n",
       " 'primary_cleaner.output.concentrate_sol',\n",
       " 'primary_cleaner.output.concentrate_au',\n",
       " 'primary_cleaner.output.tail_ag',\n",
       " 'primary_cleaner.output.tail_pb',\n",
       " 'primary_cleaner.output.tail_sol',\n",
       " 'primary_cleaner.output.tail_au',\n",
       " 'rougher.calculation.sulfate_to_au_concentrate',\n",
       " 'rougher.calculation.floatbank10_sulfate_to_au_feed',\n",
       " 'rougher.calculation.floatbank11_sulfate_to_au_feed',\n",
       " 'rougher.calculation.au_pb_ratio',\n",
       " 'rougher.output.concentrate_ag',\n",
       " 'rougher.output.concentrate_pb',\n",
       " 'rougher.output.concentrate_sol',\n",
       " 'rougher.output.concentrate_au',\n",
       " 'rougher.output.recovery',\n",
       " 'rougher.output.tail_ag',\n",
       " 'rougher.output.tail_pb',\n",
       " 'rougher.output.tail_sol',\n",
       " 'rougher.output.tail_au',\n",
       " 'secondary_cleaner.output.tail_ag',\n",
       " 'secondary_cleaner.output.tail_pb',\n",
       " 'secondary_cleaner.output.tail_sol',\n",
       " 'secondary_cleaner.output.tail_au']"
      ]
     },
     "execution_count": 28,
     "metadata": {},
     "output_type": "execute_result"
    }
   ],
   "source": [
    "train_list = list(data_train.columns)\n",
    "test_list = list(data_test.columns)\n",
    "\n",
    "new_list = []\n",
    "for item in train_list:\n",
    "    if item not in test_list:\n",
    "        new_list.append(item)\n",
    "\n",
    "new_list"
   ]
  },
  {
   "cell_type": "markdown",
   "metadata": {},
   "source": [
    "After comparing the features from both the training and the test set, the features not available in the test set are the output features. For example: \n",
    "\n",
    "Rougher Output  \n",
    "Primary Cleaner Output  \n",
    "Secondary Cleaner Output   \n",
    "Final Output\n"
   ]
  },
  {
   "cell_type": "markdown",
   "metadata": {},
   "source": [
    "### Analyze The Data"
   ]
  },
  {
   "cell_type": "markdown",
   "metadata": {},
   "source": [
    "#### Analyzing AU"
   ]
  },
  {
   "cell_type": "code",
   "execution_count": 29,
   "metadata": {},
   "outputs": [
    {
     "data": {
      "image/png": "[encoded data removed]",
      "text/plain": [
       "<Figure size 640x480 with 1 Axes>"
      ]
     },
     "metadata": {},
     "output_type": "display_data"
    }
   ],
   "source": [
    "data_full[\"rougher.output.concentrate_au\"].plot(\n",
    "kind='hist', edgecolor='black', label = \"Rougher\")\n",
    "data_full[\"primary_cleaner.output.concentrate_au\"].plot(\n",
    "kind='hist', alpha=.5, edgecolor='black', label = \"Primary Cleaner\")\n",
    "data_full['final.output.concentrate_au'].plot(\n",
    "kind='hist', alpha=.5, edgecolor='black', label = \"Final Output\")\n",
    "plt.title(\"AU Concentration After Every Stage in The Process\")\n",
    "plt.ylabel(\"Count of AU\")\n",
    "plt.xlabel(\"Concentration of Metals\")\n",
    "plt.legend()\n",
    "plt.show()"
   ]
  },
  {
   "cell_type": "markdown",
   "metadata": {},
   "source": [
    "#### Analyzing AG"
   ]
  },
  {
   "cell_type": "code",
   "execution_count": 30,
   "metadata": {
    "scrolled": true
   },
   "outputs": [
    {
     "data": {
      "image/png": "[encoded data removed]",
      "text/plain": [
       "<Figure size 640x480 with 1 Axes>"
      ]
     },
     "metadata": {},
     "output_type": "display_data"
    }
   ],
   "source": [
    "data_full[\"rougher.output.concentrate_ag\"].plot(\n",
    "kind='hist', edgecolor='black', label = \"Rougher\")\n",
    "data_full[\"primary_cleaner.output.concentrate_ag\"].plot(\n",
    "kind='hist', alpha=.5, edgecolor='black', label = \"Primary Cleaner\")\n",
    "data_full['final.output.concentrate_ag'].plot(\n",
    "kind='hist', alpha=.5, edgecolor='black', label = \"Final Output\")\n",
    "plt.title(\"AG Concentration After Every Stage in The Process\")\n",
    "plt.ylabel(\"Count of AG\")\n",
    "plt.xlabel(\"Concentration of Metals\")\n",
    "plt.legend()\n",
    "plt.show()"
   ]
  },
  {
   "cell_type": "markdown",
   "metadata": {},
   "source": [
    "#### Analyzing PB"
   ]
  },
  {
   "cell_type": "code",
   "execution_count": 31,
   "metadata": {
    "scrolled": true
   },
   "outputs": [
    {
     "data": {
      "image/png": "[encoded data removed]",
      "text/plain": [
       "<Figure size 640x480 with 1 Axes>"
      ]
     },
     "metadata": {},
     "output_type": "display_data"
    }
   ],
   "source": [
    "data_full[\"rougher.output.concentrate_pb\"].plot(\n",
    "kind='hist', edgecolor='black', label = \"Rougher\")\n",
    "data_full[\"primary_cleaner.output.concentrate_pb\"].plot(\n",
    "kind='hist', alpha=.5, edgecolor='black', color='purple', label = \"Primary Cleaner\")\n",
    "data_full['final.output.concentrate_pb'].plot(\n",
    "kind='hist', alpha=.5, edgecolor='black', color='red', label = \"Final Output\")\n",
    "plt.title(\"Output PB Concentration After Every Stage in The Process\")\n",
    "plt.ylabel(\"Count of PB\")\n",
    "plt.xlabel(\"Concentration of Metals\")\n",
    "plt.legend()\n",
    "plt.show()"
   ]
  },
  {
   "cell_type": "markdown",
   "metadata": {},
   "source": [
    "#### Comparing Concentration Mean Between Rougher Stage to Final Output"
   ]
  },
  {
   "cell_type": "markdown",
   "metadata": {},
   "source": [
    "##### AU"
   ]
  },
  {
   "cell_type": "code",
   "execution_count": 32,
   "metadata": {
    "scrolled": true
   },
   "outputs": [
    {
     "name": "stdout",
     "output_type": "stream",
     "text": [
      "\n",
      "The Mean of the Concentrate of AU in the rougher stage is:17.83, \n",
      "and the mean of the AU in the final stage is 39.89, increasing by 22.06\n",
      "\n"
     ]
    }
   ],
   "source": [
    "mean_au_rougher = data_full['rougher.output.concentrate_au'].mean()\n",
    "mean_au_final = data_full['final.output.concentrate_au'].mean()\n",
    "au_mean_difference = mean_au_final - mean_au_rougher\n",
    "print(f'''\n",
    "The Mean of the Concentrate of AU in the rougher stage is:{mean_au_rougher:.2f}, \n",
    "and the mean of the AU in the final stage is {mean_au_final:.2f}, increasing by {au_mean_difference:.2f}\n",
    "''')"
   ]
  },
  {
   "cell_type": "markdown",
   "metadata": {},
   "source": [
    "##### AG"
   ]
  },
  {
   "cell_type": "code",
   "execution_count": 33,
   "metadata": {},
   "outputs": [
    {
     "name": "stdout",
     "output_type": "stream",
     "text": [
      "\n",
      "The Mean of the Concentrate of AG in the rougher stage is:10.85, \n",
      "and the mean of the AG in the final stage is 4.77, decreasing by 6.08\n",
      "\n"
     ]
    }
   ],
   "source": [
    "mean_ag_rougher = data_full['rougher.output.concentrate_ag'].mean()\n",
    "mean_ag_final = data_full['final.output.concentrate_ag'].mean()\n",
    "ag_mean_difference = mean_ag_rougher - mean_ag_final\n",
    "print(f'''\n",
    "The Mean of the Concentrate of AG in the rougher stage is:{mean_ag_rougher:.2f}, \n",
    "and the mean of the AG in the final stage is {mean_ag_final:.2f}, decreasing by {ag_mean_difference:.2f}\n",
    "''')"
   ]
  },
  {
   "cell_type": "markdown",
   "metadata": {},
   "source": [
    "##### PB"
   ]
  },
  {
   "cell_type": "code",
   "execution_count": 34,
   "metadata": {
    "scrolled": true
   },
   "outputs": [
    {
     "name": "stdout",
     "output_type": "stream",
     "text": [
      "\n",
      "The Mean of the Concentrate of pb in the rougher stage is:6.89, \n",
      "and the mean of the pb in the final stage is 9.07, increasing by 2.18\n",
      "\n"
     ]
    }
   ],
   "source": [
    "mean_pb_rougher = data_full['rougher.output.concentrate_pb'].mean()\n",
    "mean_pb_final = data_full['final.output.concentrate_pb'].mean()\n",
    "pb_mean_difference = mean_pb_final - mean_pb_rougher\n",
    "print(f'''\n",
    "The Mean of the Concentrate of pb in the rougher stage is:{mean_pb_rougher:.2f}, \n",
    "and the mean of the pb in the final stage is {mean_pb_final:.2f}, increasing by {pb_mean_difference:.2f}\n",
    "''')"
   ]
  },
  {
   "cell_type": "markdown",
   "metadata": {},
   "source": [
    "### Comparing Feed Particle Size Distributions Training and Test Set"
   ]
  },
  {
   "cell_type": "code",
   "execution_count": 35,
   "metadata": {},
   "outputs": [
    {
     "data": {
      "image/png": "[encoded data removed]",
      "text/plain": [
       "<Figure size 640x480 with 1 Axes>"
      ]
     },
     "metadata": {},
     "output_type": "display_data"
    }
   ],
   "source": [
    "data_full['rougher.input.feed_size'].plot(\n",
    "kind='hist', label='Feed Size Training Set', edgecolor='black', density = True)\n",
    "data_test['rougher.input.feed_size'].plot(\n",
    "kind='hist', label='Feed Size Test Set', alpha=.5, edgecolor='black', density=True)\n",
    "plt.title('Feed Size Comparisons Between Training and Test Set')\n",
    "plt.xlabel(\"Feed Sizes\")\n",
    "plt.ylabel(\"Count of Feed Sizes\")\n",
    "plt.legend()\n",
    "plt.show()"
   ]
  },
  {
   "cell_type": "markdown",
   "metadata": {},
   "source": [
    "As we compare the feed sizes for the training and the test set, you can see that both distributions are skewed to the right."
   ]
  },
  {
   "cell_type": "markdown",
   "metadata": {},
   "source": [
    "### Total Concentration of all Substances at Different Stages"
   ]
  },
  {
   "cell_type": "markdown",
   "metadata": {},
   "source": [
    "#### Raw Feed"
   ]
  },
  {
   "cell_type": "code",
   "execution_count": 36,
   "metadata": {},
   "outputs": [
    {
     "data": {
      "image/png": "[encoded data removed]",
      "text/plain": [
       "<Figure size 640x480 with 1 Axes>"
      ]
     },
     "metadata": {},
     "output_type": "display_data"
    }
   ],
   "source": [
    "data_full['rougher.input.feed_ag'].plot(\n",
    "kind='hist', edgecolor='black')\n",
    "data_full['rougher.input.feed_au'].plot(\n",
    "kind='hist', edgecolor='black', alpha=.5)\n",
    "data_full['rougher.input.feed_pb'].plot(\n",
    "kind='hist', edgecolor='black', alpha=.5)\n",
    "plt.title(\"Raw Feed Concentration\")\n",
    "plt.ylabel(\"Count of Metals\")\n",
    "plt.xlabel(\"Concentration of Metals\")\n",
    "plt.show()"
   ]
  },
  {
   "cell_type": "markdown",
   "metadata": {},
   "source": [
    "#### Rougher Concentrate"
   ]
  },
  {
   "cell_type": "code",
   "execution_count": 37,
   "metadata": {},
   "outputs": [
    {
     "data": {
      "image/png": "[encoded data removed]",
      "text/plain": [
       "<Figure size 640x480 with 1 Axes>"
      ]
     },
     "metadata": {},
     "output_type": "display_data"
    }
   ],
   "source": [
    "data_full[\"primary_cleaner.output.concentrate_au\"].plot(\n",
    "kind='hist', edgecolor='black', label=\"Gold(AU)\")\n",
    "data_full[\"primary_cleaner.output.concentrate_ag\"].plot(\n",
    "kind='hist', edgecolor='black', alpha=.5, label=\"Silver(AG)\")\n",
    "data_full[\"primary_cleaner.output.concentrate_pb\"].plot(\n",
    "kind='hist', edgecolor='black', alpha=.5, label=\"Lead(PB)\")\n",
    "plt.title(\"Primary Cleaner Stage Concentrate\")\n",
    "plt.ylabel(\"Count of Metals\")\n",
    "plt.xlabel(\"Concentration of Metals\")\n",
    "plt.legend()\n",
    "plt.show()"
   ]
  },
  {
   "cell_type": "markdown",
   "metadata": {},
   "source": [
    "#### Final Conentrate"
   ]
  },
  {
   "cell_type": "code",
   "execution_count": 38,
   "metadata": {},
   "outputs": [
    {
     "data": {
      "image/png": "[encoded data removed]",
      "text/plain": [
       "<Figure size 640x480 with 1 Axes>"
      ]
     },
     "metadata": {},
     "output_type": "display_data"
    }
   ],
   "source": [
    "data_full['final.output.concentrate_au'].plot(\n",
    "kind='hist', edgecolor='black', alpha=.5, label=\"Gold(AU)\")\n",
    "data_full['final.output.concentrate_ag'].plot(\n",
    "kind='hist', edgecolor='black', alpha=.5, label=\"Silver(AG)\")\n",
    "data_full['final.output.concentrate_pb'].plot(\n",
    "kind='hist', edgecolor='black', alpha=.5, label='Lead (PB)')\n",
    "plt.legend()\n",
    "plt.title(\"Final Concentrate\")\n",
    "plt.ylabel(\"Count of Metals\")\n",
    "plt.xlabel(\"Concentration of Metals\")\n",
    "plt.show()"
   ]
  },
  {
   "cell_type": "code",
   "execution_count": 39,
   "metadata": {
    "scrolled": false
   },
   "outputs": [
    {
     "data": {
      "image/png": "[encoded data removed]",
      "text/plain": [
       "<Figure size 640x480 with 1 Axes>"
      ]
     },
     "metadata": {},
     "output_type": "display_data"
    }
   ],
   "source": [
    "total_rougher = data_full[\"rougher.input.feed_au\"] + data_full[\"rougher.input.feed_ag\"] + data_full[\"rougher.input.feed_pb\"]\n",
    "total_primary = data_full['primary_cleaner.output.concentrate_au'] + data_full['primary_cleaner.output.concentrate_ag'] + data_full['primary_cleaner.output.concentrate_pb']\n",
    "total_final = data_full['final.output.concentrate_au'] + data_full['final.output.concentrate_ag'] + data_full['final.output.concentrate_pb']\n",
    "\n",
    "total_rougher.plot(\n",
    "kind='hist', label='Rougher Stage', edgecolor='black')\n",
    "total_primary.plot(\n",
    "kind='hist', alpha=.5, label=\"Primary Cleaner Stage\", edgecolor='black')\n",
    "total_final.plot(\n",
    "kind='hist', alpha=.5, label=\"Final Stage\", edgecolor='black')\n",
    "plt.title(\"Total Concentration of All Substances at Different Stages\")\n",
    "plt.legend()\n",
    "plt.ylabel(\"Count of Metals\")\n",
    "plt.xlabel(\"Concentration of Metals\")\n",
    "plt.show()\n"
   ]
  },
  {
   "cell_type": "markdown",
   "metadata": {},
   "source": [
    "According to the total concentration histogram, you can see the distribution of the total concentration of all the medals on al the stages. As you can See, the concentration is lower on the beggining stages, and it increases when it gets to the primary cleaner stage and the final stage."
   ]
  },
  {
   "cell_type": "markdown",
   "metadata": {},
   "source": [
    "### Removing Outliers"
   ]
  },
  {
   "cell_type": "markdown",
   "metadata": {},
   "source": [
    "#### Removing Outliers from the Training Set"
   ]
  },
  {
   "cell_type": "code",
   "execution_count": 40,
   "metadata": {
    "scrolled": true
   },
   "outputs": [],
   "source": [
    "Q1_train = data_train.quantile(.25)\n",
    "Q3_train = data_train.quantile(.75)\n",
    "IQR_train = Q3_train - Q1_train\n",
    "\n",
    "lower_bound_train = Q1_train - 1.5 * IQR_train\n",
    "upper_bound_train = Q3_train + 1.5 * IQR_train\n",
    "\n",
    "data_train = data_train[(data_train >= lower_bound_train) & (data_train <= upper_bound_train)]"
   ]
  },
  {
   "cell_type": "code",
   "execution_count": 41,
   "metadata": {
    "scrolled": false
   },
   "outputs": [],
   "source": [
    "data_train = data_train.fillna(method='ffill')\n",
    "data_train = data_train.dropna()"
   ]
  },
  {
   "cell_type": "markdown",
   "metadata": {},
   "source": [
    "#### Cross-Validation"
   ]
  },
  {
   "cell_type": "code",
   "execution_count": 79,
   "metadata": {},
   "outputs": [
    {
     "data": {
      "text/html": [
       "<div>\n",
       "<style scoped>\n",
       "    .dataframe tbody tr th:only-of-type {\n",
       "        vertical-align: middle;\n",
       "    }\n",
       "\n",
       "    .dataframe tbody tr th {\n",
       "        vertical-align: top;\n",
       "    }\n",
       "\n",
       "    .dataframe thead th {\n",
       "        text-align: right;\n",
       "    }\n",
       "</style>\n",
       "<table border=\"1\" class=\"dataframe\">\n",
       "  <thead>\n",
       "    <tr style=\"text-align: right;\">\n",
       "      <th></th>\n",
       "      <th>rougher.output.recovery</th>\n",
       "      <th>final.output.recovery</th>\n",
       "    </tr>\n",
       "  </thead>\n",
       "  <tbody>\n",
       "    <tr>\n",
       "      <th>349</th>\n",
       "      <td>79.513072</td>\n",
       "      <td>74.231478</td>\n",
       "    </tr>\n",
       "    <tr>\n",
       "      <th>350</th>\n",
       "      <td>80.861594</td>\n",
       "      <td>72.053490</td>\n",
       "    </tr>\n",
       "    <tr>\n",
       "      <th>351</th>\n",
       "      <td>84.672620</td>\n",
       "      <td>72.908173</td>\n",
       "    </tr>\n",
       "    <tr>\n",
       "      <th>352</th>\n",
       "      <td>84.804907</td>\n",
       "      <td>72.362224</td>\n",
       "    </tr>\n",
       "    <tr>\n",
       "      <th>353</th>\n",
       "      <td>83.157962</td>\n",
       "      <td>73.417916</td>\n",
       "    </tr>\n",
       "    <tr>\n",
       "      <th>...</th>\n",
       "      <td>...</td>\n",
       "      <td>...</td>\n",
       "    </tr>\n",
       "    <tr>\n",
       "      <th>7230</th>\n",
       "      <td>82.052011</td>\n",
       "      <td>64.639500</td>\n",
       "    </tr>\n",
       "    <tr>\n",
       "      <th>7231</th>\n",
       "      <td>80.306808</td>\n",
       "      <td>63.733126</td>\n",
       "    </tr>\n",
       "    <tr>\n",
       "      <th>7232</th>\n",
       "      <td>83.383725</td>\n",
       "      <td>66.048297</td>\n",
       "    </tr>\n",
       "    <tr>\n",
       "      <th>7233</th>\n",
       "      <td>83.916497</td>\n",
       "      <td>64.726474</td>\n",
       "    </tr>\n",
       "    <tr>\n",
       "      <th>7234</th>\n",
       "      <td>85.194539</td>\n",
       "      <td>67.390104</td>\n",
       "    </tr>\n",
       "  </tbody>\n",
       "</table>\n",
       "<p>5856 rows × 2 columns</p>\n",
       "</div>"
      ],
      "text/plain": [
       "      rougher.output.recovery  final.output.recovery\n",
       "349                 79.513072              74.231478\n",
       "350                 80.861594              72.053490\n",
       "351                 84.672620              72.908173\n",
       "352                 84.804907              72.362224\n",
       "353                 83.157962              73.417916\n",
       "...                       ...                    ...\n",
       "7230                82.052011              64.639500\n",
       "7231                80.306808              63.733126\n",
       "7232                83.383725              66.048297\n",
       "7233                83.916497              64.726474\n",
       "7234                85.194539              67.390104\n",
       "\n",
       "[5856 rows x 2 columns]"
      ]
     },
     "execution_count": 79,
     "metadata": {},
     "output_type": "execute_result"
    }
   ],
   "source": [
    "target_test"
   ]
  },
  {
   "cell_type": "code",
   "execution_count": 82,
   "metadata": {
    "scrolled": false
   },
   "outputs": [],
   "source": [
    "filtered_data_train = data_train.drop(new_list,axis=1)\n",
    "features_data_test = data_test.drop(['date'], axis=1)\n",
    "\n",
    "\n",
    "features = filtered_data_train\n",
    "target = data_train[['rougher.output.recovery', 'final.output.recovery']]\n",
    "target_test = target_train[:5856]\n",
    "\n",
    "rougher_recovery = []\n",
    "for i in target_test['rougher.output.recovery']:\n",
    "    rougher_recovery.append(i)\n",
    "\n",
    "final_recovery = []\n",
    "for i in target_test['final.output.recovery']:\n",
    "    final_recovery.append(i)"
   ]
  },
  {
   "cell_type": "code",
   "execution_count": 53,
   "metadata": {},
   "outputs": [],
   "source": [
    "def score_model(model, features, target, cv=4, weighted=False):\n",
    " \n",
    "  scores = []\n",
    "  kfold = KFold(n_splits=cv, shuffle=True, random_state=10) \n",
    "\n",
    "  for train_index, test_index in kfold.split(features):\n",
    "    features_train, features_test = features.iloc[train_index], features.iloc[test_index]\n",
    "    target_train, target_test = target.iloc[train_index], target.iloc[test_index]\n",
    "\n",
    "    model.fit(features_train, target_train)\n",
    "    predictions = model.predict(features_test)\n",
    "\n",
    "    score = mean_absolute_error(target_test, predictions)\n",
    "    scores.append(score)\n",
    "\n",
    "  return scores\n"
   ]
  },
  {
   "cell_type": "code",
   "execution_count": 54,
   "metadata": {},
   "outputs": [],
   "source": [
    "model_decision_tree = DecisionTreeRegressor()\n",
    "model_random_forest = RandomForestRegressor()\n",
    "model_linear = LinearRegression()"
   ]
  },
  {
   "cell_type": "code",
   "execution_count": 55,
   "metadata": {},
   "outputs": [
    {
     "name": "stdout",
     "output_type": "stream",
     "text": [
      "Evaluation scores for each fold in Linear Regression: [3.8588494748207665, 3.855973630704795, 3.9094198893536367, 3.9847056690983624]\n",
      "Average score: 3.90223716599439\n",
      "\n",
      "Evaluation scores for each fold in Random Forest: [2.3445708845628204, 2.4073362744584883, 2.4365603679101846, 2.4732273948299297]\n",
      "Average score: 2.415423730440356\n",
      "\n",
      "Evaluation scores for each fold in Decision Tree: [3.3142268620097943, 3.2926699223208002, 3.3759387353982184, 3.456870777725443]\n",
      "Average score: 3.359926574363564\n"
     ]
    }
   ],
   "source": [
    "scores_linear = score_model(model_linear, features, target, cv=4)\n",
    "scores_random_forest = score_model(model_random_forest, features, target, cv=4)\n",
    "scores_decision_tree = score_model(model_decision_tree, features, target, cv=4)\n",
    "\n",
    "\n",
    "print(\"Evaluation scores for each fold in Linear Regression:\", scores_linear)\n",
    "print(\"Average score:\", np.mean(scores_linear))\n",
    "print()\n",
    "print(\"Evaluation scores for each fold in Random Forest:\", scores_random_forest)\n",
    "print(\"Average score:\", np.mean(scores_random_forest))\n",
    "print()\n",
    "print(\"Evaluation scores for each fold in Decision Tree:\", scores_decision_tree)\n",
    "print(\"Average score:\", np.mean(scores_decision_tree))"
   ]
  },
  {
   "cell_type": "markdown",
   "metadata": {},
   "source": [
    "### SMAPE (Symmetric Mean Absolute Percentage Error) Metric"
   ]
  },
  {
   "cell_type": "code",
   "execution_count": 111,
   "metadata": {},
   "outputs": [],
   "source": [
    "def smape(y_true, y_pred):\n",
    "    error = (y_true - y_pred).abs()\n",
    "    scale = (y_true.abs() + y_pred) / 2\n",
    "    \n",
    "    return (error / scale).mean()\n",
    "\n",
    "def final_smape(rougher, final):\n",
    "    \n",
    "    return 0.25 * rougher + .75 * final"
   ]
  },
  {
   "cell_type": "code",
   "execution_count": 63,
   "metadata": {
    "scrolled": true
   },
   "outputs": [],
   "source": [
    "model_random_forest = RandomForestRegressor(n_estimators=5, max_features=None)\n",
    "model_random_forest.fit(features, target_train)\n",
    "prediction = model_random_forest.predict(features_data_test)"
   ]
  },
  {
   "cell_type": "code",
   "execution_count": 112,
   "metadata": {
    "scrolled": true
   },
   "outputs": [
    {
     "data": {
      "text/plain": [
       "rougher.output.recovery    0.089936\n",
       "final.output.recovery      0.116317\n",
       "dtype: float64"
      ]
     },
     "execution_count": 112,
     "metadata": {},
     "output_type": "execute_result"
    }
   ],
   "source": [
    "SMAPE = smape(target_test, prediction)\n",
    "SMAPE"
   ]
  },
  {
   "cell_type": "code",
   "execution_count": 118,
   "metadata": {
    "scrolled": true
   },
   "outputs": [
    {
     "name": "stdout",
     "output_type": "stream",
     "text": [
      "Final Smape: 0.11\n"
     ]
    }
   ],
   "source": [
    "final_SMAPE = final_smape(SMAPE[0], SMAPE[1])\n",
    "print(f\"Final Smape: {final_SMAPE:.2f}\")"
   ]
  },
  {
   "cell_type": "markdown",
   "metadata": {},
   "source": [
    "### Conclusion"
   ]
  },
  {
   "cell_type": "markdown",
   "metadata": {},
   "source": [
    "After determining that the best machine learning model for this data set is a Random Forest Regressor, I caluclated the SMAPE (Symmetric Mean Absolute Percentage Error) metric between target and prediction of \"rougher.output.recovery\" and \"final.output.recovery\", I was able to calculate a symmetic mean absolute percentage error of 0.11. using Random Forest Regressor and using cross validation."
   ]
  }
 ],
 "metadata": {
  "ExecuteTimeLog": [
   {
    "duration": 442,
    "start_time": "2024-06-09T20:41:08.243Z"
   },
   {
    "duration": 362,
    "start_time": "2024-06-09T20:41:24.350Z"
   },
   {
    "duration": 47,
    "start_time": "2024-06-09T20:41:27.956Z"
   },
   {
    "duration": 884,
    "start_time": "2024-06-09T20:42:15.851Z"
   },
   {
    "duration": 23,
    "start_time": "2024-06-09T20:42:22.924Z"
   },
   {
    "duration": 6,
    "start_time": "2024-06-09T20:42:40.999Z"
   },
   {
    "duration": 5,
    "start_time": "2024-06-09T20:42:49.271Z"
   },
   {
    "duration": 7,
    "start_time": "2024-06-09T20:42:54.609Z"
   },
   {
    "duration": 7,
    "start_time": "2024-06-09T20:43:13.861Z"
   },
   {
    "duration": 13,
    "start_time": "2024-06-09T20:43:40.788Z"
   },
   {
    "duration": 7,
    "start_time": "2024-06-09T20:43:50.183Z"
   },
   {
    "duration": 9,
    "start_time": "2024-06-09T20:51:27.830Z"
   },
   {
    "duration": 37,
    "start_time": "2024-06-09T20:51:30.077Z"
   },
   {
    "duration": 1176,
    "start_time": "2024-06-09T20:51:47.887Z"
   },
   {
    "duration": 8,
    "start_time": "2024-06-09T20:52:15.911Z"
   },
   {
    "duration": 40,
    "start_time": "2024-06-09T20:52:23.849Z"
   },
   {
    "duration": 18,
    "start_time": "2024-06-09T20:52:58.912Z"
   },
   {
    "duration": 18,
    "start_time": "2024-06-09T20:53:16.529Z"
   },
   {
    "duration": 26,
    "start_time": "2024-06-09T20:53:24.421Z"
   },
   {
    "duration": 19,
    "start_time": "2024-06-09T20:53:36.355Z"
   },
   {
    "duration": 20,
    "start_time": "2024-06-09T20:53:44.196Z"
   },
   {
    "duration": 17,
    "start_time": "2024-06-09T20:54:05.772Z"
   },
   {
    "duration": 22,
    "start_time": "2024-06-09T20:54:21.860Z"
   },
   {
    "duration": 4,
    "start_time": "2024-06-09T21:04:45.225Z"
   },
   {
    "duration": 91,
    "start_time": "2024-06-09T21:06:53.178Z"
   },
   {
    "duration": 17,
    "start_time": "2024-06-09T21:07:05.967Z"
   },
   {
    "duration": 8,
    "start_time": "2024-06-09T21:08:19.164Z"
   },
   {
    "duration": 313,
    "start_time": "2024-06-09T23:51:46.726Z"
   },
   {
    "duration": 417,
    "start_time": "2024-06-09T23:51:50.978Z"
   },
   {
    "duration": 949,
    "start_time": "2024-06-09T23:51:51.399Z"
   },
   {
    "duration": 32,
    "start_time": "2024-06-09T23:51:52.351Z"
   },
   {
    "duration": 22,
    "start_time": "2024-06-09T23:51:52.386Z"
   },
   {
    "duration": 19,
    "start_time": "2024-06-09T23:51:52.413Z"
   },
   {
    "duration": 9,
    "start_time": "2024-06-09T23:51:52.436Z"
   },
   {
    "duration": 83,
    "start_time": "2024-06-09T23:51:52.449Z"
   },
   {
    "duration": 20,
    "start_time": "2024-06-09T23:51:52.535Z"
   },
   {
    "duration": 48,
    "start_time": "2024-06-09T23:51:52.558Z"
   },
   {
    "duration": 7,
    "start_time": "2024-06-09T23:51:52.609Z"
   },
   {
    "duration": 8,
    "start_time": "2024-06-09T23:53:02.383Z"
   },
   {
    "duration": 3836,
    "start_time": "2024-06-09T23:54:32.686Z"
   },
   {
    "duration": 278,
    "start_time": "2024-06-09T23:54:49.064Z"
   },
   {
    "duration": 204,
    "start_time": "2024-06-09T23:55:00.458Z"
   },
   {
    "duration": 204,
    "start_time": "2024-06-09T23:55:09.325Z"
   },
   {
    "duration": 209,
    "start_time": "2024-06-09T23:55:22.186Z"
   },
   {
    "duration": 140,
    "start_time": "2024-06-09T23:55:28.320Z"
   },
   {
    "duration": 206,
    "start_time": "2024-06-09T23:55:36.431Z"
   },
   {
    "duration": 195,
    "start_time": "2024-06-09T23:55:41.554Z"
   },
   {
    "duration": 200,
    "start_time": "2024-06-09T23:55:48.865Z"
   },
   {
    "duration": 201,
    "start_time": "2024-06-09T23:55:55.876Z"
   },
   {
    "duration": 197,
    "start_time": "2024-06-09T23:56:01.446Z"
   },
   {
    "duration": 856,
    "start_time": "2024-06-09T23:57:57.962Z"
   },
   {
    "duration": 80,
    "start_time": "2024-06-09T23:58:07.442Z"
   },
   {
    "duration": 1991,
    "start_time": "2024-06-09T23:58:16.827Z"
   },
   {
    "duration": 199,
    "start_time": "2024-06-09T23:58:34.547Z"
   },
   {
    "duration": 800,
    "start_time": "2024-06-09T23:59:31.219Z"
   },
   {
    "duration": 87,
    "start_time": "2024-06-10T00:00:27.189Z"
   },
   {
    "duration": 4,
    "start_time": "2024-06-10T00:00:50.760Z"
   },
   {
    "duration": 21,
    "start_time": "2024-06-10T00:00:55.449Z"
   },
   {
    "duration": 23,
    "start_time": "2024-06-10T00:01:03.778Z"
   },
   {
    "duration": 363,
    "start_time": "2024-06-10T00:01:56.981Z"
   },
   {
    "duration": 8,
    "start_time": "2024-06-10T00:02:25.642Z"
   },
   {
    "duration": 10,
    "start_time": "2024-06-10T00:02:28.633Z"
   },
   {
    "duration": 278,
    "start_time": "2024-06-10T00:02:39.148Z"
   },
   {
    "duration": 13,
    "start_time": "2024-06-10T00:02:56.908Z"
   },
   {
    "duration": 7,
    "start_time": "2024-06-10T00:03:04.987Z"
   },
   {
    "duration": 7,
    "start_time": "2024-06-10T00:03:12.110Z"
   },
   {
    "duration": 7,
    "start_time": "2024-06-10T00:05:50.140Z"
   },
   {
    "duration": 6,
    "start_time": "2024-06-10T00:06:21.600Z"
   },
   {
    "duration": 12,
    "start_time": "2024-06-10T00:06:38.143Z"
   },
   {
    "duration": 147,
    "start_time": "2024-06-10T00:06:43.438Z"
   },
   {
    "duration": 145,
    "start_time": "2024-06-10T00:06:52.772Z"
   },
   {
    "duration": 12,
    "start_time": "2024-06-10T00:07:34.193Z"
   },
   {
    "duration": 9,
    "start_time": "2024-06-10T00:08:08.232Z"
   },
   {
    "duration": 6,
    "start_time": "2024-06-10T00:08:27.745Z"
   },
   {
    "duration": 5,
    "start_time": "2024-06-10T00:08:57.952Z"
   },
   {
    "duration": 8,
    "start_time": "2024-06-10T00:09:01.894Z"
   },
   {
    "duration": 5,
    "start_time": "2024-06-10T00:09:08.222Z"
   },
   {
    "duration": 9,
    "start_time": "2024-06-10T00:09:09.345Z"
   },
   {
    "duration": 7,
    "start_time": "2024-06-10T00:09:28.440Z"
   },
   {
    "duration": 25,
    "start_time": "2024-06-10T00:09:33.661Z"
   },
   {
    "duration": 5,
    "start_time": "2024-06-10T00:09:45.444Z"
   },
   {
    "duration": 7,
    "start_time": "2024-06-10T00:09:47.348Z"
   },
   {
    "duration": 8,
    "start_time": "2024-06-10T00:10:24.020Z"
   },
   {
    "duration": 11,
    "start_time": "2024-06-10T00:10:41.661Z"
   },
   {
    "duration": 13,
    "start_time": "2024-06-10T00:10:49.482Z"
   },
   {
    "duration": 22,
    "start_time": "2024-06-10T00:10:56.807Z"
   },
   {
    "duration": 6,
    "start_time": "2024-06-10T00:11:07.310Z"
   },
   {
    "duration": 10,
    "start_time": "2024-06-10T00:11:11.374Z"
   },
   {
    "duration": 6,
    "start_time": "2024-06-10T00:11:22.395Z"
   },
   {
    "duration": 237,
    "start_time": "2024-06-10T00:11:41.393Z"
   },
   {
    "duration": 11,
    "start_time": "2024-06-10T00:12:00.315Z"
   },
   {
    "duration": 9,
    "start_time": "2024-06-10T00:12:06.872Z"
   },
   {
    "duration": 10,
    "start_time": "2024-06-10T00:12:11.899Z"
   },
   {
    "duration": 8,
    "start_time": "2024-06-10T00:13:05.194Z"
   },
   {
    "duration": 8,
    "start_time": "2024-06-10T00:13:22.222Z"
   },
   {
    "duration": 22,
    "start_time": "2024-06-10T00:13:48.638Z"
   },
   {
    "duration": 22,
    "start_time": "2024-06-10T00:14:00.942Z"
   },
   {
    "duration": 6,
    "start_time": "2024-06-10T00:14:10.738Z"
   },
   {
    "duration": 21,
    "start_time": "2024-06-10T00:14:14.119Z"
   },
   {
    "duration": 6,
    "start_time": "2024-06-10T00:14:18.858Z"
   },
   {
    "duration": 22,
    "start_time": "2024-06-10T00:14:19.496Z"
   },
   {
    "duration": 10,
    "start_time": "2024-06-10T00:14:25.589Z"
   },
   {
    "duration": 25,
    "start_time": "2024-06-10T00:15:01.830Z"
   },
   {
    "duration": 23,
    "start_time": "2024-06-10T00:15:22.255Z"
   },
   {
    "duration": 10,
    "start_time": "2024-06-10T00:15:49.902Z"
   },
   {
    "duration": 10,
    "start_time": "2024-06-10T00:16:12.126Z"
   },
   {
    "duration": 11,
    "start_time": "2024-06-10T00:16:29.076Z"
   },
   {
    "duration": 13,
    "start_time": "2024-06-10T00:16:31.969Z"
   },
   {
    "duration": 5453,
    "start_time": "2024-06-10T20:35:54.452Z"
   },
   {
    "duration": 1106,
    "start_time": "2024-06-10T20:35:59.913Z"
   },
   {
    "duration": 44,
    "start_time": "2024-06-10T20:36:01.576Z"
   },
   {
    "duration": 22,
    "start_time": "2024-06-10T20:36:06.292Z"
   },
   {
    "duration": 38,
    "start_time": "2024-06-10T20:36:14.551Z"
   },
   {
    "duration": 18,
    "start_time": "2024-06-10T20:36:20.143Z"
   },
   {
    "duration": 786,
    "start_time": "2024-06-10T21:00:20.456Z"
   },
   {
    "duration": 22,
    "start_time": "2024-06-10T21:00:25.153Z"
   },
   {
    "duration": 19,
    "start_time": "2024-06-10T21:00:30.064Z"
   },
   {
    "duration": 37,
    "start_time": "2024-06-10T21:00:48.217Z"
   },
   {
    "duration": 23,
    "start_time": "2024-06-10T21:00:51.299Z"
   },
   {
    "duration": 4,
    "start_time": "2024-06-10T21:03:05.176Z"
   },
   {
    "duration": 7,
    "start_time": "2024-06-10T21:03:09.359Z"
   },
   {
    "duration": 4,
    "start_time": "2024-06-10T21:03:20.973Z"
   },
   {
    "duration": 6,
    "start_time": "2024-06-10T21:03:22.514Z"
   },
   {
    "duration": 410,
    "start_time": "2024-06-10T21:03:26.627Z"
   },
   {
    "duration": 5,
    "start_time": "2024-06-10T21:03:32.753Z"
   },
   {
    "duration": 7,
    "start_time": "2024-06-10T21:03:42.726Z"
   },
   {
    "duration": 24,
    "start_time": "2024-06-10T21:04:32.398Z"
   },
   {
    "duration": 24,
    "start_time": "2024-06-10T21:04:39.996Z"
   },
   {
    "duration": 12,
    "start_time": "2024-06-10T21:05:38.486Z"
   },
   {
    "duration": 11,
    "start_time": "2024-06-10T21:06:06.459Z"
   },
   {
    "duration": 11,
    "start_time": "2024-06-10T21:06:19.962Z"
   },
   {
    "duration": 10,
    "start_time": "2024-06-10T21:07:48.597Z"
   },
   {
    "duration": 14,
    "start_time": "2024-06-10T21:08:12.570Z"
   },
   {
    "duration": 12,
    "start_time": "2024-06-10T21:10:12.734Z"
   },
   {
    "duration": 6,
    "start_time": "2024-06-10T21:10:32.275Z"
   },
   {
    "duration": 13,
    "start_time": "2024-06-10T21:10:51.370Z"
   },
   {
    "duration": 12,
    "start_time": "2024-06-10T21:11:03.368Z"
   },
   {
    "duration": 11,
    "start_time": "2024-06-10T21:11:12.038Z"
   },
   {
    "duration": 13,
    "start_time": "2024-06-10T21:11:22.928Z"
   },
   {
    "duration": 25,
    "start_time": "2024-06-10T21:12:08.228Z"
   },
   {
    "duration": 122,
    "start_time": "2024-06-10T21:12:13.008Z"
   },
   {
    "duration": 96,
    "start_time": "2024-06-10T21:12:19.576Z"
   },
   {
    "duration": 35,
    "start_time": "2024-06-10T21:12:34.711Z"
   },
   {
    "duration": 240,
    "start_time": "2024-06-10T21:12:47.039Z"
   },
   {
    "duration": 10,
    "start_time": "2024-06-10T21:19:03.839Z"
   },
   {
    "duration": 6,
    "start_time": "2024-06-10T21:19:04.077Z"
   },
   {
    "duration": 13,
    "start_time": "2024-06-10T21:19:04.369Z"
   },
   {
    "duration": 12,
    "start_time": "2024-06-10T21:19:04.843Z"
   },
   {
    "duration": 10,
    "start_time": "2024-06-10T21:19:05.418Z"
   },
   {
    "duration": 14,
    "start_time": "2024-06-10T21:19:05.893Z"
   },
   {
    "duration": 4,
    "start_time": "2024-06-10T21:20:06.053Z"
   },
   {
    "duration": 26,
    "start_time": "2024-06-10T21:20:16.150Z"
   },
   {
    "duration": 26,
    "start_time": "2024-06-10T21:20:41.274Z"
   },
   {
    "duration": 31,
    "start_time": "2024-06-10T21:20:53.385Z"
   },
   {
    "duration": 27,
    "start_time": "2024-06-10T21:20:58.436Z"
   },
   {
    "duration": 10,
    "start_time": "2024-06-10T21:22:03.766Z"
   },
   {
    "duration": 135,
    "start_time": "2024-06-10T21:22:13.236Z"
   },
   {
    "duration": 24,
    "start_time": "2024-06-10T21:22:55.328Z"
   },
   {
    "duration": 24,
    "start_time": "2024-06-10T21:23:39.505Z"
   },
   {
    "duration": 9,
    "start_time": "2024-06-10T21:24:33.065Z"
   },
   {
    "duration": 26,
    "start_time": "2024-06-10T21:24:41.156Z"
   },
   {
    "duration": 21,
    "start_time": "2024-06-10T21:24:44.840Z"
   },
   {
    "duration": 11,
    "start_time": "2024-06-10T21:24:54.916Z"
   },
   {
    "duration": 96,
    "start_time": "2024-06-10T21:24:55.873Z"
   },
   {
    "duration": 34,
    "start_time": "2024-06-10T21:24:58.443Z"
   },
   {
    "duration": 13,
    "start_time": "2024-06-10T21:24:58.875Z"
   },
   {
    "duration": 158,
    "start_time": "2024-06-10T21:24:59.241Z"
   },
   {
    "duration": 114,
    "start_time": "2024-06-10T21:25:04.026Z"
   },
   {
    "duration": 7,
    "start_time": "2024-06-10T21:25:16.015Z"
   },
   {
    "duration": 178,
    "start_time": "2024-06-10T21:25:18.257Z"
   },
   {
    "duration": 460,
    "start_time": "2024-06-10T21:25:44.632Z"
   },
   {
    "duration": 15,
    "start_time": "2024-06-10T21:26:38.081Z"
   },
   {
    "duration": 132,
    "start_time": "2024-06-10T21:26:59.104Z"
   },
   {
    "duration": 116,
    "start_time": "2024-06-10T21:27:25.203Z"
   },
   {
    "duration": 126,
    "start_time": "2024-06-10T21:27:28.610Z"
   },
   {
    "duration": 3,
    "start_time": "2024-06-10T22:02:48.300Z"
   },
   {
    "duration": 7,
    "start_time": "2024-06-10T22:02:52.046Z"
   },
   {
    "duration": 7,
    "start_time": "2024-06-10T22:03:20.893Z"
   },
   {
    "duration": 40,
    "start_time": "2024-06-10T22:03:25.686Z"
   },
   {
    "duration": 22,
    "start_time": "2024-06-10T22:03:34.583Z"
   },
   {
    "duration": 3,
    "start_time": "2024-06-10T22:05:17.726Z"
   },
   {
    "duration": 7,
    "start_time": "2024-06-10T22:05:20.822Z"
   },
   {
    "duration": 39,
    "start_time": "2024-06-10T22:05:52.499Z"
   },
   {
    "duration": 21,
    "start_time": "2024-06-10T22:05:57.934Z"
   },
   {
    "duration": 22,
    "start_time": "2024-06-10T22:06:35.674Z"
   },
   {
    "duration": 22,
    "start_time": "2024-06-10T22:06:48.453Z"
   },
   {
    "duration": 55,
    "start_time": "2024-06-10T22:06:53.380Z"
   },
   {
    "duration": 33,
    "start_time": "2024-06-10T22:06:59.728Z"
   },
   {
    "duration": 30,
    "start_time": "2024-06-10T22:07:12.722Z"
   },
   {
    "duration": 33,
    "start_time": "2024-06-10T22:07:43.749Z"
   },
   {
    "duration": 1469,
    "start_time": "2024-06-10T22:09:12.651Z"
   },
   {
    "duration": 166,
    "start_time": "2024-06-10T22:09:40.585Z"
   },
   {
    "duration": 76,
    "start_time": "2024-06-10T22:09:59.787Z"
   },
   {
    "duration": 34,
    "start_time": "2024-06-10T22:10:24.559Z"
   },
   {
    "duration": 17,
    "start_time": "2024-06-10T22:10:33.270Z"
   },
   {
    "duration": 16,
    "start_time": "2024-06-10T22:10:39.553Z"
   },
   {
    "duration": 85,
    "start_time": "2024-06-10T22:10:59.597Z"
   },
   {
    "duration": 33,
    "start_time": "2024-06-10T22:12:22.178Z"
   },
   {
    "duration": 38,
    "start_time": "2024-06-10T22:17:26.224Z"
   },
   {
    "duration": 33,
    "start_time": "2024-06-10T22:17:36.387Z"
   },
   {
    "duration": 16,
    "start_time": "2024-06-10T22:17:57.808Z"
   },
   {
    "duration": 306,
    "start_time": "2024-06-10T22:18:34.990Z"
   },
   {
    "duration": 1467,
    "start_time": "2024-06-10T22:18:40.965Z"
   },
   {
    "duration": 836,
    "start_time": "2024-06-10T22:18:42.437Z"
   },
   {
    "duration": 38,
    "start_time": "2024-06-10T22:18:43.276Z"
   },
   {
    "duration": 11,
    "start_time": "2024-06-10T22:18:43.317Z"
   },
   {
    "duration": 22,
    "start_time": "2024-06-10T22:18:43.333Z"
   },
   {
    "duration": 17,
    "start_time": "2024-06-10T22:18:43.358Z"
   },
   {
    "duration": 147,
    "start_time": "2024-06-10T22:18:43.378Z"
   },
   {
    "duration": 11,
    "start_time": "2024-06-10T22:18:43.528Z"
   },
   {
    "duration": 37,
    "start_time": "2024-06-10T22:18:43.541Z"
   },
   {
    "duration": 44,
    "start_time": "2024-06-10T22:18:43.581Z"
   },
   {
    "duration": 175,
    "start_time": "2024-06-10T22:18:43.628Z"
   },
   {
    "duration": 11,
    "start_time": "2024-06-10T22:18:43.806Z"
   },
   {
    "duration": 7,
    "start_time": "2024-06-10T22:18:43.820Z"
   },
   {
    "duration": 13,
    "start_time": "2024-06-10T22:18:43.833Z"
   },
   {
    "duration": 12,
    "start_time": "2024-06-10T22:18:43.848Z"
   },
   {
    "duration": 54,
    "start_time": "2024-06-10T22:18:43.865Z"
   },
   {
    "duration": 12,
    "start_time": "2024-06-10T22:18:47.839Z"
   },
   {
    "duration": 23,
    "start_time": "2024-06-10T22:18:51.694Z"
   },
   {
    "duration": 21,
    "start_time": "2024-06-10T22:19:04.030Z"
   },
   {
    "duration": 18,
    "start_time": "2024-06-10T22:19:39.832Z"
   },
   {
    "duration": 6,
    "start_time": "2024-06-10T22:20:11.093Z"
   },
   {
    "duration": 11,
    "start_time": "2024-06-10T22:20:31.326Z"
   },
   {
    "duration": 14,
    "start_time": "2024-06-10T22:20:34.207Z"
   },
   {
    "duration": 18,
    "start_time": "2024-06-10T22:20:34.900Z"
   },
   {
    "duration": 21,
    "start_time": "2024-06-10T22:20:59.425Z"
   },
   {
    "duration": 22,
    "start_time": "2024-06-10T22:21:08.097Z"
   },
   {
    "duration": 124,
    "start_time": "2024-06-10T22:24:13.543Z"
   },
   {
    "duration": 25,
    "start_time": "2024-06-10T22:24:17.775Z"
   },
   {
    "duration": 3,
    "start_time": "2024-06-10T22:24:21.960Z"
   },
   {
    "duration": 23,
    "start_time": "2024-06-10T22:24:26.492Z"
   },
   {
    "duration": 7,
    "start_time": "2024-06-10T22:24:36.930Z"
   },
   {
    "duration": 1398,
    "start_time": "2024-06-10T22:24:48.715Z"
   },
   {
    "duration": 802,
    "start_time": "2024-06-10T22:24:50.118Z"
   },
   {
    "duration": 34,
    "start_time": "2024-06-10T22:24:50.923Z"
   },
   {
    "duration": 25,
    "start_time": "2024-06-10T22:24:50.961Z"
   },
   {
    "duration": 26,
    "start_time": "2024-06-10T22:24:51.015Z"
   },
   {
    "duration": 10,
    "start_time": "2024-06-10T22:24:51.044Z"
   },
   {
    "duration": 6,
    "start_time": "2024-06-10T22:24:51.058Z"
   },
   {
    "duration": 48,
    "start_time": "2024-06-10T22:24:51.067Z"
   },
   {
    "duration": 13,
    "start_time": "2024-06-10T22:24:51.118Z"
   },
   {
    "duration": 135,
    "start_time": "2024-06-10T22:24:51.134Z"
   },
   {
    "duration": 11,
    "start_time": "2024-06-10T22:24:51.272Z"
   },
   {
    "duration": 58,
    "start_time": "2024-06-10T22:24:51.287Z"
   },
   {
    "duration": 14,
    "start_time": "2024-06-10T22:24:51.350Z"
   },
   {
    "duration": 199,
    "start_time": "2024-06-10T22:24:51.371Z"
   },
   {
    "duration": 11,
    "start_time": "2024-06-10T22:24:51.573Z"
   },
   {
    "duration": 27,
    "start_time": "2024-06-10T22:24:51.587Z"
   },
   {
    "duration": 14,
    "start_time": "2024-06-10T22:24:51.617Z"
   },
   {
    "duration": 12,
    "start_time": "2024-06-10T22:24:51.633Z"
   },
   {
    "duration": 10,
    "start_time": "2024-06-10T22:24:51.648Z"
   },
   {
    "duration": 61,
    "start_time": "2024-06-10T22:24:51.661Z"
   },
   {
    "duration": 121,
    "start_time": "2024-06-10T22:24:51.725Z"
   },
   {
    "duration": 44,
    "start_time": "2024-06-10T22:25:30.170Z"
   },
   {
    "duration": 36,
    "start_time": "2024-06-10T22:25:36.684Z"
   },
   {
    "duration": 2213,
    "start_time": "2024-06-10T22:28:43.644Z"
   },
   {
    "duration": 8,
    "start_time": "2024-06-10T22:30:25.144Z"
   },
   {
    "duration": 7,
    "start_time": "2024-06-10T22:30:27.597Z"
   },
   {
    "duration": 7,
    "start_time": "2024-06-10T22:30:48.731Z"
   },
   {
    "duration": 4,
    "start_time": "2024-06-10T22:32:05.950Z"
   },
   {
    "duration": 340,
    "start_time": "2024-06-10T22:32:17.068Z"
   },
   {
    "duration": 1401,
    "start_time": "2024-06-10T22:33:54.742Z"
   },
   {
    "duration": 824,
    "start_time": "2024-06-10T22:33:56.146Z"
   },
   {
    "duration": 26,
    "start_time": "2024-06-10T22:33:56.973Z"
   },
   {
    "duration": 27,
    "start_time": "2024-06-10T22:33:57.003Z"
   },
   {
    "duration": 25,
    "start_time": "2024-06-10T22:33:57.033Z"
   },
   {
    "duration": 51,
    "start_time": "2024-06-10T22:33:57.062Z"
   },
   {
    "duration": 8,
    "start_time": "2024-06-10T22:33:57.116Z"
   },
   {
    "duration": 15,
    "start_time": "2024-06-10T22:33:57.129Z"
   },
   {
    "duration": 14,
    "start_time": "2024-06-10T22:33:57.148Z"
   },
   {
    "duration": 157,
    "start_time": "2024-06-10T22:33:57.168Z"
   },
   {
    "duration": 9,
    "start_time": "2024-06-10T22:33:57.327Z"
   },
   {
    "duration": 37,
    "start_time": "2024-06-10T22:33:57.339Z"
   },
   {
    "duration": 43,
    "start_time": "2024-06-10T22:33:57.378Z"
   },
   {
    "duration": 171,
    "start_time": "2024-06-10T22:33:57.425Z"
   },
   {
    "duration": 19,
    "start_time": "2024-06-10T22:33:57.599Z"
   },
   {
    "duration": 6,
    "start_time": "2024-06-10T22:33:57.620Z"
   },
   {
    "duration": 12,
    "start_time": "2024-06-10T22:33:57.629Z"
   },
   {
    "duration": 10,
    "start_time": "2024-06-10T22:33:57.644Z"
   },
   {
    "duration": 56,
    "start_time": "2024-06-10T22:33:57.657Z"
   },
   {
    "duration": 11,
    "start_time": "2024-06-10T22:33:57.716Z"
   },
   {
    "duration": 38,
    "start_time": "2024-06-10T22:35:08.097Z"
   },
   {
    "duration": 83,
    "start_time": "2024-06-10T22:35:14.844Z"
   },
   {
    "duration": 19,
    "start_time": "2024-06-10T22:35:30.239Z"
   },
   {
    "duration": 12,
    "start_time": "2024-06-10T22:36:24.897Z"
   },
   {
    "duration": 15,
    "start_time": "2024-06-10T22:36:57.318Z"
   },
   {
    "duration": 8,
    "start_time": "2024-06-10T22:37:27.650Z"
   },
   {
    "duration": 15,
    "start_time": "2024-06-10T22:37:35.247Z"
   },
   {
    "duration": 23,
    "start_time": "2024-06-10T22:39:37.658Z"
   },
   {
    "duration": 16,
    "start_time": "2024-06-10T22:39:50.238Z"
   },
   {
    "duration": 8,
    "start_time": "2024-06-10T22:40:59.118Z"
   },
   {
    "duration": 844,
    "start_time": "2024-06-10T22:42:29.232Z"
   },
   {
    "duration": 33,
    "start_time": "2024-06-10T22:42:54.833Z"
   },
   {
    "duration": 12,
    "start_time": "2024-06-10T22:43:10.919Z"
   },
   {
    "duration": 128,
    "start_time": "2024-06-10T22:43:14.338Z"
   },
   {
    "duration": 160,
    "start_time": "2024-06-10T22:45:26.452Z"
   },
   {
    "duration": 131,
    "start_time": "2024-06-10T22:45:42.881Z"
   },
   {
    "duration": 123,
    "start_time": "2024-06-10T22:45:58.064Z"
   },
   {
    "duration": 3,
    "start_time": "2024-06-10T22:47:01.743Z"
   },
   {
    "duration": 23,
    "start_time": "2024-06-10T22:47:06.880Z"
   },
   {
    "duration": 24,
    "start_time": "2024-06-10T22:47:25.777Z"
   },
   {
    "duration": 127,
    "start_time": "2024-06-10T22:47:30.932Z"
   },
   {
    "duration": 7,
    "start_time": "2024-06-10T23:09:21.167Z"
   },
   {
    "duration": 7,
    "start_time": "2024-06-10T23:09:37.902Z"
   },
   {
    "duration": 54,
    "start_time": "2024-06-10T23:09:59.682Z"
   },
   {
    "duration": 228,
    "start_time": "2024-06-10T23:10:46.649Z"
   },
   {
    "duration": 261,
    "start_time": "2024-06-10T23:10:59.897Z"
   },
   {
    "duration": 13,
    "start_time": "2024-06-10T23:12:41.350Z"
   },
   {
    "duration": 12,
    "start_time": "2024-06-10T23:12:52.725Z"
   },
   {
    "duration": 44,
    "start_time": "2024-06-10T23:12:58.787Z"
   },
   {
    "duration": 16,
    "start_time": "2024-06-10T23:13:06.051Z"
   },
   {
    "duration": 259,
    "start_time": "2024-06-10T23:13:25.598Z"
   },
   {
    "duration": 33,
    "start_time": "2024-06-10T23:13:36.146Z"
   },
   {
    "duration": 10,
    "start_time": "2024-06-10T23:14:58.687Z"
   },
   {
    "duration": 8,
    "start_time": "2024-06-10T23:15:07.496Z"
   },
   {
    "duration": 92,
    "start_time": "2024-06-10T23:15:30.125Z"
   },
   {
    "duration": 90,
    "start_time": "2024-06-10T23:15:32.729Z"
   },
   {
    "duration": 86,
    "start_time": "2024-06-10T23:23:04.129Z"
   },
   {
    "duration": 37,
    "start_time": "2024-06-10T23:25:58.001Z"
   },
   {
    "duration": 22,
    "start_time": "2024-06-10T23:26:02.291Z"
   },
   {
    "duration": 17,
    "start_time": "2024-06-10T23:26:13.680Z"
   },
   {
    "duration": 38,
    "start_time": "2024-06-10T23:26:55.254Z"
   },
   {
    "duration": 6,
    "start_time": "2024-06-10T23:27:00.683Z"
   },
   {
    "duration": 733,
    "start_time": "2024-06-10T23:27:12.826Z"
   },
   {
    "duration": 6,
    "start_time": "2024-06-10T23:29:13.200Z"
   },
   {
    "duration": 75,
    "start_time": "2024-06-10T23:29:34.433Z"
   },
   {
    "duration": 6,
    "start_time": "2024-06-10T23:29:56.610Z"
   },
   {
    "duration": 2266,
    "start_time": "2024-06-10T23:30:29.146Z"
   },
   {
    "duration": 7,
    "start_time": "2024-06-10T23:31:14.659Z"
   },
   {
    "duration": 6,
    "start_time": "2024-06-10T23:31:31.263Z"
   },
   {
    "duration": 25,
    "start_time": "2024-06-10T23:31:57.779Z"
   },
   {
    "duration": 30,
    "start_time": "2024-06-10T23:32:02.912Z"
   },
   {
    "duration": 6,
    "start_time": "2024-06-10T23:32:06.071Z"
   },
   {
    "duration": 7,
    "start_time": "2024-06-10T23:32:10.555Z"
   },
   {
    "duration": 6,
    "start_time": "2024-06-10T23:32:16.369Z"
   },
   {
    "duration": 6,
    "start_time": "2024-06-10T23:32:20.195Z"
   },
   {
    "duration": 22,
    "start_time": "2024-06-10T23:32:30.501Z"
   },
   {
    "duration": 23,
    "start_time": "2024-06-10T23:32:37.577Z"
   },
   {
    "duration": 26,
    "start_time": "2024-06-10T23:32:40.355Z"
   },
   {
    "duration": 6,
    "start_time": "2024-06-10T23:32:44.866Z"
   },
   {
    "duration": 16,
    "start_time": "2024-06-10T23:33:00.326Z"
   },
   {
    "duration": 15,
    "start_time": "2024-06-10T23:33:04.702Z"
   },
   {
    "duration": 18,
    "start_time": "2024-06-10T23:33:25.776Z"
   },
   {
    "duration": 631,
    "start_time": "2024-06-10T23:33:36.482Z"
   },
   {
    "duration": 55,
    "start_time": "2024-06-10T23:33:43.951Z"
   },
   {
    "duration": 38,
    "start_time": "2024-06-10T23:34:04.942Z"
   },
   {
    "duration": 17,
    "start_time": "2024-06-10T23:34:08.811Z"
   },
   {
    "duration": 7,
    "start_time": "2024-06-10T23:34:19.502Z"
   },
   {
    "duration": 6,
    "start_time": "2024-06-10T23:34:30.224Z"
   },
   {
    "duration": 5,
    "start_time": "2024-06-10T23:34:37.973Z"
   },
   {
    "duration": 8,
    "start_time": "2024-06-10T23:34:41.354Z"
   },
   {
    "duration": 51,
    "start_time": "2024-06-10T23:34:52.618Z"
   },
   {
    "duration": 172,
    "start_time": "2024-06-10T23:36:14.556Z"
   },
   {
    "duration": 35,
    "start_time": "2024-06-10T23:38:26.782Z"
   },
   {
    "duration": 16,
    "start_time": "2024-06-10T23:38:31.168Z"
   },
   {
    "duration": 18,
    "start_time": "2024-06-10T23:38:45.360Z"
   },
   {
    "duration": 36,
    "start_time": "2024-06-10T23:49:00.241Z"
   },
   {
    "duration": 18,
    "start_time": "2024-06-10T23:49:03.781Z"
   },
   {
    "duration": 7,
    "start_time": "2024-06-10T23:50:16.639Z"
   },
   {
    "duration": 4,
    "start_time": "2024-06-10T23:50:48.330Z"
   },
   {
    "duration": 13,
    "start_time": "2024-06-10T23:51:33.719Z"
   },
   {
    "duration": 11,
    "start_time": "2024-06-10T23:51:40.239Z"
   },
   {
    "duration": 20,
    "start_time": "2024-06-10T23:51:46.161Z"
   },
   {
    "duration": 10,
    "start_time": "2024-06-10T23:52:00.129Z"
   },
   {
    "duration": 25,
    "start_time": "2024-06-10T23:52:03.032Z"
   },
   {
    "duration": 10,
    "start_time": "2024-06-10T23:52:06.178Z"
   },
   {
    "duration": 11,
    "start_time": "2024-06-10T23:52:18.744Z"
   },
   {
    "duration": 222,
    "start_time": "2024-06-10T23:53:17.986Z"
   },
   {
    "duration": 195,
    "start_time": "2024-06-10T23:53:26.073Z"
   },
   {
    "duration": 194,
    "start_time": "2024-06-10T23:53:34.588Z"
   },
   {
    "duration": 247,
    "start_time": "2024-06-10T23:53:40.733Z"
   },
   {
    "duration": 189,
    "start_time": "2024-06-10T23:53:44.580Z"
   },
   {
    "duration": 220,
    "start_time": "2024-06-10T23:54:29.184Z"
   },
   {
    "duration": 217,
    "start_time": "2024-06-10T23:54:37.580Z"
   },
   {
    "duration": 246,
    "start_time": "2024-06-10T23:55:06.340Z"
   },
   {
    "duration": 288,
    "start_time": "2024-06-10T23:55:21.282Z"
   },
   {
    "duration": 246,
    "start_time": "2024-06-10T23:55:30.273Z"
   },
   {
    "duration": 311,
    "start_time": "2024-06-10T23:55:51.530Z"
   },
   {
    "duration": 317,
    "start_time": "2024-06-10T23:56:12.286Z"
   },
   {
    "duration": 209,
    "start_time": "2024-06-10T23:56:50.790Z"
   },
   {
    "duration": 208,
    "start_time": "2024-06-10T23:57:01.006Z"
   },
   {
    "duration": 193,
    "start_time": "2024-06-10T23:57:06.395Z"
   },
   {
    "duration": 258,
    "start_time": "2024-06-10T23:57:18.979Z"
   },
   {
    "duration": 312,
    "start_time": "2024-06-10T23:57:34.936Z"
   },
   {
    "duration": 4,
    "start_time": "2024-06-11T02:20:08.276Z"
   },
   {
    "duration": 1035,
    "start_time": "2024-06-11T02:20:08.284Z"
   },
   {
    "duration": 28,
    "start_time": "2024-06-11T02:20:09.323Z"
   },
   {
    "duration": 5,
    "start_time": "2024-06-11T02:24:55.282Z"
   },
   {
    "duration": 29,
    "start_time": "2024-06-11T02:24:58.093Z"
   },
   {
    "duration": 9,
    "start_time": "2024-06-11T02:25:08.923Z"
   },
   {
    "duration": 10,
    "start_time": "2024-06-11T02:25:16.212Z"
   },
   {
    "duration": 807,
    "start_time": "2024-06-11T02:25:18.005Z"
   },
   {
    "duration": 4,
    "start_time": "2024-06-11T02:25:27.525Z"
   },
   {
    "duration": 807,
    "start_time": "2024-06-11T02:25:27.534Z"
   },
   {
    "duration": 31,
    "start_time": "2024-06-11T02:25:28.344Z"
   },
   {
    "duration": 45,
    "start_time": "2024-06-11T02:25:28.379Z"
   },
   {
    "duration": 25,
    "start_time": "2024-06-11T02:25:28.429Z"
   },
   {
    "duration": 12,
    "start_time": "2024-06-11T02:25:28.457Z"
   },
   {
    "duration": 41,
    "start_time": "2024-06-11T02:25:28.472Z"
   },
   {
    "duration": 12,
    "start_time": "2024-06-11T02:25:28.516Z"
   },
   {
    "duration": 12,
    "start_time": "2024-06-11T02:25:28.532Z"
   },
   {
    "duration": 141,
    "start_time": "2024-06-11T02:25:28.548Z"
   },
   {
    "duration": 18,
    "start_time": "2024-06-11T02:25:28.694Z"
   },
   {
    "duration": 36,
    "start_time": "2024-06-11T02:25:28.715Z"
   },
   {
    "duration": 13,
    "start_time": "2024-06-11T02:25:28.753Z"
   },
   {
    "duration": 178,
    "start_time": "2024-06-11T02:25:28.772Z"
   },
   {
    "duration": 10,
    "start_time": "2024-06-11T02:25:28.953Z"
   },
   {
    "duration": 5,
    "start_time": "2024-06-11T02:25:28.968Z"
   },
   {
    "duration": 41,
    "start_time": "2024-06-11T02:25:28.976Z"
   },
   {
    "duration": 23,
    "start_time": "2024-06-11T02:25:29.019Z"
   },
   {
    "duration": 9,
    "start_time": "2024-06-11T02:25:29.045Z"
   },
   {
    "duration": 12,
    "start_time": "2024-06-11T02:25:29.061Z"
   },
   {
    "duration": 37,
    "start_time": "2024-06-11T02:25:29.076Z"
   },
   {
    "duration": 6,
    "start_time": "2024-06-11T02:25:32.696Z"
   },
   {
    "duration": 11,
    "start_time": "2024-06-11T02:25:33.821Z"
   },
   {
    "duration": 87,
    "start_time": "2024-06-11T02:25:34.439Z"
   },
   {
    "duration": 332,
    "start_time": "2024-06-11T02:25:41.994Z"
   },
   {
    "duration": 324,
    "start_time": "2024-06-11T02:25:45.177Z"
   },
   {
    "duration": 314,
    "start_time": "2024-06-11T02:26:55.039Z"
   },
   {
    "duration": 340,
    "start_time": "2024-06-11T02:27:39.422Z"
   },
   {
    "duration": 2079,
    "start_time": "2024-06-11T02:28:06.228Z"
   },
   {
    "duration": 341,
    "start_time": "2024-06-11T02:28:12.524Z"
   },
   {
    "duration": 347,
    "start_time": "2024-06-11T02:28:24.214Z"
   },
   {
    "duration": 335,
    "start_time": "2024-06-11T02:28:35.214Z"
   },
   {
    "duration": 332,
    "start_time": "2024-06-11T02:29:10.141Z"
   },
   {
    "duration": 325,
    "start_time": "2024-06-11T02:29:47.529Z"
   },
   {
    "duration": 331,
    "start_time": "2024-06-11T02:30:49.184Z"
   },
   {
    "duration": 344,
    "start_time": "2024-06-11T02:31:00.045Z"
   },
   {
    "duration": 8,
    "start_time": "2024-06-11T02:32:38.253Z"
   },
   {
    "duration": 7,
    "start_time": "2024-06-11T02:32:42.201Z"
   },
   {
    "duration": 8,
    "start_time": "2024-06-11T02:32:52.504Z"
   },
   {
    "duration": 8,
    "start_time": "2024-06-11T02:32:55.255Z"
   },
   {
    "duration": 8,
    "start_time": "2024-06-11T02:33:44.657Z"
   },
   {
    "duration": 12,
    "start_time": "2024-06-11T02:33:54.996Z"
   },
   {
    "duration": 6,
    "start_time": "2024-06-11T02:34:07.665Z"
   },
   {
    "duration": 9,
    "start_time": "2024-06-11T02:35:25.780Z"
   },
   {
    "duration": 6,
    "start_time": "2024-06-11T02:36:53.643Z"
   },
   {
    "duration": 5,
    "start_time": "2024-06-11T02:36:58.406Z"
   },
   {
    "duration": 5,
    "start_time": "2024-06-11T02:37:14.403Z"
   },
   {
    "duration": 5,
    "start_time": "2024-06-11T02:37:49.448Z"
   },
   {
    "duration": 3,
    "start_time": "2024-06-11T02:38:32.464Z"
   },
   {
    "duration": 328,
    "start_time": "2024-06-11T02:41:42.354Z"
   },
   {
    "duration": 333,
    "start_time": "2024-06-11T02:42:08.176Z"
   },
   {
    "duration": 491,
    "start_time": "2024-06-11T02:42:41.146Z"
   },
   {
    "duration": 40,
    "start_time": "2024-06-11T02:43:35.621Z"
   },
   {
    "duration": 22,
    "start_time": "2024-06-11T02:43:38.794Z"
   },
   {
    "duration": 37,
    "start_time": "2024-06-11T02:44:24.460Z"
   },
   {
    "duration": 18,
    "start_time": "2024-06-11T02:44:27.595Z"
   },
   {
    "duration": 192,
    "start_time": "2024-06-11T02:44:46.426Z"
   },
   {
    "duration": 218,
    "start_time": "2024-06-11T02:45:07.364Z"
   },
   {
    "duration": 218,
    "start_time": "2024-06-11T02:45:53.833Z"
   },
   {
    "duration": 248,
    "start_time": "2024-06-11T02:46:18.579Z"
   },
   {
    "duration": 284,
    "start_time": "2024-06-11T02:46:26.935Z"
   },
   {
    "duration": 341,
    "start_time": "2024-06-11T02:46:33.475Z"
   },
   {
    "duration": 249,
    "start_time": "2024-06-11T02:46:42.717Z"
   },
   {
    "duration": 254,
    "start_time": "2024-06-11T02:46:55.484Z"
   },
   {
    "duration": 281,
    "start_time": "2024-06-11T02:51:02.151Z"
   },
   {
    "duration": 38,
    "start_time": "2024-06-11T02:53:27.711Z"
   },
   {
    "duration": 21,
    "start_time": "2024-06-11T02:53:33.103Z"
   },
   {
    "duration": 222,
    "start_time": "2024-06-11T02:57:51.258Z"
   },
   {
    "duration": 195,
    "start_time": "2024-06-11T02:57:59.180Z"
   },
   {
    "duration": 207,
    "start_time": "2024-06-11T02:58:15.650Z"
   },
   {
    "duration": 199,
    "start_time": "2024-06-11T02:58:20.271Z"
   },
   {
    "duration": 200,
    "start_time": "2024-06-11T02:58:27.732Z"
   },
   {
    "duration": 189,
    "start_time": "2024-06-11T02:58:32.270Z"
   },
   {
    "duration": 306,
    "start_time": "2024-06-11T02:58:36.879Z"
   },
   {
    "duration": 198,
    "start_time": "2024-06-11T02:58:42.773Z"
   },
   {
    "duration": 260,
    "start_time": "2024-06-11T02:59:42.522Z"
   },
   {
    "duration": 268,
    "start_time": "2024-06-11T03:00:01.565Z"
   },
   {
    "duration": 278,
    "start_time": "2024-06-11T03:00:29.866Z"
   },
   {
    "duration": 465,
    "start_time": "2024-06-11T03:01:01.336Z"
   },
   {
    "duration": 5135,
    "start_time": "2024-06-11T15:18:15.494Z"
   },
   {
    "duration": 972,
    "start_time": "2024-06-11T15:18:20.633Z"
   },
   {
    "duration": 23,
    "start_time": "2024-06-11T15:18:21.608Z"
   },
   {
    "duration": 18,
    "start_time": "2024-06-11T15:18:21.635Z"
   },
   {
    "duration": 57,
    "start_time": "2024-06-11T15:18:21.656Z"
   },
   {
    "duration": 10,
    "start_time": "2024-06-11T15:18:21.716Z"
   },
   {
    "duration": 7,
    "start_time": "2024-06-11T15:18:21.729Z"
   },
   {
    "duration": 13,
    "start_time": "2024-06-11T15:18:21.740Z"
   },
   {
    "duration": 50,
    "start_time": "2024-06-11T15:18:21.756Z"
   },
   {
    "duration": 123,
    "start_time": "2024-06-11T15:18:21.811Z"
   },
   {
    "duration": 10,
    "start_time": "2024-06-11T15:18:21.937Z"
   },
   {
    "duration": 57,
    "start_time": "2024-06-11T15:18:21.950Z"
   },
   {
    "duration": 13,
    "start_time": "2024-06-11T15:18:22.010Z"
   },
   {
    "duration": 173,
    "start_time": "2024-06-11T15:18:22.025Z"
   },
   {
    "duration": 12,
    "start_time": "2024-06-11T15:18:22.937Z"
   },
   {
    "duration": 6,
    "start_time": "2024-06-11T15:18:23.248Z"
   },
   {
    "duration": 12,
    "start_time": "2024-06-11T15:18:23.492Z"
   },
   {
    "duration": 11,
    "start_time": "2024-06-11T15:18:23.834Z"
   },
   {
    "duration": 10,
    "start_time": "2024-06-11T15:18:24.342Z"
   },
   {
    "duration": 11,
    "start_time": "2024-06-11T15:18:24.806Z"
   },
   {
    "duration": 6,
    "start_time": "2024-06-11T15:18:25.284Z"
   },
   {
    "duration": 7,
    "start_time": "2024-06-11T15:18:26.065Z"
   },
   {
    "duration": 12,
    "start_time": "2024-06-11T15:18:26.740Z"
   },
   {
    "duration": 111,
    "start_time": "2024-06-11T15:18:27.106Z"
   },
   {
    "duration": 357,
    "start_time": "2024-06-11T15:18:31.291Z"
   },
   {
    "duration": 322,
    "start_time": "2024-06-11T15:18:31.923Z"
   },
   {
    "duration": 9,
    "start_time": "2024-06-11T15:18:32.411Z"
   },
   {
    "duration": 4,
    "start_time": "2024-06-11T15:18:32.947Z"
   },
   {
    "duration": 337,
    "start_time": "2024-06-11T15:18:36.454Z"
   },
   {
    "duration": 22,
    "start_time": "2024-06-11T15:18:40.514Z"
   },
   {
    "duration": 22,
    "start_time": "2024-06-11T15:18:50.693Z"
   },
   {
    "duration": 22,
    "start_time": "2024-06-11T15:18:57.419Z"
   },
   {
    "duration": 19,
    "start_time": "2024-06-11T15:19:25.072Z"
   },
   {
    "duration": 18,
    "start_time": "2024-06-11T15:19:41.478Z"
   },
   {
    "duration": 19,
    "start_time": "2024-06-11T15:20:04.059Z"
   },
   {
    "duration": 210,
    "start_time": "2024-06-11T15:21:25.534Z"
   },
   {
    "duration": 211,
    "start_time": "2024-06-11T15:21:42.036Z"
   },
   {
    "duration": 312,
    "start_time": "2024-06-11T15:21:55.892Z"
   },
   {
    "duration": 261,
    "start_time": "2024-06-11T15:22:06.595Z"
   },
   {
    "duration": 287,
    "start_time": "2024-06-11T15:22:33.210Z"
   },
   {
    "duration": 286,
    "start_time": "2024-06-11T15:22:36.286Z"
   },
   {
    "duration": 276,
    "start_time": "2024-06-11T15:23:33.035Z"
   },
   {
    "duration": 307,
    "start_time": "2024-06-11T15:23:57.411Z"
   },
   {
    "duration": 19,
    "start_time": "2024-06-11T15:24:10.884Z"
   },
   {
    "duration": 244,
    "start_time": "2024-06-11T15:24:46.738Z"
   },
   {
    "duration": 197,
    "start_time": "2024-06-11T15:24:55.180Z"
   },
   {
    "duration": 290,
    "start_time": "2024-06-11T15:25:10.512Z"
   },
   {
    "duration": 282,
    "start_time": "2024-06-11T15:25:30.854Z"
   },
   {
    "duration": 12,
    "start_time": "2024-06-11T15:26:46.467Z"
   },
   {
    "duration": 6,
    "start_time": "2024-06-11T15:27:12.295Z"
   },
   {
    "duration": 287,
    "start_time": "2024-06-11T15:27:43.420Z"
   },
   {
    "duration": 374,
    "start_time": "2024-06-11T15:27:49.623Z"
   },
   {
    "duration": 370,
    "start_time": "2024-06-11T15:28:27.911Z"
   },
   {
    "duration": 267,
    "start_time": "2024-06-11T15:28:43.295Z"
   },
   {
    "duration": 310,
    "start_time": "2024-06-11T15:29:19.566Z"
   },
   {
    "duration": 326,
    "start_time": "2024-06-11T15:30:12.375Z"
   },
   {
    "duration": 279,
    "start_time": "2024-06-11T15:30:31.638Z"
   },
   {
    "duration": 24,
    "start_time": "2024-06-11T15:32:32.520Z"
   },
   {
    "duration": 576,
    "start_time": "2024-06-11T15:36:42.083Z"
   },
   {
    "duration": 43,
    "start_time": "2024-06-11T15:36:47.149Z"
   },
   {
    "duration": 16,
    "start_time": "2024-06-11T15:36:50.103Z"
   },
   {
    "duration": 31,
    "start_time": "2024-06-11T15:37:37.409Z"
   },
   {
    "duration": 21,
    "start_time": "2024-06-11T15:37:41.990Z"
   },
   {
    "duration": 22,
    "start_time": "2024-06-11T15:37:51.992Z"
   },
   {
    "duration": 23,
    "start_time": "2024-06-11T15:38:11.869Z"
   },
   {
    "duration": 17,
    "start_time": "2024-06-11T15:40:21.491Z"
   },
   {
    "duration": 5606,
    "start_time": "2024-06-11T19:16:38.373Z"
   },
   {
    "duration": 1038,
    "start_time": "2024-06-11T19:16:43.982Z"
   },
   {
    "duration": 31,
    "start_time": "2024-06-11T19:16:45.023Z"
   },
   {
    "duration": 19,
    "start_time": "2024-06-11T19:16:45.058Z"
   },
   {
    "duration": 57,
    "start_time": "2024-06-11T19:16:45.080Z"
   },
   {
    "duration": 9,
    "start_time": "2024-06-11T19:16:45.140Z"
   },
   {
    "duration": 6,
    "start_time": "2024-06-11T19:16:45.153Z"
   },
   {
    "duration": 12,
    "start_time": "2024-06-11T19:16:45.162Z"
   },
   {
    "duration": 12,
    "start_time": "2024-06-11T19:16:45.177Z"
   },
   {
    "duration": 138,
    "start_time": "2024-06-11T19:16:45.233Z"
   },
   {
    "duration": 9,
    "start_time": "2024-06-11T19:16:45.374Z"
   },
   {
    "duration": 62,
    "start_time": "2024-06-11T19:16:45.386Z"
   },
   {
    "duration": 11,
    "start_time": "2024-06-11T19:16:45.451Z"
   },
   {
    "duration": 178,
    "start_time": "2024-06-11T19:16:45.465Z"
   },
   {
    "duration": 12,
    "start_time": "2024-06-11T19:16:45.648Z"
   },
   {
    "duration": 6,
    "start_time": "2024-06-11T19:16:45.855Z"
   },
   {
    "duration": 16,
    "start_time": "2024-06-11T19:16:46.182Z"
   },
   {
    "duration": 10,
    "start_time": "2024-06-11T19:16:46.541Z"
   },
   {
    "duration": 10,
    "start_time": "2024-06-11T19:16:46.866Z"
   },
   {
    "duration": 6,
    "start_time": "2024-06-11T19:16:54.941Z"
   },
   {
    "duration": 7,
    "start_time": "2024-06-11T19:16:56.151Z"
   },
   {
    "duration": 14,
    "start_time": "2024-06-11T19:16:57.140Z"
   },
   {
    "duration": 115,
    "start_time": "2024-06-11T19:16:57.935Z"
   },
   {
    "duration": 7,
    "start_time": "2024-06-11T19:17:18.725Z"
   },
   {
    "duration": 5,
    "start_time": "2024-06-11T19:17:32.270Z"
   },
   {
    "duration": 5,
    "start_time": "2024-06-11T19:17:38.356Z"
   },
   {
    "duration": 5,
    "start_time": "2024-06-11T19:17:53.969Z"
   },
   {
    "duration": 6,
    "start_time": "2024-06-11T19:17:59.309Z"
   },
   {
    "duration": 214,
    "start_time": "2024-06-11T19:18:20.368Z"
   },
   {
    "duration": 1078,
    "start_time": "2024-06-11T19:18:31.862Z"
   },
   {
    "duration": 4,
    "start_time": "2024-06-11T19:19:16.837Z"
   },
   {
    "duration": 7,
    "start_time": "2024-06-11T19:19:22.888Z"
   },
   {
    "duration": 23,
    "start_time": "2024-06-11T19:20:00.456Z"
   },
   {
    "duration": 7,
    "start_time": "2024-06-11T19:20:17.682Z"
   },
   {
    "duration": 5,
    "start_time": "2024-06-11T19:20:25.463Z"
   },
   {
    "duration": 7,
    "start_time": "2024-06-11T19:20:57.901Z"
   },
   {
    "duration": 475,
    "start_time": "2024-06-11T19:21:04.735Z"
   },
   {
    "duration": 130,
    "start_time": "2024-06-11T19:21:32.865Z"
   },
   {
    "duration": 65,
    "start_time": "2024-06-11T19:21:47.707Z"
   },
   {
    "duration": 65,
    "start_time": "2024-06-11T19:23:04.567Z"
   },
   {
    "duration": 9,
    "start_time": "2024-06-11T19:24:15.001Z"
   },
   {
    "duration": 66,
    "start_time": "2024-06-11T19:24:20.750Z"
   },
   {
    "duration": 68,
    "start_time": "2024-06-11T19:25:25.118Z"
   },
   {
    "duration": 7,
    "start_time": "2024-06-11T19:25:44.453Z"
   },
   {
    "duration": 25,
    "start_time": "2024-06-11T19:26:24.251Z"
   },
   {
    "duration": 23,
    "start_time": "2024-06-11T19:26:53.965Z"
   },
   {
    "duration": 6,
    "start_time": "2024-06-11T19:27:18.266Z"
   },
   {
    "duration": 5,
    "start_time": "2024-06-11T19:27:24.840Z"
   },
   {
    "duration": 7,
    "start_time": "2024-06-11T19:27:39.592Z"
   },
   {
    "duration": 4,
    "start_time": "2024-06-11T19:27:48.714Z"
   },
   {
    "duration": 22,
    "start_time": "2024-06-11T19:27:55.441Z"
   },
   {
    "duration": 24,
    "start_time": "2024-06-11T19:28:02.856Z"
   },
   {
    "duration": 9,
    "start_time": "2024-06-11T19:28:07.299Z"
   },
   {
    "duration": 5,
    "start_time": "2024-06-11T19:28:34.990Z"
   },
   {
    "duration": 30,
    "start_time": "2024-06-11T19:29:23.358Z"
   },
   {
    "duration": 5,
    "start_time": "2024-06-11T19:29:31.925Z"
   },
   {
    "duration": 5,
    "start_time": "2024-06-11T19:29:40.382Z"
   },
   {
    "duration": 7,
    "start_time": "2024-06-11T19:29:47.102Z"
   },
   {
    "duration": 5,
    "start_time": "2024-06-11T19:29:50.083Z"
   },
   {
    "duration": 8,
    "start_time": "2024-06-11T19:29:59.545Z"
   },
   {
    "duration": 7,
    "start_time": "2024-06-11T19:33:27.770Z"
   },
   {
    "duration": 400,
    "start_time": "2024-06-11T19:57:35.217Z"
   },
   {
    "duration": 278,
    "start_time": "2024-06-11T19:57:46.364Z"
   },
   {
    "duration": 280,
    "start_time": "2024-06-11T19:57:59.111Z"
   },
   {
    "duration": 342,
    "start_time": "2024-06-11T19:58:08.133Z"
   },
   {
    "duration": 275,
    "start_time": "2024-06-11T19:58:15.946Z"
   },
   {
    "duration": 266,
    "start_time": "2024-06-11T19:58:30.845Z"
   },
   {
    "duration": 386,
    "start_time": "2024-06-11T19:58:41.359Z"
   },
   {
    "duration": 403,
    "start_time": "2024-06-11T19:58:51.184Z"
   },
   {
    "duration": 22,
    "start_time": "2024-06-11T19:59:25.557Z"
   },
   {
    "duration": 19,
    "start_time": "2024-06-11T19:59:30.303Z"
   },
   {
    "duration": 3791,
    "start_time": "2024-06-11T19:59:50.463Z"
   },
   {
    "duration": 19,
    "start_time": "2024-06-11T20:00:46.892Z"
   },
   {
    "duration": 17,
    "start_time": "2024-06-11T20:00:58.681Z"
   },
   {
    "duration": 9,
    "start_time": "2024-06-11T20:01:24.480Z"
   },
   {
    "duration": 16,
    "start_time": "2024-06-11T20:05:30.328Z"
   },
   {
    "duration": 9,
    "start_time": "2024-06-11T20:05:53.334Z"
   },
   {
    "duration": 5,
    "start_time": "2024-06-11T20:06:19.118Z"
   },
   {
    "duration": 7,
    "start_time": "2024-06-11T20:06:40.319Z"
   },
   {
    "duration": 11,
    "start_time": "2024-06-11T20:07:10.300Z"
   },
   {
    "duration": 11,
    "start_time": "2024-06-11T20:07:18.758Z"
   },
   {
    "duration": 12,
    "start_time": "2024-06-11T20:07:46.946Z"
   },
   {
    "duration": 13,
    "start_time": "2024-06-11T20:07:50.734Z"
   },
   {
    "duration": 175,
    "start_time": "2024-06-11T20:08:19.634Z"
   },
   {
    "duration": 7,
    "start_time": "2024-06-11T20:08:29.503Z"
   },
   {
    "duration": 29,
    "start_time": "2024-06-11T20:08:39.305Z"
   },
   {
    "duration": 10,
    "start_time": "2024-06-11T20:08:44.690Z"
   },
   {
    "duration": 11,
    "start_time": "2024-06-11T20:09:33.732Z"
   },
   {
    "duration": 11,
    "start_time": "2024-06-11T20:09:38.174Z"
   },
   {
    "duration": 19,
    "start_time": "2024-06-11T20:09:49.718Z"
   },
   {
    "duration": 21,
    "start_time": "2024-06-11T20:10:19.765Z"
   },
   {
    "duration": 7,
    "start_time": "2024-06-11T20:11:08.891Z"
   },
   {
    "duration": 7,
    "start_time": "2024-06-11T20:11:46.228Z"
   },
   {
    "duration": 195,
    "start_time": "2024-06-11T20:11:56.283Z"
   },
   {
    "duration": 245,
    "start_time": "2024-06-11T20:12:11.124Z"
   },
   {
    "duration": 229,
    "start_time": "2024-06-11T20:12:17.463Z"
   },
   {
    "duration": 248,
    "start_time": "2024-06-11T20:12:32.350Z"
   },
   {
    "duration": 266,
    "start_time": "2024-06-11T20:12:41.145Z"
   },
   {
    "duration": 281,
    "start_time": "2024-06-11T20:13:23.143Z"
   },
   {
    "duration": 263,
    "start_time": "2024-06-11T20:13:28.672Z"
   },
   {
    "duration": 266,
    "start_time": "2024-06-11T20:13:33.337Z"
   },
   {
    "duration": 335,
    "start_time": "2024-06-11T20:14:39.778Z"
   },
   {
    "duration": 8,
    "start_time": "2024-06-11T20:21:45.450Z"
   },
   {
    "duration": 11,
    "start_time": "2024-06-11T20:21:49.374Z"
   },
   {
    "duration": 11,
    "start_time": "2024-06-11T20:22:01.938Z"
   },
   {
    "duration": 9,
    "start_time": "2024-06-11T20:22:28.825Z"
   },
   {
    "duration": 9,
    "start_time": "2024-06-11T20:23:10.770Z"
   },
   {
    "duration": 7,
    "start_time": "2024-06-11T20:26:39.872Z"
   },
   {
    "duration": 9,
    "start_time": "2024-06-11T20:26:45.841Z"
   },
   {
    "duration": 9,
    "start_time": "2024-06-11T20:26:58.896Z"
   },
   {
    "duration": 24,
    "start_time": "2024-06-11T20:27:07.850Z"
   },
   {
    "duration": 7,
    "start_time": "2024-06-11T20:27:11.390Z"
   },
   {
    "duration": 8,
    "start_time": "2024-06-11T20:27:31.329Z"
   },
   {
    "duration": 8,
    "start_time": "2024-06-11T20:27:36.518Z"
   },
   {
    "duration": 8,
    "start_time": "2024-06-11T20:27:48.482Z"
   },
   {
    "duration": 9,
    "start_time": "2024-06-11T20:27:51.538Z"
   },
   {
    "duration": 10,
    "start_time": "2024-06-11T20:28:12.076Z"
   },
   {
    "duration": 9,
    "start_time": "2024-06-11T20:28:25.766Z"
   },
   {
    "duration": 413,
    "start_time": "2024-06-11T20:28:42.924Z"
   },
   {
    "duration": 9,
    "start_time": "2024-06-11T20:28:51.693Z"
   },
   {
    "duration": 9,
    "start_time": "2024-06-11T20:28:56.742Z"
   },
   {
    "duration": 5,
    "start_time": "2024-06-11T20:29:00.880Z"
   },
   {
    "duration": 5,
    "start_time": "2024-06-11T20:29:03.866Z"
   },
   {
    "duration": 10,
    "start_time": "2024-06-11T20:29:07.686Z"
   },
   {
    "duration": 28,
    "start_time": "2024-06-11T20:32:08.213Z"
   },
   {
    "duration": 6,
    "start_time": "2024-06-11T20:32:10.996Z"
   },
   {
    "duration": 7,
    "start_time": "2024-06-11T20:33:31.684Z"
   },
   {
    "duration": 11,
    "start_time": "2024-06-11T20:33:40.094Z"
   },
   {
    "duration": 26,
    "start_time": "2024-06-11T20:34:01.673Z"
   },
   {
    "duration": 10,
    "start_time": "2024-06-11T20:34:04.548Z"
   },
   {
    "duration": 9,
    "start_time": "2024-06-11T20:34:14.751Z"
   },
   {
    "duration": 7,
    "start_time": "2024-06-11T20:34:23.806Z"
   },
   {
    "duration": 8,
    "start_time": "2024-06-11T20:34:29.520Z"
   },
   {
    "duration": 7,
    "start_time": "2024-06-11T20:36:41.076Z"
   },
   {
    "duration": 25,
    "start_time": "2024-06-11T20:36:46.439Z"
   },
   {
    "duration": 18,
    "start_time": "2024-06-11T20:37:42.226Z"
   },
   {
    "duration": 21,
    "start_time": "2024-06-11T20:37:47.926Z"
   },
   {
    "duration": 23,
    "start_time": "2024-06-11T20:37:54.688Z"
   },
   {
    "duration": 7,
    "start_time": "2024-06-11T20:38:47.468Z"
   },
   {
    "duration": 9,
    "start_time": "2024-06-11T20:38:54.036Z"
   },
   {
    "duration": 7,
    "start_time": "2024-06-11T20:39:04.881Z"
   },
   {
    "duration": 7,
    "start_time": "2024-06-11T21:07:30.627Z"
   },
   {
    "duration": 8,
    "start_time": "2024-06-11T21:07:44.081Z"
   },
   {
    "duration": 11,
    "start_time": "2024-06-11T21:07:55.978Z"
   },
   {
    "duration": 7,
    "start_time": "2024-06-11T21:08:17.370Z"
   },
   {
    "duration": 7,
    "start_time": "2024-06-11T21:08:31.050Z"
   },
   {
    "duration": 137,
    "start_time": "2024-06-11T21:09:40.767Z"
   },
   {
    "duration": 142,
    "start_time": "2024-06-11T21:09:51.183Z"
   },
   {
    "duration": 7,
    "start_time": "2024-06-11T21:10:42.103Z"
   },
   {
    "duration": 5,
    "start_time": "2024-06-11T21:11:06.354Z"
   },
   {
    "duration": 8,
    "start_time": "2024-06-11T21:11:14.986Z"
   },
   {
    "duration": 127,
    "start_time": "2024-06-11T21:11:26.226Z"
   },
   {
    "duration": 5,
    "start_time": "2024-06-11T21:11:32.856Z"
   },
   {
    "duration": 7,
    "start_time": "2024-06-11T21:11:36.025Z"
   },
   {
    "duration": 12,
    "start_time": "2024-06-11T21:11:47.144Z"
   },
   {
    "duration": 321,
    "start_time": "2024-06-11T21:13:32.269Z"
   },
   {
    "duration": 319,
    "start_time": "2024-06-11T21:13:48.587Z"
   },
   {
    "duration": 313,
    "start_time": "2024-06-11T21:16:40.711Z"
   },
   {
    "duration": 323,
    "start_time": "2024-06-11T21:16:49.968Z"
   },
   {
    "duration": 324,
    "start_time": "2024-06-11T21:17:00.790Z"
   },
   {
    "duration": 295,
    "start_time": "2024-06-11T21:17:06.565Z"
   },
   {
    "duration": 264,
    "start_time": "2024-06-11T21:17:37.474Z"
   },
   {
    "duration": 274,
    "start_time": "2024-06-11T21:17:59.977Z"
   },
   {
    "duration": 342,
    "start_time": "2024-06-11T21:18:10.626Z"
   },
   {
    "duration": 313,
    "start_time": "2024-06-11T21:18:19.064Z"
   },
   {
    "duration": 332,
    "start_time": "2024-06-11T21:18:56.715Z"
   },
   {
    "duration": 9,
    "start_time": "2024-06-11T21:19:39.967Z"
   },
   {
    "duration": 4,
    "start_time": "2024-06-11T21:24:23.659Z"
   },
   {
    "duration": 6,
    "start_time": "2024-06-11T21:24:29.048Z"
   },
   {
    "duration": 28,
    "start_time": "2024-06-11T21:25:53.546Z"
   },
   {
    "duration": 7,
    "start_time": "2024-06-11T21:26:24.645Z"
   },
   {
    "duration": 36,
    "start_time": "2024-06-11T21:26:29.719Z"
   },
   {
    "duration": 28,
    "start_time": "2024-06-11T21:26:41.001Z"
   },
   {
    "duration": 24,
    "start_time": "2024-06-11T21:43:08.276Z"
   },
   {
    "duration": 5,
    "start_time": "2024-06-11T21:43:28.895Z"
   },
   {
    "duration": 29,
    "start_time": "2024-06-11T21:43:34.012Z"
   },
   {
    "duration": 5,
    "start_time": "2024-06-11T21:43:41.066Z"
   },
   {
    "duration": 952,
    "start_time": "2024-06-11T21:43:41.076Z"
   },
   {
    "duration": 25,
    "start_time": "2024-06-11T21:43:42.032Z"
   },
   {
    "duration": 19,
    "start_time": "2024-06-11T21:43:42.063Z"
   },
   {
    "duration": 63,
    "start_time": "2024-06-11T21:43:42.086Z"
   },
   {
    "duration": 11,
    "start_time": "2024-06-11T21:43:42.152Z"
   },
   {
    "duration": 8,
    "start_time": "2024-06-11T21:43:42.166Z"
   },
   {
    "duration": 55,
    "start_time": "2024-06-11T21:43:42.178Z"
   },
   {
    "duration": 13,
    "start_time": "2024-06-11T21:43:42.240Z"
   },
   {
    "duration": 137,
    "start_time": "2024-06-11T21:43:42.257Z"
   },
   {
    "duration": 14,
    "start_time": "2024-06-11T21:43:42.397Z"
   },
   {
    "duration": 39,
    "start_time": "2024-06-11T21:43:42.433Z"
   },
   {
    "duration": 12,
    "start_time": "2024-06-11T21:43:42.475Z"
   },
   {
    "duration": 183,
    "start_time": "2024-06-11T21:43:42.490Z"
   },
   {
    "duration": 10,
    "start_time": "2024-06-11T21:43:42.675Z"
   },
   {
    "duration": 5,
    "start_time": "2024-06-11T21:43:42.688Z"
   },
   {
    "duration": 47,
    "start_time": "2024-06-11T21:43:42.696Z"
   },
   {
    "duration": 11,
    "start_time": "2024-06-11T21:43:42.746Z"
   },
   {
    "duration": 12,
    "start_time": "2024-06-11T21:43:42.761Z"
   },
   {
    "duration": 61,
    "start_time": "2024-06-11T21:43:42.777Z"
   },
   {
    "duration": 6,
    "start_time": "2024-06-11T21:43:42.844Z"
   },
   {
    "duration": 7,
    "start_time": "2024-06-11T21:43:42.853Z"
   },
   {
    "duration": 11,
    "start_time": "2024-06-11T21:43:42.863Z"
   },
   {
    "duration": 153,
    "start_time": "2024-06-11T21:43:42.882Z"
   },
   {
    "duration": 12,
    "start_time": "2024-06-11T21:43:43.038Z"
   },
   {
    "duration": 422,
    "start_time": "2024-06-11T21:43:43.053Z"
   },
   {
    "duration": 349,
    "start_time": "2024-06-11T21:43:43.479Z"
   },
   {
    "duration": 8,
    "start_time": "2024-06-11T21:43:43.831Z"
   },
   {
    "duration": 21,
    "start_time": "2024-06-11T21:43:43.842Z"
   },
   {
    "duration": 389,
    "start_time": "2024-06-11T21:43:43.869Z"
   },
   {
    "duration": 320,
    "start_time": "2024-06-11T21:43:44.261Z"
   },
   {
    "duration": 338,
    "start_time": "2024-06-11T21:43:44.585Z"
   },
   {
    "duration": 383,
    "start_time": "2024-06-11T21:43:44.933Z"
   },
   {
    "duration": 351,
    "start_time": "2024-06-11T21:43:45.320Z"
   },
   {
    "duration": 25,
    "start_time": "2024-06-11T21:43:45.674Z"
   },
   {
    "duration": 254,
    "start_time": "2024-06-11T21:43:50.163Z"
   },
   {
    "duration": 30,
    "start_time": "2024-06-11T21:44:01.969Z"
   },
   {
    "duration": 83,
    "start_time": "2024-06-11T21:44:19.758Z"
   },
   {
    "duration": 29,
    "start_time": "2024-06-11T21:44:44.457Z"
   },
   {
    "duration": 25,
    "start_time": "2024-06-11T21:44:48.777Z"
   },
   {
    "duration": 24,
    "start_time": "2024-06-11T21:45:03.229Z"
   },
   {
    "duration": 39,
    "start_time": "2024-06-11T21:45:06.606Z"
   },
   {
    "duration": 19,
    "start_time": "2024-06-11T21:45:12.118Z"
   },
   {
    "duration": 17,
    "start_time": "2024-06-11T21:45:21.447Z"
   },
   {
    "duration": 45,
    "start_time": "2024-06-11T21:45:27.665Z"
   },
   {
    "duration": 27,
    "start_time": "2024-06-11T21:45:31.348Z"
   },
   {
    "duration": 18,
    "start_time": "2024-06-11T21:45:37.203Z"
   },
   {
    "duration": 41,
    "start_time": "2024-06-11T21:46:29.367Z"
   },
   {
    "duration": 22,
    "start_time": "2024-06-11T21:46:32.600Z"
   },
   {
    "duration": 6,
    "start_time": "2024-06-11T21:46:39.313Z"
   },
   {
    "duration": 24,
    "start_time": "2024-06-11T21:46:42.317Z"
   },
   {
    "duration": 13,
    "start_time": "2024-06-11T21:46:47.135Z"
   },
   {
    "duration": 14,
    "start_time": "2024-06-11T21:46:56.873Z"
   },
   {
    "duration": 606,
    "start_time": "2024-06-11T21:47:17.750Z"
   },
   {
    "duration": 904,
    "start_time": "2024-06-11T21:47:41.431Z"
   },
   {
    "duration": 675,
    "start_time": "2024-06-11T21:47:45.757Z"
   },
   {
    "duration": 1475,
    "start_time": "2024-06-11T21:47:56.261Z"
   },
   {
    "duration": 3584,
    "start_time": "2024-06-11T21:48:03.457Z"
   },
   {
    "duration": 4504,
    "start_time": "2024-06-11T21:49:39.159Z"
   },
   {
    "duration": 1383,
    "start_time": "2024-06-11T21:49:54.364Z"
   },
   {
    "duration": 24,
    "start_time": "2024-06-11T21:50:07.176Z"
   },
   {
    "duration": 1687,
    "start_time": "2024-06-11T21:50:11.267Z"
   },
   {
    "duration": 23,
    "start_time": "2024-06-11T21:51:39.023Z"
   },
   {
    "duration": 4,
    "start_time": "2024-06-11T21:51:53.648Z"
   },
   {
    "duration": 5,
    "start_time": "2024-06-11T21:52:00.837Z"
   },
   {
    "duration": 4,
    "start_time": "2024-06-11T21:52:11.461Z"
   },
   {
    "duration": 28,
    "start_time": "2024-06-11T21:52:37.345Z"
   },
   {
    "duration": 5983,
    "start_time": "2024-06-11T21:53:13.731Z"
   },
   {
    "duration": 5966,
    "start_time": "2024-06-11T21:53:32.951Z"
   },
   {
    "duration": 891,
    "start_time": "2024-06-11T21:54:06.545Z"
   },
   {
    "duration": 25,
    "start_time": "2024-06-11T21:57:54.700Z"
   },
   {
    "duration": 33,
    "start_time": "2024-06-11T21:57:58.930Z"
   },
   {
    "duration": 145,
    "start_time": "2024-06-11T21:58:28.509Z"
   },
   {
    "duration": 24,
    "start_time": "2024-06-11T21:59:00.578Z"
   },
   {
    "duration": 85,
    "start_time": "2024-06-11T21:59:06.195Z"
   },
   {
    "duration": 9,
    "start_time": "2024-06-11T22:54:40.455Z"
   },
   {
    "duration": 7,
    "start_time": "2024-06-11T22:54:54.771Z"
   },
   {
    "duration": 12,
    "start_time": "2024-06-11T22:54:59.160Z"
   },
   {
    "duration": 11,
    "start_time": "2024-06-11T22:55:05.590Z"
   },
   {
    "duration": 9,
    "start_time": "2024-06-11T22:55:37.654Z"
   },
   {
    "duration": 14,
    "start_time": "2024-06-11T22:55:43.228Z"
   },
   {
    "duration": 13,
    "start_time": "2024-06-11T22:55:54.435Z"
   },
   {
    "duration": 200,
    "start_time": "2024-06-11T22:56:18.692Z"
   },
   {
    "duration": 199,
    "start_time": "2024-06-11T22:57:51.656Z"
   },
   {
    "duration": 8,
    "start_time": "2024-06-11T22:57:59.231Z"
   },
   {
    "duration": 7,
    "start_time": "2024-06-11T22:59:08.286Z"
   },
   {
    "duration": 9,
    "start_time": "2024-06-11T23:01:20.011Z"
   },
   {
    "duration": 13,
    "start_time": "2024-06-11T23:02:28.425Z"
   },
   {
    "duration": 201,
    "start_time": "2024-06-11T23:02:41.020Z"
   },
   {
    "duration": 201,
    "start_time": "2024-06-11T23:03:07.622Z"
   },
   {
    "duration": 230,
    "start_time": "2024-06-11T23:03:37.284Z"
   },
   {
    "duration": 29,
    "start_time": "2024-06-11T23:07:46.960Z"
   },
   {
    "duration": 13,
    "start_time": "2024-06-11T23:08:02.431Z"
   },
   {
    "duration": 198,
    "start_time": "2024-06-11T23:08:13.345Z"
   },
   {
    "duration": 261,
    "start_time": "2024-06-11T23:08:24.047Z"
   },
   {
    "duration": 10,
    "start_time": "2024-06-11T23:08:35.318Z"
   },
   {
    "duration": 8,
    "start_time": "2024-06-11T23:08:43.990Z"
   },
   {
    "duration": 258,
    "start_time": "2024-06-11T23:09:11.048Z"
   },
   {
    "duration": 9,
    "start_time": "2024-06-11T23:09:29.926Z"
   },
   {
    "duration": 280,
    "start_time": "2024-06-11T23:10:59.686Z"
   },
   {
    "duration": 262,
    "start_time": "2024-06-11T23:14:28.541Z"
   },
   {
    "duration": 5,
    "start_time": "2024-06-11T23:15:25.317Z"
   },
   {
    "duration": 4,
    "start_time": "2024-06-11T23:15:30.980Z"
   },
   {
    "duration": 22,
    "start_time": "2024-06-11T23:16:58.175Z"
   },
   {
    "duration": 5112,
    "start_time": "2024-06-12T00:45:45.796Z"
   },
   {
    "duration": 967,
    "start_time": "2024-06-12T00:45:50.912Z"
   },
   {
    "duration": 25,
    "start_time": "2024-06-12T00:45:51.882Z"
   },
   {
    "duration": 35,
    "start_time": "2024-06-12T00:45:51.909Z"
   },
   {
    "duration": 24,
    "start_time": "2024-06-12T00:45:51.949Z"
   },
   {
    "duration": 10,
    "start_time": "2024-06-12T00:45:51.976Z"
   },
   {
    "duration": 45,
    "start_time": "2024-06-12T00:45:51.989Z"
   },
   {
    "duration": 13,
    "start_time": "2024-06-12T00:45:52.037Z"
   },
   {
    "duration": 14,
    "start_time": "2024-06-12T00:45:52.053Z"
   },
   {
    "duration": 151,
    "start_time": "2024-06-12T00:45:52.071Z"
   },
   {
    "duration": 18,
    "start_time": "2024-06-12T00:45:52.225Z"
   },
   {
    "duration": 36,
    "start_time": "2024-06-12T00:45:52.246Z"
   },
   {
    "duration": 12,
    "start_time": "2024-06-12T00:45:52.285Z"
   },
   {
    "duration": 160,
    "start_time": "2024-06-12T00:45:52.336Z"
   },
   {
    "duration": 10,
    "start_time": "2024-06-12T00:45:52.499Z"
   },
   {
    "duration": 23,
    "start_time": "2024-06-12T00:45:52.511Z"
   },
   {
    "duration": 12,
    "start_time": "2024-06-12T00:45:52.537Z"
   },
   {
    "duration": 12,
    "start_time": "2024-06-12T00:45:52.552Z"
   },
   {
    "duration": 9,
    "start_time": "2024-06-12T00:45:52.567Z"
   },
   {
    "duration": 60,
    "start_time": "2024-06-12T00:45:52.579Z"
   },
   {
    "duration": 6,
    "start_time": "2024-06-12T00:45:52.642Z"
   },
   {
    "duration": 7,
    "start_time": "2024-06-12T00:45:52.651Z"
   },
   {
    "duration": 11,
    "start_time": "2024-06-12T00:45:52.661Z"
   },
   {
    "duration": 162,
    "start_time": "2024-06-12T00:45:52.675Z"
   },
   {
    "duration": 9,
    "start_time": "2024-06-12T00:45:52.839Z"
   },
   {
    "duration": 446,
    "start_time": "2024-06-12T00:45:52.852Z"
   },
   {
    "duration": 345,
    "start_time": "2024-06-12T00:45:53.301Z"
   },
   {
    "duration": 7,
    "start_time": "2024-06-12T00:45:53.650Z"
   },
   {
    "duration": 5,
    "start_time": "2024-06-12T00:45:53.660Z"
   },
   {
    "duration": 373,
    "start_time": "2024-06-12T00:45:53.669Z"
   },
   {
    "duration": 337,
    "start_time": "2024-06-12T00:45:54.045Z"
   },
   {
    "duration": 337,
    "start_time": "2024-06-12T00:45:54.385Z"
   },
   {
    "duration": 334,
    "start_time": "2024-06-12T00:45:54.733Z"
   },
   {
    "duration": 340,
    "start_time": "2024-06-12T00:45:55.070Z"
   },
   {
    "duration": 23,
    "start_time": "2024-06-12T00:45:55.413Z"
   },
   {
    "duration": 10,
    "start_time": "2024-06-12T00:45:55.439Z"
   },
   {
    "duration": 10,
    "start_time": "2024-06-12T00:45:55.452Z"
   },
   {
    "duration": 299,
    "start_time": "2024-06-12T00:45:55.465Z"
   },
   {
    "duration": 438,
    "start_time": "2024-06-12T00:45:55.767Z"
   },
   {
    "duration": 4,
    "start_time": "2024-06-12T00:49:18.212Z"
   },
   {
    "duration": 143,
    "start_time": "2024-06-12T00:50:07.737Z"
   },
   {
    "duration": 28,
    "start_time": "2024-06-12T00:50:18.299Z"
   },
   {
    "duration": 9,
    "start_time": "2024-06-12T00:50:55.517Z"
   },
   {
    "duration": 29,
    "start_time": "2024-06-12T00:51:19.984Z"
   },
   {
    "duration": 350,
    "start_time": "2024-06-12T00:51:59.092Z"
   },
   {
    "duration": 216,
    "start_time": "2024-06-12T00:52:15.478Z"
   },
   {
    "duration": 261,
    "start_time": "2024-06-12T00:52:34.104Z"
   },
   {
    "duration": 242,
    "start_time": "2024-06-12T00:52:54.447Z"
   },
   {
    "duration": 51,
    "start_time": "2024-06-12T00:53:07.085Z"
   },
   {
    "duration": 1492,
    "start_time": "2024-06-12T00:53:43.916Z"
   },
   {
    "duration": 5,
    "start_time": "2024-06-12T00:58:10.690Z"
   },
   {
    "duration": 5150,
    "start_time": "2024-06-19T02:57:02.325Z"
   },
   {
    "duration": 960,
    "start_time": "2024-06-19T02:57:07.479Z"
   },
   {
    "duration": 23,
    "start_time": "2024-06-19T02:57:08.442Z"
   },
   {
    "duration": 19,
    "start_time": "2024-06-19T02:57:08.468Z"
   },
   {
    "duration": 24,
    "start_time": "2024-06-19T02:57:08.522Z"
   },
   {
    "duration": 10,
    "start_time": "2024-06-19T02:57:08.550Z"
   },
   {
    "duration": 7,
    "start_time": "2024-06-19T02:57:08.563Z"
   },
   {
    "duration": 14,
    "start_time": "2024-06-19T02:57:08.573Z"
   },
   {
    "duration": 14,
    "start_time": "2024-06-19T02:57:08.624Z"
   },
   {
    "duration": 144,
    "start_time": "2024-06-19T02:57:08.642Z"
   },
   {
    "duration": 10,
    "start_time": "2024-06-19T02:57:08.789Z"
   },
   {
    "duration": 53,
    "start_time": "2024-06-19T02:57:08.802Z"
   },
   {
    "duration": 12,
    "start_time": "2024-06-19T02:57:08.858Z"
   },
   {
    "duration": 190,
    "start_time": "2024-06-19T02:57:08.879Z"
   },
   {
    "duration": 17,
    "start_time": "2024-06-19T02:57:09.072Z"
   },
   {
    "duration": 9,
    "start_time": "2024-06-19T02:57:09.093Z"
   },
   {
    "duration": 27,
    "start_time": "2024-06-19T02:57:09.105Z"
   },
   {
    "duration": 15,
    "start_time": "2024-06-19T02:57:09.136Z"
   },
   {
    "duration": 17,
    "start_time": "2024-06-19T02:57:09.158Z"
   },
   {
    "duration": 46,
    "start_time": "2024-06-19T02:57:09.178Z"
   },
   {
    "duration": 6,
    "start_time": "2024-06-19T02:57:09.230Z"
   },
   {
    "duration": 7,
    "start_time": "2024-06-19T02:57:09.239Z"
   },
   {
    "duration": 13,
    "start_time": "2024-06-19T02:57:09.249Z"
   },
   {
    "duration": 173,
    "start_time": "2024-06-19T02:57:09.264Z"
   },
   {
    "duration": 87,
    "start_time": "2024-06-19T02:57:09.440Z"
   },
   {
    "duration": 463,
    "start_time": "2024-06-19T02:57:09.532Z"
   },
   {
    "duration": 340,
    "start_time": "2024-06-19T02:57:09.997Z"
   },
   {
    "duration": 8,
    "start_time": "2024-06-19T02:57:10.340Z"
   },
   {
    "duration": 5,
    "start_time": "2024-06-19T02:57:10.351Z"
   },
   {
    "duration": 371,
    "start_time": "2024-06-19T02:57:10.360Z"
   },
   {
    "duration": 316,
    "start_time": "2024-06-19T02:57:10.734Z"
   },
   {
    "duration": 343,
    "start_time": "2024-06-19T02:57:11.053Z"
   },
   {
    "duration": 342,
    "start_time": "2024-06-19T02:57:11.400Z"
   },
   {
    "duration": 347,
    "start_time": "2024-06-19T02:57:11.748Z"
   },
   {
    "duration": 10,
    "start_time": "2024-06-19T02:57:12.098Z"
   },
   {
    "duration": 21,
    "start_time": "2024-06-19T02:57:12.110Z"
   },
   {
    "duration": 10,
    "start_time": "2024-06-19T02:57:12.133Z"
   },
   {
    "duration": 5,
    "start_time": "2024-06-19T02:57:34.891Z"
   },
   {
    "duration": 283,
    "start_time": "2024-06-19T02:57:38.311Z"
   },
   {
    "duration": 9,
    "start_time": "2024-06-19T02:57:40.110Z"
   },
   {
    "duration": 269,
    "start_time": "2024-06-19T02:57:42.530Z"
   },
   {
    "duration": 5,
    "start_time": "2024-06-19T02:57:45.363Z"
   },
   {
    "duration": 416,
    "start_time": "2024-06-19T02:57:50.823Z"
   },
   {
    "duration": 23,
    "start_time": "2024-06-19T02:57:55.412Z"
   },
   {
    "duration": 26,
    "start_time": "2024-06-19T02:57:58.262Z"
   },
   {
    "duration": 8,
    "start_time": "2024-06-19T02:58:02.902Z"
   },
   {
    "duration": 9,
    "start_time": "2024-06-19T02:58:07.989Z"
   },
   {
    "duration": 8,
    "start_time": "2024-06-19T02:58:12.735Z"
   },
   {
    "duration": 43,
    "start_time": "2024-06-19T02:59:53.522Z"
   },
   {
    "duration": 12,
    "start_time": "2024-06-19T03:00:04.798Z"
   },
   {
    "duration": 48,
    "start_time": "2024-06-19T03:00:10.500Z"
   },
   {
    "duration": 121,
    "start_time": "2024-06-19T03:00:16.714Z"
   },
   {
    "duration": 12,
    "start_time": "2024-06-19T03:00:20.706Z"
   },
   {
    "duration": 30,
    "start_time": "2024-06-19T03:00:27.610Z"
   },
   {
    "duration": 13,
    "start_time": "2024-06-19T03:00:33.175Z"
   },
   {
    "duration": 8,
    "start_time": "2024-06-19T03:00:38.588Z"
   },
   {
    "duration": 13,
    "start_time": "2024-06-19T03:00:49.815Z"
   },
   {
    "duration": 41,
    "start_time": "2024-06-19T03:01:36.330Z"
   },
   {
    "duration": 6,
    "start_time": "2024-06-19T03:01:40.294Z"
   },
   {
    "duration": 5,
    "start_time": "2024-06-19T03:03:11.184Z"
   },
   {
    "duration": 5,
    "start_time": "2024-06-19T03:03:57.102Z"
   },
   {
    "duration": 334,
    "start_time": "2024-06-19T03:07:55.131Z"
   },
   {
    "duration": 22,
    "start_time": "2024-06-19T03:08:12.089Z"
   },
   {
    "duration": 1560,
    "start_time": "2024-06-19T03:08:22.751Z"
   },
   {
    "duration": 859,
    "start_time": "2024-06-19T03:08:24.315Z"
   },
   {
    "duration": 25,
    "start_time": "2024-06-19T03:08:25.176Z"
   },
   {
    "duration": 41,
    "start_time": "2024-06-19T03:08:25.204Z"
   },
   {
    "duration": 26,
    "start_time": "2024-06-19T03:08:25.249Z"
   },
   {
    "duration": 11,
    "start_time": "2024-06-19T03:08:25.277Z"
   },
   {
    "duration": 37,
    "start_time": "2024-06-19T03:08:25.291Z"
   },
   {
    "duration": 13,
    "start_time": "2024-06-19T03:08:25.332Z"
   },
   {
    "duration": 14,
    "start_time": "2024-06-19T03:08:25.352Z"
   },
   {
    "duration": 136,
    "start_time": "2024-06-19T03:08:25.368Z"
   },
   {
    "duration": 23,
    "start_time": "2024-06-19T03:08:25.507Z"
   },
   {
    "duration": 41,
    "start_time": "2024-06-19T03:08:25.534Z"
   },
   {
    "duration": 13,
    "start_time": "2024-06-19T03:08:25.579Z"
   },
   {
    "duration": 169,
    "start_time": "2024-06-19T03:08:25.624Z"
   },
   {
    "duration": 10,
    "start_time": "2024-06-19T03:08:25.796Z"
   },
   {
    "duration": 19,
    "start_time": "2024-06-19T03:08:25.808Z"
   },
   {
    "duration": 13,
    "start_time": "2024-06-19T03:08:25.830Z"
   },
   {
    "duration": 15,
    "start_time": "2024-06-19T03:08:25.845Z"
   },
   {
    "duration": 9,
    "start_time": "2024-06-19T03:08:25.864Z"
   },
   {
    "duration": 62,
    "start_time": "2024-06-19T03:08:25.876Z"
   },
   {
    "duration": 6,
    "start_time": "2024-06-19T03:08:25.940Z"
   },
   {
    "duration": 7,
    "start_time": "2024-06-19T03:08:25.949Z"
   },
   {
    "duration": 13,
    "start_time": "2024-06-19T03:08:25.959Z"
   },
   {
    "duration": 427,
    "start_time": "2024-06-19T03:08:25.974Z"
   },
   {
    "duration": 0,
    "start_time": "2024-06-19T03:08:26.403Z"
   },
   {
    "duration": 0,
    "start_time": "2024-06-19T03:08:26.405Z"
   },
   {
    "duration": 0,
    "start_time": "2024-06-19T03:08:26.408Z"
   },
   {
    "duration": 0,
    "start_time": "2024-06-19T03:08:26.427Z"
   },
   {
    "duration": 0,
    "start_time": "2024-06-19T03:08:26.428Z"
   },
   {
    "duration": 0,
    "start_time": "2024-06-19T03:08:26.430Z"
   },
   {
    "duration": 0,
    "start_time": "2024-06-19T03:08:26.433Z"
   },
   {
    "duration": 0,
    "start_time": "2024-06-19T03:08:26.435Z"
   },
   {
    "duration": 0,
    "start_time": "2024-06-19T03:08:26.436Z"
   },
   {
    "duration": 0,
    "start_time": "2024-06-19T03:08:26.438Z"
   },
   {
    "duration": 0,
    "start_time": "2024-06-19T03:08:26.440Z"
   },
   {
    "duration": 0,
    "start_time": "2024-06-19T03:08:26.442Z"
   },
   {
    "duration": 0,
    "start_time": "2024-06-19T03:08:26.444Z"
   },
   {
    "duration": 0,
    "start_time": "2024-06-19T03:08:26.446Z"
   },
   {
    "duration": 8,
    "start_time": "2024-06-19T03:08:29.718Z"
   },
   {
    "duration": 24,
    "start_time": "2024-06-19T03:08:34.873Z"
   },
   {
    "duration": 680,
    "start_time": "2024-06-19T03:08:41.947Z"
   },
   {
    "duration": 683,
    "start_time": "2024-06-19T03:09:06.641Z"
   },
   {
    "duration": 347,
    "start_time": "2024-06-19T03:09:11.485Z"
   },
   {
    "duration": 4,
    "start_time": "2024-06-19T03:09:43.070Z"
   },
   {
    "duration": 3,
    "start_time": "2024-06-19T03:13:03.254Z"
   },
   {
    "duration": 1410,
    "start_time": "2024-06-19T03:15:59.659Z"
   },
   {
    "duration": 802,
    "start_time": "2024-06-19T03:16:01.073Z"
   },
   {
    "duration": 99,
    "start_time": "2024-06-19T03:16:01.878Z"
   },
   {
    "duration": 19,
    "start_time": "2024-06-19T03:16:01.979Z"
   },
   {
    "duration": 24,
    "start_time": "2024-06-19T03:16:02.023Z"
   },
   {
    "duration": 10,
    "start_time": "2024-06-19T03:16:02.050Z"
   },
   {
    "duration": 9,
    "start_time": "2024-06-19T03:16:02.062Z"
   },
   {
    "duration": 49,
    "start_time": "2024-06-19T03:16:02.074Z"
   },
   {
    "duration": 13,
    "start_time": "2024-06-19T03:16:02.126Z"
   },
   {
    "duration": 136,
    "start_time": "2024-06-19T03:16:02.142Z"
   },
   {
    "duration": 16,
    "start_time": "2024-06-19T03:16:02.281Z"
   },
   {
    "duration": 52,
    "start_time": "2024-06-19T03:16:02.300Z"
   },
   {
    "duration": 11,
    "start_time": "2024-06-19T03:16:02.355Z"
   },
   {
    "duration": 183,
    "start_time": "2024-06-19T03:16:02.372Z"
   },
   {
    "duration": 10,
    "start_time": "2024-06-19T03:16:02.558Z"
   },
   {
    "duration": 5,
    "start_time": "2024-06-19T03:16:02.571Z"
   },
   {
    "duration": 45,
    "start_time": "2024-06-19T03:16:02.580Z"
   },
   {
    "duration": 13,
    "start_time": "2024-06-19T03:16:02.628Z"
   },
   {
    "duration": 12,
    "start_time": "2024-06-19T03:16:02.646Z"
   },
   {
    "duration": 13,
    "start_time": "2024-06-19T03:16:02.662Z"
   },
   {
    "duration": 47,
    "start_time": "2024-06-19T03:16:02.679Z"
   },
   {
    "duration": 7,
    "start_time": "2024-06-19T03:16:02.729Z"
   },
   {
    "duration": 12,
    "start_time": "2024-06-19T03:16:02.739Z"
   },
   {
    "duration": 662,
    "start_time": "2024-06-19T03:16:02.754Z"
   },
   {
    "duration": 0,
    "start_time": "2024-06-19T03:16:03.423Z"
   },
   {
    "duration": 0,
    "start_time": "2024-06-19T03:16:03.425Z"
   },
   {
    "duration": 0,
    "start_time": "2024-06-19T03:16:03.427Z"
   },
   {
    "duration": 0,
    "start_time": "2024-06-19T03:16:03.430Z"
   },
   {
    "duration": 0,
    "start_time": "2024-06-19T03:16:03.432Z"
   },
   {
    "duration": 0,
    "start_time": "2024-06-19T03:16:03.434Z"
   },
   {
    "duration": 0,
    "start_time": "2024-06-19T03:16:03.436Z"
   },
   {
    "duration": 0,
    "start_time": "2024-06-19T03:16:03.440Z"
   },
   {
    "duration": 0,
    "start_time": "2024-06-19T03:16:03.443Z"
   },
   {
    "duration": 0,
    "start_time": "2024-06-19T03:16:03.445Z"
   },
   {
    "duration": 0,
    "start_time": "2024-06-19T03:16:03.448Z"
   },
   {
    "duration": 0,
    "start_time": "2024-06-19T03:16:03.451Z"
   },
   {
    "duration": 0,
    "start_time": "2024-06-19T03:16:03.453Z"
   },
   {
    "duration": 0,
    "start_time": "2024-06-19T03:16:03.455Z"
   },
   {
    "duration": 0,
    "start_time": "2024-06-19T03:16:03.457Z"
   },
   {
    "duration": 0,
    "start_time": "2024-06-19T03:16:03.461Z"
   },
   {
    "duration": 3,
    "start_time": "2024-06-19T03:16:23.660Z"
   },
   {
    "duration": 2530,
    "start_time": "2024-06-19T03:16:47.637Z"
   },
   {
    "duration": 2513,
    "start_time": "2024-06-19T03:16:51.727Z"
   },
   {
    "duration": 600,
    "start_time": "2024-06-19T03:16:57.033Z"
   },
   {
    "duration": 2544,
    "start_time": "2024-06-19T03:17:01.351Z"
   },
   {
    "duration": 336,
    "start_time": "2024-06-19T03:17:41.900Z"
   },
   {
    "duration": 2535,
    "start_time": "2024-06-19T03:17:59.115Z"
   },
   {
    "duration": 5925,
    "start_time": "2024-06-19T03:18:20.625Z"
   },
   {
    "duration": 1320,
    "start_time": "2024-06-19T03:18:30.312Z"
   },
   {
    "duration": 3872,
    "start_time": "2024-06-19T03:18:36.170Z"
   },
   {
    "duration": 1797,
    "start_time": "2024-06-19T03:18:47.332Z"
   },
   {
    "duration": 781,
    "start_time": "2024-06-19T03:18:55.761Z"
   },
   {
    "duration": 1024,
    "start_time": "2024-06-19T03:18:59.505Z"
   },
   {
    "duration": 645,
    "start_time": "2024-06-19T03:19:04.479Z"
   },
   {
    "duration": 573,
    "start_time": "2024-06-19T03:19:08.851Z"
   },
   {
    "duration": 641,
    "start_time": "2024-06-19T03:19:12.484Z"
   },
   {
    "duration": 749,
    "start_time": "2024-06-19T03:19:16.996Z"
   },
   {
    "duration": 953,
    "start_time": "2024-06-19T03:19:20.573Z"
   },
   {
    "duration": 3222,
    "start_time": "2024-06-19T03:19:24.105Z"
   },
   {
    "duration": 1232,
    "start_time": "2024-06-19T03:19:32.026Z"
   },
   {
    "duration": 537,
    "start_time": "2024-06-19T03:19:35.937Z"
   },
   {
    "duration": 621,
    "start_time": "2024-06-19T03:19:39.113Z"
   },
   {
    "duration": 1250,
    "start_time": "2024-06-19T03:19:42.272Z"
   },
   {
    "duration": 1858,
    "start_time": "2024-06-19T03:19:46.996Z"
   },
   {
    "duration": 3225,
    "start_time": "2024-06-19T03:19:53.443Z"
   },
   {
    "duration": 6002,
    "start_time": "2024-06-19T03:19:59.176Z"
   },
   {
    "duration": 1856,
    "start_time": "2024-06-19T03:20:11.833Z"
   },
   {
    "duration": 1264,
    "start_time": "2024-06-19T03:20:18.136Z"
   },
   {
    "duration": 792,
    "start_time": "2024-06-19T03:22:04.342Z"
   },
   {
    "duration": 492,
    "start_time": "2024-06-19T03:22:13.133Z"
   },
   {
    "duration": 169,
    "start_time": "2024-06-19T03:22:16.669Z"
   },
   {
    "duration": 1074,
    "start_time": "2024-06-19T03:22:19.653Z"
   },
   {
    "duration": 1101,
    "start_time": "2024-06-19T03:22:22.741Z"
   },
   {
    "duration": 1301,
    "start_time": "2024-06-19T03:22:25.838Z"
   },
   {
    "duration": 1734,
    "start_time": "2024-06-19T03:22:29.494Z"
   },
   {
    "duration": 1360,
    "start_time": "2024-06-19T03:22:33.377Z"
   },
   {
    "duration": 4292,
    "start_time": "2024-06-19T03:22:50.332Z"
   },
   {
    "duration": 11291,
    "start_time": "2024-06-19T03:22:59.000Z"
   },
   {
    "duration": 4288,
    "start_time": "2024-06-19T03:23:15.083Z"
   },
   {
    "duration": 11288,
    "start_time": "2024-06-19T03:24:25.793Z"
   },
   {
    "duration": 4313,
    "start_time": "2024-06-19T03:25:03.589Z"
   },
   {
    "duration": 4299,
    "start_time": "2024-06-19T03:27:16.568Z"
   },
   {
    "duration": 935,
    "start_time": "2024-06-19T03:27:46.709Z"
   },
   {
    "duration": 27,
    "start_time": "2024-06-19T04:08:59.797Z"
   },
   {
    "duration": 4,
    "start_time": "2024-06-19T04:09:15.175Z"
   },
   {
    "duration": 24,
    "start_time": "2024-06-19T04:09:17.891Z"
   },
   {
    "duration": 26,
    "start_time": "2024-06-19T04:09:24.650Z"
   },
   {
    "duration": 30,
    "start_time": "2024-06-19T04:09:29.921Z"
   },
   {
    "duration": 5,
    "start_time": "2024-06-19T04:09:40.776Z"
   },
   {
    "duration": 5,
    "start_time": "2024-06-19T04:09:49.311Z"
   },
   {
    "duration": 32,
    "start_time": "2024-06-19T04:10:24.914Z"
   },
   {
    "duration": 33,
    "start_time": "2024-06-19T04:10:38.044Z"
   },
   {
    "duration": 23,
    "start_time": "2024-06-19T04:10:49.481Z"
   },
   {
    "duration": 25,
    "start_time": "2024-06-19T04:11:06.258Z"
   },
   {
    "duration": 4,
    "start_time": "2024-06-19T04:22:39.229Z"
   },
   {
    "duration": 6,
    "start_time": "2024-06-19T04:22:44.739Z"
   },
   {
    "duration": 25,
    "start_time": "2024-06-19T04:24:16.451Z"
   },
   {
    "duration": 4281,
    "start_time": "2024-06-19T04:24:32.134Z"
   },
   {
    "duration": 22,
    "start_time": "2024-06-19T04:24:37.237Z"
   },
   {
    "duration": 4,
    "start_time": "2024-06-19T04:24:42.628Z"
   },
   {
    "duration": 24,
    "start_time": "2024-06-19T04:24:45.466Z"
   },
   {
    "duration": 31,
    "start_time": "2024-06-19T04:24:53.367Z"
   },
   {
    "duration": 36,
    "start_time": "2024-06-19T04:26:17.411Z"
   },
   {
    "duration": 7,
    "start_time": "2024-06-19T04:26:23.120Z"
   },
   {
    "duration": 4285,
    "start_time": "2024-06-19T04:27:10.179Z"
   },
   {
    "duration": 4414,
    "start_time": "2024-06-19T04:27:18.790Z"
   },
   {
    "duration": 4306,
    "start_time": "2024-06-19T04:27:42.985Z"
   },
   {
    "duration": 4296,
    "start_time": "2024-06-19T04:27:49.092Z"
   },
   {
    "duration": 4283,
    "start_time": "2024-06-19T04:28:03.406Z"
   },
   {
    "duration": 13,
    "start_time": "2024-06-19T04:28:42.219Z"
   },
   {
    "duration": 9,
    "start_time": "2024-06-19T04:28:45.789Z"
   },
   {
    "duration": 370,
    "start_time": "2024-06-19T04:29:09.310Z"
   },
   {
    "duration": 26,
    "start_time": "2024-06-19T04:29:26.383Z"
   },
   {
    "duration": 8,
    "start_time": "2024-06-19T04:29:30.358Z"
   },
   {
    "duration": 27,
    "start_time": "2024-06-19T04:30:10.492Z"
   },
   {
    "duration": 8,
    "start_time": "2024-06-19T04:30:14.552Z"
   },
   {
    "duration": 1098,
    "start_time": "2024-06-19T04:30:22.639Z"
   },
   {
    "duration": 4275,
    "start_time": "2024-06-19T04:30:48.461Z"
   },
   {
    "duration": 6,
    "start_time": "2024-06-19T04:31:08.951Z"
   },
   {
    "duration": 792,
    "start_time": "2024-06-19T04:31:08.960Z"
   },
   {
    "duration": 23,
    "start_time": "2024-06-19T04:31:09.755Z"
   },
   {
    "duration": 18,
    "start_time": "2024-06-19T04:31:09.783Z"
   },
   {
    "duration": 30,
    "start_time": "2024-06-19T04:31:09.825Z"
   },
   {
    "duration": 10,
    "start_time": "2024-06-19T04:31:09.858Z"
   },
   {
    "duration": 7,
    "start_time": "2024-06-19T04:31:09.871Z"
   },
   {
    "duration": 46,
    "start_time": "2024-06-19T04:31:09.883Z"
   },
   {
    "duration": 13,
    "start_time": "2024-06-19T04:31:09.933Z"
   },
   {
    "duration": 136,
    "start_time": "2024-06-19T04:31:09.952Z"
   },
   {
    "duration": 12,
    "start_time": "2024-06-19T04:31:10.091Z"
   },
   {
    "duration": 52,
    "start_time": "2024-06-19T04:31:10.105Z"
   },
   {
    "duration": 12,
    "start_time": "2024-06-19T04:31:10.159Z"
   },
   {
    "duration": 177,
    "start_time": "2024-06-19T04:31:10.173Z"
   },
   {
    "duration": 9,
    "start_time": "2024-06-19T04:31:10.354Z"
   },
   {
    "duration": 5,
    "start_time": "2024-06-19T04:31:10.366Z"
   },
   {
    "duration": 47,
    "start_time": "2024-06-19T04:31:10.375Z"
   },
   {
    "duration": 15,
    "start_time": "2024-06-19T04:31:10.425Z"
   },
   {
    "duration": 9,
    "start_time": "2024-06-19T04:31:10.444Z"
   },
   {
    "duration": 13,
    "start_time": "2024-06-19T04:31:10.456Z"
   },
   {
    "duration": 6,
    "start_time": "2024-06-19T04:31:10.472Z"
   },
   {
    "duration": 7,
    "start_time": "2024-06-19T04:31:10.524Z"
   },
   {
    "duration": 13,
    "start_time": "2024-06-19T04:31:10.535Z"
   },
   {
    "duration": 276,
    "start_time": "2024-06-19T04:31:10.551Z"
   },
   {
    "duration": 0,
    "start_time": "2024-06-19T04:31:10.831Z"
   },
   {
    "duration": 0,
    "start_time": "2024-06-19T04:31:10.832Z"
   },
   {
    "duration": 0,
    "start_time": "2024-06-19T04:31:10.834Z"
   },
   {
    "duration": 0,
    "start_time": "2024-06-19T04:31:10.836Z"
   },
   {
    "duration": 0,
    "start_time": "2024-06-19T04:31:10.839Z"
   },
   {
    "duration": 0,
    "start_time": "2024-06-19T04:31:10.840Z"
   },
   {
    "duration": 0,
    "start_time": "2024-06-19T04:31:10.843Z"
   },
   {
    "duration": 0,
    "start_time": "2024-06-19T04:31:10.847Z"
   },
   {
    "duration": 0,
    "start_time": "2024-06-19T04:31:10.850Z"
   },
   {
    "duration": 0,
    "start_time": "2024-06-19T04:31:10.852Z"
   },
   {
    "duration": 0,
    "start_time": "2024-06-19T04:31:10.854Z"
   },
   {
    "duration": 0,
    "start_time": "2024-06-19T04:31:10.857Z"
   },
   {
    "duration": 0,
    "start_time": "2024-06-19T04:31:10.858Z"
   },
   {
    "duration": 0,
    "start_time": "2024-06-19T04:31:10.860Z"
   },
   {
    "duration": 0,
    "start_time": "2024-06-19T04:31:10.862Z"
   },
   {
    "duration": 0,
    "start_time": "2024-06-19T04:31:10.864Z"
   },
   {
    "duration": 0,
    "start_time": "2024-06-19T04:31:10.866Z"
   },
   {
    "duration": 0,
    "start_time": "2024-06-19T04:31:10.923Z"
   },
   {
    "duration": 62,
    "start_time": "2024-06-19T04:31:25.377Z"
   },
   {
    "duration": 8,
    "start_time": "2024-06-19T04:31:28.165Z"
   },
   {
    "duration": 342,
    "start_time": "2024-06-19T04:31:31.983Z"
   },
   {
    "duration": 457,
    "start_time": "2024-06-19T04:31:34.216Z"
   },
   {
    "duration": 7,
    "start_time": "2024-06-19T04:31:36.566Z"
   },
   {
    "duration": 4,
    "start_time": "2024-06-19T04:31:39.941Z"
   },
   {
    "duration": 278,
    "start_time": "2024-06-19T04:31:43.285Z"
   },
   {
    "duration": 284,
    "start_time": "2024-06-19T04:31:46.661Z"
   },
   {
    "duration": 326,
    "start_time": "2024-06-19T04:31:50.323Z"
   },
   {
    "duration": 364,
    "start_time": "2024-06-19T04:31:53.690Z"
   },
   {
    "duration": 315,
    "start_time": "2024-06-19T04:31:56.275Z"
   },
   {
    "duration": 8,
    "start_time": "2024-06-19T04:32:00.955Z"
   },
   {
    "duration": 13,
    "start_time": "2024-06-19T04:32:09.556Z"
   },
   {
    "duration": 12,
    "start_time": "2024-06-19T04:32:16.337Z"
   },
   {
    "duration": 12,
    "start_time": "2024-06-19T04:32:22.331Z"
   },
   {
    "duration": 260,
    "start_time": "2024-06-19T04:32:28.300Z"
   },
   {
    "duration": 1107,
    "start_time": "2024-06-19T04:32:39.540Z"
   },
   {
    "duration": 4327,
    "start_time": "2024-06-19T04:32:40.725Z"
   },
   {
    "duration": 8,
    "start_time": "2024-06-19T04:32:45.055Z"
   },
   {
    "duration": 794,
    "start_time": "2024-06-19T04:34:26.353Z"
   },
   {
    "duration": 4271,
    "start_time": "2024-06-19T04:34:32.180Z"
   },
   {
    "duration": 4315,
    "start_time": "2024-06-19T04:34:47.756Z"
   },
   {
    "duration": 1169,
    "start_time": "2024-06-19T04:34:52.075Z"
   },
   {
    "duration": 5175,
    "start_time": "2024-06-20T02:20:43.635Z"
   },
   {
    "duration": 970,
    "start_time": "2024-06-20T02:20:48.813Z"
   },
   {
    "duration": 25,
    "start_time": "2024-06-20T02:20:49.786Z"
   },
   {
    "duration": 19,
    "start_time": "2024-06-20T02:20:49.833Z"
   },
   {
    "duration": 24,
    "start_time": "2024-06-20T02:20:49.856Z"
   },
   {
    "duration": 49,
    "start_time": "2024-06-20T02:20:49.883Z"
   },
   {
    "duration": 7,
    "start_time": "2024-06-20T02:20:49.935Z"
   },
   {
    "duration": 14,
    "start_time": "2024-06-20T02:20:49.945Z"
   },
   {
    "duration": 14,
    "start_time": "2024-06-20T02:20:51.386Z"
   },
   {
    "duration": 10,
    "start_time": "2024-06-20T02:20:54.400Z"
   },
   {
    "duration": 37,
    "start_time": "2024-06-20T02:20:58.849Z"
   },
   {
    "duration": 11,
    "start_time": "2024-06-20T02:20:59.373Z"
   },
   {
    "duration": 149,
    "start_time": "2024-06-20T02:21:04.412Z"
   },
   {
    "duration": 44,
    "start_time": "2024-06-20T02:22:07.796Z"
   },
   {
    "duration": 1342,
    "start_time": "2024-06-20T02:22:44.243Z"
   },
   {
    "duration": 8,
    "start_time": "2024-06-20T02:22:56.688Z"
   },
   {
    "duration": 9,
    "start_time": "2024-06-20T02:23:01.354Z"
   },
   {
    "duration": 8,
    "start_time": "2024-06-20T02:23:12.698Z"
   },
   {
    "duration": 12,
    "start_time": "2024-06-20T02:23:28.999Z"
   },
   {
    "duration": 7,
    "start_time": "2024-06-20T02:23:44.820Z"
   },
   {
    "duration": 7,
    "start_time": "2024-06-20T02:23:58.246Z"
   },
   {
    "duration": 25,
    "start_time": "2024-06-20T02:24:10.463Z"
   },
   {
    "duration": 8,
    "start_time": "2024-06-20T02:24:16.554Z"
   },
   {
    "duration": 8,
    "start_time": "2024-06-20T02:24:18.756Z"
   },
   {
    "duration": 21,
    "start_time": "2024-06-20T02:25:59.271Z"
   },
   {
    "duration": 48,
    "start_time": "2024-06-20T02:26:08.008Z"
   },
   {
    "duration": 49,
    "start_time": "2024-06-20T02:26:11.771Z"
   },
   {
    "duration": 20,
    "start_time": "2024-06-20T02:26:14.709Z"
   },
   {
    "duration": 16,
    "start_time": "2024-06-20T02:26:22.392Z"
   },
   {
    "duration": 50,
    "start_time": "2024-06-20T02:26:32.531Z"
   },
   {
    "duration": 19,
    "start_time": "2024-06-20T02:27:20.713Z"
   },
   {
    "duration": 23,
    "start_time": "2024-06-20T02:28:51.805Z"
   },
   {
    "duration": 11,
    "start_time": "2024-06-20T02:28:53.805Z"
   },
   {
    "duration": 5,
    "start_time": "2024-06-20T02:28:54.567Z"
   },
   {
    "duration": 11,
    "start_time": "2024-06-20T02:28:54.985Z"
   },
   {
    "duration": 10,
    "start_time": "2024-06-20T02:28:56.792Z"
   },
   {
    "duration": 9,
    "start_time": "2024-06-20T02:29:00.065Z"
   },
   {
    "duration": 11,
    "start_time": "2024-06-20T02:29:04.967Z"
   },
   {
    "duration": 5,
    "start_time": "2024-06-20T02:30:05.672Z"
   },
   {
    "duration": 104,
    "start_time": "2024-06-20T02:31:34.044Z"
   },
   {
    "duration": 59,
    "start_time": "2024-06-20T02:32:11.527Z"
   },
   {
    "duration": 119,
    "start_time": "2024-06-20T02:32:17.744Z"
   },
   {
    "duration": 7,
    "start_time": "2024-06-20T02:32:30.528Z"
   },
   {
    "duration": 10,
    "start_time": "2024-06-20T02:32:31.642Z"
   },
   {
    "duration": 49,
    "start_time": "2024-06-20T02:33:02.907Z"
   },
   {
    "duration": 7,
    "start_time": "2024-06-20T02:36:39.261Z"
   },
   {
    "duration": 4,
    "start_time": "2024-06-20T02:37:35.877Z"
   },
   {
    "duration": 22,
    "start_time": "2024-06-20T02:38:10.238Z"
   },
   {
    "duration": 5,
    "start_time": "2024-06-20T02:38:18.276Z"
   },
   {
    "duration": 35,
    "start_time": "2024-06-20T02:38:55.212Z"
   },
   {
    "duration": 22,
    "start_time": "2024-06-20T02:38:59.662Z"
   },
   {
    "duration": 23,
    "start_time": "2024-06-20T02:39:36.842Z"
   },
   {
    "duration": 24,
    "start_time": "2024-06-20T02:40:23.138Z"
   },
   {
    "duration": 10,
    "start_time": "2024-06-20T02:40:47.873Z"
   },
   {
    "duration": 4,
    "start_time": "2024-06-20T02:41:08.675Z"
   },
   {
    "duration": 11,
    "start_time": "2024-06-20T02:41:14.813Z"
   },
   {
    "duration": 10,
    "start_time": "2024-06-20T03:00:48.925Z"
   },
   {
    "duration": 7,
    "start_time": "2024-06-20T03:01:07.922Z"
   },
   {
    "duration": 6,
    "start_time": "2024-06-20T03:01:17.675Z"
   },
   {
    "duration": 20,
    "start_time": "2024-06-20T03:01:27.168Z"
   },
   {
    "duration": 8,
    "start_time": "2024-06-20T03:01:37.667Z"
   },
   {
    "duration": 17,
    "start_time": "2024-06-20T03:02:31.162Z"
   },
   {
    "duration": 5,
    "start_time": "2024-06-20T03:02:43.953Z"
   },
   {
    "duration": 15,
    "start_time": "2024-06-20T03:02:47.983Z"
   },
   {
    "duration": 15,
    "start_time": "2024-06-20T03:03:09.303Z"
   },
   {
    "duration": 4,
    "start_time": "2024-06-20T03:03:17.548Z"
   },
   {
    "duration": 5,
    "start_time": "2024-06-20T03:11:40.985Z"
   },
   {
    "duration": 15,
    "start_time": "2024-06-20T03:14:47.346Z"
   },
   {
    "duration": 5,
    "start_time": "2024-06-20T03:15:02.774Z"
   },
   {
    "duration": 4,
    "start_time": "2024-06-20T03:15:07.037Z"
   },
   {
    "duration": 14,
    "start_time": "2024-06-20T03:15:07.657Z"
   },
   {
    "duration": 4,
    "start_time": "2024-06-20T03:15:10.396Z"
   },
   {
    "duration": 14,
    "start_time": "2024-06-20T03:15:10.932Z"
   },
   {
    "duration": 5,
    "start_time": "2024-06-20T03:15:15.559Z"
   },
   {
    "duration": 14,
    "start_time": "2024-06-20T03:15:16.945Z"
   },
   {
    "duration": 6,
    "start_time": "2024-06-20T03:15:50.112Z"
   },
   {
    "duration": 25,
    "start_time": "2024-06-20T03:16:08.918Z"
   },
   {
    "duration": 11,
    "start_time": "2024-06-20T03:17:11.679Z"
   },
   {
    "duration": 122,
    "start_time": "2024-06-20T03:17:39.284Z"
   },
   {
    "duration": 8,
    "start_time": "2024-06-20T03:18:01.280Z"
   },
   {
    "duration": 171,
    "start_time": "2024-06-20T03:18:26.704Z"
   },
   {
    "duration": 7,
    "start_time": "2024-06-20T03:18:50.860Z"
   },
   {
    "duration": 7,
    "start_time": "2024-06-20T03:18:55.571Z"
   },
   {
    "duration": 8,
    "start_time": "2024-06-20T03:19:23.097Z"
   },
   {
    "duration": 7,
    "start_time": "2024-06-20T03:19:31.460Z"
   },
   {
    "duration": 5,
    "start_time": "2024-06-20T03:19:36.678Z"
   },
   {
    "duration": 23,
    "start_time": "2024-06-20T03:19:47.546Z"
   },
   {
    "duration": 26,
    "start_time": "2024-06-20T03:19:56.594Z"
   },
   {
    "duration": 25,
    "start_time": "2024-06-20T03:20:05.484Z"
   },
   {
    "duration": 6,
    "start_time": "2024-06-20T03:20:16.203Z"
   },
   {
    "duration": 1418,
    "start_time": "2024-06-20T03:20:33.635Z"
   },
   {
    "duration": 805,
    "start_time": "2024-06-20T03:20:35.057Z"
   },
   {
    "duration": 93,
    "start_time": "2024-06-20T03:20:35.865Z"
   },
   {
    "duration": 19,
    "start_time": "2024-06-20T03:20:35.962Z"
   },
   {
    "duration": 49,
    "start_time": "2024-06-20T03:20:35.985Z"
   },
   {
    "duration": 12,
    "start_time": "2024-06-20T03:20:36.037Z"
   },
   {
    "duration": 7,
    "start_time": "2024-06-20T03:20:36.052Z"
   },
   {
    "duration": 12,
    "start_time": "2024-06-20T03:20:36.062Z"
   },
   {
    "duration": 12,
    "start_time": "2024-06-20T03:20:36.077Z"
   },
   {
    "duration": 123,
    "start_time": "2024-06-20T03:20:36.134Z"
   },
   {
    "duration": 9,
    "start_time": "2024-06-20T03:20:36.260Z"
   },
   {
    "duration": 61,
    "start_time": "2024-06-20T03:20:36.272Z"
   },
   {
    "duration": 13,
    "start_time": "2024-06-20T03:20:36.339Z"
   },
   {
    "duration": 177,
    "start_time": "2024-06-20T03:20:36.359Z"
   },
   {
    "duration": 24,
    "start_time": "2024-06-20T03:20:36.540Z"
   },
   {
    "duration": 10,
    "start_time": "2024-06-20T03:20:36.567Z"
   },
   {
    "duration": 6,
    "start_time": "2024-06-20T03:20:36.579Z"
   },
   {
    "duration": 51,
    "start_time": "2024-06-20T03:20:36.588Z"
   },
   {
    "duration": 11,
    "start_time": "2024-06-20T03:20:36.642Z"
   },
   {
    "duration": 9,
    "start_time": "2024-06-20T03:20:36.656Z"
   },
   {
    "duration": 12,
    "start_time": "2024-06-20T03:20:36.667Z"
   },
   {
    "duration": 1169,
    "start_time": "2024-06-20T03:20:36.682Z"
   },
   {
    "duration": 0,
    "start_time": "2024-06-20T03:20:37.854Z"
   },
   {
    "duration": 0,
    "start_time": "2024-06-20T03:20:37.856Z"
   },
   {
    "duration": 0,
    "start_time": "2024-06-20T03:20:37.858Z"
   },
   {
    "duration": 29,
    "start_time": "2024-06-20T03:20:39.918Z"
   },
   {
    "duration": 4,
    "start_time": "2024-06-20T03:20:43.493Z"
   },
   {
    "duration": 12,
    "start_time": "2024-06-20T03:20:45.745Z"
   },
   {
    "duration": 8,
    "start_time": "2024-06-20T03:20:48.094Z"
   },
   {
    "duration": 4,
    "start_time": "2024-06-20T03:21:03.222Z"
   },
   {
    "duration": 7,
    "start_time": "2024-06-20T03:21:11.266Z"
   },
   {
    "duration": 187,
    "start_time": "2024-06-20T03:21:20.439Z"
   },
   {
    "duration": 8,
    "start_time": "2024-06-20T03:21:53.922Z"
   },
   {
    "duration": 7,
    "start_time": "2024-06-20T03:22:00.414Z"
   },
   {
    "duration": 11,
    "start_time": "2024-06-20T03:22:10.858Z"
   },
   {
    "duration": 7,
    "start_time": "2024-06-20T03:22:13.584Z"
   },
   {
    "duration": 7,
    "start_time": "2024-06-20T03:22:55.003Z"
   },
   {
    "duration": 25,
    "start_time": "2024-06-20T03:24:04.614Z"
   },
   {
    "duration": 9,
    "start_time": "2024-06-20T03:24:12.024Z"
   },
   {
    "duration": 27,
    "start_time": "2024-06-20T03:24:31.050Z"
   },
   {
    "duration": 9,
    "start_time": "2024-06-20T03:24:35.686Z"
   },
   {
    "duration": 7,
    "start_time": "2024-06-20T03:24:42.837Z"
   },
   {
    "duration": 6,
    "start_time": "2024-06-20T03:25:08.595Z"
   },
   {
    "duration": 8,
    "start_time": "2024-06-20T03:25:12.829Z"
   },
   {
    "duration": 64,
    "start_time": "2024-06-20T03:25:16.454Z"
   },
   {
    "duration": 5161,
    "start_time": "2024-06-20T14:43:29.692Z"
   },
   {
    "duration": 986,
    "start_time": "2024-06-20T14:43:34.856Z"
   },
   {
    "duration": 25,
    "start_time": "2024-06-20T14:43:35.845Z"
   },
   {
    "duration": 46,
    "start_time": "2024-06-20T14:43:35.875Z"
   },
   {
    "duration": 23,
    "start_time": "2024-06-20T14:43:35.928Z"
   },
   {
    "duration": 10,
    "start_time": "2024-06-20T14:43:35.954Z"
   },
   {
    "duration": 7,
    "start_time": "2024-06-20T14:43:35.967Z"
   },
   {
    "duration": 35,
    "start_time": "2024-06-20T14:43:35.977Z"
   },
   {
    "duration": 14,
    "start_time": "2024-06-20T14:43:36.015Z"
   },
   {
    "duration": 132,
    "start_time": "2024-06-20T14:43:36.034Z"
   },
   {
    "duration": 10,
    "start_time": "2024-06-20T14:43:36.169Z"
   },
   {
    "duration": 57,
    "start_time": "2024-06-20T14:43:36.182Z"
   },
   {
    "duration": 12,
    "start_time": "2024-06-20T14:43:36.243Z"
   },
   {
    "duration": 177,
    "start_time": "2024-06-20T14:43:36.259Z"
   },
   {
    "duration": 24,
    "start_time": "2024-06-20T14:43:36.438Z"
   },
   {
    "duration": 11,
    "start_time": "2024-06-20T14:43:36.465Z"
   },
   {
    "duration": 35,
    "start_time": "2024-06-20T14:43:36.478Z"
   },
   {
    "duration": 24,
    "start_time": "2024-06-20T14:43:36.517Z"
   },
   {
    "duration": 13,
    "start_time": "2024-06-20T14:43:36.544Z"
   },
   {
    "duration": 12,
    "start_time": "2024-06-20T14:43:36.561Z"
   },
   {
    "duration": 41,
    "start_time": "2024-06-20T14:43:36.576Z"
   },
   {
    "duration": 1147,
    "start_time": "2024-06-20T14:43:36.620Z"
   },
   {
    "duration": 0,
    "start_time": "2024-06-20T14:43:37.771Z"
   },
   {
    "duration": 0,
    "start_time": "2024-06-20T14:43:37.773Z"
   },
   {
    "duration": 0,
    "start_time": "2024-06-20T14:43:37.775Z"
   },
   {
    "duration": 0,
    "start_time": "2024-06-20T14:43:37.777Z"
   },
   {
    "duration": 0,
    "start_time": "2024-06-20T14:43:37.781Z"
   },
   {
    "duration": 0,
    "start_time": "2024-06-20T14:43:37.783Z"
   },
   {
    "duration": 0,
    "start_time": "2024-06-20T14:43:37.809Z"
   },
   {
    "duration": 0,
    "start_time": "2024-06-20T14:43:37.811Z"
   },
   {
    "duration": 0,
    "start_time": "2024-06-20T14:43:37.812Z"
   },
   {
    "duration": 0,
    "start_time": "2024-06-20T14:43:37.814Z"
   },
   {
    "duration": 0,
    "start_time": "2024-06-20T14:43:37.820Z"
   },
   {
    "duration": 0,
    "start_time": "2024-06-20T14:43:37.821Z"
   },
   {
    "duration": 0,
    "start_time": "2024-06-20T14:43:37.823Z"
   },
   {
    "duration": 0,
    "start_time": "2024-06-20T14:43:37.824Z"
   },
   {
    "duration": 0,
    "start_time": "2024-06-20T14:43:37.826Z"
   },
   {
    "duration": 0,
    "start_time": "2024-06-20T14:43:37.828Z"
   },
   {
    "duration": 0,
    "start_time": "2024-06-20T14:43:37.829Z"
   },
   {
    "duration": 0,
    "start_time": "2024-06-20T14:43:37.831Z"
   },
   {
    "duration": 0,
    "start_time": "2024-06-20T14:43:37.833Z"
   },
   {
    "duration": 1,
    "start_time": "2024-06-20T14:43:37.834Z"
   },
   {
    "duration": 0,
    "start_time": "2024-06-20T14:43:37.836Z"
   },
   {
    "duration": 87,
    "start_time": "2024-06-20T14:43:41.879Z"
   },
   {
    "duration": 104,
    "start_time": "2024-06-20T14:45:14.073Z"
   },
   {
    "duration": 3,
    "start_time": "2024-06-20T14:45:36.236Z"
   },
   {
    "duration": 596,
    "start_time": "2024-06-20T14:45:57.538Z"
   },
   {
    "duration": 10,
    "start_time": "2024-06-20T14:46:13.437Z"
   },
   {
    "duration": 9,
    "start_time": "2024-06-20T14:46:19.941Z"
   },
   {
    "duration": 89,
    "start_time": "2024-06-20T14:46:38.727Z"
   },
   {
    "duration": 6,
    "start_time": "2024-06-20T14:47:17.110Z"
   },
   {
    "duration": 4,
    "start_time": "2024-06-20T14:47:19.172Z"
   },
   {
    "duration": 12,
    "start_time": "2024-06-20T14:47:19.861Z"
   },
   {
    "duration": 11,
    "start_time": "2024-06-20T14:47:22.641Z"
   },
   {
    "duration": 281,
    "start_time": "2024-06-20T14:47:27.873Z"
   },
   {
    "duration": 7,
    "start_time": "2024-06-20T14:47:29.128Z"
   },
   {
    "duration": 40,
    "start_time": "2024-06-20T14:49:00.720Z"
   },
   {
    "duration": 41,
    "start_time": "2024-06-20T14:49:04.074Z"
   },
   {
    "duration": 9,
    "start_time": "2024-06-20T14:49:18.864Z"
   },
   {
    "duration": 112,
    "start_time": "2024-06-20T14:49:23.866Z"
   },
   {
    "duration": 91,
    "start_time": "2024-06-20T14:50:36.771Z"
   },
   {
    "duration": 54,
    "start_time": "2024-06-20T14:50:54.562Z"
   },
   {
    "duration": 1439,
    "start_time": "2024-06-20T14:52:01.599Z"
   },
   {
    "duration": 468,
    "start_time": "2024-06-20T14:52:18.818Z"
   },
   {
    "duration": 67,
    "start_time": "2024-06-20T14:52:36.981Z"
   },
   {
    "duration": 103,
    "start_time": "2024-06-20T14:52:43.588Z"
   },
   {
    "duration": 9,
    "start_time": "2024-06-20T14:53:10.053Z"
   },
   {
    "duration": 13,
    "start_time": "2024-06-20T14:53:24.653Z"
   },
   {
    "duration": 7,
    "start_time": "2024-06-20T14:54:27.067Z"
   },
   {
    "duration": 1493,
    "start_time": "2024-06-20T14:55:13.345Z"
   },
   {
    "duration": 839,
    "start_time": "2024-06-20T14:55:14.842Z"
   },
   {
    "duration": 102,
    "start_time": "2024-06-20T14:55:15.684Z"
   },
   {
    "duration": 44,
    "start_time": "2024-06-20T14:55:15.789Z"
   },
   {
    "duration": 25,
    "start_time": "2024-06-20T14:55:15.839Z"
   },
   {
    "duration": 10,
    "start_time": "2024-06-20T14:55:15.867Z"
   },
   {
    "duration": 7,
    "start_time": "2024-06-20T14:55:15.880Z"
   },
   {
    "duration": 18,
    "start_time": "2024-06-20T14:55:15.909Z"
   },
   {
    "duration": 12,
    "start_time": "2024-06-20T14:55:15.937Z"
   },
   {
    "duration": 135,
    "start_time": "2024-06-20T14:55:15.953Z"
   },
   {
    "duration": 26,
    "start_time": "2024-06-20T14:55:16.092Z"
   },
   {
    "duration": 50,
    "start_time": "2024-06-20T14:55:16.122Z"
   },
   {
    "duration": 16,
    "start_time": "2024-06-20T14:55:16.175Z"
   },
   {
    "duration": 163,
    "start_time": "2024-06-20T14:55:16.210Z"
   },
   {
    "duration": 49,
    "start_time": "2024-06-20T14:55:16.376Z"
   },
   {
    "duration": 9,
    "start_time": "2024-06-20T14:55:16.432Z"
   },
   {
    "duration": 6,
    "start_time": "2024-06-20T14:55:16.444Z"
   },
   {
    "duration": 11,
    "start_time": "2024-06-20T14:55:16.453Z"
   },
   {
    "duration": 40,
    "start_time": "2024-06-20T14:55:16.467Z"
   },
   {
    "duration": 12,
    "start_time": "2024-06-20T14:55:16.510Z"
   },
   {
    "duration": 12,
    "start_time": "2024-06-20T14:55:16.526Z"
   },
   {
    "duration": 9,
    "start_time": "2024-06-20T14:55:16.544Z"
   },
   {
    "duration": 5,
    "start_time": "2024-06-20T14:55:16.557Z"
   },
   {
    "duration": 60,
    "start_time": "2024-06-20T14:55:16.565Z"
   },
   {
    "duration": 658,
    "start_time": "2024-06-20T14:55:16.632Z"
   },
   {
    "duration": 0,
    "start_time": "2024-06-20T14:55:17.294Z"
   },
   {
    "duration": 0,
    "start_time": "2024-06-20T14:55:17.295Z"
   },
   {
    "duration": 0,
    "start_time": "2024-06-20T14:55:17.298Z"
   },
   {
    "duration": 0,
    "start_time": "2024-06-20T14:55:17.300Z"
   },
   {
    "duration": 0,
    "start_time": "2024-06-20T14:55:17.300Z"
   },
   {
    "duration": 0,
    "start_time": "2024-06-20T14:55:17.306Z"
   },
   {
    "duration": 0,
    "start_time": "2024-06-20T14:55:17.307Z"
   },
   {
    "duration": 0,
    "start_time": "2024-06-20T14:55:17.308Z"
   },
   {
    "duration": 0,
    "start_time": "2024-06-20T14:55:17.309Z"
   },
   {
    "duration": 0,
    "start_time": "2024-06-20T14:55:17.310Z"
   },
   {
    "duration": 0,
    "start_time": "2024-06-20T14:55:17.311Z"
   },
   {
    "duration": 0,
    "start_time": "2024-06-20T14:55:17.312Z"
   },
   {
    "duration": 0,
    "start_time": "2024-06-20T14:55:17.313Z"
   },
   {
    "duration": 0,
    "start_time": "2024-06-20T14:55:17.323Z"
   },
   {
    "duration": 0,
    "start_time": "2024-06-20T14:55:17.324Z"
   },
   {
    "duration": 0,
    "start_time": "2024-06-20T14:55:17.326Z"
   },
   {
    "duration": 0,
    "start_time": "2024-06-20T14:55:17.328Z"
   },
   {
    "duration": 13,
    "start_time": "2024-06-20T14:57:30.334Z"
   },
   {
    "duration": 49,
    "start_time": "2024-06-20T14:57:36.200Z"
   },
   {
    "duration": 4,
    "start_time": "2024-06-20T14:58:26.850Z"
   },
   {
    "duration": 955,
    "start_time": "2024-06-20T14:59:28.285Z"
   },
   {
    "duration": 20,
    "start_time": "2024-06-20T14:59:46.148Z"
   },
   {
    "duration": 28,
    "start_time": "2024-06-20T15:00:04.826Z"
   },
   {
    "duration": 1573,
    "start_time": "2024-06-20T15:01:01.541Z"
   },
   {
    "duration": 913,
    "start_time": "2024-06-20T15:01:03.118Z"
   },
   {
    "duration": 111,
    "start_time": "2024-06-20T15:01:04.035Z"
   },
   {
    "duration": 21,
    "start_time": "2024-06-20T15:01:04.149Z"
   },
   {
    "duration": 45,
    "start_time": "2024-06-20T15:01:04.174Z"
   },
   {
    "duration": 20,
    "start_time": "2024-06-20T15:01:04.227Z"
   },
   {
    "duration": 8,
    "start_time": "2024-06-20T15:01:04.250Z"
   },
   {
    "duration": 12,
    "start_time": "2024-06-20T15:01:04.261Z"
   },
   {
    "duration": 35,
    "start_time": "2024-06-20T15:01:04.276Z"
   },
   {
    "duration": 158,
    "start_time": "2024-06-20T15:01:04.316Z"
   },
   {
    "duration": 12,
    "start_time": "2024-06-20T15:01:04.477Z"
   },
   {
    "duration": 52,
    "start_time": "2024-06-20T15:01:04.492Z"
   },
   {
    "duration": 12,
    "start_time": "2024-06-20T15:01:04.547Z"
   },
   {
    "duration": 182,
    "start_time": "2024-06-20T15:01:04.564Z"
   },
   {
    "duration": 23,
    "start_time": "2024-06-20T15:01:04.749Z"
   },
   {
    "duration": 34,
    "start_time": "2024-06-20T15:01:04.775Z"
   },
   {
    "duration": 14,
    "start_time": "2024-06-20T15:01:04.811Z"
   },
   {
    "duration": 16,
    "start_time": "2024-06-20T15:01:04.828Z"
   },
   {
    "duration": 11,
    "start_time": "2024-06-20T15:01:04.847Z"
   },
   {
    "duration": 10,
    "start_time": "2024-06-20T15:01:04.861Z"
   },
   {
    "duration": 35,
    "start_time": "2024-06-20T15:01:04.874Z"
   },
   {
    "duration": 1352,
    "start_time": "2024-06-20T15:01:05.249Z"
   },
   {
    "duration": 44,
    "start_time": "2024-06-20T15:01:33.134Z"
   },
   {
    "duration": 68,
    "start_time": "2024-06-20T15:01:55.472Z"
   },
   {
    "duration": 50,
    "start_time": "2024-06-20T15:01:59.197Z"
   },
   {
    "duration": 18,
    "start_time": "2024-06-20T15:02:03.367Z"
   },
   {
    "duration": 33,
    "start_time": "2024-06-20T15:02:09.219Z"
   },
   {
    "duration": 456,
    "start_time": "2024-06-20T15:16:15.272Z"
   },
   {
    "duration": 82,
    "start_time": "2024-06-20T15:19:25.836Z"
   },
   {
    "duration": 10,
    "start_time": "2024-06-20T15:19:32.523Z"
   },
   {
    "duration": 79,
    "start_time": "2024-06-20T15:19:40.334Z"
   },
   {
    "duration": 8,
    "start_time": "2024-06-20T15:19:47.414Z"
   },
   {
    "duration": 8,
    "start_time": "2024-06-20T15:19:57.634Z"
   },
   {
    "duration": 8,
    "start_time": "2024-06-20T15:20:02.226Z"
   },
   {
    "duration": 8,
    "start_time": "2024-06-20T15:20:08.052Z"
   },
   {
    "duration": 24,
    "start_time": "2024-06-20T15:20:22.888Z"
   },
   {
    "duration": 6,
    "start_time": "2024-06-20T15:20:25.491Z"
   },
   {
    "duration": 6,
    "start_time": "2024-06-20T15:20:36.267Z"
   },
   {
    "duration": 8,
    "start_time": "2024-06-20T15:20:44.784Z"
   },
   {
    "duration": 6,
    "start_time": "2024-06-20T15:20:50.071Z"
   },
   {
    "duration": 90,
    "start_time": "2024-06-20T15:22:02.021Z"
   },
   {
    "duration": 78,
    "start_time": "2024-06-20T15:22:05.137Z"
   },
   {
    "duration": 102,
    "start_time": "2024-06-20T15:22:10.236Z"
   },
   {
    "duration": 123,
    "start_time": "2024-06-20T15:22:13.807Z"
   },
   {
    "duration": 8,
    "start_time": "2024-06-20T15:22:17.559Z"
   },
   {
    "duration": 7,
    "start_time": "2024-06-20T15:22:57.666Z"
   },
   {
    "duration": 98,
    "start_time": "2024-06-20T15:23:41.424Z"
   },
   {
    "duration": 7,
    "start_time": "2024-06-20T15:23:53.481Z"
   },
   {
    "duration": 8,
    "start_time": "2024-06-20T15:24:02.545Z"
   },
   {
    "duration": 110,
    "start_time": "2024-06-20T15:26:59.977Z"
   },
   {
    "duration": 522,
    "start_time": "2024-06-20T15:30:04.143Z"
   },
   {
    "duration": 538,
    "start_time": "2024-06-20T15:30:08.225Z"
   },
   {
    "duration": 545,
    "start_time": "2024-06-20T15:30:11.809Z"
   },
   {
    "duration": 524,
    "start_time": "2024-06-20T15:30:24.658Z"
   },
   {
    "duration": 598,
    "start_time": "2024-06-20T15:30:48.936Z"
   },
   {
    "duration": 538,
    "start_time": "2024-06-20T15:30:52.571Z"
   },
   {
    "duration": 556,
    "start_time": "2024-06-20T15:30:59.351Z"
   },
   {
    "duration": 9,
    "start_time": "2024-06-20T15:31:24.871Z"
   },
   {
    "duration": 9,
    "start_time": "2024-06-20T15:31:54.666Z"
   },
   {
    "duration": 9,
    "start_time": "2024-06-20T15:32:18.691Z"
   },
   {
    "duration": 25,
    "start_time": "2024-06-20T15:33:35.778Z"
   },
   {
    "duration": 93,
    "start_time": "2024-06-20T15:33:41.026Z"
   },
   {
    "duration": 29,
    "start_time": "2024-06-20T15:34:11.266Z"
   },
   {
    "duration": 23,
    "start_time": "2024-06-20T15:34:24.748Z"
   },
   {
    "duration": 1471,
    "start_time": "2024-06-20T15:34:34.562Z"
   },
   {
    "duration": 6,
    "start_time": "2024-06-20T15:34:52.360Z"
   },
   {
    "duration": 10,
    "start_time": "2024-06-20T15:35:06.615Z"
   },
   {
    "duration": 7,
    "start_time": "2024-06-20T15:35:19.730Z"
   },
   {
    "duration": 319,
    "start_time": "2024-06-20T15:36:00.455Z"
   },
   {
    "duration": 1480,
    "start_time": "2024-06-20T15:36:07.013Z"
   },
   {
    "duration": 795,
    "start_time": "2024-06-20T15:36:08.496Z"
   },
   {
    "duration": 29,
    "start_time": "2024-06-20T15:36:09.294Z"
   },
   {
    "duration": 18,
    "start_time": "2024-06-20T15:36:09.327Z"
   },
   {
    "duration": 23,
    "start_time": "2024-06-20T15:36:09.348Z"
   },
   {
    "duration": 10,
    "start_time": "2024-06-20T15:36:09.407Z"
   },
   {
    "duration": 7,
    "start_time": "2024-06-20T15:36:09.421Z"
   },
   {
    "duration": 12,
    "start_time": "2024-06-20T15:36:09.431Z"
   },
   {
    "duration": 11,
    "start_time": "2024-06-20T15:36:09.446Z"
   },
   {
    "duration": 157,
    "start_time": "2024-06-20T15:36:09.463Z"
   },
   {
    "duration": 9,
    "start_time": "2024-06-20T15:36:09.624Z"
   },
   {
    "duration": 38,
    "start_time": "2024-06-20T15:36:09.635Z"
   },
   {
    "duration": 41,
    "start_time": "2024-06-20T15:36:09.675Z"
   },
   {
    "duration": 170,
    "start_time": "2024-06-20T15:36:09.719Z"
   },
   {
    "duration": 32,
    "start_time": "2024-06-20T15:36:09.892Z"
   },
   {
    "duration": 10,
    "start_time": "2024-06-20T15:36:09.927Z"
   },
   {
    "duration": 7,
    "start_time": "2024-06-20T15:36:09.940Z"
   },
   {
    "duration": 55,
    "start_time": "2024-06-20T15:36:09.950Z"
   },
   {
    "duration": 10,
    "start_time": "2024-06-20T15:36:10.008Z"
   },
   {
    "duration": 10,
    "start_time": "2024-06-20T15:36:10.022Z"
   },
   {
    "duration": 11,
    "start_time": "2024-06-20T15:36:10.034Z"
   },
   {
    "duration": 8,
    "start_time": "2024-06-20T15:36:10.048Z"
   },
   {
    "duration": 8,
    "start_time": "2024-06-20T15:36:10.107Z"
   },
   {
    "duration": 8,
    "start_time": "2024-06-20T15:36:10.118Z"
   },
   {
    "duration": 156,
    "start_time": "2024-06-20T15:36:10.129Z"
   },
   {
    "duration": 0,
    "start_time": "2024-06-20T15:36:10.290Z"
   },
   {
    "duration": 0,
    "start_time": "2024-06-20T15:36:10.291Z"
   },
   {
    "duration": 0,
    "start_time": "2024-06-20T15:36:10.293Z"
   },
   {
    "duration": 0,
    "start_time": "2024-06-20T15:36:10.306Z"
   },
   {
    "duration": 0,
    "start_time": "2024-06-20T15:36:10.309Z"
   },
   {
    "duration": 0,
    "start_time": "2024-06-20T15:36:10.312Z"
   },
   {
    "duration": 0,
    "start_time": "2024-06-20T15:36:10.315Z"
   },
   {
    "duration": 0,
    "start_time": "2024-06-20T15:36:10.317Z"
   },
   {
    "duration": 0,
    "start_time": "2024-06-20T15:36:10.320Z"
   },
   {
    "duration": 0,
    "start_time": "2024-06-20T15:36:10.322Z"
   },
   {
    "duration": 0,
    "start_time": "2024-06-20T15:36:10.327Z"
   },
   {
    "duration": 0,
    "start_time": "2024-06-20T15:36:10.329Z"
   },
   {
    "duration": 0,
    "start_time": "2024-06-20T15:36:10.332Z"
   },
   {
    "duration": 0,
    "start_time": "2024-06-20T15:36:10.333Z"
   },
   {
    "duration": 0,
    "start_time": "2024-06-20T15:36:10.335Z"
   },
   {
    "duration": 0,
    "start_time": "2024-06-20T15:36:10.338Z"
   },
   {
    "duration": 0,
    "start_time": "2024-06-20T15:36:10.340Z"
   },
   {
    "duration": 0,
    "start_time": "2024-06-20T15:36:10.342Z"
   },
   {
    "duration": 32,
    "start_time": "2024-06-20T15:36:29.301Z"
   },
   {
    "duration": 10,
    "start_time": "2024-06-20T15:36:36.127Z"
   },
   {
    "duration": 9,
    "start_time": "2024-06-20T15:36:47.349Z"
   },
   {
    "duration": 38,
    "start_time": "2024-06-20T15:36:54.799Z"
   },
   {
    "duration": 18,
    "start_time": "2024-06-20T15:37:09.345Z"
   },
   {
    "duration": 2423,
    "start_time": "2024-06-20T15:38:26.861Z"
   },
   {
    "duration": 5,
    "start_time": "2024-06-20T15:39:46.092Z"
   },
   {
    "duration": 7,
    "start_time": "2024-06-20T15:40:06.418Z"
   },
   {
    "duration": 38,
    "start_time": "2024-06-20T15:40:12.363Z"
   },
   {
    "duration": 16,
    "start_time": "2024-06-20T15:42:43.444Z"
   },
   {
    "duration": 56,
    "start_time": "2024-06-20T15:42:48.894Z"
   },
   {
    "duration": 32,
    "start_time": "2024-06-20T15:42:52.482Z"
   },
   {
    "duration": 22,
    "start_time": "2024-06-20T15:43:01.705Z"
   },
   {
    "duration": 143,
    "start_time": "2024-06-20T15:43:12.224Z"
   },
   {
    "duration": 1470,
    "start_time": "2024-06-20T15:43:43.767Z"
   },
   {
    "duration": 895,
    "start_time": "2024-06-20T15:43:45.241Z"
   },
   {
    "duration": 98,
    "start_time": "2024-06-20T15:43:46.140Z"
   },
   {
    "duration": 26,
    "start_time": "2024-06-20T15:43:46.245Z"
   },
   {
    "duration": 53,
    "start_time": "2024-06-20T15:43:46.275Z"
   },
   {
    "duration": 13,
    "start_time": "2024-06-20T15:43:46.331Z"
   },
   {
    "duration": 8,
    "start_time": "2024-06-20T15:43:46.350Z"
   },
   {
    "duration": 12,
    "start_time": "2024-06-20T15:43:46.362Z"
   },
   {
    "duration": 13,
    "start_time": "2024-06-20T15:43:46.406Z"
   },
   {
    "duration": 136,
    "start_time": "2024-06-20T15:43:46.425Z"
   },
   {
    "duration": 9,
    "start_time": "2024-06-20T15:43:46.564Z"
   },
   {
    "duration": 61,
    "start_time": "2024-06-20T15:43:46.576Z"
   },
   {
    "duration": 14,
    "start_time": "2024-06-20T15:43:46.640Z"
   },
   {
    "duration": 174,
    "start_time": "2024-06-20T15:43:46.657Z"
   },
   {
    "duration": 23,
    "start_time": "2024-06-20T15:43:46.840Z"
   },
   {
    "duration": 9,
    "start_time": "2024-06-20T15:43:46.866Z"
   },
   {
    "duration": 29,
    "start_time": "2024-06-20T15:43:46.878Z"
   },
   {
    "duration": 16,
    "start_time": "2024-06-20T15:43:46.912Z"
   },
   {
    "duration": 13,
    "start_time": "2024-06-20T15:43:46.930Z"
   },
   {
    "duration": 10,
    "start_time": "2024-06-20T15:43:46.947Z"
   },
   {
    "duration": 14,
    "start_time": "2024-06-20T15:43:46.960Z"
   },
   {
    "duration": 1635,
    "start_time": "2024-06-20T15:43:51.103Z"
   },
   {
    "duration": 19,
    "start_time": "2024-06-20T15:44:01.646Z"
   },
   {
    "duration": 18,
    "start_time": "2024-06-20T15:44:22.919Z"
   },
   {
    "duration": 1401,
    "start_time": "2024-06-20T15:44:36.428Z"
   },
   {
    "duration": 827,
    "start_time": "2024-06-20T15:44:37.833Z"
   },
   {
    "duration": 98,
    "start_time": "2024-06-20T15:44:38.663Z"
   },
   {
    "duration": 17,
    "start_time": "2024-06-20T15:44:38.764Z"
   },
   {
    "duration": 45,
    "start_time": "2024-06-20T15:44:38.785Z"
   },
   {
    "duration": 16,
    "start_time": "2024-06-20T15:44:38.833Z"
   },
   {
    "duration": 7,
    "start_time": "2024-06-20T15:44:38.852Z"
   },
   {
    "duration": 18,
    "start_time": "2024-06-20T15:44:38.862Z"
   },
   {
    "duration": 40,
    "start_time": "2024-06-20T15:44:38.911Z"
   },
   {
    "duration": 133,
    "start_time": "2024-06-20T15:44:38.956Z"
   },
   {
    "duration": 20,
    "start_time": "2024-06-20T15:44:39.092Z"
   },
   {
    "duration": 41,
    "start_time": "2024-06-20T15:44:39.115Z"
   },
   {
    "duration": 11,
    "start_time": "2024-06-20T15:44:39.162Z"
   },
   {
    "duration": 176,
    "start_time": "2024-06-20T15:44:39.178Z"
   },
   {
    "duration": 23,
    "start_time": "2024-06-20T15:44:39.357Z"
   },
   {
    "duration": 34,
    "start_time": "2024-06-20T15:44:39.383Z"
   },
   {
    "duration": 10,
    "start_time": "2024-06-20T15:44:39.419Z"
   },
   {
    "duration": 13,
    "start_time": "2024-06-20T15:44:39.431Z"
   },
   {
    "duration": 11,
    "start_time": "2024-06-20T15:44:39.447Z"
   },
   {
    "duration": 48,
    "start_time": "2024-06-20T15:44:39.461Z"
   },
   {
    "duration": 12,
    "start_time": "2024-06-20T15:44:39.527Z"
   },
   {
    "duration": 17,
    "start_time": "2024-06-20T15:44:44.040Z"
   },
   {
    "duration": 49,
    "start_time": "2024-06-20T15:44:48.236Z"
   },
   {
    "duration": 38,
    "start_time": "2024-06-20T15:44:51.783Z"
   },
   {
    "duration": 1277,
    "start_time": "2024-06-20T15:45:03.085Z"
   },
   {
    "duration": 1517,
    "start_time": "2024-06-20T15:45:26.575Z"
   },
   {
    "duration": 887,
    "start_time": "2024-06-20T15:45:28.096Z"
   },
   {
    "duration": 108,
    "start_time": "2024-06-20T15:45:28.986Z"
   },
   {
    "duration": 27,
    "start_time": "2024-06-20T15:45:29.100Z"
   },
   {
    "duration": 30,
    "start_time": "2024-06-20T15:45:29.131Z"
   },
   {
    "duration": 12,
    "start_time": "2024-06-20T15:45:29.164Z"
   },
   {
    "duration": 34,
    "start_time": "2024-06-20T15:45:29.179Z"
   },
   {
    "duration": 13,
    "start_time": "2024-06-20T15:45:29.217Z"
   },
   {
    "duration": 13,
    "start_time": "2024-06-20T15:45:29.233Z"
   },
   {
    "duration": 179,
    "start_time": "2024-06-20T15:45:29.253Z"
   },
   {
    "duration": 11,
    "start_time": "2024-06-20T15:45:29.438Z"
   },
   {
    "duration": 70,
    "start_time": "2024-06-20T15:45:29.452Z"
   },
   {
    "duration": 18,
    "start_time": "2024-06-20T15:45:29.525Z"
   },
   {
    "duration": 200,
    "start_time": "2024-06-20T15:45:29.545Z"
   },
   {
    "duration": 28,
    "start_time": "2024-06-20T15:45:29.748Z"
   },
   {
    "duration": 27,
    "start_time": "2024-06-20T15:45:29.779Z"
   },
   {
    "duration": 6,
    "start_time": "2024-06-20T15:45:29.810Z"
   },
   {
    "duration": 13,
    "start_time": "2024-06-20T15:45:29.819Z"
   },
   {
    "duration": 13,
    "start_time": "2024-06-20T15:45:29.834Z"
   },
   {
    "duration": 59,
    "start_time": "2024-06-20T15:45:29.850Z"
   },
   {
    "duration": 12,
    "start_time": "2024-06-20T15:45:29.913Z"
   },
   {
    "duration": 8,
    "start_time": "2024-06-20T15:45:40.261Z"
   },
   {
    "duration": 7,
    "start_time": "2024-06-20T15:59:13.771Z"
   },
   {
    "duration": 42,
    "start_time": "2024-06-20T15:59:18.407Z"
   },
   {
    "duration": 1297,
    "start_time": "2024-06-20T15:59:27.826Z"
   },
   {
    "duration": 82,
    "start_time": "2024-06-20T15:59:32.144Z"
   },
   {
    "duration": 45,
    "start_time": "2024-06-20T15:59:41.210Z"
   },
   {
    "duration": 11,
    "start_time": "2024-06-20T16:00:03.040Z"
   },
   {
    "duration": 1439,
    "start_time": "2024-06-20T16:00:14.123Z"
   },
   {
    "duration": 782,
    "start_time": "2024-06-20T16:00:15.566Z"
   },
   {
    "duration": 94,
    "start_time": "2024-06-20T16:00:16.351Z"
   },
   {
    "duration": 18,
    "start_time": "2024-06-20T16:00:16.449Z"
   },
   {
    "duration": 45,
    "start_time": "2024-06-20T16:00:16.469Z"
   },
   {
    "duration": 11,
    "start_time": "2024-06-20T16:00:16.517Z"
   },
   {
    "duration": 8,
    "start_time": "2024-06-20T16:00:16.531Z"
   },
   {
    "duration": 13,
    "start_time": "2024-06-20T16:00:16.541Z"
   },
   {
    "duration": 52,
    "start_time": "2024-06-20T16:00:16.557Z"
   },
   {
    "duration": 129,
    "start_time": "2024-06-20T16:00:16.614Z"
   },
   {
    "duration": 11,
    "start_time": "2024-06-20T16:00:16.746Z"
   },
   {
    "duration": 60,
    "start_time": "2024-06-20T16:00:16.759Z"
   },
   {
    "duration": 13,
    "start_time": "2024-06-20T16:00:16.821Z"
   },
   {
    "duration": 192,
    "start_time": "2024-06-20T16:00:16.836Z"
   },
   {
    "duration": 25,
    "start_time": "2024-06-20T16:00:17.031Z"
   },
   {
    "duration": 10,
    "start_time": "2024-06-20T16:00:17.058Z"
   },
   {
    "duration": 38,
    "start_time": "2024-06-20T16:00:17.070Z"
   },
   {
    "duration": 12,
    "start_time": "2024-06-20T16:00:17.110Z"
   },
   {
    "duration": 11,
    "start_time": "2024-06-20T16:00:17.125Z"
   },
   {
    "duration": 9,
    "start_time": "2024-06-20T16:00:17.139Z"
   },
   {
    "duration": 55,
    "start_time": "2024-06-20T16:00:17.152Z"
   },
   {
    "duration": 11,
    "start_time": "2024-06-20T16:00:17.210Z"
   },
   {
    "duration": 16,
    "start_time": "2024-06-20T16:00:30.582Z"
   },
   {
    "duration": 1255,
    "start_time": "2024-06-20T16:00:42.513Z"
   },
   {
    "duration": 15,
    "start_time": "2024-06-20T16:00:47.371Z"
   },
   {
    "duration": 45,
    "start_time": "2024-06-20T16:01:21.818Z"
   },
   {
    "duration": 52,
    "start_time": "2024-06-20T16:01:30.118Z"
   },
   {
    "duration": 527,
    "start_time": "2024-06-20T16:01:50.789Z"
   },
   {
    "duration": 562,
    "start_time": "2024-06-20T16:02:02.051Z"
   },
   {
    "duration": 509,
    "start_time": "2024-06-20T16:02:06.355Z"
   },
   {
    "duration": 548,
    "start_time": "2024-06-20T16:06:46.771Z"
   },
   {
    "duration": 518,
    "start_time": "2024-06-20T16:06:50.456Z"
   },
   {
    "duration": 501,
    "start_time": "2024-06-20T16:07:25.496Z"
   },
   {
    "duration": 545,
    "start_time": "2024-06-20T16:07:29.040Z"
   },
   {
    "duration": 536,
    "start_time": "2024-06-20T16:07:44.328Z"
   },
   {
    "duration": 588,
    "start_time": "2024-06-20T16:07:54.380Z"
   },
   {
    "duration": 7,
    "start_time": "2024-06-20T16:08:34.684Z"
   },
   {
    "duration": 6,
    "start_time": "2024-06-20T16:08:40.021Z"
   },
   {
    "duration": 532,
    "start_time": "2024-06-20T16:08:49.693Z"
   },
   {
    "duration": 4,
    "start_time": "2024-06-20T16:09:10.981Z"
   },
   {
    "duration": 11,
    "start_time": "2024-06-20T16:09:11.369Z"
   },
   {
    "duration": 240,
    "start_time": "2024-06-20T16:09:17.517Z"
   },
   {
    "duration": 561,
    "start_time": "2024-06-20T16:09:50.440Z"
   },
   {
    "duration": 118,
    "start_time": "2024-06-20T16:10:21.489Z"
   },
   {
    "duration": 8,
    "start_time": "2024-06-20T16:10:38.493Z"
   },
   {
    "duration": 6,
    "start_time": "2024-06-20T16:10:43.794Z"
   },
   {
    "duration": 6,
    "start_time": "2024-06-20T16:11:01.443Z"
   },
   {
    "duration": 4,
    "start_time": "2024-06-20T16:13:06.666Z"
   },
   {
    "duration": 871,
    "start_time": "2024-06-20T16:13:47.037Z"
   },
   {
    "duration": 6,
    "start_time": "2024-06-20T16:14:07.947Z"
   },
   {
    "duration": 142,
    "start_time": "2024-06-20T16:14:25.888Z"
   },
   {
    "duration": 108,
    "start_time": "2024-06-20T16:15:04.318Z"
   },
   {
    "duration": 7,
    "start_time": "2024-06-20T16:15:24.016Z"
   },
   {
    "duration": 7,
    "start_time": "2024-06-20T16:15:30.150Z"
   },
   {
    "duration": 8,
    "start_time": "2024-06-20T16:15:54.988Z"
   },
   {
    "duration": 6,
    "start_time": "2024-06-20T16:16:01.918Z"
   },
   {
    "duration": 7,
    "start_time": "2024-06-20T16:24:38.735Z"
   },
   {
    "duration": 10,
    "start_time": "2024-06-20T16:24:52.839Z"
   },
   {
    "duration": 5,
    "start_time": "2024-06-20T16:25:52.725Z"
   },
   {
    "duration": 743,
    "start_time": "2024-06-20T16:25:52.734Z"
   },
   {
    "duration": 35,
    "start_time": "2024-06-20T16:25:53.480Z"
   },
   {
    "duration": 18,
    "start_time": "2024-06-20T16:25:53.518Z"
   },
   {
    "duration": 23,
    "start_time": "2024-06-20T16:25:53.540Z"
   },
   {
    "duration": 40,
    "start_time": "2024-06-20T16:25:53.566Z"
   },
   {
    "duration": 7,
    "start_time": "2024-06-20T16:25:53.609Z"
   },
   {
    "duration": 11,
    "start_time": "2024-06-20T16:25:53.620Z"
   },
   {
    "duration": 12,
    "start_time": "2024-06-20T16:25:53.634Z"
   },
   {
    "duration": 147,
    "start_time": "2024-06-20T16:25:53.649Z"
   },
   {
    "duration": 14,
    "start_time": "2024-06-20T16:25:53.799Z"
   },
   {
    "duration": 35,
    "start_time": "2024-06-20T16:25:53.816Z"
   },
   {
    "duration": 12,
    "start_time": "2024-06-20T16:25:53.854Z"
   },
   {
    "duration": 141,
    "start_time": "2024-06-20T16:25:53.906Z"
   },
   {
    "duration": 20,
    "start_time": "2024-06-20T16:25:54.050Z"
   },
   {
    "duration": 35,
    "start_time": "2024-06-20T16:25:54.073Z"
   },
   {
    "duration": 5,
    "start_time": "2024-06-20T16:25:54.111Z"
   },
   {
    "duration": 12,
    "start_time": "2024-06-20T16:25:54.120Z"
   },
   {
    "duration": 11,
    "start_time": "2024-06-20T16:25:54.135Z"
   },
   {
    "duration": 10,
    "start_time": "2024-06-20T16:25:54.149Z"
   },
   {
    "duration": 55,
    "start_time": "2024-06-20T16:25:54.162Z"
   },
   {
    "duration": 581,
    "start_time": "2024-06-20T16:25:54.220Z"
   },
   {
    "duration": 5,
    "start_time": "2024-06-20T16:25:54.806Z"
   },
   {
    "duration": 12,
    "start_time": "2024-06-20T16:25:54.814Z"
   },
   {
    "duration": 24,
    "start_time": "2024-06-20T16:26:01.707Z"
   },
   {
    "duration": 20,
    "start_time": "2024-06-20T16:26:26.257Z"
   },
   {
    "duration": 8,
    "start_time": "2024-06-20T16:26:30.558Z"
   },
   {
    "duration": 7,
    "start_time": "2024-06-20T16:26:35.311Z"
   },
   {
    "duration": 9,
    "start_time": "2024-06-20T16:26:42.108Z"
   },
   {
    "duration": 6,
    "start_time": "2024-06-20T16:26:46.766Z"
   },
   {
    "duration": 311,
    "start_time": "2024-06-20T19:25:44.576Z"
   },
   {
    "duration": 4983,
    "start_time": "2024-06-20T19:25:50.980Z"
   },
   {
    "duration": 976,
    "start_time": "2024-06-20T19:25:55.967Z"
   },
   {
    "duration": 100,
    "start_time": "2024-06-20T19:25:56.946Z"
   },
   {
    "duration": 18,
    "start_time": "2024-06-20T19:25:57.050Z"
   },
   {
    "duration": 52,
    "start_time": "2024-06-20T19:25:57.072Z"
   },
   {
    "duration": 10,
    "start_time": "2024-06-20T19:25:57.127Z"
   },
   {
    "duration": 7,
    "start_time": "2024-06-20T19:25:57.142Z"
   },
   {
    "duration": 12,
    "start_time": "2024-06-20T19:25:57.154Z"
   },
   {
    "duration": 14,
    "start_time": "2024-06-20T19:25:57.169Z"
   },
   {
    "duration": 152,
    "start_time": "2024-06-20T19:25:57.188Z"
   },
   {
    "duration": 10,
    "start_time": "2024-06-20T19:25:57.343Z"
   },
   {
    "duration": 41,
    "start_time": "2024-06-20T19:25:57.356Z"
   },
   {
    "duration": 11,
    "start_time": "2024-06-20T19:25:57.423Z"
   },
   {
    "duration": 169,
    "start_time": "2024-06-20T19:25:57.440Z"
   },
   {
    "duration": 21,
    "start_time": "2024-06-20T19:25:57.644Z"
   },
   {
    "duration": 24,
    "start_time": "2024-06-20T19:26:36.198Z"
   },
   {
    "duration": 26,
    "start_time": "2024-06-20T19:27:00.983Z"
   },
   {
    "duration": 9,
    "start_time": "2024-06-20T19:27:40.740Z"
   },
   {
    "duration": 5,
    "start_time": "2024-06-20T19:27:41.079Z"
   },
   {
    "duration": 12,
    "start_time": "2024-06-20T19:27:41.390Z"
   },
   {
    "duration": 21,
    "start_time": "2024-06-20T19:28:15.256Z"
   },
   {
    "duration": 8,
    "start_time": "2024-06-20T19:28:36.746Z"
   },
   {
    "duration": 5,
    "start_time": "2024-06-20T19:28:37.916Z"
   },
   {
    "duration": 9,
    "start_time": "2024-06-20T19:28:39.316Z"
   },
   {
    "duration": 13,
    "start_time": "2024-06-20T19:28:49.649Z"
   },
   {
    "duration": 10,
    "start_time": "2024-06-20T19:28:56.260Z"
   },
   {
    "duration": 12,
    "start_time": "2024-06-20T19:28:57.108Z"
   },
   {
    "duration": 131,
    "start_time": "2024-06-20T19:29:20.556Z"
   },
   {
    "duration": 11,
    "start_time": "2024-06-20T19:29:34.659Z"
   },
   {
    "duration": 44,
    "start_time": "2024-06-20T19:29:39.957Z"
   },
   {
    "duration": 39,
    "start_time": "2024-06-20T19:29:52.410Z"
   },
   {
    "duration": 508,
    "start_time": "2024-06-20T19:30:06.778Z"
   },
   {
    "duration": 545,
    "start_time": "2024-06-20T19:30:11.162Z"
   },
   {
    "duration": 1382,
    "start_time": "2024-06-20T19:30:22.188Z"
   },
   {
    "duration": 102,
    "start_time": "2024-06-20T19:30:44.105Z"
   },
   {
    "duration": 30,
    "start_time": "2024-06-20T19:30:51.975Z"
   },
   {
    "duration": 104,
    "start_time": "2024-06-20T19:30:59.753Z"
   },
   {
    "duration": 43,
    "start_time": "2024-06-20T19:31:11.482Z"
   },
   {
    "duration": 11,
    "start_time": "2024-06-20T19:32:41.846Z"
   },
   {
    "duration": 12,
    "start_time": "2024-06-20T19:32:45.399Z"
   },
   {
    "duration": 25,
    "start_time": "2024-06-20T19:33:19.983Z"
   },
   {
    "duration": 36,
    "start_time": "2024-06-20T19:33:26.984Z"
   },
   {
    "duration": 23,
    "start_time": "2024-06-20T19:33:38.474Z"
   },
   {
    "duration": 21,
    "start_time": "2024-06-20T19:33:44.752Z"
   },
   {
    "duration": 40,
    "start_time": "2024-06-20T19:34:01.251Z"
   },
   {
    "duration": 22,
    "start_time": "2024-06-20T19:34:08.525Z"
   },
   {
    "duration": 35,
    "start_time": "2024-06-20T19:34:42.298Z"
   },
   {
    "duration": 8,
    "start_time": "2024-06-20T19:34:55.597Z"
   },
   {
    "duration": 35,
    "start_time": "2024-06-20T19:35:12.910Z"
   },
   {
    "duration": 35,
    "start_time": "2024-06-20T19:35:23.984Z"
   },
   {
    "duration": 19,
    "start_time": "2024-06-20T19:35:54.071Z"
   },
   {
    "duration": 46,
    "start_time": "2024-06-20T19:35:58.819Z"
   },
   {
    "duration": 20,
    "start_time": "2024-06-20T19:36:08.453Z"
   },
   {
    "duration": 18,
    "start_time": "2024-06-20T19:36:15.173Z"
   },
   {
    "duration": 1475,
    "start_time": "2024-06-20T19:36:29.828Z"
   },
   {
    "duration": 778,
    "start_time": "2024-06-20T19:36:31.307Z"
   },
   {
    "duration": 97,
    "start_time": "2024-06-20T19:36:32.088Z"
   },
   {
    "duration": 18,
    "start_time": "2024-06-20T19:36:32.188Z"
   },
   {
    "duration": 23,
    "start_time": "2024-06-20T19:36:32.223Z"
   },
   {
    "duration": 11,
    "start_time": "2024-06-20T19:36:32.250Z"
   },
   {
    "duration": 7,
    "start_time": "2024-06-20T19:36:32.264Z"
   },
   {
    "duration": 50,
    "start_time": "2024-06-20T19:36:32.274Z"
   },
   {
    "duration": 13,
    "start_time": "2024-06-20T19:36:32.327Z"
   },
   {
    "duration": 145,
    "start_time": "2024-06-20T19:36:32.343Z"
   },
   {
    "duration": 11,
    "start_time": "2024-06-20T19:36:32.491Z"
   },
   {
    "duration": 50,
    "start_time": "2024-06-20T19:36:32.505Z"
   },
   {
    "duration": 11,
    "start_time": "2024-06-20T19:36:32.558Z"
   },
   {
    "duration": 181,
    "start_time": "2024-06-20T19:36:32.574Z"
   },
   {
    "duration": 24,
    "start_time": "2024-06-20T19:36:32.757Z"
   },
   {
    "duration": 9,
    "start_time": "2024-06-20T19:36:32.784Z"
   },
   {
    "duration": 30,
    "start_time": "2024-06-20T19:36:32.795Z"
   },
   {
    "duration": 11,
    "start_time": "2024-06-20T19:36:32.828Z"
   },
   {
    "duration": 10,
    "start_time": "2024-06-20T19:36:32.842Z"
   },
   {
    "duration": 10,
    "start_time": "2024-06-20T19:36:32.855Z"
   },
   {
    "duration": 60,
    "start_time": "2024-06-20T19:36:32.867Z"
   },
   {
    "duration": 22,
    "start_time": "2024-06-20T19:36:38.886Z"
   },
   {
    "duration": 19,
    "start_time": "2024-06-20T19:36:49.043Z"
   },
   {
    "duration": 3,
    "start_time": "2024-06-20T19:36:56.832Z"
   },
   {
    "duration": 1471,
    "start_time": "2024-06-20T19:36:59.644Z"
   },
   {
    "duration": 39,
    "start_time": "2024-06-20T19:37:29.907Z"
   },
   {
    "duration": 44,
    "start_time": "2024-06-20T19:37:43.498Z"
   },
   {
    "duration": 11,
    "start_time": "2024-06-20T19:37:47.894Z"
   },
   {
    "duration": 21,
    "start_time": "2024-06-20T19:39:02.722Z"
   },
   {
    "duration": 3,
    "start_time": "2024-06-20T19:39:38.341Z"
   },
   {
    "duration": 7,
    "start_time": "2024-06-20T19:40:22.008Z"
   },
   {
    "duration": 149,
    "start_time": "2024-06-20T19:40:35.318Z"
   },
   {
    "duration": 8,
    "start_time": "2024-06-20T19:40:54.440Z"
   },
   {
    "duration": 226,
    "start_time": "2024-06-20T19:41:17.480Z"
   },
   {
    "duration": 7,
    "start_time": "2024-06-20T19:41:46.921Z"
   },
   {
    "duration": 92,
    "start_time": "2024-06-20T19:42:15.611Z"
   },
   {
    "duration": 5,
    "start_time": "2024-06-20T19:42:22.895Z"
   },
   {
    "duration": 3,
    "start_time": "2024-06-20T19:42:37.251Z"
   },
   {
    "duration": 8,
    "start_time": "2024-06-20T19:43:15.182Z"
   },
   {
    "duration": 79,
    "start_time": "2024-06-20T19:43:24.358Z"
   },
   {
    "duration": 9,
    "start_time": "2024-06-20T19:43:39.955Z"
   },
   {
    "duration": 85,
    "start_time": "2024-06-20T19:43:56.093Z"
   },
   {
    "duration": 98,
    "start_time": "2024-06-20T19:44:13.452Z"
   },
   {
    "duration": 7,
    "start_time": "2024-06-20T19:44:31.696Z"
   },
   {
    "duration": 90,
    "start_time": "2024-06-20T19:44:56.063Z"
   },
   {
    "duration": 29,
    "start_time": "2024-06-20T19:45:10.547Z"
   },
   {
    "duration": 47,
    "start_time": "2024-06-20T19:45:17.192Z"
   },
   {
    "duration": 304,
    "start_time": "2024-06-20T19:46:22.768Z"
   },
   {
    "duration": 1476,
    "start_time": "2024-06-20T19:46:28.938Z"
   },
   {
    "duration": 823,
    "start_time": "2024-06-20T19:46:30.422Z"
   },
   {
    "duration": 25,
    "start_time": "2024-06-20T19:46:31.248Z"
   },
   {
    "duration": 20,
    "start_time": "2024-06-20T19:46:31.275Z"
   },
   {
    "duration": 22,
    "start_time": "2024-06-20T19:46:31.325Z"
   },
   {
    "duration": 11,
    "start_time": "2024-06-20T19:46:31.350Z"
   },
   {
    "duration": 7,
    "start_time": "2024-06-20T19:46:31.364Z"
   },
   {
    "duration": 12,
    "start_time": "2024-06-20T19:46:31.374Z"
   },
   {
    "duration": 12,
    "start_time": "2024-06-20T19:46:31.424Z"
   },
   {
    "duration": 134,
    "start_time": "2024-06-20T19:46:31.439Z"
   },
   {
    "duration": 10,
    "start_time": "2024-06-20T19:46:31.577Z"
   },
   {
    "duration": 56,
    "start_time": "2024-06-20T19:46:31.589Z"
   },
   {
    "duration": 11,
    "start_time": "2024-06-20T19:46:31.650Z"
   },
   {
    "duration": 178,
    "start_time": "2024-06-20T19:46:31.667Z"
   },
   {
    "duration": 24,
    "start_time": "2024-06-20T19:46:31.849Z"
   },
   {
    "duration": 10,
    "start_time": "2024-06-20T19:46:31.875Z"
   },
   {
    "duration": 38,
    "start_time": "2024-06-20T19:46:31.888Z"
   },
   {
    "duration": 11,
    "start_time": "2024-06-20T19:46:31.929Z"
   },
   {
    "duration": 11,
    "start_time": "2024-06-20T19:46:31.942Z"
   },
   {
    "duration": 11,
    "start_time": "2024-06-20T19:46:31.955Z"
   },
   {
    "duration": 58,
    "start_time": "2024-06-20T19:46:31.968Z"
   },
   {
    "duration": 49,
    "start_time": "2024-06-20T19:46:33.554Z"
   },
   {
    "duration": 973,
    "start_time": "2024-06-20T19:46:37.502Z"
   },
   {
    "duration": 20,
    "start_time": "2024-06-20T19:46:53.259Z"
   },
   {
    "duration": 6,
    "start_time": "2024-06-20T19:47:37.176Z"
   },
   {
    "duration": 7,
    "start_time": "2024-06-20T19:47:46.273Z"
   },
   {
    "duration": 19,
    "start_time": "2024-06-20T19:48:03.342Z"
   },
   {
    "duration": 9,
    "start_time": "2024-06-20T19:48:37.978Z"
   },
   {
    "duration": 312,
    "start_time": "2024-06-20T19:49:05.592Z"
   },
   {
    "duration": 20,
    "start_time": "2024-06-20T19:49:06.032Z"
   },
   {
    "duration": 1537,
    "start_time": "2024-06-20T19:49:09.150Z"
   },
   {
    "duration": 829,
    "start_time": "2024-06-20T19:49:10.692Z"
   },
   {
    "duration": 25,
    "start_time": "2024-06-20T19:49:11.525Z"
   },
   {
    "duration": 19,
    "start_time": "2024-06-20T19:49:11.553Z"
   },
   {
    "duration": 55,
    "start_time": "2024-06-20T19:49:11.577Z"
   },
   {
    "duration": 12,
    "start_time": "2024-06-20T19:49:11.636Z"
   },
   {
    "duration": 7,
    "start_time": "2024-06-20T19:49:11.651Z"
   },
   {
    "duration": 12,
    "start_time": "2024-06-20T19:49:11.661Z"
   },
   {
    "duration": 49,
    "start_time": "2024-06-20T19:49:11.676Z"
   },
   {
    "duration": 134,
    "start_time": "2024-06-20T19:49:11.728Z"
   },
   {
    "duration": 11,
    "start_time": "2024-06-20T19:49:11.865Z"
   },
   {
    "duration": 64,
    "start_time": "2024-06-20T19:49:11.880Z"
   },
   {
    "duration": 12,
    "start_time": "2024-06-20T19:49:11.947Z"
   },
   {
    "duration": 177,
    "start_time": "2024-06-20T19:49:11.964Z"
   },
   {
    "duration": 23,
    "start_time": "2024-06-20T19:49:12.144Z"
   },
   {
    "duration": 9,
    "start_time": "2024-06-20T19:49:12.170Z"
   },
   {
    "duration": 5,
    "start_time": "2024-06-20T19:49:12.182Z"
   },
   {
    "duration": 10,
    "start_time": "2024-06-20T19:49:12.223Z"
   },
   {
    "duration": 58,
    "start_time": "2024-06-20T19:49:12.264Z"
   },
   {
    "duration": 9,
    "start_time": "2024-06-20T19:49:12.325Z"
   },
   {
    "duration": 11,
    "start_time": "2024-06-20T19:49:12.337Z"
   },
   {
    "duration": 7,
    "start_time": "2024-06-20T19:49:27.737Z"
   },
   {
    "duration": 9,
    "start_time": "2024-06-20T19:49:43.837Z"
   },
   {
    "duration": 7,
    "start_time": "2024-06-20T19:49:47.301Z"
   },
   {
    "duration": 7,
    "start_time": "2024-06-20T19:49:50.449Z"
   },
   {
    "duration": 8,
    "start_time": "2024-06-20T19:49:56.132Z"
   },
   {
    "duration": 776,
    "start_time": "2024-06-20T19:51:23.304Z"
   },
   {
    "duration": 451,
    "start_time": "2024-06-20T19:51:50.292Z"
   },
   {
    "duration": 80,
    "start_time": "2024-06-20T19:52:12.092Z"
   },
   {
    "duration": 71,
    "start_time": "2024-06-20T19:53:08.621Z"
   },
   {
    "duration": 16,
    "start_time": "2024-06-20T19:53:14.035Z"
   },
   {
    "duration": 16,
    "start_time": "2024-06-20T19:53:58.012Z"
   },
   {
    "duration": 15,
    "start_time": "2024-06-20T19:54:29.541Z"
   },
   {
    "duration": 20,
    "start_time": "2024-06-20T19:54:36.432Z"
   },
   {
    "duration": 17,
    "start_time": "2024-06-20T19:54:47.988Z"
   },
   {
    "duration": 18,
    "start_time": "2024-06-20T19:54:54.620Z"
   },
   {
    "duration": 5,
    "start_time": "2024-06-20T19:55:39.508Z"
   },
   {
    "duration": 6,
    "start_time": "2024-06-20T19:55:54.079Z"
   },
   {
    "duration": 6,
    "start_time": "2024-06-20T19:56:01.889Z"
   },
   {
    "duration": 24,
    "start_time": "2024-06-20T19:56:51.593Z"
   },
   {
    "duration": 5,
    "start_time": "2024-06-20T19:56:55.536Z"
   },
   {
    "duration": 5,
    "start_time": "2024-06-20T19:56:56.095Z"
   },
   {
    "duration": 5,
    "start_time": "2024-06-20T19:56:56.506Z"
   },
   {
    "duration": 44,
    "start_time": "2024-06-20T19:56:57.086Z"
   },
   {
    "duration": 16,
    "start_time": "2024-06-20T19:57:10.160Z"
   },
   {
    "duration": 84,
    "start_time": "2024-06-20T19:57:22.487Z"
   },
   {
    "duration": 17,
    "start_time": "2024-06-20T19:57:36.552Z"
   },
   {
    "duration": 371,
    "start_time": "2024-06-20T20:00:21.808Z"
   },
   {
    "duration": 19,
    "start_time": "2024-06-20T20:00:44.303Z"
   },
   {
    "duration": 91,
    "start_time": "2024-06-20T20:01:01.020Z"
   },
   {
    "duration": 90,
    "start_time": "2024-06-20T20:01:13.733Z"
   },
   {
    "duration": 11,
    "start_time": "2024-06-20T20:01:55.238Z"
   },
   {
    "duration": 48,
    "start_time": "2024-06-20T20:01:59.435Z"
   },
   {
    "duration": 17,
    "start_time": "2024-06-20T20:02:11.721Z"
   },
   {
    "duration": 16,
    "start_time": "2024-06-20T20:14:36.564Z"
   },
   {
    "duration": 25,
    "start_time": "2024-06-20T20:16:25.818Z"
   },
   {
    "duration": 5,
    "start_time": "2024-06-20T20:16:30.769Z"
   },
   {
    "duration": 23,
    "start_time": "2024-06-20T20:16:31.342Z"
   },
   {
    "duration": 13,
    "start_time": "2024-06-20T20:17:42.135Z"
   },
   {
    "duration": 83,
    "start_time": "2024-06-20T20:18:34.902Z"
   },
   {
    "duration": 86,
    "start_time": "2024-06-20T20:18:55.731Z"
   },
   {
    "duration": 12,
    "start_time": "2024-06-20T20:19:02.605Z"
   },
   {
    "duration": 87,
    "start_time": "2024-06-20T20:19:23.010Z"
   },
   {
    "duration": 14,
    "start_time": "2024-06-20T20:19:34.276Z"
   },
   {
    "duration": 7,
    "start_time": "2024-06-20T20:20:02.035Z"
   },
   {
    "duration": 77,
    "start_time": "2024-06-20T20:20:09.130Z"
   },
   {
    "duration": 7,
    "start_time": "2024-06-20T20:20:28.400Z"
   },
   {
    "duration": 9,
    "start_time": "2024-06-20T20:21:00.768Z"
   },
   {
    "duration": 9,
    "start_time": "2024-06-20T20:21:24.470Z"
   },
   {
    "duration": 5,
    "start_time": "2024-06-20T20:22:02.230Z"
   },
   {
    "duration": 9,
    "start_time": "2024-06-20T20:22:06.756Z"
   },
   {
    "duration": 9,
    "start_time": "2024-06-20T20:22:39.834Z"
   },
   {
    "duration": 9,
    "start_time": "2024-06-20T20:22:46.100Z"
   },
   {
    "duration": 30,
    "start_time": "2024-06-20T20:26:05.307Z"
   },
   {
    "duration": 11,
    "start_time": "2024-06-20T20:26:29.397Z"
   },
   {
    "duration": 27,
    "start_time": "2024-06-20T20:26:48.116Z"
   },
   {
    "duration": 10,
    "start_time": "2024-06-20T20:27:03.122Z"
   },
   {
    "duration": 8,
    "start_time": "2024-06-20T20:27:23.514Z"
   },
   {
    "duration": 8,
    "start_time": "2024-06-20T20:27:31.092Z"
   },
   {
    "duration": 8,
    "start_time": "2024-06-20T20:28:06.481Z"
   },
   {
    "duration": 8,
    "start_time": "2024-06-20T20:28:10.587Z"
   },
   {
    "duration": 8,
    "start_time": "2024-06-20T20:28:15.218Z"
   },
   {
    "duration": 9,
    "start_time": "2024-06-20T20:28:38.687Z"
   },
   {
    "duration": 10,
    "start_time": "2024-06-20T20:28:43.533Z"
   },
   {
    "duration": 9,
    "start_time": "2024-06-20T20:29:07.965Z"
   },
   {
    "duration": 10,
    "start_time": "2024-06-20T20:49:38.031Z"
   },
   {
    "duration": 365,
    "start_time": "2024-06-20T20:50:37.587Z"
   },
   {
    "duration": 22,
    "start_time": "2024-06-20T20:51:35.374Z"
   },
   {
    "duration": 310,
    "start_time": "2024-06-20T20:53:50.113Z"
   },
   {
    "duration": 4,
    "start_time": "2024-06-20T20:54:05.630Z"
   },
   {
    "duration": 4,
    "start_time": "2024-06-20T20:54:49.225Z"
   },
   {
    "duration": 25,
    "start_time": "2024-06-20T20:59:07.589Z"
   },
   {
    "duration": 25,
    "start_time": "2024-06-20T20:59:14.425Z"
   },
   {
    "duration": 319,
    "start_time": "2024-06-20T20:59:18.847Z"
   },
   {
    "duration": 9,
    "start_time": "2024-06-20T20:59:25.071Z"
   },
   {
    "duration": 10,
    "start_time": "2024-06-20T21:02:48.157Z"
   },
   {
    "duration": 397,
    "start_time": "2024-06-20T21:02:53.760Z"
   },
   {
    "duration": 533,
    "start_time": "2024-06-20T21:03:30.264Z"
   },
   {
    "duration": 436,
    "start_time": "2024-06-20T21:04:03.692Z"
   },
   {
    "duration": 401,
    "start_time": "2024-06-20T21:06:48.728Z"
   },
   {
    "duration": 389,
    "start_time": "2024-06-20T21:07:54.637Z"
   },
   {
    "duration": 392,
    "start_time": "2024-06-20T21:09:10.502Z"
   },
   {
    "duration": 9,
    "start_time": "2024-06-20T21:10:24.802Z"
   },
   {
    "duration": 99,
    "start_time": "2024-06-20T21:10:44.471Z"
   },
   {
    "duration": 80,
    "start_time": "2024-06-20T21:11:01.340Z"
   },
   {
    "duration": 6,
    "start_time": "2024-06-20T21:11:09.215Z"
   },
   {
    "duration": 28,
    "start_time": "2024-06-20T21:11:46.968Z"
   },
   {
    "duration": 82,
    "start_time": "2024-06-20T21:13:21.061Z"
   },
   {
    "duration": 9,
    "start_time": "2024-06-20T21:13:33.884Z"
   },
   {
    "duration": 8,
    "start_time": "2024-06-20T21:13:37.550Z"
   },
   {
    "duration": 5,
    "start_time": "2024-06-20T21:14:36.423Z"
   },
   {
    "duration": 7,
    "start_time": "2024-06-20T21:14:42.504Z"
   },
   {
    "duration": 26,
    "start_time": "2024-06-20T21:17:09.200Z"
   },
   {
    "duration": 6,
    "start_time": "2024-06-20T21:17:24.385Z"
   },
   {
    "duration": 6,
    "start_time": "2024-06-20T21:19:02.342Z"
   },
   {
    "duration": 7,
    "start_time": "2024-06-20T21:19:30.044Z"
   },
   {
    "duration": 7,
    "start_time": "2024-06-20T21:20:32.917Z"
   },
   {
    "duration": 26,
    "start_time": "2024-06-20T21:21:23.957Z"
   },
   {
    "duration": 461,
    "start_time": "2024-06-20T21:22:26.279Z"
   },
   {
    "duration": 418,
    "start_time": "2024-06-20T21:22:53.262Z"
   },
   {
    "duration": 291,
    "start_time": "2024-06-20T21:44:30.209Z"
   },
   {
    "duration": 287,
    "start_time": "2024-06-20T21:46:12.122Z"
   },
   {
    "duration": 282,
    "start_time": "2024-06-20T21:46:27.398Z"
   },
   {
    "duration": 275,
    "start_time": "2024-06-20T21:51:07.497Z"
   },
   {
    "duration": 279,
    "start_time": "2024-06-20T22:50:34.296Z"
   },
   {
    "duration": 332,
    "start_time": "2024-06-20T22:50:37.537Z"
   },
   {
    "duration": 333,
    "start_time": "2024-06-20T22:50:40.393Z"
   },
   {
    "duration": 366,
    "start_time": "2024-06-20T22:51:16.482Z"
   },
   {
    "duration": 12,
    "start_time": "2024-06-20T22:53:04.025Z"
   },
   {
    "duration": 324,
    "start_time": "2024-06-20T22:53:21.991Z"
   },
   {
    "duration": 602,
    "start_time": "2024-06-20T22:54:17.454Z"
   },
   {
    "duration": 323,
    "start_time": "2024-06-20T22:54:26.775Z"
   },
   {
    "duration": 19,
    "start_time": "2024-06-20T22:54:35.364Z"
   },
   {
    "duration": 95,
    "start_time": "2024-06-20T22:59:24.198Z"
   },
   {
    "duration": 81,
    "start_time": "2024-06-20T22:59:56.577Z"
   },
   {
    "duration": 18,
    "start_time": "2024-06-20T23:00:05.400Z"
   },
   {
    "duration": 28,
    "start_time": "2024-06-20T23:00:36.089Z"
   },
   {
    "duration": 88,
    "start_time": "2024-06-20T23:01:00.332Z"
   },
   {
    "duration": 351,
    "start_time": "2024-06-20T23:01:22.009Z"
   },
   {
    "duration": 13,
    "start_time": "2024-06-20T23:03:59.364Z"
   },
   {
    "duration": 1370,
    "start_time": "2024-06-20T23:04:20.775Z"
   },
   {
    "duration": 801,
    "start_time": "2024-06-20T23:04:22.149Z"
   },
   {
    "duration": 104,
    "start_time": "2024-06-20T23:04:22.953Z"
   },
   {
    "duration": 24,
    "start_time": "2024-06-20T23:04:23.064Z"
   },
   {
    "duration": 54,
    "start_time": "2024-06-20T23:04:23.091Z"
   },
   {
    "duration": 12,
    "start_time": "2024-06-20T23:04:23.148Z"
   },
   {
    "duration": 8,
    "start_time": "2024-06-20T23:04:23.163Z"
   },
   {
    "duration": 13,
    "start_time": "2024-06-20T23:04:23.174Z"
   },
   {
    "duration": 15,
    "start_time": "2024-06-20T23:04:23.223Z"
   },
   {
    "duration": 133,
    "start_time": "2024-06-20T23:04:23.245Z"
   },
   {
    "duration": 9,
    "start_time": "2024-06-20T23:04:23.381Z"
   },
   {
    "duration": 52,
    "start_time": "2024-06-20T23:04:23.393Z"
   },
   {
    "duration": 11,
    "start_time": "2024-06-20T23:04:23.448Z"
   },
   {
    "duration": 182,
    "start_time": "2024-06-20T23:04:23.462Z"
   },
   {
    "duration": 24,
    "start_time": "2024-06-20T23:04:23.647Z"
   },
   {
    "duration": 10,
    "start_time": "2024-06-20T23:04:23.675Z"
   },
   {
    "duration": 36,
    "start_time": "2024-06-20T23:04:23.687Z"
   },
   {
    "duration": 10,
    "start_time": "2024-06-20T23:04:23.726Z"
   },
   {
    "duration": 11,
    "start_time": "2024-06-20T23:04:23.739Z"
   },
   {
    "duration": 10,
    "start_time": "2024-06-20T23:04:23.753Z"
   },
   {
    "duration": 57,
    "start_time": "2024-06-20T23:04:23.767Z"
   },
   {
    "duration": 5,
    "start_time": "2024-06-20T23:04:23.827Z"
   },
   {
    "duration": 8,
    "start_time": "2024-06-20T23:04:23.835Z"
   },
   {
    "duration": 5,
    "start_time": "2024-06-20T23:04:23.845Z"
   },
   {
    "duration": 5,
    "start_time": "2024-06-20T23:04:23.853Z"
   },
   {
    "duration": 11,
    "start_time": "2024-06-20T23:04:23.861Z"
   },
   {
    "duration": 53,
    "start_time": "2024-06-20T23:04:23.875Z"
   },
   {
    "duration": 8,
    "start_time": "2024-06-20T23:04:23.935Z"
   },
   {
    "duration": 452,
    "start_time": "2024-06-20T23:04:23.946Z"
   },
   {
    "duration": 408,
    "start_time": "2024-06-20T23:04:24.402Z"
   },
   {
    "duration": 402,
    "start_time": "2024-06-20T23:04:24.813Z"
   },
   {
    "duration": 7,
    "start_time": "2024-06-20T23:04:25.224Z"
   },
   {
    "duration": 7,
    "start_time": "2024-06-20T23:04:25.235Z"
   },
   {
    "duration": 7,
    "start_time": "2024-06-20T23:04:25.246Z"
   },
   {
    "duration": 437,
    "start_time": "2024-06-20T23:04:25.256Z"
   },
   {
    "duration": 409,
    "start_time": "2024-06-20T23:04:25.697Z"
   },
   {
    "duration": 421,
    "start_time": "2024-06-20T23:04:26.109Z"
   },
   {
    "duration": 370,
    "start_time": "2024-06-20T23:04:26.533Z"
   },
   {
    "duration": 398,
    "start_time": "2024-06-20T23:04:26.906Z"
   },
   {
    "duration": 645,
    "start_time": "2024-06-20T23:04:27.309Z"
   },
   {
    "duration": 33,
    "start_time": "2024-06-20T23:04:31.457Z"
   },
   {
    "duration": 31,
    "start_time": "2024-06-20T23:04:33.746Z"
   },
   {
    "duration": 26,
    "start_time": "2024-06-20T23:04:35.901Z"
   },
   {
    "duration": 5089,
    "start_time": "2024-06-21T15:49:36.793Z"
   },
   {
    "duration": 960,
    "start_time": "2024-06-21T15:49:41.887Z"
   },
   {
    "duration": 25,
    "start_time": "2024-06-21T15:49:42.849Z"
   },
   {
    "duration": 36,
    "start_time": "2024-06-21T15:49:42.878Z"
   },
   {
    "duration": 24,
    "start_time": "2024-06-21T15:49:42.917Z"
   },
   {
    "duration": 10,
    "start_time": "2024-06-21T15:49:42.944Z"
   },
   {
    "duration": 7,
    "start_time": "2024-06-21T15:49:42.958Z"
   },
   {
    "duration": 48,
    "start_time": "2024-06-21T15:49:42.967Z"
   },
   {
    "duration": 12,
    "start_time": "2024-06-21T15:49:43.018Z"
   },
   {
    "duration": 143,
    "start_time": "2024-06-21T15:49:43.037Z"
   },
   {
    "duration": 23,
    "start_time": "2024-06-21T15:49:43.183Z"
   },
   {
    "duration": 36,
    "start_time": "2024-06-21T15:49:43.209Z"
   },
   {
    "duration": 12,
    "start_time": "2024-06-21T15:49:43.247Z"
   },
   {
    "duration": 184,
    "start_time": "2024-06-21T15:49:43.262Z"
   },
   {
    "duration": 26,
    "start_time": "2024-06-21T15:49:43.449Z"
   },
   {
    "duration": 28,
    "start_time": "2024-06-21T15:49:43.479Z"
   },
   {
    "duration": 5,
    "start_time": "2024-06-21T15:49:43.510Z"
   },
   {
    "duration": 12,
    "start_time": "2024-06-21T15:49:43.519Z"
   },
   {
    "duration": 11,
    "start_time": "2024-06-21T15:49:43.534Z"
   },
   {
    "duration": 59,
    "start_time": "2024-06-21T15:49:43.548Z"
   },
   {
    "duration": 11,
    "start_time": "2024-06-21T15:49:43.610Z"
   },
   {
    "duration": 5,
    "start_time": "2024-06-21T15:49:43.623Z"
   },
   {
    "duration": 5,
    "start_time": "2024-06-21T15:49:43.632Z"
   },
   {
    "duration": 6,
    "start_time": "2024-06-21T15:49:43.640Z"
   },
   {
    "duration": 5,
    "start_time": "2024-06-21T15:49:53.546Z"
   },
   {
    "duration": 10,
    "start_time": "2024-06-21T15:49:54.175Z"
   },
   {
    "duration": 10,
    "start_time": "2024-06-21T15:49:57.200Z"
   },
   {
    "duration": 9,
    "start_time": "2024-06-21T15:50:01.406Z"
   },
   {
    "duration": 8,
    "start_time": "2024-06-21T15:50:07.593Z"
   },
   {
    "duration": 7,
    "start_time": "2024-06-21T15:50:19.252Z"
   },
   {
    "duration": 455,
    "start_time": "2024-06-21T15:50:25.320Z"
   },
   {
    "duration": 486,
    "start_time": "2024-06-21T15:50:28.631Z"
   },
   {
    "duration": 397,
    "start_time": "2024-06-21T15:50:34.233Z"
   },
   {
    "duration": 7,
    "start_time": "2024-06-21T15:50:38.238Z"
   },
   {
    "duration": 7,
    "start_time": "2024-06-21T15:50:45.048Z"
   },
   {
    "duration": 6,
    "start_time": "2024-06-21T15:50:47.718Z"
   },
   {
    "duration": 283,
    "start_time": "2024-06-21T15:51:06.563Z"
   },
   {
    "duration": 284,
    "start_time": "2024-06-21T15:51:29.202Z"
   },
   {
    "duration": 317,
    "start_time": "2024-06-21T15:51:34.764Z"
   },
   {
    "duration": 335,
    "start_time": "2024-06-21T15:51:38.621Z"
   },
   {
    "duration": 299,
    "start_time": "2024-06-21T15:53:53.151Z"
   },
   {
    "duration": 372,
    "start_time": "2024-06-21T15:54:10.190Z"
   },
   {
    "duration": 521,
    "start_time": "2024-06-21T15:54:48.187Z"
   },
   {
    "duration": 33,
    "start_time": "2024-06-21T16:04:50.026Z"
   },
   {
    "duration": 30,
    "start_time": "2024-06-21T16:05:12.870Z"
   },
   {
    "duration": 40,
    "start_time": "2024-06-21T16:06:47.290Z"
   },
   {
    "duration": 1236,
    "start_time": "2024-06-21T16:10:33.077Z"
   },
   {
    "duration": 37,
    "start_time": "2024-06-21T16:11:41.027Z"
   },
   {
    "duration": 12,
    "start_time": "2024-06-21T16:11:45.625Z"
   },
   {
    "duration": 254,
    "start_time": "2024-06-21T16:12:05.465Z"
   },
   {
    "duration": 261,
    "start_time": "2024-06-21T16:12:20.001Z"
   },
   {
    "duration": 37,
    "start_time": "2024-06-21T16:12:27.678Z"
   },
   {
    "duration": 22,
    "start_time": "2024-06-21T16:13:55.374Z"
   },
   {
    "duration": 24,
    "start_time": "2024-06-21T16:14:00.442Z"
   },
   {
    "duration": 36,
    "start_time": "2024-06-21T16:14:07.024Z"
   },
   {
    "duration": 7,
    "start_time": "2024-06-21T16:14:15.189Z"
   },
   {
    "duration": 111,
    "start_time": "2024-06-21T16:14:24.514Z"
   },
   {
    "duration": 84,
    "start_time": "2024-06-21T16:15:18.979Z"
   },
   {
    "duration": 33,
    "start_time": "2024-06-21T16:16:15.899Z"
   },
   {
    "duration": 31,
    "start_time": "2024-06-21T16:16:22.403Z"
   },
   {
    "duration": 36,
    "start_time": "2024-06-21T16:16:29.251Z"
   },
   {
    "duration": 5,
    "start_time": "2024-06-21T16:39:10.845Z"
   },
   {
    "duration": 1060,
    "start_time": "2024-06-21T16:42:16.572Z"
   },
   {
    "duration": 8,
    "start_time": "2024-06-21T16:42:45.019Z"
   },
   {
    "duration": 10,
    "start_time": "2024-06-21T16:43:04.419Z"
   },
   {
    "duration": 171,
    "start_time": "2024-06-21T16:43:28.584Z"
   },
   {
    "duration": 16,
    "start_time": "2024-06-21T16:43:39.552Z"
   },
   {
    "duration": 76,
    "start_time": "2024-06-21T16:44:15.997Z"
   },
   {
    "duration": 70,
    "start_time": "2024-06-21T16:58:05.156Z"
   },
   {
    "duration": 132,
    "start_time": "2024-06-21T16:59:31.638Z"
   },
   {
    "duration": 8,
    "start_time": "2024-06-21T16:59:55.448Z"
   },
   {
    "duration": 15,
    "start_time": "2024-06-21T17:00:05.944Z"
   },
   {
    "duration": 69,
    "start_time": "2024-06-21T17:02:25.224Z"
   },
   {
    "duration": 5,
    "start_time": "2024-06-21T17:02:37.400Z"
   },
   {
    "duration": 8,
    "start_time": "2024-06-21T17:03:40.304Z"
   },
   {
    "duration": 43,
    "start_time": "2024-06-21T17:03:44.421Z"
   },
   {
    "duration": 16,
    "start_time": "2024-06-21T17:03:48.958Z"
   },
   {
    "duration": 7,
    "start_time": "2024-06-21T17:04:00.062Z"
   },
   {
    "duration": 71,
    "start_time": "2024-06-21T17:05:06.605Z"
   },
   {
    "duration": 7,
    "start_time": "2024-06-21T17:05:15.093Z"
   },
   {
    "duration": 61,
    "start_time": "2024-06-21T17:06:27.615Z"
   },
   {
    "duration": 34,
    "start_time": "2024-06-21T17:06:45.134Z"
   },
   {
    "duration": 10,
    "start_time": "2024-06-21T17:06:50.051Z"
   },
   {
    "duration": 45,
    "start_time": "2024-06-21T17:07:48.441Z"
   },
   {
    "duration": 98,
    "start_time": "2024-06-21T17:07:49.882Z"
   },
   {
    "duration": 42,
    "start_time": "2024-06-21T17:07:55.301Z"
   },
   {
    "duration": 74,
    "start_time": "2024-06-21T17:08:07.293Z"
   },
   {
    "duration": 5,
    "start_time": "2024-06-21T17:08:25.661Z"
   },
   {
    "duration": 9,
    "start_time": "2024-06-21T17:08:26.332Z"
   },
   {
    "duration": 9,
    "start_time": "2024-06-21T17:08:29.169Z"
   },
   {
    "duration": 60,
    "start_time": "2024-06-21T17:08:42.236Z"
   },
   {
    "duration": 11,
    "start_time": "2024-06-21T17:08:56.263Z"
   },
   {
    "duration": 256,
    "start_time": "2024-06-21T17:09:05.252Z"
   },
   {
    "duration": 5,
    "start_time": "2024-06-21T17:09:39.088Z"
   },
   {
    "duration": 55,
    "start_time": "2024-06-21T17:09:39.509Z"
   },
   {
    "duration": 87,
    "start_time": "2024-06-21T17:09:43.835Z"
   },
   {
    "duration": 103,
    "start_time": "2024-06-21T17:09:48.258Z"
   },
   {
    "duration": 74,
    "start_time": "2024-06-21T17:09:53.225Z"
   },
   {
    "duration": 1396,
    "start_time": "2024-06-21T17:10:13.668Z"
   },
   {
    "duration": 787,
    "start_time": "2024-06-21T17:10:15.067Z"
   },
   {
    "duration": 95,
    "start_time": "2024-06-21T17:10:15.856Z"
   },
   {
    "duration": 19,
    "start_time": "2024-06-21T17:10:15.953Z"
   },
   {
    "duration": 47,
    "start_time": "2024-06-21T17:10:15.977Z"
   },
   {
    "duration": 9,
    "start_time": "2024-06-21T17:10:16.027Z"
   },
   {
    "duration": 7,
    "start_time": "2024-06-21T17:10:16.039Z"
   },
   {
    "duration": 12,
    "start_time": "2024-06-21T17:10:16.049Z"
   },
   {
    "duration": 49,
    "start_time": "2024-06-21T17:10:16.064Z"
   },
   {
    "duration": 124,
    "start_time": "2024-06-21T17:10:16.115Z"
   },
   {
    "duration": 11,
    "start_time": "2024-06-21T17:10:16.242Z"
   },
   {
    "duration": 58,
    "start_time": "2024-06-21T17:10:16.256Z"
   },
   {
    "duration": 12,
    "start_time": "2024-06-21T17:10:16.317Z"
   },
   {
    "duration": 175,
    "start_time": "2024-06-21T17:10:16.335Z"
   },
   {
    "duration": 22,
    "start_time": "2024-06-21T17:10:16.513Z"
   },
   {
    "duration": 9,
    "start_time": "2024-06-21T17:10:16.540Z"
   },
   {
    "duration": 5,
    "start_time": "2024-06-21T17:10:16.553Z"
   },
   {
    "duration": 51,
    "start_time": "2024-06-21T17:10:16.560Z"
   },
   {
    "duration": 10,
    "start_time": "2024-06-21T17:10:16.614Z"
   },
   {
    "duration": 10,
    "start_time": "2024-06-21T17:10:16.628Z"
   },
   {
    "duration": 11,
    "start_time": "2024-06-21T17:10:16.640Z"
   },
   {
    "duration": 6,
    "start_time": "2024-06-21T17:10:16.654Z"
   },
   {
    "duration": 66,
    "start_time": "2024-06-21T17:10:16.662Z"
   },
   {
    "duration": 5,
    "start_time": "2024-06-21T17:10:16.732Z"
   },
   {
    "duration": 5,
    "start_time": "2024-06-21T17:10:16.742Z"
   },
   {
    "duration": 12,
    "start_time": "2024-06-21T17:10:16.750Z"
   },
   {
    "duration": 42,
    "start_time": "2024-06-21T17:10:16.766Z"
   },
   {
    "duration": 10,
    "start_time": "2024-06-21T17:10:16.811Z"
   },
   {
    "duration": 444,
    "start_time": "2024-06-21T17:10:16.824Z"
   },
   {
    "duration": 406,
    "start_time": "2024-06-21T17:10:17.272Z"
   },
   {
    "duration": 427,
    "start_time": "2024-06-21T17:10:17.681Z"
   },
   {
    "duration": 9,
    "start_time": "2024-06-21T17:10:18.113Z"
   },
   {
    "duration": 7,
    "start_time": "2024-06-21T17:10:18.125Z"
   },
   {
    "duration": 7,
    "start_time": "2024-06-21T17:10:18.134Z"
   },
   {
    "duration": 340,
    "start_time": "2024-06-21T17:10:18.144Z"
   },
   {
    "duration": 301,
    "start_time": "2024-06-21T17:10:18.487Z"
   },
   {
    "duration": 358,
    "start_time": "2024-06-21T17:10:18.792Z"
   },
   {
    "duration": 335,
    "start_time": "2024-06-21T17:10:19.154Z"
   },
   {
    "duration": 360,
    "start_time": "2024-06-21T17:10:19.492Z"
   },
   {
    "duration": 7,
    "start_time": "2024-06-21T17:10:19.855Z"
   },
   {
    "duration": 81,
    "start_time": "2024-06-21T17:10:19.870Z"
   },
   {
    "duration": 4,
    "start_time": "2024-06-21T17:10:19.954Z"
   },
   {
    "duration": 532,
    "start_time": "2024-06-21T17:10:19.962Z"
   },
   {
    "duration": 0,
    "start_time": "2024-06-21T17:10:20.497Z"
   },
   {
    "duration": 0,
    "start_time": "2024-06-21T17:10:20.506Z"
   },
   {
    "duration": 73,
    "start_time": "2024-06-21T17:10:29.693Z"
   },
   {
    "duration": 5,
    "start_time": "2024-06-21T17:10:39.734Z"
   },
   {
    "duration": 771,
    "start_time": "2024-06-21T17:10:39.742Z"
   },
   {
    "duration": 25,
    "start_time": "2024-06-21T17:10:40.516Z"
   },
   {
    "duration": 24,
    "start_time": "2024-06-21T17:10:40.545Z"
   },
   {
    "duration": 46,
    "start_time": "2024-06-21T17:10:40.572Z"
   },
   {
    "duration": 10,
    "start_time": "2024-06-21T17:10:40.622Z"
   },
   {
    "duration": 8,
    "start_time": "2024-06-21T17:10:40.635Z"
   },
   {
    "duration": 15,
    "start_time": "2024-06-21T17:10:40.646Z"
   },
   {
    "duration": 52,
    "start_time": "2024-06-21T17:10:40.664Z"
   },
   {
    "duration": 119,
    "start_time": "2024-06-21T17:10:40.721Z"
   },
   {
    "duration": 10,
    "start_time": "2024-06-21T17:10:40.844Z"
   },
   {
    "duration": 59,
    "start_time": "2024-06-21T17:10:40.857Z"
   },
   {
    "duration": 13,
    "start_time": "2024-06-21T17:10:40.920Z"
   },
   {
    "duration": 184,
    "start_time": "2024-06-21T17:10:40.937Z"
   },
   {
    "duration": 26,
    "start_time": "2024-06-21T17:10:41.124Z"
   },
   {
    "duration": 10,
    "start_time": "2024-06-21T17:10:41.153Z"
   },
   {
    "duration": 40,
    "start_time": "2024-06-21T17:10:41.167Z"
   },
   {
    "duration": 10,
    "start_time": "2024-06-21T17:10:41.210Z"
   },
   {
    "duration": 11,
    "start_time": "2024-06-21T17:10:41.222Z"
   },
   {
    "duration": 10,
    "start_time": "2024-06-21T17:10:41.236Z"
   },
   {
    "duration": 57,
    "start_time": "2024-06-21T17:10:41.249Z"
   },
   {
    "duration": 5,
    "start_time": "2024-06-21T17:10:41.309Z"
   },
   {
    "duration": 7,
    "start_time": "2024-06-21T17:10:41.317Z"
   },
   {
    "duration": 5,
    "start_time": "2024-06-21T17:10:41.327Z"
   },
   {
    "duration": 5,
    "start_time": "2024-06-21T17:10:41.335Z"
   },
   {
    "duration": 10,
    "start_time": "2024-06-21T17:10:41.343Z"
   },
   {
    "duration": 56,
    "start_time": "2024-06-21T17:10:41.356Z"
   },
   {
    "duration": 7,
    "start_time": "2024-06-21T17:10:41.421Z"
   },
   {
    "duration": 414,
    "start_time": "2024-06-21T17:10:41.431Z"
   },
   {
    "duration": 407,
    "start_time": "2024-06-21T17:10:41.848Z"
   },
   {
    "duration": 399,
    "start_time": "2024-06-21T17:10:42.259Z"
   },
   {
    "duration": 6,
    "start_time": "2024-06-21T17:10:42.661Z"
   },
   {
    "duration": 6,
    "start_time": "2024-06-21T17:10:42.671Z"
   },
   {
    "duration": 31,
    "start_time": "2024-06-21T17:10:42.680Z"
   },
   {
    "duration": 303,
    "start_time": "2024-06-21T17:10:42.714Z"
   },
   {
    "duration": 297,
    "start_time": "2024-06-21T17:10:43.020Z"
   },
   {
    "duration": 318,
    "start_time": "2024-06-21T17:10:43.320Z"
   },
   {
    "duration": 339,
    "start_time": "2024-06-21T17:10:43.640Z"
   },
   {
    "duration": 486,
    "start_time": "2024-06-21T17:10:43.982Z"
   },
   {
    "duration": 6,
    "start_time": "2024-06-21T17:10:44.471Z"
   },
   {
    "duration": 72,
    "start_time": "2024-06-21T17:10:44.480Z"
   },
   {
    "duration": 5,
    "start_time": "2024-06-21T17:10:44.554Z"
   },
   {
    "duration": 46,
    "start_time": "2024-06-21T17:10:44.562Z"
   },
   {
    "duration": 0,
    "start_time": "2024-06-21T17:10:44.611Z"
   },
   {
    "duration": 0,
    "start_time": "2024-06-21T17:10:44.613Z"
   },
   {
    "duration": 4,
    "start_time": "2024-06-21T17:10:46.291Z"
   },
   {
    "duration": 773,
    "start_time": "2024-06-21T17:10:46.929Z"
   },
   {
    "duration": 23,
    "start_time": "2024-06-21T17:10:47.707Z"
   },
   {
    "duration": 18,
    "start_time": "2024-06-21T17:10:48.147Z"
   },
   {
    "duration": 22,
    "start_time": "2024-06-21T17:10:48.546Z"
   },
   {
    "duration": 10,
    "start_time": "2024-06-21T17:10:49.434Z"
   },
   {
    "duration": 8,
    "start_time": "2024-06-21T17:10:49.817Z"
   },
   {
    "duration": 10,
    "start_time": "2024-06-21T17:10:50.240Z"
   },
   {
    "duration": 10,
    "start_time": "2024-06-21T17:10:51.113Z"
   },
   {
    "duration": 100,
    "start_time": "2024-06-21T17:10:52.557Z"
   },
   {
    "duration": 14,
    "start_time": "2024-06-21T17:10:52.972Z"
   },
   {
    "duration": 36,
    "start_time": "2024-06-21T17:10:53.754Z"
   },
   {
    "duration": 13,
    "start_time": "2024-06-21T17:10:54.097Z"
   },
   {
    "duration": 140,
    "start_time": "2024-06-21T17:10:54.767Z"
   },
   {
    "duration": 20,
    "start_time": "2024-06-21T17:10:58.331Z"
   },
   {
    "duration": 10,
    "start_time": "2024-06-21T17:11:02.940Z"
   },
   {
    "duration": 6,
    "start_time": "2024-06-21T17:11:03.599Z"
   },
   {
    "duration": 11,
    "start_time": "2024-06-21T17:11:04.304Z"
   },
   {
    "duration": 10,
    "start_time": "2024-06-21T17:11:06.093Z"
   },
   {
    "duration": 10,
    "start_time": "2024-06-21T17:11:06.789Z"
   },
   {
    "duration": 14,
    "start_time": "2024-06-21T17:11:07.269Z"
   },
   {
    "duration": 6,
    "start_time": "2024-06-21T17:11:08.262Z"
   },
   {
    "duration": 5,
    "start_time": "2024-06-21T17:11:08.668Z"
   },
   {
    "duration": 5,
    "start_time": "2024-06-21T17:11:09.888Z"
   },
   {
    "duration": 5,
    "start_time": "2024-06-21T17:11:10.773Z"
   },
   {
    "duration": 10,
    "start_time": "2024-06-21T17:11:11.175Z"
   },
   {
    "duration": 8,
    "start_time": "2024-06-21T17:11:11.634Z"
   },
   {
    "duration": 7,
    "start_time": "2024-06-21T17:11:12.988Z"
   },
   {
    "duration": 387,
    "start_time": "2024-06-21T17:11:14.951Z"
   },
   {
    "duration": 411,
    "start_time": "2024-06-21T17:11:15.639Z"
   },
   {
    "duration": 382,
    "start_time": "2024-06-21T17:11:16.111Z"
   },
   {
    "duration": 7,
    "start_time": "2024-06-21T17:11:16.706Z"
   },
   {
    "duration": 7,
    "start_time": "2024-06-21T17:11:17.073Z"
   },
   {
    "duration": 7,
    "start_time": "2024-06-21T17:11:17.484Z"
   },
   {
    "duration": 296,
    "start_time": "2024-06-21T17:11:18.098Z"
   },
   {
    "duration": 283,
    "start_time": "2024-06-21T17:11:19.072Z"
   },
   {
    "duration": 303,
    "start_time": "2024-06-21T17:11:19.477Z"
   },
   {
    "duration": 319,
    "start_time": "2024-06-21T17:11:19.891Z"
   },
   {
    "duration": 385,
    "start_time": "2024-06-21T17:11:20.213Z"
   },
   {
    "duration": 5,
    "start_time": "2024-06-21T17:11:21.194Z"
   },
   {
    "duration": 54,
    "start_time": "2024-06-21T17:11:21.461Z"
   },
   {
    "duration": 72,
    "start_time": "2024-06-21T17:11:28.634Z"
   },
   {
    "duration": 9,
    "start_time": "2024-06-21T17:11:48.832Z"
   },
   {
    "duration": 15,
    "start_time": "2024-06-21T17:11:57.472Z"
   },
   {
    "duration": 1363,
    "start_time": "2024-06-21T17:12:17.164Z"
   },
   {
    "duration": 6,
    "start_time": "2024-06-21T17:12:26.510Z"
   },
   {
    "duration": 58,
    "start_time": "2024-06-21T17:12:27.035Z"
   },
   {
    "duration": 444,
    "start_time": "2024-06-21T17:13:04.522Z"
   },
   {
    "duration": 0,
    "start_time": "2024-06-21T17:13:04.969Z"
   },
   {
    "duration": 15,
    "start_time": "2024-06-21T17:13:05.500Z"
   },
   {
    "duration": 83,
    "start_time": "2024-06-21T17:13:18.754Z"
   },
   {
    "duration": 1390,
    "start_time": "2024-06-21T17:13:49.338Z"
   },
   {
    "duration": 787,
    "start_time": "2024-06-21T17:13:50.731Z"
   },
   {
    "duration": 97,
    "start_time": "2024-06-21T17:13:51.521Z"
   },
   {
    "duration": 17,
    "start_time": "2024-06-21T17:13:51.622Z"
   },
   {
    "duration": 24,
    "start_time": "2024-06-21T17:13:51.642Z"
   },
   {
    "duration": 30,
    "start_time": "2024-06-21T17:13:51.679Z"
   },
   {
    "duration": 6,
    "start_time": "2024-06-21T17:13:51.907Z"
   },
   {
    "duration": 13,
    "start_time": "2024-06-21T17:13:52.136Z"
   },
   {
    "duration": 12,
    "start_time": "2024-06-21T17:13:54.364Z"
   },
   {
    "duration": 118,
    "start_time": "2024-06-21T17:13:54.706Z"
   },
   {
    "duration": 9,
    "start_time": "2024-06-21T17:13:55.377Z"
   },
   {
    "duration": 5,
    "start_time": "2024-06-21T17:14:06.764Z"
   },
   {
    "duration": 783,
    "start_time": "2024-06-21T17:14:06.774Z"
   },
   {
    "duration": 23,
    "start_time": "2024-06-21T17:14:07.559Z"
   },
   {
    "duration": 36,
    "start_time": "2024-06-21T17:14:07.585Z"
   },
   {
    "duration": 24,
    "start_time": "2024-06-21T17:14:07.626Z"
   },
   {
    "duration": 10,
    "start_time": "2024-06-21T17:14:07.652Z"
   },
   {
    "duration": 7,
    "start_time": "2024-06-21T17:14:07.665Z"
   },
   {
    "duration": 12,
    "start_time": "2024-06-21T17:14:07.707Z"
   },
   {
    "duration": 12,
    "start_time": "2024-06-21T17:14:07.722Z"
   },
   {
    "duration": 145,
    "start_time": "2024-06-21T17:14:07.736Z"
   },
   {
    "duration": 29,
    "start_time": "2024-06-21T17:14:07.884Z"
   },
   {
    "duration": 43,
    "start_time": "2024-06-21T17:14:07.919Z"
   },
   {
    "duration": 12,
    "start_time": "2024-06-21T17:14:07.965Z"
   },
   {
    "duration": 149,
    "start_time": "2024-06-21T17:14:08.005Z"
   },
   {
    "duration": 26,
    "start_time": "2024-06-21T17:14:10.376Z"
   },
   {
    "duration": 21,
    "start_time": "2024-06-21T17:15:40.165Z"
   },
   {
    "duration": 18,
    "start_time": "2024-06-21T17:15:52.379Z"
   },
   {
    "duration": 1265,
    "start_time": "2024-06-21T17:16:09.413Z"
   },
   {
    "duration": 21,
    "start_time": "2024-06-21T17:16:37.768Z"
   },
   {
    "duration": 89,
    "start_time": "2024-06-21T17:16:46.458Z"
   },
   {
    "duration": 92,
    "start_time": "2024-06-21T17:17:04.548Z"
   },
   {
    "duration": 8,
    "start_time": "2024-06-21T17:17:18.199Z"
   },
   {
    "duration": 18,
    "start_time": "2024-06-21T17:17:29.430Z"
   },
   {
    "duration": 7,
    "start_time": "2024-06-21T17:17:43.614Z"
   },
   {
    "duration": 6,
    "start_time": "2024-06-21T17:17:49.663Z"
   },
   {
    "duration": 38,
    "start_time": "2024-06-21T17:18:44.198Z"
   },
   {
    "duration": 37,
    "start_time": "2024-06-21T17:18:58.964Z"
   },
   {
    "duration": 41,
    "start_time": "2024-06-21T17:19:12.350Z"
   },
   {
    "duration": 10,
    "start_time": "2024-06-21T17:19:20.701Z"
   },
   {
    "duration": 12,
    "start_time": "2024-06-21T17:19:31.042Z"
   },
   {
    "duration": 12,
    "start_time": "2024-06-21T17:19:51.990Z"
   },
   {
    "duration": 18,
    "start_time": "2024-06-21T17:20:02.519Z"
   },
   {
    "duration": 43,
    "start_time": "2024-06-21T17:20:46.714Z"
   },
   {
    "duration": 12,
    "start_time": "2024-06-21T17:22:06.044Z"
   },
   {
    "duration": 12,
    "start_time": "2024-06-21T17:22:20.258Z"
   },
   {
    "duration": 11,
    "start_time": "2024-06-21T17:22:28.656Z"
   },
   {
    "duration": 10,
    "start_time": "2024-06-21T17:23:20.422Z"
   },
   {
    "duration": 12,
    "start_time": "2024-06-21T17:23:30.785Z"
   },
   {
    "duration": 15,
    "start_time": "2024-06-21T17:23:33.087Z"
   },
   {
    "duration": 6,
    "start_time": "2024-06-21T17:23:33.325Z"
   },
   {
    "duration": 11,
    "start_time": "2024-06-21T17:23:33.571Z"
   },
   {
    "duration": 11,
    "start_time": "2024-06-21T17:23:34.148Z"
   },
   {
    "duration": 9,
    "start_time": "2024-06-21T17:23:34.419Z"
   },
   {
    "duration": 11,
    "start_time": "2024-06-21T17:23:35.128Z"
   },
   {
    "duration": 5,
    "start_time": "2024-06-21T17:23:35.684Z"
   },
   {
    "duration": 5,
    "start_time": "2024-06-21T17:23:35.938Z"
   },
   {
    "duration": 5,
    "start_time": "2024-06-21T17:23:36.154Z"
   },
   {
    "duration": 5,
    "start_time": "2024-06-21T17:23:39.433Z"
   },
   {
    "duration": 10,
    "start_time": "2024-06-21T17:23:39.685Z"
   },
   {
    "duration": 8,
    "start_time": "2024-06-21T17:23:39.934Z"
   },
   {
    "duration": 8,
    "start_time": "2024-06-21T17:23:40.605Z"
   },
   {
    "duration": 410,
    "start_time": "2024-06-21T17:23:41.396Z"
   },
   {
    "duration": 6,
    "start_time": "2024-06-21T17:23:55.980Z"
   },
   {
    "duration": 782,
    "start_time": "2024-06-21T17:23:55.989Z"
   },
   {
    "duration": 33,
    "start_time": "2024-06-21T17:23:56.773Z"
   },
   {
    "duration": 17,
    "start_time": "2024-06-21T17:23:56.809Z"
   },
   {
    "duration": 24,
    "start_time": "2024-06-21T17:23:56.831Z"
   },
   {
    "duration": 10,
    "start_time": "2024-06-21T17:23:56.857Z"
   },
   {
    "duration": 40,
    "start_time": "2024-06-21T17:23:56.870Z"
   },
   {
    "duration": 12,
    "start_time": "2024-06-21T17:23:56.912Z"
   },
   {
    "duration": 12,
    "start_time": "2024-06-21T17:23:56.927Z"
   },
   {
    "duration": 139,
    "start_time": "2024-06-21T17:23:56.942Z"
   },
   {
    "duration": 24,
    "start_time": "2024-06-21T17:23:57.084Z"
   },
   {
    "duration": 35,
    "start_time": "2024-06-21T17:23:57.111Z"
   },
   {
    "duration": 12,
    "start_time": "2024-06-21T17:23:57.149Z"
   },
   {
    "duration": 168,
    "start_time": "2024-06-21T17:23:57.167Z"
   },
   {
    "duration": 12,
    "start_time": "2024-06-21T17:23:57.338Z"
   },
   {
    "duration": 15,
    "start_time": "2024-06-21T17:23:57.353Z"
   },
   {
    "duration": 37,
    "start_time": "2024-06-21T17:23:57.371Z"
   },
   {
    "duration": 9,
    "start_time": "2024-06-21T17:23:57.411Z"
   },
   {
    "duration": 12,
    "start_time": "2024-06-21T17:23:57.424Z"
   },
   {
    "duration": 11,
    "start_time": "2024-06-21T17:23:57.439Z"
   },
   {
    "duration": 63,
    "start_time": "2024-06-21T17:23:57.453Z"
   },
   {
    "duration": 5,
    "start_time": "2024-06-21T17:23:57.522Z"
   },
   {
    "duration": 6,
    "start_time": "2024-06-21T17:23:57.530Z"
   },
   {
    "duration": 6,
    "start_time": "2024-06-21T17:23:57.540Z"
   },
   {
    "duration": 5,
    "start_time": "2024-06-21T17:23:57.550Z"
   },
   {
    "duration": 51,
    "start_time": "2024-06-21T17:23:57.559Z"
   },
   {
    "duration": 9,
    "start_time": "2024-06-21T17:23:57.612Z"
   },
   {
    "duration": 8,
    "start_time": "2024-06-21T17:23:57.624Z"
   },
   {
    "duration": 442,
    "start_time": "2024-06-21T17:23:57.635Z"
   },
   {
    "duration": 410,
    "start_time": "2024-06-21T17:23:58.080Z"
   },
   {
    "duration": 433,
    "start_time": "2024-06-21T17:23:58.492Z"
   },
   {
    "duration": 6,
    "start_time": "2024-06-21T17:23:58.930Z"
   },
   {
    "duration": 7,
    "start_time": "2024-06-21T17:23:58.939Z"
   },
   {
    "duration": 6,
    "start_time": "2024-06-21T17:23:58.950Z"
   },
   {
    "duration": 336,
    "start_time": "2024-06-21T17:23:58.959Z"
   },
   {
    "duration": 404,
    "start_time": "2024-06-21T17:23:59.298Z"
   },
   {
    "duration": 322,
    "start_time": "2024-06-21T17:23:59.708Z"
   },
   {
    "duration": 339,
    "start_time": "2024-06-21T17:24:00.033Z"
   },
   {
    "duration": 395,
    "start_time": "2024-06-21T17:24:00.374Z"
   },
   {
    "duration": 815,
    "start_time": "2024-06-21T17:24:00.772Z"
   },
   {
    "duration": 6,
    "start_time": "2024-06-21T17:24:45.078Z"
   },
   {
    "duration": 53,
    "start_time": "2024-06-21T17:24:45.469Z"
   },
   {
    "duration": 99,
    "start_time": "2024-06-21T17:24:49.666Z"
   },
   {
    "duration": 100,
    "start_time": "2024-06-21T17:25:05.956Z"
   },
   {
    "duration": 15,
    "start_time": "2024-06-21T17:25:37.019Z"
   },
   {
    "duration": 5,
    "start_time": "2024-06-21T17:25:39.567Z"
   },
   {
    "duration": 10,
    "start_time": "2024-06-21T17:25:40.438Z"
   },
   {
    "duration": 12,
    "start_time": "2024-06-21T17:25:49.453Z"
   },
   {
    "duration": 20,
    "start_time": "2024-06-21T17:25:59.477Z"
   },
   {
    "duration": 26,
    "start_time": "2024-06-21T17:26:53.836Z"
   },
   {
    "duration": 14,
    "start_time": "2024-06-21T17:27:27.761Z"
   },
   {
    "duration": 5,
    "start_time": "2024-06-21T17:27:40.915Z"
   },
   {
    "duration": 83,
    "start_time": "2024-06-21T17:27:42.530Z"
   },
   {
    "duration": 1411,
    "start_time": "2024-06-21T17:27:49.944Z"
   },
   {
    "duration": 791,
    "start_time": "2024-06-21T17:27:51.358Z"
   },
   {
    "duration": 97,
    "start_time": "2024-06-21T17:27:52.151Z"
   },
   {
    "duration": 19,
    "start_time": "2024-06-21T17:27:52.251Z"
   },
   {
    "duration": 49,
    "start_time": "2024-06-21T17:27:52.274Z"
   },
   {
    "duration": 10,
    "start_time": "2024-06-21T17:27:52.326Z"
   },
   {
    "duration": 7,
    "start_time": "2024-06-21T17:27:52.339Z"
   },
   {
    "duration": 13,
    "start_time": "2024-06-21T17:27:52.348Z"
   },
   {
    "duration": 44,
    "start_time": "2024-06-21T17:27:52.364Z"
   },
   {
    "duration": 133,
    "start_time": "2024-06-21T17:27:52.411Z"
   },
   {
    "duration": 13,
    "start_time": "2024-06-21T17:27:52.547Z"
   },
   {
    "duration": 60,
    "start_time": "2024-06-21T17:27:52.564Z"
   },
   {
    "duration": 12,
    "start_time": "2024-06-21T17:27:52.627Z"
   },
   {
    "duration": 171,
    "start_time": "2024-06-21T17:27:52.648Z"
   },
   {
    "duration": 15,
    "start_time": "2024-06-21T17:27:52.822Z"
   },
   {
    "duration": 441,
    "start_time": "2024-06-21T17:27:52.841Z"
   },
   {
    "duration": 0,
    "start_time": "2024-06-21T17:27:53.286Z"
   },
   {
    "duration": 0,
    "start_time": "2024-06-21T17:27:53.289Z"
   },
   {
    "duration": 0,
    "start_time": "2024-06-21T17:27:53.291Z"
   },
   {
    "duration": 0,
    "start_time": "2024-06-21T17:27:53.306Z"
   },
   {
    "duration": 0,
    "start_time": "2024-06-21T17:27:53.308Z"
   },
   {
    "duration": 0,
    "start_time": "2024-06-21T17:27:53.312Z"
   },
   {
    "duration": 0,
    "start_time": "2024-06-21T17:27:53.314Z"
   },
   {
    "duration": 0,
    "start_time": "2024-06-21T17:27:53.316Z"
   },
   {
    "duration": 0,
    "start_time": "2024-06-21T17:27:53.319Z"
   },
   {
    "duration": 0,
    "start_time": "2024-06-21T17:27:53.322Z"
   },
   {
    "duration": 0,
    "start_time": "2024-06-21T17:27:53.324Z"
   },
   {
    "duration": 0,
    "start_time": "2024-06-21T17:27:53.330Z"
   },
   {
    "duration": 0,
    "start_time": "2024-06-21T17:27:53.332Z"
   },
   {
    "duration": 0,
    "start_time": "2024-06-21T17:27:53.333Z"
   },
   {
    "duration": 0,
    "start_time": "2024-06-21T17:27:53.336Z"
   },
   {
    "duration": 0,
    "start_time": "2024-06-21T17:27:53.338Z"
   },
   {
    "duration": 0,
    "start_time": "2024-06-21T17:27:53.340Z"
   },
   {
    "duration": 0,
    "start_time": "2024-06-21T17:27:53.342Z"
   },
   {
    "duration": 0,
    "start_time": "2024-06-21T17:27:53.343Z"
   },
   {
    "duration": 0,
    "start_time": "2024-06-21T17:27:53.345Z"
   },
   {
    "duration": 0,
    "start_time": "2024-06-21T17:27:53.347Z"
   },
   {
    "duration": 0,
    "start_time": "2024-06-21T17:27:53.349Z"
   },
   {
    "duration": 0,
    "start_time": "2024-06-21T17:27:53.406Z"
   },
   {
    "duration": 1,
    "start_time": "2024-06-21T17:27:53.408Z"
   },
   {
    "duration": 0,
    "start_time": "2024-06-21T17:27:53.410Z"
   },
   {
    "duration": 0,
    "start_time": "2024-06-21T17:27:53.412Z"
   },
   {
    "duration": 0,
    "start_time": "2024-06-21T17:27:53.413Z"
   },
   {
    "duration": 1243,
    "start_time": "2024-06-21T17:28:05.563Z"
   },
   {
    "duration": 7,
    "start_time": "2024-06-21T17:28:13.650Z"
   },
   {
    "duration": 125,
    "start_time": "2024-06-21T17:28:14.361Z"
   },
   {
    "duration": 17,
    "start_time": "2024-06-21T17:28:31.700Z"
   },
   {
    "duration": 12,
    "start_time": "2024-06-21T17:28:36.501Z"
   },
   {
    "duration": 20,
    "start_time": "2024-06-21T17:28:36.800Z"
   },
   {
    "duration": 33,
    "start_time": "2024-06-21T17:30:50.734Z"
   },
   {
    "duration": 14,
    "start_time": "2024-06-21T17:30:51.269Z"
   },
   {
    "duration": 24,
    "start_time": "2024-06-21T17:30:51.694Z"
   },
   {
    "duration": 6,
    "start_time": "2024-06-21T17:31:01.929Z"
   },
   {
    "duration": 8,
    "start_time": "2024-06-21T17:31:02.309Z"
   },
   {
    "duration": 5,
    "start_time": "2024-06-21T17:31:02.595Z"
   },
   {
    "duration": 5,
    "start_time": "2024-06-21T17:31:03.268Z"
   },
   {
    "duration": 10,
    "start_time": "2024-06-21T17:31:03.774Z"
   },
   {
    "duration": 266,
    "start_time": "2024-06-21T17:31:04.051Z"
   },
   {
    "duration": 12,
    "start_time": "2024-06-21T17:31:05.155Z"
   },
   {
    "duration": 8,
    "start_time": "2024-06-21T17:31:06.327Z"
   },
   {
    "duration": 448,
    "start_time": "2024-06-21T17:31:06.861Z"
   },
   {
    "duration": 409,
    "start_time": "2024-06-21T17:31:07.313Z"
   },
   {
    "duration": 475,
    "start_time": "2024-06-21T17:31:07.726Z"
   },
   {
    "duration": 4,
    "start_time": "2024-06-21T17:31:17.697Z"
   },
   {
    "duration": 939,
    "start_time": "2024-06-21T17:31:17.705Z"
   },
   {
    "duration": 144,
    "start_time": "2024-06-21T17:31:18.647Z"
   },
   {
    "duration": 29,
    "start_time": "2024-06-21T17:31:18.796Z"
   },
   {
    "duration": 31,
    "start_time": "2024-06-21T17:31:18.828Z"
   },
   {
    "duration": 13,
    "start_time": "2024-06-21T17:31:18.863Z"
   },
   {
    "duration": 10,
    "start_time": "2024-06-21T17:31:18.906Z"
   },
   {
    "duration": 15,
    "start_time": "2024-06-21T17:31:18.919Z"
   },
   {
    "duration": 14,
    "start_time": "2024-06-21T17:31:18.937Z"
   },
   {
    "duration": 148,
    "start_time": "2024-06-21T17:31:18.959Z"
   },
   {
    "duration": 13,
    "start_time": "2024-06-21T17:31:19.111Z"
   },
   {
    "duration": 44,
    "start_time": "2024-06-21T17:31:19.127Z"
   },
   {
    "duration": 42,
    "start_time": "2024-06-21T17:31:19.175Z"
   },
   {
    "duration": 174,
    "start_time": "2024-06-21T17:31:19.220Z"
   },
   {
    "duration": 21,
    "start_time": "2024-06-21T17:31:19.397Z"
   },
   {
    "duration": 21,
    "start_time": "2024-06-21T17:31:19.422Z"
   },
   {
    "duration": 18,
    "start_time": "2024-06-21T17:31:19.446Z"
   },
   {
    "duration": 14,
    "start_time": "2024-06-21T17:31:19.509Z"
   },
   {
    "duration": 27,
    "start_time": "2024-06-21T17:31:19.526Z"
   },
   {
    "duration": 14,
    "start_time": "2024-06-21T17:31:19.555Z"
   },
   {
    "duration": 34,
    "start_time": "2024-06-21T17:31:19.574Z"
   },
   {
    "duration": 10,
    "start_time": "2024-06-21T17:31:19.611Z"
   },
   {
    "duration": 3,
    "start_time": "2024-06-21T17:31:19.627Z"
   },
   {
    "duration": 13,
    "start_time": "2024-06-21T17:31:19.633Z"
   },
   {
    "duration": 156,
    "start_time": "2024-06-21T17:31:19.650Z"
   },
   {
    "duration": 0,
    "start_time": "2024-06-21T17:31:19.810Z"
   },
   {
    "duration": 0,
    "start_time": "2024-06-21T17:31:19.815Z"
   },
   {
    "duration": 0,
    "start_time": "2024-06-21T17:31:19.817Z"
   },
   {
    "duration": 0,
    "start_time": "2024-06-21T17:31:19.819Z"
   },
   {
    "duration": 0,
    "start_time": "2024-06-21T17:31:19.822Z"
   },
   {
    "duration": 0,
    "start_time": "2024-06-21T17:31:19.824Z"
   },
   {
    "duration": 0,
    "start_time": "2024-06-21T17:31:19.826Z"
   },
   {
    "duration": 0,
    "start_time": "2024-06-21T17:31:19.829Z"
   },
   {
    "duration": 0,
    "start_time": "2024-06-21T17:31:19.831Z"
   },
   {
    "duration": 0,
    "start_time": "2024-06-21T17:31:19.833Z"
   },
   {
    "duration": 0,
    "start_time": "2024-06-21T17:31:19.835Z"
   },
   {
    "duration": 0,
    "start_time": "2024-06-21T17:31:19.838Z"
   },
   {
    "duration": 0,
    "start_time": "2024-06-21T17:31:19.841Z"
   },
   {
    "duration": 7,
    "start_time": "2024-06-21T17:31:23.155Z"
   },
   {
    "duration": 84,
    "start_time": "2024-06-21T17:31:23.953Z"
   },
   {
    "duration": 5,
    "start_time": "2024-06-21T17:31:31.666Z"
   },
   {
    "duration": 347,
    "start_time": "2024-06-21T17:31:41.986Z"
   },
   {
    "duration": 48,
    "start_time": "2024-06-21T17:31:49.729Z"
   },
   {
    "duration": 12,
    "start_time": "2024-06-21T17:31:57.052Z"
   },
   {
    "duration": 27,
    "start_time": "2024-06-21T17:32:08.628Z"
   },
   {
    "duration": 8,
    "start_time": "2024-06-21T17:32:13.433Z"
   },
   {
    "duration": 37,
    "start_time": "2024-06-21T17:32:24.698Z"
   },
   {
    "duration": 14,
    "start_time": "2024-06-21T17:32:32.772Z"
   },
   {
    "duration": 18,
    "start_time": "2024-06-21T17:33:02.890Z"
   },
   {
    "duration": 195,
    "start_time": "2024-06-21T17:33:04.778Z"
   },
   {
    "duration": 1564,
    "start_time": "2024-06-21T17:33:40.694Z"
   },
   {
    "duration": 870,
    "start_time": "2024-06-21T17:33:42.261Z"
   },
   {
    "duration": 105,
    "start_time": "2024-06-21T17:33:43.134Z"
   },
   {
    "duration": 19,
    "start_time": "2024-06-21T17:33:43.242Z"
   },
   {
    "duration": 49,
    "start_time": "2024-06-21T17:33:43.266Z"
   },
   {
    "duration": 13,
    "start_time": "2024-06-21T17:33:43.321Z"
   },
   {
    "duration": 7,
    "start_time": "2024-06-21T17:33:43.337Z"
   },
   {
    "duration": 13,
    "start_time": "2024-06-21T17:33:43.347Z"
   },
   {
    "duration": 42,
    "start_time": "2024-06-21T17:33:43.366Z"
   },
   {
    "duration": 131,
    "start_time": "2024-06-21T17:33:43.412Z"
   },
   {
    "duration": 10,
    "start_time": "2024-06-21T17:33:43.546Z"
   },
   {
    "duration": 71,
    "start_time": "2024-06-21T17:33:43.559Z"
   },
   {
    "duration": 13,
    "start_time": "2024-06-21T17:33:43.634Z"
   },
   {
    "duration": 174,
    "start_time": "2024-06-21T17:33:43.654Z"
   },
   {
    "duration": 16,
    "start_time": "2024-06-21T17:33:43.830Z"
   },
   {
    "duration": 27,
    "start_time": "2024-06-21T17:33:43.849Z"
   },
   {
    "duration": 44,
    "start_time": "2024-06-21T17:33:43.879Z"
   },
   {
    "duration": 13,
    "start_time": "2024-06-21T17:33:43.926Z"
   },
   {
    "duration": 23,
    "start_time": "2024-06-21T17:33:43.944Z"
   },
   {
    "duration": 6,
    "start_time": "2024-06-21T17:33:44.011Z"
   },
   {
    "duration": 6,
    "start_time": "2024-06-21T17:33:44.020Z"
   },
   {
    "duration": 6,
    "start_time": "2024-06-21T17:33:44.029Z"
   },
   {
    "duration": 4,
    "start_time": "2024-06-21T17:33:44.039Z"
   },
   {
    "duration": 11,
    "start_time": "2024-06-21T17:33:44.046Z"
   },
   {
    "duration": 773,
    "start_time": "2024-06-21T17:33:44.060Z"
   },
   {
    "duration": 0,
    "start_time": "2024-06-21T17:33:44.837Z"
   },
   {
    "duration": 0,
    "start_time": "2024-06-21T17:33:44.838Z"
   },
   {
    "duration": 0,
    "start_time": "2024-06-21T17:33:44.841Z"
   },
   {
    "duration": 0,
    "start_time": "2024-06-21T17:33:44.844Z"
   },
   {
    "duration": 0,
    "start_time": "2024-06-21T17:33:44.846Z"
   },
   {
    "duration": 0,
    "start_time": "2024-06-21T17:33:44.847Z"
   },
   {
    "duration": 0,
    "start_time": "2024-06-21T17:33:44.849Z"
   },
   {
    "duration": 0,
    "start_time": "2024-06-21T17:33:44.851Z"
   },
   {
    "duration": 0,
    "start_time": "2024-06-21T17:33:44.853Z"
   },
   {
    "duration": 0,
    "start_time": "2024-06-21T17:33:44.855Z"
   },
   {
    "duration": 0,
    "start_time": "2024-06-21T17:33:44.857Z"
   },
   {
    "duration": 0,
    "start_time": "2024-06-21T17:33:44.858Z"
   },
   {
    "duration": 0,
    "start_time": "2024-06-21T17:33:44.860Z"
   },
   {
    "duration": 0,
    "start_time": "2024-06-21T17:33:44.861Z"
   },
   {
    "duration": 0,
    "start_time": "2024-06-21T17:33:44.907Z"
   },
   {
    "duration": 1,
    "start_time": "2024-06-21T17:33:44.909Z"
   },
   {
    "duration": 0,
    "start_time": "2024-06-21T17:33:44.912Z"
   },
   {
    "duration": 0,
    "start_time": "2024-06-21T17:33:44.914Z"
   },
   {
    "duration": 0,
    "start_time": "2024-06-21T17:33:44.916Z"
   },
   {
    "duration": 0,
    "start_time": "2024-06-21T17:33:44.918Z"
   },
   {
    "duration": 0,
    "start_time": "2024-06-21T17:33:44.919Z"
   },
   {
    "duration": 31,
    "start_time": "2024-06-21T17:33:51.503Z"
   },
   {
    "duration": 28,
    "start_time": "2024-06-21T17:39:26.273Z"
   },
   {
    "duration": 11,
    "start_time": "2024-06-21T17:39:50.414Z"
   },
   {
    "duration": 114,
    "start_time": "2024-06-21T17:39:52.321Z"
   },
   {
    "duration": 25,
    "start_time": "2024-06-21T17:41:57.947Z"
   },
   {
    "duration": 16,
    "start_time": "2024-06-21T17:42:05.708Z"
   },
   {
    "duration": 12,
    "start_time": "2024-06-21T17:42:06.407Z"
   },
   {
    "duration": 24,
    "start_time": "2024-06-21T17:42:06.884Z"
   },
   {
    "duration": 7,
    "start_time": "2024-06-21T17:42:08.484Z"
   },
   {
    "duration": 5,
    "start_time": "2024-06-21T17:42:08.921Z"
   },
   {
    "duration": 6,
    "start_time": "2024-06-21T17:42:09.112Z"
   },
   {
    "duration": 4,
    "start_time": "2024-06-21T17:42:10.304Z"
   },
   {
    "duration": 16,
    "start_time": "2024-06-21T17:42:10.689Z"
   },
   {
    "duration": 128,
    "start_time": "2024-06-21T17:42:11.455Z"
   },
   {
    "duration": 11,
    "start_time": "2024-06-21T17:42:41.663Z"
   },
   {
    "duration": 7,
    "start_time": "2024-06-21T17:42:46.814Z"
   },
   {
    "duration": 11,
    "start_time": "2024-06-21T17:43:00.447Z"
   },
   {
    "duration": 13,
    "start_time": "2024-06-21T17:43:08.247Z"
   },
   {
    "duration": 13,
    "start_time": "2024-06-21T17:43:41.127Z"
   },
   {
    "duration": 36,
    "start_time": "2024-06-21T17:43:44.844Z"
   },
   {
    "duration": 24,
    "start_time": "2024-06-21T17:43:49.661Z"
   },
   {
    "duration": 22,
    "start_time": "2024-06-21T17:43:59.834Z"
   },
   {
    "duration": 22,
    "start_time": "2024-06-21T17:44:08.047Z"
   },
   {
    "duration": 5,
    "start_time": "2024-06-21T17:44:48.217Z"
   },
   {
    "duration": 12,
    "start_time": "2024-06-21T17:44:51.224Z"
   },
   {
    "duration": 121,
    "start_time": "2024-06-21T17:44:52.049Z"
   },
   {
    "duration": 12,
    "start_time": "2024-06-21T17:45:27.519Z"
   },
   {
    "duration": 7,
    "start_time": "2024-06-21T17:45:30.614Z"
   },
   {
    "duration": 14,
    "start_time": "2024-06-21T17:45:34.109Z"
   },
   {
    "duration": 19,
    "start_time": "2024-06-21T17:46:02.309Z"
   },
   {
    "duration": 9,
    "start_time": "2024-06-21T17:46:10.180Z"
   },
   {
    "duration": 9,
    "start_time": "2024-06-21T17:46:14.007Z"
   },
   {
    "duration": 14,
    "start_time": "2024-06-21T17:46:18.078Z"
   },
   {
    "duration": 8,
    "start_time": "2024-06-21T17:46:53.889Z"
   },
   {
    "duration": 11,
    "start_time": "2024-06-21T17:47:01.308Z"
   },
   {
    "duration": 4,
    "start_time": "2024-06-21T17:47:49.321Z"
   },
   {
    "duration": 118,
    "start_time": "2024-06-21T17:47:51.173Z"
   },
   {
    "duration": 6,
    "start_time": "2024-06-21T17:48:30.847Z"
   },
   {
    "duration": 116,
    "start_time": "2024-06-21T17:48:31.366Z"
   },
   {
    "duration": 13,
    "start_time": "2024-06-21T17:48:44.713Z"
   },
   {
    "duration": 1614,
    "start_time": "2024-06-21T17:49:05.333Z"
   },
   {
    "duration": 1104,
    "start_time": "2024-06-21T17:49:06.951Z"
   },
   {
    "duration": 109,
    "start_time": "2024-06-21T17:49:08.064Z"
   },
   {
    "duration": 37,
    "start_time": "2024-06-21T17:49:08.177Z"
   },
   {
    "duration": 32,
    "start_time": "2024-06-21T17:49:08.217Z"
   },
   {
    "duration": 21,
    "start_time": "2024-06-21T17:49:09.572Z"
   },
   {
    "duration": 14,
    "start_time": "2024-06-21T17:49:10.836Z"
   },
   {
    "duration": 20,
    "start_time": "2024-06-21T17:49:11.202Z"
   },
   {
    "duration": 27,
    "start_time": "2024-06-21T17:49:12.071Z"
   },
   {
    "duration": 227,
    "start_time": "2024-06-21T17:49:13.101Z"
   },
   {
    "duration": 11,
    "start_time": "2024-06-21T17:49:13.967Z"
   },
   {
    "duration": 61,
    "start_time": "2024-06-21T17:49:14.427Z"
   },
   {
    "duration": 14,
    "start_time": "2024-06-21T17:49:14.891Z"
   },
   {
    "duration": 205,
    "start_time": "2024-06-21T17:49:15.337Z"
   },
   {
    "duration": 15,
    "start_time": "2024-06-21T17:49:46.661Z"
   },
   {
    "duration": 28,
    "start_time": "2024-06-21T17:49:47.713Z"
   },
   {
    "duration": 17,
    "start_time": "2024-06-21T17:50:06.398Z"
   },
   {
    "duration": 13,
    "start_time": "2024-06-21T17:50:07.283Z"
   },
   {
    "duration": 21,
    "start_time": "2024-06-21T17:50:16.922Z"
   },
   {
    "duration": 6,
    "start_time": "2024-06-21T17:50:20.052Z"
   },
   {
    "duration": 5,
    "start_time": "2024-06-21T17:50:20.411Z"
   },
   {
    "duration": 10,
    "start_time": "2024-06-21T17:50:20.705Z"
   },
   {
    "duration": 5,
    "start_time": "2024-06-21T17:50:21.513Z"
   },
   {
    "duration": 11,
    "start_time": "2024-06-21T17:50:22.717Z"
   },
   {
    "duration": 707,
    "start_time": "2024-06-21T17:50:23.347Z"
   },
   {
    "duration": 7,
    "start_time": "2024-06-21T17:50:42.414Z"
   },
   {
    "duration": 91,
    "start_time": "2024-06-21T17:51:39.576Z"
   },
   {
    "duration": 115,
    "start_time": "2024-06-21T17:52:12.952Z"
   },
   {
    "duration": 1501,
    "start_time": "2024-06-21T17:52:45.175Z"
   },
   {
    "duration": 921,
    "start_time": "2024-06-21T17:52:46.680Z"
   },
   {
    "duration": 105,
    "start_time": "2024-06-21T17:52:47.606Z"
   },
   {
    "duration": 23,
    "start_time": "2024-06-21T17:52:47.715Z"
   },
   {
    "duration": 27,
    "start_time": "2024-06-21T17:52:47.744Z"
   },
   {
    "duration": 39,
    "start_time": "2024-06-21T17:52:47.775Z"
   },
   {
    "duration": 8,
    "start_time": "2024-06-21T17:52:47.818Z"
   },
   {
    "duration": 13,
    "start_time": "2024-06-21T17:52:47.830Z"
   },
   {
    "duration": 15,
    "start_time": "2024-06-21T17:52:47.847Z"
   },
   {
    "duration": 182,
    "start_time": "2024-06-21T17:52:47.865Z"
   },
   {
    "duration": 13,
    "start_time": "2024-06-21T17:52:48.050Z"
   },
   {
    "duration": 60,
    "start_time": "2024-06-21T17:52:48.067Z"
   },
   {
    "duration": 13,
    "start_time": "2024-06-21T17:52:48.131Z"
   },
   {
    "duration": 200,
    "start_time": "2024-06-21T17:52:48.153Z"
   },
   {
    "duration": 15,
    "start_time": "2024-06-21T17:52:48.361Z"
   },
   {
    "duration": 45,
    "start_time": "2024-06-21T17:52:48.380Z"
   },
   {
    "duration": 17,
    "start_time": "2024-06-21T17:52:48.429Z"
   },
   {
    "duration": 14,
    "start_time": "2024-06-21T17:52:48.449Z"
   },
   {
    "duration": 54,
    "start_time": "2024-06-21T17:52:48.469Z"
   },
   {
    "duration": 6,
    "start_time": "2024-06-21T17:52:48.526Z"
   },
   {
    "duration": 6,
    "start_time": "2024-06-21T17:52:48.535Z"
   },
   {
    "duration": 5,
    "start_time": "2024-06-21T17:52:48.548Z"
   },
   {
    "duration": 49,
    "start_time": "2024-06-21T17:52:48.557Z"
   },
   {
    "duration": 13,
    "start_time": "2024-06-21T17:52:48.609Z"
   },
   {
    "duration": 723,
    "start_time": "2024-06-21T17:52:48.631Z"
   },
   {
    "duration": 0,
    "start_time": "2024-06-21T17:52:49.358Z"
   },
   {
    "duration": 0,
    "start_time": "2024-06-21T17:52:49.361Z"
   },
   {
    "duration": 0,
    "start_time": "2024-06-21T17:52:49.366Z"
   },
   {
    "duration": 0,
    "start_time": "2024-06-21T17:52:49.368Z"
   },
   {
    "duration": 0,
    "start_time": "2024-06-21T17:52:49.371Z"
   },
   {
    "duration": 0,
    "start_time": "2024-06-21T17:52:49.373Z"
   },
   {
    "duration": 0,
    "start_time": "2024-06-21T17:52:49.375Z"
   },
   {
    "duration": 0,
    "start_time": "2024-06-21T17:52:49.406Z"
   },
   {
    "duration": 0,
    "start_time": "2024-06-21T17:52:49.411Z"
   },
   {
    "duration": 0,
    "start_time": "2024-06-21T17:52:49.413Z"
   },
   {
    "duration": 0,
    "start_time": "2024-06-21T17:52:49.416Z"
   },
   {
    "duration": 0,
    "start_time": "2024-06-21T17:52:49.419Z"
   },
   {
    "duration": 0,
    "start_time": "2024-06-21T17:52:49.421Z"
   },
   {
    "duration": 0,
    "start_time": "2024-06-21T17:52:49.423Z"
   },
   {
    "duration": 0,
    "start_time": "2024-06-21T17:52:49.426Z"
   },
   {
    "duration": 0,
    "start_time": "2024-06-21T17:52:49.428Z"
   },
   {
    "duration": 0,
    "start_time": "2024-06-21T17:52:49.432Z"
   },
   {
    "duration": 0,
    "start_time": "2024-06-21T17:52:49.435Z"
   },
   {
    "duration": 0,
    "start_time": "2024-06-21T17:52:49.437Z"
   },
   {
    "duration": 0,
    "start_time": "2024-06-21T17:52:49.440Z"
   },
   {
    "duration": 0,
    "start_time": "2024-06-21T17:52:49.442Z"
   },
   {
    "duration": 13,
    "start_time": "2024-06-21T17:53:38.762Z"
   },
   {
    "duration": 6,
    "start_time": "2024-06-21T17:54:11.581Z"
   },
   {
    "duration": 12,
    "start_time": "2024-06-21T17:54:18.504Z"
   },
   {
    "duration": 6,
    "start_time": "2024-06-21T17:54:24.608Z"
   },
   {
    "duration": 5,
    "start_time": "2024-06-21T17:54:24.899Z"
   },
   {
    "duration": 6,
    "start_time": "2024-06-21T17:54:25.139Z"
   },
   {
    "duration": 4,
    "start_time": "2024-06-21T17:54:25.754Z"
   },
   {
    "duration": 12,
    "start_time": "2024-06-21T17:54:26.093Z"
   },
   {
    "duration": 128,
    "start_time": "2024-06-21T17:54:26.914Z"
   },
   {
    "duration": 13,
    "start_time": "2024-06-21T17:56:46.521Z"
   },
   {
    "duration": 137,
    "start_time": "2024-06-21T17:56:47.347Z"
   },
   {
    "duration": 28,
    "start_time": "2024-06-21T17:57:07.220Z"
   },
   {
    "duration": 10,
    "start_time": "2024-06-21T17:57:25.265Z"
   },
   {
    "duration": 8,
    "start_time": "2024-06-21T17:57:31.541Z"
   },
   {
    "duration": 8,
    "start_time": "2024-06-21T17:57:40.682Z"
   },
   {
    "duration": 1578,
    "start_time": "2024-06-21T17:58:01.303Z"
   },
   {
    "duration": 963,
    "start_time": "2024-06-21T17:58:02.886Z"
   },
   {
    "duration": 107,
    "start_time": "2024-06-21T17:58:03.852Z"
   },
   {
    "duration": 20,
    "start_time": "2024-06-21T17:58:03.963Z"
   },
   {
    "duration": 31,
    "start_time": "2024-06-21T17:58:04.006Z"
   },
   {
    "duration": 12,
    "start_time": "2024-06-21T17:58:04.043Z"
   },
   {
    "duration": 8,
    "start_time": "2024-06-21T17:58:04.061Z"
   },
   {
    "duration": 43,
    "start_time": "2024-06-21T17:58:04.072Z"
   },
   {
    "duration": 15,
    "start_time": "2024-06-21T17:58:04.119Z"
   },
   {
    "duration": 154,
    "start_time": "2024-06-21T17:58:04.138Z"
   },
   {
    "duration": 17,
    "start_time": "2024-06-21T17:58:04.298Z"
   },
   {
    "duration": 45,
    "start_time": "2024-06-21T17:58:04.321Z"
   },
   {
    "duration": 42,
    "start_time": "2024-06-21T17:58:04.369Z"
   },
   {
    "duration": 170,
    "start_time": "2024-06-21T17:58:04.418Z"
   },
   {
    "duration": 26,
    "start_time": "2024-06-21T17:58:04.591Z"
   },
   {
    "duration": 27,
    "start_time": "2024-06-21T17:58:04.622Z"
   },
   {
    "duration": 17,
    "start_time": "2024-06-21T17:58:04.652Z"
   },
   {
    "duration": 45,
    "start_time": "2024-06-21T17:58:04.671Z"
   },
   {
    "duration": 21,
    "start_time": "2024-06-21T17:58:04.719Z"
   },
   {
    "duration": 8,
    "start_time": "2024-06-21T17:58:04.743Z"
   },
   {
    "duration": 6,
    "start_time": "2024-06-21T17:58:04.755Z"
   },
   {
    "duration": 6,
    "start_time": "2024-06-21T17:58:04.805Z"
   },
   {
    "duration": 6,
    "start_time": "2024-06-21T17:58:04.815Z"
   },
   {
    "duration": 13,
    "start_time": "2024-06-21T17:58:04.826Z"
   },
   {
    "duration": 743,
    "start_time": "2024-06-21T17:58:04.842Z"
   },
   {
    "duration": 0,
    "start_time": "2024-06-21T17:58:05.589Z"
   },
   {
    "duration": 0,
    "start_time": "2024-06-21T17:58:05.591Z"
   },
   {
    "duration": 0,
    "start_time": "2024-06-21T17:58:05.606Z"
   },
   {
    "duration": 0,
    "start_time": "2024-06-21T17:58:05.608Z"
   },
   {
    "duration": 0,
    "start_time": "2024-06-21T17:58:05.610Z"
   },
   {
    "duration": 0,
    "start_time": "2024-06-21T17:58:05.613Z"
   },
   {
    "duration": 0,
    "start_time": "2024-06-21T17:58:05.614Z"
   },
   {
    "duration": 0,
    "start_time": "2024-06-21T17:58:05.616Z"
   },
   {
    "duration": 0,
    "start_time": "2024-06-21T17:58:05.617Z"
   },
   {
    "duration": 0,
    "start_time": "2024-06-21T17:58:05.620Z"
   },
   {
    "duration": 0,
    "start_time": "2024-06-21T17:58:05.621Z"
   },
   {
    "duration": 0,
    "start_time": "2024-06-21T17:58:05.623Z"
   },
   {
    "duration": 0,
    "start_time": "2024-06-21T17:58:05.625Z"
   },
   {
    "duration": 0,
    "start_time": "2024-06-21T17:58:05.627Z"
   },
   {
    "duration": 0,
    "start_time": "2024-06-21T17:58:05.628Z"
   },
   {
    "duration": 0,
    "start_time": "2024-06-21T17:58:05.630Z"
   },
   {
    "duration": 0,
    "start_time": "2024-06-21T17:58:05.632Z"
   },
   {
    "duration": 0,
    "start_time": "2024-06-21T17:58:05.633Z"
   },
   {
    "duration": 0,
    "start_time": "2024-06-21T17:58:05.635Z"
   },
   {
    "duration": 0,
    "start_time": "2024-06-21T17:58:05.637Z"
   },
   {
    "duration": 0,
    "start_time": "2024-06-21T17:58:05.646Z"
   },
   {
    "duration": 8,
    "start_time": "2024-06-21T17:58:26.073Z"
   },
   {
    "duration": 6,
    "start_time": "2024-06-21T17:58:43.482Z"
   },
   {
    "duration": 9,
    "start_time": "2024-06-21T17:59:11.374Z"
   },
   {
    "duration": 8,
    "start_time": "2024-06-21T17:59:19.883Z"
   },
   {
    "duration": 121,
    "start_time": "2024-06-21T18:00:54.167Z"
   },
   {
    "duration": 141,
    "start_time": "2024-06-21T18:02:17.555Z"
   },
   {
    "duration": 11,
    "start_time": "2024-06-21T18:07:39.069Z"
   },
   {
    "duration": 137,
    "start_time": "2024-06-21T18:07:41.085Z"
   },
   {
    "duration": 10,
    "start_time": "2024-06-21T18:09:08.021Z"
   },
   {
    "duration": 164,
    "start_time": "2024-06-21T18:09:10.503Z"
   },
   {
    "duration": 11,
    "start_time": "2024-06-21T18:10:09.281Z"
   },
   {
    "duration": 119,
    "start_time": "2024-06-21T18:10:09.937Z"
   },
   {
    "duration": 7,
    "start_time": "2024-06-21T18:13:10.403Z"
   },
   {
    "duration": 7,
    "start_time": "2024-06-21T18:14:04.992Z"
   },
   {
    "duration": 111,
    "start_time": "2024-06-21T18:14:29.048Z"
   },
   {
    "duration": 144,
    "start_time": "2024-06-21T18:14:55.576Z"
   },
   {
    "duration": 7,
    "start_time": "2024-06-21T18:15:15.588Z"
   },
   {
    "duration": 8,
    "start_time": "2024-06-21T18:15:27.852Z"
   },
   {
    "duration": 7,
    "start_time": "2024-06-21T18:15:33.863Z"
   },
   {
    "duration": 6,
    "start_time": "2024-06-21T18:15:41.783Z"
   },
   {
    "duration": 7,
    "start_time": "2024-06-21T18:15:46.457Z"
   },
   {
    "duration": 146,
    "start_time": "2024-06-21T18:16:17.343Z"
   },
   {
    "duration": 1539,
    "start_time": "2024-06-21T18:16:28.143Z"
   },
   {
    "duration": 970,
    "start_time": "2024-06-21T18:16:29.686Z"
   },
   {
    "duration": 112,
    "start_time": "2024-06-21T18:16:30.659Z"
   },
   {
    "duration": 25,
    "start_time": "2024-06-21T18:16:30.776Z"
   },
   {
    "duration": 45,
    "start_time": "2024-06-21T18:16:30.804Z"
   },
   {
    "duration": 19,
    "start_time": "2024-06-21T18:16:30.852Z"
   },
   {
    "duration": 11,
    "start_time": "2024-06-21T18:16:30.875Z"
   },
   {
    "duration": 25,
    "start_time": "2024-06-21T18:16:30.893Z"
   },
   {
    "duration": 21,
    "start_time": "2024-06-21T18:16:30.922Z"
   },
   {
    "duration": 145,
    "start_time": "2024-06-21T18:16:30.950Z"
   },
   {
    "duration": 32,
    "start_time": "2024-06-21T18:16:31.098Z"
   },
   {
    "duration": 49,
    "start_time": "2024-06-21T18:16:31.133Z"
   },
   {
    "duration": 12,
    "start_time": "2024-06-21T18:16:31.184Z"
   },
   {
    "duration": 182,
    "start_time": "2024-06-21T18:16:31.199Z"
   },
   {
    "duration": 15,
    "start_time": "2024-06-21T18:16:31.384Z"
   },
   {
    "duration": 33,
    "start_time": "2024-06-21T18:16:31.407Z"
   },
   {
    "duration": 17,
    "start_time": "2024-06-21T18:16:31.443Z"
   },
   {
    "duration": 13,
    "start_time": "2024-06-21T18:16:31.463Z"
   },
   {
    "duration": 60,
    "start_time": "2024-06-21T18:16:31.478Z"
   },
   {
    "duration": 5,
    "start_time": "2024-06-21T18:16:31.541Z"
   },
   {
    "duration": 6,
    "start_time": "2024-06-21T18:16:31.549Z"
   },
   {
    "duration": 5,
    "start_time": "2024-06-21T18:16:31.558Z"
   },
   {
    "duration": 6,
    "start_time": "2024-06-21T18:16:31.566Z"
   },
   {
    "duration": 17,
    "start_time": "2024-06-21T18:16:31.609Z"
   },
   {
    "duration": 728,
    "start_time": "2024-06-21T18:16:31.635Z"
   },
   {
    "duration": 0,
    "start_time": "2024-06-21T18:16:32.367Z"
   },
   {
    "duration": 0,
    "start_time": "2024-06-21T18:16:32.370Z"
   },
   {
    "duration": 0,
    "start_time": "2024-06-21T18:16:32.372Z"
   },
   {
    "duration": 1,
    "start_time": "2024-06-21T18:16:32.375Z"
   },
   {
    "duration": 0,
    "start_time": "2024-06-21T18:16:32.377Z"
   },
   {
    "duration": 0,
    "start_time": "2024-06-21T18:16:32.380Z"
   },
   {
    "duration": 0,
    "start_time": "2024-06-21T18:16:32.382Z"
   },
   {
    "duration": 0,
    "start_time": "2024-06-21T18:16:32.407Z"
   },
   {
    "duration": 0,
    "start_time": "2024-06-21T18:16:32.409Z"
   },
   {
    "duration": 0,
    "start_time": "2024-06-21T18:16:32.411Z"
   },
   {
    "duration": 0,
    "start_time": "2024-06-21T18:16:32.415Z"
   },
   {
    "duration": 0,
    "start_time": "2024-06-21T18:16:32.417Z"
   },
   {
    "duration": 0,
    "start_time": "2024-06-21T18:16:32.419Z"
   },
   {
    "duration": 0,
    "start_time": "2024-06-21T18:16:32.421Z"
   },
   {
    "duration": 0,
    "start_time": "2024-06-21T18:16:32.423Z"
   },
   {
    "duration": 0,
    "start_time": "2024-06-21T18:16:32.426Z"
   },
   {
    "duration": 0,
    "start_time": "2024-06-21T18:16:32.428Z"
   },
   {
    "duration": 0,
    "start_time": "2024-06-21T18:16:32.430Z"
   },
   {
    "duration": 0,
    "start_time": "2024-06-21T18:16:32.433Z"
   },
   {
    "duration": 0,
    "start_time": "2024-06-21T18:16:32.438Z"
   },
   {
    "duration": 0,
    "start_time": "2024-06-21T18:16:32.439Z"
   },
   {
    "duration": 18,
    "start_time": "2024-06-21T18:17:40.582Z"
   },
   {
    "duration": 8,
    "start_time": "2024-06-21T18:18:06.838Z"
   },
   {
    "duration": 19,
    "start_time": "2024-06-21T18:18:11.074Z"
   },
   {
    "duration": 12,
    "start_time": "2024-06-21T18:18:27.867Z"
   },
   {
    "duration": 15,
    "start_time": "2024-06-21T18:18:45.610Z"
   },
   {
    "duration": 125,
    "start_time": "2024-06-21T18:18:47.336Z"
   },
   {
    "duration": 8,
    "start_time": "2024-06-21T18:19:04.191Z"
   },
   {
    "duration": 7,
    "start_time": "2024-06-21T18:19:10.885Z"
   },
   {
    "duration": 4,
    "start_time": "2024-06-21T18:22:23.557Z"
   },
   {
    "duration": 570,
    "start_time": "2024-06-21T18:23:45.401Z"
   },
   {
    "duration": 64,
    "start_time": "2024-06-21T18:25:38.717Z"
   },
   {
    "duration": 61,
    "start_time": "2024-06-21T18:27:17.524Z"
   },
   {
    "duration": 9,
    "start_time": "2024-06-21T18:28:37.728Z"
   },
   {
    "duration": 4,
    "start_time": "2024-06-21T18:29:08.761Z"
   },
   {
    "duration": 4,
    "start_time": "2024-06-21T18:29:26.059Z"
   },
   {
    "duration": 8,
    "start_time": "2024-06-21T18:29:28.952Z"
   },
   {
    "duration": 544,
    "start_time": "2024-06-21T18:29:56.836Z"
   },
   {
    "duration": 541,
    "start_time": "2024-06-21T18:30:33.055Z"
   },
   {
    "duration": 35,
    "start_time": "2024-06-21T18:30:51.406Z"
   },
   {
    "duration": 30,
    "start_time": "2024-06-21T18:31:38.622Z"
   },
   {
    "duration": 6,
    "start_time": "2024-06-21T18:32:07.999Z"
   },
   {
    "duration": 30,
    "start_time": "2024-06-21T18:32:38.537Z"
   },
   {
    "duration": 1429,
    "start_time": "2024-06-21T18:32:58.506Z"
   },
   {
    "duration": 801,
    "start_time": "2024-06-21T18:32:59.939Z"
   },
   {
    "duration": 100,
    "start_time": "2024-06-21T18:33:00.742Z"
   },
   {
    "duration": 20,
    "start_time": "2024-06-21T18:33:00.847Z"
   },
   {
    "duration": 48,
    "start_time": "2024-06-21T18:33:00.870Z"
   },
   {
    "duration": 10,
    "start_time": "2024-06-21T18:33:00.921Z"
   },
   {
    "duration": 8,
    "start_time": "2024-06-21T18:33:00.934Z"
   },
   {
    "duration": 13,
    "start_time": "2024-06-21T18:33:00.944Z"
   },
   {
    "duration": 46,
    "start_time": "2024-06-21T18:33:00.961Z"
   },
   {
    "duration": 122,
    "start_time": "2024-06-21T18:33:01.013Z"
   },
   {
    "duration": 9,
    "start_time": "2024-06-21T18:33:01.138Z"
   },
   {
    "duration": 61,
    "start_time": "2024-06-21T18:33:01.150Z"
   },
   {
    "duration": 11,
    "start_time": "2024-06-21T18:33:01.213Z"
   },
   {
    "duration": 180,
    "start_time": "2024-06-21T18:33:01.227Z"
   },
   {
    "duration": 15,
    "start_time": "2024-06-21T18:33:01.410Z"
   },
   {
    "duration": 21,
    "start_time": "2024-06-21T18:33:01.428Z"
   },
   {
    "duration": 54,
    "start_time": "2024-06-21T18:33:01.453Z"
   },
   {
    "duration": 13,
    "start_time": "2024-06-21T18:33:01.511Z"
   },
   {
    "duration": 22,
    "start_time": "2024-06-21T18:33:01.528Z"
   },
   {
    "duration": 8,
    "start_time": "2024-06-21T18:33:01.553Z"
   },
   {
    "duration": 47,
    "start_time": "2024-06-21T18:33:01.564Z"
   },
   {
    "duration": 7,
    "start_time": "2024-06-21T18:33:01.614Z"
   },
   {
    "duration": 5,
    "start_time": "2024-06-21T18:33:17.115Z"
   },
   {
    "duration": 10,
    "start_time": "2024-06-21T18:33:18.856Z"
   },
   {
    "duration": 637,
    "start_time": "2024-06-21T18:33:21.530Z"
   },
   {
    "duration": 7,
    "start_time": "2024-06-21T18:33:35.014Z"
   },
   {
    "duration": 6,
    "start_time": "2024-06-21T18:33:38.962Z"
   },
   {
    "duration": 6,
    "start_time": "2024-06-21T18:33:42.091Z"
   },
   {
    "duration": 869,
    "start_time": "2024-06-21T18:34:53.144Z"
   },
   {
    "duration": 73,
    "start_time": "2024-06-21T18:35:01.914Z"
   },
   {
    "duration": 156,
    "start_time": "2024-06-21T18:35:10.038Z"
   },
   {
    "duration": 9,
    "start_time": "2024-06-21T18:35:25.094Z"
   },
   {
    "duration": 6,
    "start_time": "2024-06-21T18:35:45.445Z"
   },
   {
    "duration": 1552,
    "start_time": "2024-06-21T18:37:13.139Z"
   },
   {
    "duration": 872,
    "start_time": "2024-06-21T18:37:14.694Z"
   },
   {
    "duration": 97,
    "start_time": "2024-06-21T18:37:15.569Z"
   },
   {
    "duration": 38,
    "start_time": "2024-06-21T18:37:15.671Z"
   },
   {
    "duration": 25,
    "start_time": "2024-06-21T18:37:15.713Z"
   },
   {
    "duration": 11,
    "start_time": "2024-06-21T18:37:15.740Z"
   },
   {
    "duration": 8,
    "start_time": "2024-06-21T18:37:15.754Z"
   },
   {
    "duration": 46,
    "start_time": "2024-06-21T18:37:15.766Z"
   },
   {
    "duration": 16,
    "start_time": "2024-06-21T18:37:15.815Z"
   },
   {
    "duration": 144,
    "start_time": "2024-06-21T18:37:15.838Z"
   },
   {
    "duration": 22,
    "start_time": "2024-06-21T18:37:15.985Z"
   },
   {
    "duration": 38,
    "start_time": "2024-06-21T18:37:16.010Z"
   },
   {
    "duration": 13,
    "start_time": "2024-06-21T18:37:16.051Z"
   },
   {
    "duration": 212,
    "start_time": "2024-06-21T18:37:16.067Z"
   },
   {
    "duration": 21,
    "start_time": "2024-06-21T18:37:16.289Z"
   },
   {
    "duration": 26,
    "start_time": "2024-06-21T18:37:16.314Z"
   },
   {
    "duration": 20,
    "start_time": "2024-06-21T18:37:16.344Z"
   },
   {
    "duration": 44,
    "start_time": "2024-06-21T18:37:16.368Z"
   },
   {
    "duration": 21,
    "start_time": "2024-06-21T18:37:16.415Z"
   },
   {
    "duration": 10,
    "start_time": "2024-06-21T18:37:16.439Z"
   },
   {
    "duration": 5,
    "start_time": "2024-06-21T18:37:16.453Z"
   },
   {
    "duration": 5,
    "start_time": "2024-06-21T18:37:18.371Z"
   },
   {
    "duration": 5,
    "start_time": "2024-06-21T18:37:20.406Z"
   },
   {
    "duration": 6,
    "start_time": "2024-06-21T18:37:22.336Z"
   },
   {
    "duration": 7,
    "start_time": "2024-06-21T18:37:22.969Z"
   },
   {
    "duration": 5,
    "start_time": "2024-06-21T18:37:23.297Z"
   },
   {
    "duration": 22,
    "start_time": "2024-06-21T18:37:34.196Z"
   },
   {
    "duration": 449,
    "start_time": "2024-06-21T18:38:50.021Z"
   },
   {
    "duration": 5,
    "start_time": "2024-06-21T18:38:53.790Z"
   },
   {
    "duration": 11,
    "start_time": "2024-06-21T18:38:54.269Z"
   },
   {
    "duration": 6,
    "start_time": "2024-06-21T18:39:03.552Z"
   },
   {
    "duration": 10,
    "start_time": "2024-06-21T18:39:12.111Z"
   },
   {
    "duration": 30,
    "start_time": "2024-06-21T18:39:42.891Z"
   },
   {
    "duration": 33,
    "start_time": "2024-06-21T18:39:48.496Z"
   },
   {
    "duration": 13,
    "start_time": "2024-06-21T18:39:54.502Z"
   },
   {
    "duration": 9,
    "start_time": "2024-06-21T18:40:01.822Z"
   },
   {
    "duration": 13,
    "start_time": "2024-06-21T18:40:04.944Z"
   },
   {
    "duration": 14,
    "start_time": "2024-06-21T18:40:08.303Z"
   },
   {
    "duration": 9,
    "start_time": "2024-06-21T18:40:16.575Z"
   },
   {
    "duration": 10,
    "start_time": "2024-06-21T18:40:21.734Z"
   },
   {
    "duration": 13,
    "start_time": "2024-06-21T18:40:28.134Z"
   },
   {
    "duration": 11,
    "start_time": "2024-06-21T18:41:30.362Z"
   },
   {
    "duration": 8,
    "start_time": "2024-06-21T18:41:38.614Z"
   },
   {
    "duration": 52,
    "start_time": "2024-06-21T18:41:40.543Z"
   },
   {
    "duration": 6,
    "start_time": "2024-06-21T18:42:57.051Z"
   },
   {
    "duration": 4,
    "start_time": "2024-06-21T18:43:19.166Z"
   },
   {
    "duration": 44,
    "start_time": "2024-06-21T18:43:21.108Z"
   },
   {
    "duration": 5,
    "start_time": "2024-06-21T18:43:44.264Z"
   },
   {
    "duration": 45,
    "start_time": "2024-06-21T18:43:46.581Z"
   },
   {
    "duration": 5,
    "start_time": "2024-06-21T18:44:52.407Z"
   },
   {
    "duration": 10,
    "start_time": "2024-06-21T18:44:52.919Z"
   },
   {
    "duration": 10,
    "start_time": "2024-06-21T18:45:05.195Z"
   },
   {
    "duration": 10,
    "start_time": "2024-06-21T18:45:13.369Z"
   },
   {
    "duration": 5,
    "start_time": "2024-06-21T18:45:38.293Z"
   },
   {
    "duration": 12,
    "start_time": "2024-06-21T18:45:44.631Z"
   },
   {
    "duration": 11,
    "start_time": "2024-06-21T18:45:58.280Z"
   },
   {
    "duration": 349,
    "start_time": "2024-06-21T18:46:33.195Z"
   },
   {
    "duration": 112,
    "start_time": "2024-06-21T18:47:05.080Z"
   },
   {
    "duration": 10,
    "start_time": "2024-06-21T18:47:11.858Z"
   },
   {
    "duration": 6,
    "start_time": "2024-06-21T18:47:21.827Z"
   },
   {
    "duration": 110,
    "start_time": "2024-06-21T18:47:30.764Z"
   },
   {
    "duration": 113,
    "start_time": "2024-06-21T18:48:03.674Z"
   },
   {
    "duration": 111,
    "start_time": "2024-06-21T18:49:16.726Z"
   },
   {
    "duration": 4,
    "start_time": "2024-06-21T18:49:42.338Z"
   },
   {
    "duration": 118,
    "start_time": "2024-06-21T18:49:43.008Z"
   },
   {
    "duration": 111,
    "start_time": "2024-06-21T18:49:47.582Z"
   },
   {
    "duration": 6,
    "start_time": "2024-06-21T18:49:53.638Z"
   },
   {
    "duration": 10,
    "start_time": "2024-06-21T18:50:00.480Z"
   },
   {
    "duration": 10,
    "start_time": "2024-06-21T18:50:29.442Z"
   },
   {
    "duration": 128,
    "start_time": "2024-06-21T18:50:35.691Z"
   },
   {
    "duration": 6,
    "start_time": "2024-06-21T18:58:36.931Z"
   },
   {
    "duration": 5,
    "start_time": "2024-06-21T18:58:37.473Z"
   },
   {
    "duration": 4,
    "start_time": "2024-06-21T18:58:37.746Z"
   },
   {
    "duration": 6,
    "start_time": "2024-06-21T18:58:38.430Z"
   },
   {
    "duration": 11,
    "start_time": "2024-06-21T18:58:38.821Z"
   },
   {
    "duration": 118,
    "start_time": "2024-06-21T18:58:39.568Z"
   },
   {
    "duration": 4,
    "start_time": "2024-06-21T19:02:38.991Z"
   },
   {
    "duration": 17,
    "start_time": "2024-06-21T19:02:39.784Z"
   },
   {
    "duration": 7,
    "start_time": "2024-06-21T19:03:11.394Z"
   },
   {
    "duration": 30,
    "start_time": "2024-06-21T19:03:13.232Z"
   },
   {
    "duration": 7,
    "start_time": "2024-06-21T19:04:35.383Z"
   },
   {
    "duration": 4,
    "start_time": "2024-06-21T19:04:37.979Z"
   },
   {
    "duration": 4,
    "start_time": "2024-06-21T19:04:46.615Z"
   },
   {
    "duration": 5,
    "start_time": "2024-06-21T19:05:35.214Z"
   },
   {
    "duration": 4,
    "start_time": "2024-06-21T19:05:39.709Z"
   },
   {
    "duration": 11,
    "start_time": "2024-06-21T19:05:59.247Z"
   },
   {
    "duration": 7,
    "start_time": "2024-06-21T19:06:23.725Z"
   },
   {
    "duration": 13,
    "start_time": "2024-06-21T19:06:30.429Z"
   },
   {
    "duration": 25,
    "start_time": "2024-06-21T19:07:22.041Z"
   },
   {
    "duration": 963,
    "start_time": "2024-06-21T19:07:45.823Z"
   },
   {
    "duration": 264,
    "start_time": "2024-06-21T19:07:59.346Z"
   },
   {
    "duration": 26,
    "start_time": "2024-06-21T19:08:10.159Z"
   },
   {
    "duration": 12,
    "start_time": "2024-06-21T19:09:35.508Z"
   },
   {
    "duration": 6,
    "start_time": "2024-06-21T19:09:58.354Z"
   },
   {
    "duration": 12,
    "start_time": "2024-06-21T19:10:11.278Z"
   },
   {
    "duration": 4,
    "start_time": "2024-06-21T19:11:13.474Z"
   },
   {
    "duration": 11,
    "start_time": "2024-06-21T19:11:13.886Z"
   },
   {
    "duration": 9,
    "start_time": "2024-06-21T19:12:57.713Z"
   },
   {
    "duration": 7,
    "start_time": "2024-06-21T19:13:22.849Z"
   },
   {
    "duration": 5,
    "start_time": "2024-06-21T19:13:37.793Z"
   },
   {
    "duration": 8,
    "start_time": "2024-06-21T19:13:38.523Z"
   },
   {
    "duration": 116,
    "start_time": "2024-06-21T19:13:39.398Z"
   },
   {
    "duration": 5,
    "start_time": "2024-06-21T19:14:31.015Z"
   },
   {
    "duration": 11,
    "start_time": "2024-06-21T19:14:32.073Z"
   },
   {
    "duration": 8,
    "start_time": "2024-06-21T19:14:34.927Z"
   },
   {
    "duration": 133,
    "start_time": "2024-06-21T19:14:36.957Z"
   },
   {
    "duration": 9,
    "start_time": "2024-06-21T19:14:44.318Z"
   },
   {
    "duration": 11,
    "start_time": "2024-06-21T19:14:44.944Z"
   },
   {
    "duration": 116,
    "start_time": "2024-06-21T19:14:49.708Z"
   },
   {
    "duration": 83,
    "start_time": "2024-06-21T19:22:32.527Z"
   },
   {
    "duration": 10,
    "start_time": "2024-06-21T19:22:36.205Z"
   },
   {
    "duration": 9,
    "start_time": "2024-06-21T19:22:49.501Z"
   },
   {
    "duration": 9,
    "start_time": "2024-06-21T19:23:00.240Z"
   },
   {
    "duration": 8,
    "start_time": "2024-06-21T19:23:08.486Z"
   },
   {
    "duration": 4,
    "start_time": "2024-06-21T19:23:11.784Z"
   },
   {
    "duration": 10,
    "start_time": "2024-06-21T19:23:12.340Z"
   },
   {
    "duration": 68,
    "start_time": "2024-06-21T19:23:16.589Z"
   },
   {
    "duration": 8,
    "start_time": "2024-06-21T19:24:11.574Z"
   },
   {
    "duration": 7,
    "start_time": "2024-06-21T19:24:13.682Z"
   },
   {
    "duration": 9,
    "start_time": "2024-06-21T19:24:17.927Z"
   },
   {
    "duration": 8,
    "start_time": "2024-06-21T19:24:26.013Z"
   },
   {
    "duration": 4,
    "start_time": "2024-06-21T19:24:57.664Z"
   },
   {
    "duration": 9,
    "start_time": "2024-06-21T19:24:58.147Z"
   },
   {
    "duration": 8,
    "start_time": "2024-06-21T19:26:43.746Z"
   },
   {
    "duration": 4,
    "start_time": "2024-06-21T19:27:57.038Z"
   },
   {
    "duration": 189,
    "start_time": "2024-06-21T19:28:14.683Z"
   },
   {
    "duration": 99,
    "start_time": "2024-06-21T19:30:49.002Z"
   },
   {
    "duration": 91,
    "start_time": "2024-06-21T19:30:53.482Z"
   },
   {
    "duration": 7,
    "start_time": "2024-06-21T19:31:14.483Z"
   },
   {
    "duration": 564,
    "start_time": "2024-06-21T19:31:22.992Z"
   },
   {
    "duration": 33,
    "start_time": "2024-06-21T19:36:11.003Z"
   },
   {
    "duration": 32,
    "start_time": "2024-06-21T19:36:36.718Z"
   },
   {
    "duration": 133,
    "start_time": "2024-06-21T19:36:40.937Z"
   },
   {
    "duration": 5423,
    "start_time": "2024-06-21T21:30:51.511Z"
   },
   {
    "duration": 1128,
    "start_time": "2024-06-21T21:30:56.940Z"
   },
   {
    "duration": 40,
    "start_time": "2024-06-21T21:30:58.071Z"
   },
   {
    "duration": 47,
    "start_time": "2024-06-21T21:30:58.116Z"
   },
   {
    "duration": 14,
    "start_time": "2024-06-21T21:30:58.241Z"
   },
   {
    "duration": 14,
    "start_time": "2024-06-21T21:31:01.742Z"
   },
   {
    "duration": 8,
    "start_time": "2024-06-21T21:31:02.094Z"
   },
   {
    "duration": 12,
    "start_time": "2024-06-21T21:31:02.439Z"
   },
   {
    "duration": 13,
    "start_time": "2024-06-21T21:31:03.294Z"
   },
   {
    "duration": 113,
    "start_time": "2024-06-21T21:31:05.929Z"
   },
   {
    "duration": 10,
    "start_time": "2024-06-21T21:31:06.370Z"
   },
   {
    "duration": 35,
    "start_time": "2024-06-21T21:31:09.246Z"
   },
   {
    "duration": 11,
    "start_time": "2024-06-21T21:31:09.611Z"
   },
   {
    "duration": 158,
    "start_time": "2024-06-21T21:31:12.587Z"
   },
   {
    "duration": 14,
    "start_time": "2024-06-21T21:31:17.532Z"
   },
   {
    "duration": 16,
    "start_time": "2024-06-21T21:31:31.222Z"
   },
   {
    "duration": 24,
    "start_time": "2024-06-21T21:31:40.601Z"
   },
   {
    "duration": 18,
    "start_time": "2024-06-21T21:32:06.295Z"
   },
   {
    "duration": 11,
    "start_time": "2024-06-21T21:32:07.059Z"
   },
   {
    "duration": 24,
    "start_time": "2024-06-21T21:32:07.500Z"
   },
   {
    "duration": 7,
    "start_time": "2024-06-21T21:32:14.062Z"
   },
   {
    "duration": 21,
    "start_time": "2024-06-21T21:32:18.772Z"
   },
   {
    "duration": 4,
    "start_time": "2024-06-21T21:34:37.051Z"
   },
   {
    "duration": 245,
    "start_time": "2024-06-21T21:34:59.808Z"
   },
   {
    "duration": 6,
    "start_time": "2024-06-21T21:36:51.294Z"
   },
   {
    "duration": 6,
    "start_time": "2024-06-21T21:36:51.748Z"
   },
   {
    "duration": 12,
    "start_time": "2024-06-21T21:37:00.647Z"
   },
   {
    "duration": 11,
    "start_time": "2024-06-21T21:37:13.482Z"
   },
   {
    "duration": 5,
    "start_time": "2024-06-21T21:37:31.162Z"
   },
   {
    "duration": 37,
    "start_time": "2024-06-21T21:37:31.966Z"
   },
   {
    "duration": 5,
    "start_time": "2024-06-21T21:38:24.404Z"
   },
   {
    "duration": 9,
    "start_time": "2024-06-21T21:38:24.825Z"
   },
   {
    "duration": 4,
    "start_time": "2024-06-21T21:38:36.805Z"
   },
   {
    "duration": 11,
    "start_time": "2024-06-21T21:38:37.195Z"
   },
   {
    "duration": 6,
    "start_time": "2024-06-21T21:42:53.041Z"
   },
   {
    "duration": 1116,
    "start_time": "2024-06-21T21:43:21.817Z"
   },
   {
    "duration": 7,
    "start_time": "2024-06-21T21:43:38.208Z"
   },
   {
    "duration": 7,
    "start_time": "2024-06-21T21:43:56.803Z"
   },
   {
    "duration": 7,
    "start_time": "2024-06-21T21:44:52.379Z"
   },
   {
    "duration": 7,
    "start_time": "2024-06-21T21:44:59.117Z"
   },
   {
    "duration": 12,
    "start_time": "2024-06-21T21:55:36.727Z"
   },
   {
    "duration": 8,
    "start_time": "2024-06-21T21:56:25.389Z"
   },
   {
    "duration": 158,
    "start_time": "2024-06-21T21:57:26.588Z"
   },
   {
    "duration": 64,
    "start_time": "2024-06-21T21:57:51.157Z"
   },
   {
    "duration": 12,
    "start_time": "2024-06-21T21:58:09.213Z"
   },
   {
    "duration": 15,
    "start_time": "2024-06-21T21:58:21.060Z"
   },
   {
    "duration": 9,
    "start_time": "2024-06-21T21:58:28.951Z"
   },
   {
    "duration": 10,
    "start_time": "2024-06-21T21:58:32.093Z"
   },
   {
    "duration": 10,
    "start_time": "2024-06-21T21:59:46.307Z"
   },
   {
    "duration": 11,
    "start_time": "2024-06-21T22:00:14.736Z"
   },
   {
    "duration": 7,
    "start_time": "2024-06-21T22:02:09.822Z"
   },
   {
    "duration": 12,
    "start_time": "2024-06-21T22:02:25.585Z"
   },
   {
    "duration": 11,
    "start_time": "2024-06-21T22:02:33.845Z"
   },
   {
    "duration": 253,
    "start_time": "2024-06-21T22:02:55.350Z"
   },
   {
    "duration": 38,
    "start_time": "2024-06-21T22:03:43.045Z"
   },
   {
    "duration": 122,
    "start_time": "2024-06-21T22:03:51.362Z"
   },
   {
    "duration": 120,
    "start_time": "2024-06-21T22:07:16.236Z"
   },
   {
    "duration": 10,
    "start_time": "2024-06-21T22:07:35.693Z"
   },
   {
    "duration": 11,
    "start_time": "2024-06-21T22:07:46.390Z"
   },
   {
    "duration": 11,
    "start_time": "2024-06-21T22:08:36.186Z"
   },
   {
    "duration": 12,
    "start_time": "2024-06-21T22:11:04.795Z"
   },
   {
    "duration": 6,
    "start_time": "2024-06-21T22:11:19.401Z"
   },
   {
    "duration": 6,
    "start_time": "2024-06-21T22:11:30.947Z"
   },
   {
    "duration": 10,
    "start_time": "2024-06-21T22:11:40.480Z"
   },
   {
    "duration": 6,
    "start_time": "2024-06-21T22:11:45.795Z"
   },
   {
    "duration": 11,
    "start_time": "2024-06-21T22:11:54.809Z"
   },
   {
    "duration": 29,
    "start_time": "2024-06-21T22:12:50.382Z"
   },
   {
    "duration": 12,
    "start_time": "2024-06-21T22:13:00.872Z"
   },
   {
    "duration": 10,
    "start_time": "2024-06-21T22:13:04.220Z"
   },
   {
    "duration": 12,
    "start_time": "2024-06-21T22:13:16.058Z"
   },
   {
    "duration": 12,
    "start_time": "2024-06-21T22:13:35.941Z"
   },
   {
    "duration": 11,
    "start_time": "2024-06-21T22:13:39.566Z"
   },
   {
    "duration": 9,
    "start_time": "2024-06-21T22:17:43.204Z"
   },
   {
    "duration": 12,
    "start_time": "2024-06-21T22:17:49.224Z"
   },
   {
    "duration": 14,
    "start_time": "2024-06-21T22:18:02.284Z"
   },
   {
    "duration": 1428,
    "start_time": "2024-06-21T22:18:45.444Z"
   },
   {
    "duration": 822,
    "start_time": "2024-06-21T22:18:46.876Z"
   },
   {
    "duration": 91,
    "start_time": "2024-06-21T22:18:47.701Z"
   },
   {
    "duration": 38,
    "start_time": "2024-06-21T22:18:47.795Z"
   },
   {
    "duration": 25,
    "start_time": "2024-06-21T22:18:47.839Z"
   },
   {
    "duration": 12,
    "start_time": "2024-06-21T22:18:47.868Z"
   },
   {
    "duration": 7,
    "start_time": "2024-06-21T22:18:47.884Z"
   },
   {
    "duration": 11,
    "start_time": "2024-06-21T22:18:47.933Z"
   },
   {
    "duration": 13,
    "start_time": "2024-06-21T22:18:47.947Z"
   },
   {
    "duration": 137,
    "start_time": "2024-06-21T22:18:47.962Z"
   },
   {
    "duration": 10,
    "start_time": "2024-06-21T22:18:48.102Z"
   },
   {
    "duration": 53,
    "start_time": "2024-06-21T22:18:48.114Z"
   },
   {
    "duration": 12,
    "start_time": "2024-06-21T22:18:48.170Z"
   },
   {
    "duration": 178,
    "start_time": "2024-06-21T22:18:48.188Z"
   },
   {
    "duration": 15,
    "start_time": "2024-06-21T22:18:48.369Z"
   },
   {
    "duration": 49,
    "start_time": "2024-06-21T22:18:48.387Z"
   },
   {
    "duration": 19,
    "start_time": "2024-06-21T22:18:48.439Z"
   },
   {
    "duration": 12,
    "start_time": "2024-06-21T22:18:48.461Z"
   },
   {
    "duration": 61,
    "start_time": "2024-06-21T22:18:48.476Z"
   },
   {
    "duration": 9,
    "start_time": "2024-06-21T22:18:48.540Z"
   },
   {
    "duration": 5,
    "start_time": "2024-06-21T22:19:48.307Z"
   },
   {
    "duration": 827,
    "start_time": "2024-06-21T22:19:48.319Z"
   },
   {
    "duration": 26,
    "start_time": "2024-06-21T22:19:49.151Z"
   },
   {
    "duration": 17,
    "start_time": "2024-06-21T22:19:49.180Z"
   },
   {
    "duration": 54,
    "start_time": "2024-06-21T22:19:49.200Z"
   },
   {
    "duration": 9,
    "start_time": "2024-06-21T22:19:49.258Z"
   },
   {
    "duration": 7,
    "start_time": "2024-06-21T22:19:49.271Z"
   },
   {
    "duration": 11,
    "start_time": "2024-06-21T22:19:49.281Z"
   },
   {
    "duration": 46,
    "start_time": "2024-06-21T22:19:49.295Z"
   },
   {
    "duration": 113,
    "start_time": "2024-06-21T22:19:49.343Z"
   },
   {
    "duration": 15,
    "start_time": "2024-06-21T22:19:49.460Z"
   },
   {
    "duration": 36,
    "start_time": "2024-06-21T22:19:49.478Z"
   },
   {
    "duration": 17,
    "start_time": "2024-06-21T22:19:49.535Z"
   },
   {
    "duration": 155,
    "start_time": "2024-06-21T22:19:49.554Z"
   },
   {
    "duration": 24,
    "start_time": "2024-06-21T22:19:49.714Z"
   },
   {
    "duration": 21,
    "start_time": "2024-06-21T22:19:49.741Z"
   },
   {
    "duration": 18,
    "start_time": "2024-06-21T22:19:49.765Z"
   },
   {
    "duration": 10,
    "start_time": "2024-06-21T22:19:49.786Z"
   },
   {
    "duration": 53,
    "start_time": "2024-06-21T22:19:49.799Z"
   },
   {
    "duration": 5,
    "start_time": "2024-06-21T22:20:45.513Z"
   },
   {
    "duration": 14,
    "start_time": "2024-06-21T22:20:47.454Z"
   },
   {
    "duration": 27,
    "start_time": "2024-06-21T22:20:57.164Z"
   },
   {
    "duration": 18,
    "start_time": "2024-06-21T22:21:38.125Z"
   },
   {
    "duration": 15,
    "start_time": "2024-06-21T22:22:17.276Z"
   },
   {
    "duration": 476,
    "start_time": "2024-06-21T22:23:20.661Z"
   },
   {
    "duration": 11,
    "start_time": "2024-06-21T22:23:25.052Z"
   },
   {
    "duration": 7,
    "start_time": "2024-06-21T22:23:35.203Z"
   },
   {
    "duration": 11,
    "start_time": "2024-06-21T22:23:43.120Z"
   },
   {
    "duration": 13,
    "start_time": "2024-06-21T22:26:10.285Z"
   },
   {
    "duration": 10,
    "start_time": "2024-06-21T22:26:31.097Z"
   },
   {
    "duration": 11,
    "start_time": "2024-06-21T22:26:36.857Z"
   },
   {
    "duration": 207,
    "start_time": "2024-06-21T22:27:15.392Z"
   },
   {
    "duration": 799,
    "start_time": "2024-06-21T22:27:36.945Z"
   },
   {
    "duration": 206,
    "start_time": "2024-06-21T22:27:54.414Z"
   },
   {
    "duration": 9,
    "start_time": "2024-06-21T22:28:05.252Z"
   },
   {
    "duration": 105,
    "start_time": "2024-06-21T22:28:21.067Z"
   },
   {
    "duration": 44,
    "start_time": "2024-06-21T22:30:12.572Z"
   },
   {
    "duration": 9,
    "start_time": "2024-06-21T22:30:21.112Z"
   },
   {
    "duration": 3,
    "start_time": "2024-06-21T22:30:53.565Z"
   },
   {
    "duration": 3,
    "start_time": "2024-06-21T22:31:20.630Z"
   },
   {
    "duration": 86,
    "start_time": "2024-06-21T22:32:10.978Z"
   },
   {
    "duration": 8,
    "start_time": "2024-06-21T22:32:15.707Z"
   },
   {
    "duration": 11,
    "start_time": "2024-06-21T22:33:07.588Z"
   },
   {
    "duration": 12,
    "start_time": "2024-06-21T22:33:25.609Z"
   },
   {
    "duration": 5,
    "start_time": "2024-06-21T22:33:34.812Z"
   },
   {
    "duration": 7,
    "start_time": "2024-06-21T22:33:56.322Z"
   },
   {
    "duration": 10,
    "start_time": "2024-06-21T22:35:29.700Z"
   },
   {
    "duration": 8,
    "start_time": "2024-06-21T22:36:36.680Z"
   },
   {
    "duration": 8,
    "start_time": "2024-06-21T22:36:51.345Z"
   },
   {
    "duration": 8,
    "start_time": "2024-06-21T22:37:11.965Z"
   },
   {
    "duration": 7,
    "start_time": "2024-06-21T22:38:03.329Z"
   },
   {
    "duration": 1417,
    "start_time": "2024-06-21T22:38:19.570Z"
   },
   {
    "duration": 844,
    "start_time": "2024-06-21T22:38:20.992Z"
   },
   {
    "duration": 101,
    "start_time": "2024-06-21T22:38:21.839Z"
   },
   {
    "duration": 21,
    "start_time": "2024-06-21T22:38:21.945Z"
   },
   {
    "duration": 25,
    "start_time": "2024-06-21T22:38:21.970Z"
   },
   {
    "duration": 43,
    "start_time": "2024-06-21T22:38:21.999Z"
   },
   {
    "duration": 7,
    "start_time": "2024-06-21T22:38:22.048Z"
   },
   {
    "duration": 12,
    "start_time": "2024-06-21T22:38:22.059Z"
   },
   {
    "duration": 12,
    "start_time": "2024-06-21T22:38:22.073Z"
   },
   {
    "duration": 153,
    "start_time": "2024-06-21T22:38:22.089Z"
   },
   {
    "duration": 10,
    "start_time": "2024-06-21T22:38:22.248Z"
   },
   {
    "duration": 72,
    "start_time": "2024-06-21T22:38:22.261Z"
   },
   {
    "duration": 14,
    "start_time": "2024-06-21T22:38:22.336Z"
   },
   {
    "duration": 185,
    "start_time": "2024-06-21T22:38:22.358Z"
   },
   {
    "duration": 14,
    "start_time": "2024-06-21T22:38:22.546Z"
   },
   {
    "duration": 21,
    "start_time": "2024-06-21T22:38:22.564Z"
   },
   {
    "duration": 53,
    "start_time": "2024-06-21T22:38:22.588Z"
   },
   {
    "duration": 12,
    "start_time": "2024-06-21T22:38:22.643Z"
   },
   {
    "duration": 20,
    "start_time": "2024-06-21T22:38:22.658Z"
   },
   {
    "duration": 4,
    "start_time": "2024-06-21T22:38:22.681Z"
   },
   {
    "duration": 45,
    "start_time": "2024-06-21T22:38:22.689Z"
   },
   {
    "duration": 10,
    "start_time": "2024-06-21T22:38:22.738Z"
   },
   {
    "duration": 9,
    "start_time": "2024-06-21T22:38:22.751Z"
   },
   {
    "duration": 8,
    "start_time": "2024-06-21T22:38:22.762Z"
   },
   {
    "duration": 9,
    "start_time": "2024-06-21T22:38:22.774Z"
   },
   {
    "duration": 427,
    "start_time": "2024-06-21T22:38:22.834Z"
   },
   {
    "duration": 438,
    "start_time": "2024-06-21T22:38:23.264Z"
   },
   {
    "duration": 413,
    "start_time": "2024-06-21T22:38:23.705Z"
   },
   {
    "duration": 15,
    "start_time": "2024-06-21T22:38:24.121Z"
   },
   {
    "duration": 7,
    "start_time": "2024-06-21T22:38:24.139Z"
   },
   {
    "duration": 6,
    "start_time": "2024-06-21T22:38:24.149Z"
   },
   {
    "duration": 325,
    "start_time": "2024-06-21T22:38:24.159Z"
   },
   {
    "duration": 298,
    "start_time": "2024-06-21T22:38:24.487Z"
   },
   {
    "duration": 326,
    "start_time": "2024-06-21T22:38:24.787Z"
   },
   {
    "duration": 356,
    "start_time": "2024-06-21T22:38:25.116Z"
   },
   {
    "duration": 390,
    "start_time": "2024-06-21T22:38:25.475Z"
   },
   {
    "duration": 7,
    "start_time": "2024-06-21T22:38:25.868Z"
   },
   {
    "duration": 113,
    "start_time": "2024-06-21T22:38:25.878Z"
   },
   {
    "duration": 4,
    "start_time": "2024-06-21T22:38:25.995Z"
   },
   {
    "duration": 71,
    "start_time": "2024-06-21T22:38:26.003Z"
   },
   {
    "duration": 4,
    "start_time": "2024-06-21T22:38:26.083Z"
   },
   {
    "duration": 538,
    "start_time": "2024-06-21T22:38:26.090Z"
   },
   {
    "duration": 0,
    "start_time": "2024-06-21T22:38:26.633Z"
   },
   {
    "duration": 0,
    "start_time": "2024-06-21T22:38:26.636Z"
   },
   {
    "duration": 8,
    "start_time": "2024-06-21T22:45:21.122Z"
   },
   {
    "duration": 390,
    "start_time": "2024-06-21T22:45:23.519Z"
   },
   {
    "duration": 394,
    "start_time": "2024-06-21T22:45:26.368Z"
   },
   {
    "duration": 392,
    "start_time": "2024-06-21T22:45:29.200Z"
   },
   {
    "duration": 8,
    "start_time": "2024-06-21T22:45:32.885Z"
   },
   {
    "duration": 6,
    "start_time": "2024-06-21T22:45:35.651Z"
   },
   {
    "duration": 6,
    "start_time": "2024-06-21T22:45:37.905Z"
   },
   {
    "duration": 281,
    "start_time": "2024-06-21T22:45:40.278Z"
   },
   {
    "duration": 296,
    "start_time": "2024-06-21T22:45:44.226Z"
   },
   {
    "duration": 306,
    "start_time": "2024-06-21T22:45:48.238Z"
   },
   {
    "duration": 333,
    "start_time": "2024-06-21T22:45:51.510Z"
   },
   {
    "duration": 355,
    "start_time": "2024-06-21T22:45:55.148Z"
   },
   {
    "duration": 474,
    "start_time": "2024-06-21T22:46:01.012Z"
   },
   {
    "duration": 105,
    "start_time": "2024-06-21T22:46:06.949Z"
   },
   {
    "duration": 4,
    "start_time": "2024-06-21T22:46:19.578Z"
   },
   {
    "duration": 62,
    "start_time": "2024-06-21T22:46:25.358Z"
   },
   {
    "duration": 44,
    "start_time": "2024-06-21T22:47:02.970Z"
   },
   {
    "duration": 64,
    "start_time": "2024-06-21T22:47:09.553Z"
   },
   {
    "duration": 11,
    "start_time": "2024-06-21T22:47:14.176Z"
   },
   {
    "duration": 3,
    "start_time": "2024-06-21T23:01:24.475Z"
   },
   {
    "duration": 36,
    "start_time": "2024-06-21T23:01:30.727Z"
   },
   {
    "duration": 10,
    "start_time": "2024-06-21T23:05:05.338Z"
   },
   {
    "duration": 19,
    "start_time": "2024-06-21T23:05:20.283Z"
   },
   {
    "duration": 14,
    "start_time": "2024-06-21T23:05:25.099Z"
   },
   {
    "duration": 11,
    "start_time": "2024-06-21T23:05:40.148Z"
   },
   {
    "duration": 8,
    "start_time": "2024-06-21T23:05:50.659Z"
   },
   {
    "duration": 11,
    "start_time": "2024-06-21T23:05:58.722Z"
   },
   {
    "duration": 9,
    "start_time": "2024-06-21T23:06:04.044Z"
   },
   {
    "duration": 5,
    "start_time": "2024-06-21T23:06:27.938Z"
   },
   {
    "duration": 187,
    "start_time": "2024-06-21T23:06:48.766Z"
   },
   {
    "duration": 5631,
    "start_time": "2024-06-22T17:31:37.071Z"
   },
   {
    "duration": 1139,
    "start_time": "2024-06-22T17:31:42.712Z"
   },
   {
    "duration": 31,
    "start_time": "2024-06-22T17:31:43.856Z"
   },
   {
    "duration": 39,
    "start_time": "2024-06-22T17:31:43.892Z"
   },
   {
    "duration": 30,
    "start_time": "2024-06-22T17:31:43.935Z"
   },
   {
    "duration": 47,
    "start_time": "2024-06-22T17:31:43.969Z"
   },
   {
    "duration": 8,
    "start_time": "2024-06-22T17:31:44.020Z"
   },
   {
    "duration": 15,
    "start_time": "2024-06-22T17:31:44.031Z"
   },
   {
    "duration": 15,
    "start_time": "2024-06-22T17:31:44.050Z"
   },
   {
    "duration": 161,
    "start_time": "2024-06-22T17:31:44.072Z"
   },
   {
    "duration": 11,
    "start_time": "2024-06-22T17:31:44.239Z"
   },
   {
    "duration": 65,
    "start_time": "2024-06-22T17:31:44.254Z"
   },
   {
    "duration": 13,
    "start_time": "2024-06-22T17:31:44.326Z"
   },
   {
    "duration": 220,
    "start_time": "2024-06-22T17:31:44.343Z"
   },
   {
    "duration": 16,
    "start_time": "2024-06-22T17:31:44.567Z"
   },
   {
    "duration": 34,
    "start_time": "2024-06-22T17:31:44.588Z"
   },
   {
    "duration": 20,
    "start_time": "2024-06-22T17:31:44.625Z"
   },
   {
    "duration": 13,
    "start_time": "2024-06-22T17:31:44.648Z"
   },
   {
    "duration": 57,
    "start_time": "2024-06-22T17:31:44.666Z"
   },
   {
    "duration": 5,
    "start_time": "2024-06-22T17:31:44.728Z"
   },
   {
    "duration": 5,
    "start_time": "2024-06-22T17:31:44.736Z"
   },
   {
    "duration": 14,
    "start_time": "2024-06-22T17:31:44.744Z"
   },
   {
    "duration": 11,
    "start_time": "2024-06-22T17:31:44.761Z"
   },
   {
    "duration": 9,
    "start_time": "2024-06-22T17:31:44.814Z"
   },
   {
    "duration": 10,
    "start_time": "2024-06-22T17:31:44.827Z"
   },
   {
    "duration": 548,
    "start_time": "2024-06-22T17:31:44.841Z"
   },
   {
    "duration": 402,
    "start_time": "2024-06-22T17:31:45.392Z"
   },
   {
    "duration": 482,
    "start_time": "2024-06-22T17:31:45.814Z"
   },
   {
    "duration": 18,
    "start_time": "2024-06-22T17:31:46.300Z"
   },
   {
    "duration": 8,
    "start_time": "2024-06-22T17:31:46.322Z"
   },
   {
    "duration": 9,
    "start_time": "2024-06-22T17:31:46.334Z"
   },
   {
    "duration": 366,
    "start_time": "2024-06-22T17:31:46.346Z"
   },
   {
    "duration": 323,
    "start_time": "2024-06-22T17:31:46.716Z"
   },
   {
    "duration": 346,
    "start_time": "2024-06-22T17:31:47.043Z"
   },
   {
    "duration": 358,
    "start_time": "2024-06-22T17:31:47.391Z"
   },
   {
    "duration": 386,
    "start_time": "2024-06-22T17:31:47.755Z"
   },
   {
    "duration": 1807,
    "start_time": "2024-06-22T17:31:48.144Z"
   },
   {
    "duration": 0,
    "start_time": "2024-06-22T17:31:49.954Z"
   },
   {
    "duration": 0,
    "start_time": "2024-06-22T17:31:49.957Z"
   },
   {
    "duration": 0,
    "start_time": "2024-06-22T17:31:49.959Z"
   },
   {
    "duration": 0,
    "start_time": "2024-06-22T17:31:49.961Z"
   },
   {
    "duration": 0,
    "start_time": "2024-06-22T17:31:49.964Z"
   },
   {
    "duration": 0,
    "start_time": "2024-06-22T17:31:49.966Z"
   },
   {
    "duration": 10,
    "start_time": "2024-06-22T17:32:16.052Z"
   },
   {
    "duration": 10,
    "start_time": "2024-06-22T17:32:20.498Z"
   },
   {
    "duration": 41,
    "start_time": "2024-06-22T17:33:24.577Z"
   },
   {
    "duration": 6,
    "start_time": "2024-06-22T17:33:50.655Z"
   },
   {
    "duration": 91,
    "start_time": "2024-06-22T17:33:51.201Z"
   },
   {
    "duration": 5,
    "start_time": "2024-06-22T17:34:14.493Z"
   },
   {
    "duration": 11,
    "start_time": "2024-06-22T17:34:22.169Z"
   },
   {
    "duration": 17,
    "start_time": "2024-06-22T17:35:35.744Z"
   },
   {
    "duration": 18,
    "start_time": "2024-06-22T17:35:46.938Z"
   },
   {
    "duration": 16,
    "start_time": "2024-06-22T17:35:57.098Z"
   },
   {
    "duration": 16,
    "start_time": "2024-06-22T17:36:10.775Z"
   },
   {
    "duration": 27,
    "start_time": "2024-06-22T17:36:17.925Z"
   },
   {
    "duration": 18,
    "start_time": "2024-06-22T17:36:24.298Z"
   },
   {
    "duration": 116,
    "start_time": "2024-06-22T17:37:39.244Z"
   },
   {
    "duration": 41,
    "start_time": "2024-06-22T17:38:00.158Z"
   },
   {
    "duration": 12,
    "start_time": "2024-06-22T17:38:07.980Z"
   },
   {
    "duration": 1584,
    "start_time": "2024-06-22T17:39:22.508Z"
   },
   {
    "duration": 914,
    "start_time": "2024-06-22T17:39:24.096Z"
   },
   {
    "duration": 102,
    "start_time": "2024-06-22T17:39:25.013Z"
   },
   {
    "duration": 22,
    "start_time": "2024-06-22T17:39:25.119Z"
   },
   {
    "duration": 27,
    "start_time": "2024-06-22T17:39:25.146Z"
   },
   {
    "duration": 42,
    "start_time": "2024-06-22T17:39:25.176Z"
   },
   {
    "duration": 8,
    "start_time": "2024-06-22T17:39:25.222Z"
   },
   {
    "duration": 10,
    "start_time": "2024-06-22T17:39:25.235Z"
   },
   {
    "duration": 14,
    "start_time": "2024-06-22T17:39:25.248Z"
   },
   {
    "duration": 177,
    "start_time": "2024-06-22T17:39:25.265Z"
   },
   {
    "duration": 11,
    "start_time": "2024-06-22T17:39:25.447Z"
   },
   {
    "duration": 69,
    "start_time": "2024-06-22T17:39:25.462Z"
   },
   {
    "duration": 18,
    "start_time": "2024-06-22T17:39:25.537Z"
   },
   {
    "duration": 208,
    "start_time": "2024-06-22T17:39:25.564Z"
   },
   {
    "duration": 18,
    "start_time": "2024-06-22T17:39:25.776Z"
   },
   {
    "duration": 26,
    "start_time": "2024-06-22T17:39:25.813Z"
   },
   {
    "duration": 19,
    "start_time": "2024-06-22T17:39:25.843Z"
   },
   {
    "duration": 48,
    "start_time": "2024-06-22T17:39:25.864Z"
   },
   {
    "duration": 20,
    "start_time": "2024-06-22T17:39:25.915Z"
   },
   {
    "duration": 5,
    "start_time": "2024-06-22T17:39:25.938Z"
   },
   {
    "duration": 4,
    "start_time": "2024-06-22T17:39:25.947Z"
   },
   {
    "duration": 12,
    "start_time": "2024-06-22T17:39:25.954Z"
   },
   {
    "duration": 729,
    "start_time": "2024-06-22T17:39:25.969Z"
   },
   {
    "duration": 0,
    "start_time": "2024-06-22T17:39:26.701Z"
   },
   {
    "duration": 0,
    "start_time": "2024-06-22T17:39:26.711Z"
   },
   {
    "duration": 0,
    "start_time": "2024-06-22T17:39:26.713Z"
   },
   {
    "duration": 0,
    "start_time": "2024-06-22T17:39:26.716Z"
   },
   {
    "duration": 0,
    "start_time": "2024-06-22T17:39:26.717Z"
   },
   {
    "duration": 0,
    "start_time": "2024-06-22T17:39:26.719Z"
   },
   {
    "duration": 0,
    "start_time": "2024-06-22T17:39:26.721Z"
   },
   {
    "duration": 0,
    "start_time": "2024-06-22T17:39:26.722Z"
   },
   {
    "duration": 0,
    "start_time": "2024-06-22T17:39:26.724Z"
   },
   {
    "duration": 0,
    "start_time": "2024-06-22T17:39:26.726Z"
   },
   {
    "duration": 0,
    "start_time": "2024-06-22T17:39:26.728Z"
   },
   {
    "duration": 0,
    "start_time": "2024-06-22T17:39:26.731Z"
   },
   {
    "duration": 0,
    "start_time": "2024-06-22T17:39:26.732Z"
   },
   {
    "duration": 0,
    "start_time": "2024-06-22T17:39:26.734Z"
   },
   {
    "duration": 0,
    "start_time": "2024-06-22T17:39:26.737Z"
   },
   {
    "duration": 0,
    "start_time": "2024-06-22T17:39:26.739Z"
   },
   {
    "duration": 0,
    "start_time": "2024-06-22T17:39:26.741Z"
   },
   {
    "duration": 0,
    "start_time": "2024-06-22T17:39:26.744Z"
   },
   {
    "duration": 0,
    "start_time": "2024-06-22T17:39:26.746Z"
   },
   {
    "duration": 0,
    "start_time": "2024-06-22T17:39:26.747Z"
   },
   {
    "duration": 0,
    "start_time": "2024-06-22T17:39:26.750Z"
   },
   {
    "duration": 18,
    "start_time": "2024-06-22T17:40:06.193Z"
   },
   {
    "duration": 19,
    "start_time": "2024-06-22T17:40:10.760Z"
   },
   {
    "duration": 12,
    "start_time": "2024-06-22T17:40:30.699Z"
   },
   {
    "duration": 32,
    "start_time": "2024-06-22T17:40:44.758Z"
   },
   {
    "duration": 30,
    "start_time": "2024-06-22T17:40:54.649Z"
   },
   {
    "duration": 1535,
    "start_time": "2024-06-22T17:41:05.757Z"
   },
   {
    "duration": 982,
    "start_time": "2024-06-22T17:41:07.296Z"
   },
   {
    "duration": 108,
    "start_time": "2024-06-22T17:41:08.285Z"
   },
   {
    "duration": 30,
    "start_time": "2024-06-22T17:41:08.397Z"
   },
   {
    "duration": 26,
    "start_time": "2024-06-22T17:41:08.434Z"
   },
   {
    "duration": 11,
    "start_time": "2024-06-22T17:41:08.464Z"
   },
   {
    "duration": 8,
    "start_time": "2024-06-22T17:41:08.512Z"
   },
   {
    "duration": 14,
    "start_time": "2024-06-22T17:41:08.524Z"
   },
   {
    "duration": 16,
    "start_time": "2024-06-22T17:41:08.542Z"
   },
   {
    "duration": 158,
    "start_time": "2024-06-22T17:41:08.577Z"
   },
   {
    "duration": 12,
    "start_time": "2024-06-22T17:41:08.739Z"
   },
   {
    "duration": 63,
    "start_time": "2024-06-22T17:41:08.755Z"
   },
   {
    "duration": 15,
    "start_time": "2024-06-22T17:41:08.821Z"
   },
   {
    "duration": 286,
    "start_time": "2024-06-22T17:41:08.845Z"
   },
   {
    "duration": 25,
    "start_time": "2024-06-22T17:41:09.134Z"
   },
   {
    "duration": 62,
    "start_time": "2024-06-22T17:41:09.162Z"
   },
   {
    "duration": 22,
    "start_time": "2024-06-22T17:41:09.227Z"
   },
   {
    "duration": 65,
    "start_time": "2024-06-22T17:41:09.253Z"
   },
   {
    "duration": 36,
    "start_time": "2024-06-22T17:41:09.322Z"
   },
   {
    "duration": 6,
    "start_time": "2024-06-22T17:41:09.363Z"
   },
   {
    "duration": 4,
    "start_time": "2024-06-22T17:41:09.414Z"
   },
   {
    "duration": 9,
    "start_time": "2024-06-22T17:41:09.422Z"
   },
   {
    "duration": 7,
    "start_time": "2024-06-22T17:41:09.435Z"
   },
   {
    "duration": 8,
    "start_time": "2024-06-22T17:41:09.445Z"
   },
   {
    "duration": 11,
    "start_time": "2024-06-22T17:41:09.461Z"
   },
   {
    "duration": 592,
    "start_time": "2024-06-22T17:41:09.476Z"
   },
   {
    "duration": 528,
    "start_time": "2024-06-22T17:41:10.071Z"
   },
   {
    "duration": 534,
    "start_time": "2024-06-22T17:41:10.602Z"
   },
   {
    "duration": 10,
    "start_time": "2024-06-22T17:41:11.140Z"
   },
   {
    "duration": 7,
    "start_time": "2024-06-22T17:41:11.153Z"
   },
   {
    "duration": 7,
    "start_time": "2024-06-22T17:41:11.163Z"
   },
   {
    "duration": 428,
    "start_time": "2024-06-22T17:41:11.173Z"
   },
   {
    "duration": 324,
    "start_time": "2024-06-22T17:41:11.604Z"
   },
   {
    "duration": 355,
    "start_time": "2024-06-22T17:41:11.933Z"
   },
   {
    "duration": 411,
    "start_time": "2024-06-22T17:41:12.295Z"
   },
   {
    "duration": 450,
    "start_time": "2024-06-22T17:41:12.709Z"
   },
   {
    "duration": 8,
    "start_time": "2024-06-22T17:41:13.164Z"
   },
   {
    "duration": 120,
    "start_time": "2024-06-22T17:41:13.176Z"
   },
   {
    "duration": 13,
    "start_time": "2024-06-22T17:41:13.299Z"
   },
   {
    "duration": 53,
    "start_time": "2024-06-22T17:41:13.317Z"
   },
   {
    "duration": 4,
    "start_time": "2024-06-22T17:41:13.380Z"
   },
   {
    "duration": 633,
    "start_time": "2024-06-22T17:41:13.414Z"
   },
   {
    "duration": 0,
    "start_time": "2024-06-22T17:41:14.050Z"
   },
   {
    "duration": 0,
    "start_time": "2024-06-22T17:41:14.058Z"
   },
   {
    "duration": 11,
    "start_time": "2024-06-22T17:41:35.878Z"
   },
   {
    "duration": 46,
    "start_time": "2024-06-22T17:42:01.691Z"
   },
   {
    "duration": 15,
    "start_time": "2024-06-22T17:42:07.069Z"
   },
   {
    "duration": 15,
    "start_time": "2024-06-22T17:42:24.052Z"
   },
   {
    "duration": 49,
    "start_time": "2024-06-22T17:42:49.039Z"
   },
   {
    "duration": 19,
    "start_time": "2024-06-22T17:42:52.757Z"
   },
   {
    "duration": 15,
    "start_time": "2024-06-22T17:43:08.981Z"
   },
   {
    "duration": 23,
    "start_time": "2024-06-22T17:43:20.256Z"
   },
   {
    "duration": 11,
    "start_time": "2024-06-22T17:43:27.005Z"
   },
   {
    "duration": 28,
    "start_time": "2024-06-22T17:43:45.268Z"
   },
   {
    "duration": 29,
    "start_time": "2024-06-22T17:43:47.643Z"
   },
   {
    "duration": 18,
    "start_time": "2024-06-22T17:44:14.053Z"
   },
   {
    "duration": 8,
    "start_time": "2024-06-22T17:44:17.698Z"
   },
   {
    "duration": 11,
    "start_time": "2024-06-22T17:44:25.772Z"
   },
   {
    "duration": 10,
    "start_time": "2024-06-22T17:44:57.843Z"
   },
   {
    "duration": 12,
    "start_time": "2024-06-22T17:45:08.049Z"
   },
   {
    "duration": 155,
    "start_time": "2024-06-22T17:45:28.972Z"
   },
   {
    "duration": 12,
    "start_time": "2024-06-22T17:45:45.593Z"
   },
   {
    "duration": 1501,
    "start_time": "2024-06-22T17:45:52.863Z"
   },
   {
    "duration": 815,
    "start_time": "2024-06-22T17:45:54.369Z"
   },
   {
    "duration": 94,
    "start_time": "2024-06-22T17:45:55.187Z"
   },
   {
    "duration": 37,
    "start_time": "2024-06-22T17:45:55.284Z"
   },
   {
    "duration": 32,
    "start_time": "2024-06-22T17:45:55.330Z"
   },
   {
    "duration": 13,
    "start_time": "2024-06-22T17:45:55.366Z"
   },
   {
    "duration": 38,
    "start_time": "2024-06-22T17:45:55.383Z"
   },
   {
    "duration": 14,
    "start_time": "2024-06-22T17:45:55.424Z"
   },
   {
    "duration": 13,
    "start_time": "2024-06-22T17:45:55.442Z"
   },
   {
    "duration": 164,
    "start_time": "2024-06-22T17:45:55.458Z"
   },
   {
    "duration": 9,
    "start_time": "2024-06-22T17:45:55.626Z"
   },
   {
    "duration": 37,
    "start_time": "2024-06-22T17:45:55.638Z"
   },
   {
    "duration": 40,
    "start_time": "2024-06-22T17:45:55.680Z"
   },
   {
    "duration": 171,
    "start_time": "2024-06-22T17:45:55.727Z"
   },
   {
    "duration": 24,
    "start_time": "2024-06-22T17:45:55.901Z"
   },
   {
    "duration": 29,
    "start_time": "2024-06-22T17:45:55.929Z"
   },
   {
    "duration": 10,
    "start_time": "2024-06-22T17:45:55.961Z"
   },
   {
    "duration": 43,
    "start_time": "2024-06-22T17:45:55.974Z"
   },
   {
    "duration": 11,
    "start_time": "2024-06-22T17:45:56.020Z"
   },
   {
    "duration": 20,
    "start_time": "2024-06-22T17:45:56.034Z"
   },
   {
    "duration": 5,
    "start_time": "2024-06-22T17:45:56.057Z"
   },
   {
    "duration": 5,
    "start_time": "2024-06-22T17:45:56.113Z"
   },
   {
    "duration": 11,
    "start_time": "2024-06-22T17:45:56.122Z"
   },
   {
    "duration": 10,
    "start_time": "2024-06-22T17:45:56.136Z"
   },
   {
    "duration": 9,
    "start_time": "2024-06-22T17:45:56.149Z"
   },
   {
    "duration": 50,
    "start_time": "2024-06-22T17:45:56.162Z"
   },
   {
    "duration": 458,
    "start_time": "2024-06-22T17:45:56.215Z"
   },
   {
    "duration": 392,
    "start_time": "2024-06-22T17:45:56.677Z"
   },
   {
    "duration": 411,
    "start_time": "2024-06-22T17:45:57.073Z"
   },
   {
    "duration": 8,
    "start_time": "2024-06-22T17:45:57.487Z"
   },
   {
    "duration": 19,
    "start_time": "2024-06-22T17:45:57.498Z"
   },
   {
    "duration": 6,
    "start_time": "2024-06-22T17:45:57.521Z"
   },
   {
    "duration": 354,
    "start_time": "2024-06-22T17:45:57.531Z"
   },
   {
    "duration": 308,
    "start_time": "2024-06-22T17:45:57.889Z"
   },
   {
    "duration": 0,
    "start_time": "2024-06-22T17:46:00.141Z"
   },
   {
    "duration": 0,
    "start_time": "2024-06-22T17:46:00.143Z"
   },
   {
    "duration": 0,
    "start_time": "2024-06-22T17:46:00.145Z"
   },
   {
    "duration": 0,
    "start_time": "2024-06-22T17:46:00.147Z"
   },
   {
    "duration": 0,
    "start_time": "2024-06-22T17:46:00.149Z"
   },
   {
    "duration": 0,
    "start_time": "2024-06-22T17:46:00.151Z"
   },
   {
    "duration": 0,
    "start_time": "2024-06-22T17:46:00.153Z"
   },
   {
    "duration": 0,
    "start_time": "2024-06-22T17:46:00.155Z"
   },
   {
    "duration": 0,
    "start_time": "2024-06-22T17:46:00.156Z"
   },
   {
    "duration": 0,
    "start_time": "2024-06-22T17:46:00.159Z"
   },
   {
    "duration": 0,
    "start_time": "2024-06-22T17:46:00.161Z"
   },
   {
    "duration": 0,
    "start_time": "2024-06-22T17:46:00.163Z"
   },
   {
    "duration": 0,
    "start_time": "2024-06-22T17:46:00.165Z"
   },
   {
    "duration": 0,
    "start_time": "2024-06-22T17:46:00.166Z"
   },
   {
    "duration": 0,
    "start_time": "2024-06-22T17:46:00.168Z"
   },
   {
    "duration": 0,
    "start_time": "2024-06-22T17:46:00.169Z"
   },
   {
    "duration": 0,
    "start_time": "2024-06-22T17:46:00.171Z"
   },
   {
    "duration": 0,
    "start_time": "2024-06-22T17:46:00.212Z"
   },
   {
    "duration": 0,
    "start_time": "2024-06-22T17:46:00.216Z"
   },
   {
    "duration": 0,
    "start_time": "2024-06-22T17:46:00.219Z"
   },
   {
    "duration": 0,
    "start_time": "2024-06-22T17:46:00.221Z"
   },
   {
    "duration": 0,
    "start_time": "2024-06-22T17:46:00.223Z"
   },
   {
    "duration": 0,
    "start_time": "2024-06-22T17:46:00.226Z"
   },
   {
    "duration": 0,
    "start_time": "2024-06-22T17:46:00.230Z"
   },
   {
    "duration": 0,
    "start_time": "2024-06-22T17:46:00.233Z"
   },
   {
    "duration": 0,
    "start_time": "2024-06-22T17:46:00.235Z"
   },
   {
    "duration": 0,
    "start_time": "2024-06-22T17:46:00.238Z"
   },
   {
    "duration": 0,
    "start_time": "2024-06-22T17:46:00.243Z"
   },
   {
    "duration": 0,
    "start_time": "2024-06-22T17:46:00.245Z"
   },
   {
    "duration": 0,
    "start_time": "2024-06-22T17:46:00.247Z"
   },
   {
    "duration": 0,
    "start_time": "2024-06-22T17:46:00.249Z"
   },
   {
    "duration": 0,
    "start_time": "2024-06-22T17:46:00.250Z"
   },
   {
    "duration": 0,
    "start_time": "2024-06-22T17:46:00.252Z"
   },
   {
    "duration": 0,
    "start_time": "2024-06-22T17:46:00.254Z"
   },
   {
    "duration": 0,
    "start_time": "2024-06-22T17:46:00.312Z"
   },
   {
    "duration": 0,
    "start_time": "2024-06-22T17:46:00.316Z"
   },
   {
    "duration": 0,
    "start_time": "2024-06-22T17:46:00.320Z"
   },
   {
    "duration": 0,
    "start_time": "2024-06-22T17:46:00.323Z"
   },
   {
    "duration": 0,
    "start_time": "2024-06-22T17:46:00.325Z"
   },
   {
    "duration": 0,
    "start_time": "2024-06-22T17:46:00.328Z"
   },
   {
    "duration": 0,
    "start_time": "2024-06-22T17:46:00.330Z"
   },
   {
    "duration": 0,
    "start_time": "2024-06-22T17:46:00.333Z"
   },
   {
    "duration": 0,
    "start_time": "2024-06-22T17:46:00.335Z"
   },
   {
    "duration": 0,
    "start_time": "2024-06-22T17:46:00.337Z"
   },
   {
    "duration": 0,
    "start_time": "2024-06-22T17:46:00.340Z"
   },
   {
    "duration": 12,
    "start_time": "2024-06-22T17:47:29.288Z"
   },
   {
    "duration": 11,
    "start_time": "2024-06-22T17:47:37.373Z"
   },
   {
    "duration": 15,
    "start_time": "2024-06-22T17:47:51.904Z"
   },
   {
    "duration": 12,
    "start_time": "2024-06-22T17:47:54.108Z"
   },
   {
    "duration": 5,
    "start_time": "2024-06-22T17:48:02.528Z"
   },
   {
    "duration": 869,
    "start_time": "2024-06-22T17:48:02.538Z"
   },
   {
    "duration": 26,
    "start_time": "2024-06-22T17:48:03.413Z"
   },
   {
    "duration": 19,
    "start_time": "2024-06-22T17:48:03.443Z"
   },
   {
    "duration": 58,
    "start_time": "2024-06-22T17:48:03.467Z"
   },
   {
    "duration": 10,
    "start_time": "2024-06-22T17:48:03.529Z"
   },
   {
    "duration": 7,
    "start_time": "2024-06-22T17:48:03.544Z"
   },
   {
    "duration": 14,
    "start_time": "2024-06-22T17:48:03.554Z"
   },
   {
    "duration": 44,
    "start_time": "2024-06-22T17:48:03.572Z"
   },
   {
    "duration": 126,
    "start_time": "2024-06-22T17:48:03.619Z"
   },
   {
    "duration": 10,
    "start_time": "2024-06-22T17:48:03.748Z"
   },
   {
    "duration": 66,
    "start_time": "2024-06-22T17:48:03.761Z"
   },
   {
    "duration": 12,
    "start_time": "2024-06-22T17:48:03.831Z"
   },
   {
    "duration": 201,
    "start_time": "2024-06-22T17:48:03.850Z"
   },
   {
    "duration": 15,
    "start_time": "2024-06-22T17:48:04.054Z"
   },
   {
    "duration": 44,
    "start_time": "2024-06-22T17:48:04.072Z"
   },
   {
    "duration": 10,
    "start_time": "2024-06-22T17:48:04.119Z"
   },
   {
    "duration": 14,
    "start_time": "2024-06-22T17:48:04.132Z"
   },
   {
    "duration": 12,
    "start_time": "2024-06-22T17:48:04.152Z"
   },
   {
    "duration": 63,
    "start_time": "2024-06-22T17:48:04.168Z"
   },
   {
    "duration": 4,
    "start_time": "2024-06-22T17:48:04.237Z"
   },
   {
    "duration": 4,
    "start_time": "2024-06-22T17:48:04.244Z"
   },
   {
    "duration": 10,
    "start_time": "2024-06-22T17:48:04.252Z"
   },
   {
    "duration": 20,
    "start_time": "2024-06-22T17:48:04.265Z"
   },
   {
    "duration": 8,
    "start_time": "2024-06-22T17:48:04.313Z"
   },
   {
    "duration": 7,
    "start_time": "2024-06-22T17:48:04.325Z"
   },
   {
    "duration": 444,
    "start_time": "2024-06-22T17:48:04.336Z"
   },
   {
    "duration": 401,
    "start_time": "2024-06-22T17:48:04.783Z"
   },
   {
    "duration": 425,
    "start_time": "2024-06-22T17:48:05.187Z"
   },
   {
    "duration": 7,
    "start_time": "2024-06-22T17:48:05.616Z"
   },
   {
    "duration": 8,
    "start_time": "2024-06-22T17:48:05.628Z"
   },
   {
    "duration": 8,
    "start_time": "2024-06-22T17:48:05.638Z"
   },
   {
    "duration": 338,
    "start_time": "2024-06-22T17:48:05.650Z"
   },
   {
    "duration": 312,
    "start_time": "2024-06-22T17:48:05.991Z"
   },
   {
    "duration": 329,
    "start_time": "2024-06-22T17:48:06.314Z"
   },
   {
    "duration": 443,
    "start_time": "2024-06-22T17:48:06.646Z"
   },
   {
    "duration": 397,
    "start_time": "2024-06-22T17:48:07.092Z"
   },
   {
    "duration": 19,
    "start_time": "2024-06-22T17:48:07.493Z"
   },
   {
    "duration": 98,
    "start_time": "2024-06-22T17:48:07.515Z"
   },
   {
    "duration": 5,
    "start_time": "2024-06-22T17:48:07.615Z"
   },
   {
    "duration": 40,
    "start_time": "2024-06-22T17:48:07.628Z"
   },
   {
    "duration": 4,
    "start_time": "2024-06-22T17:48:07.672Z"
   },
   {
    "duration": 29,
    "start_time": "2024-06-22T17:48:07.712Z"
   },
   {
    "duration": 16,
    "start_time": "2024-06-22T17:48:18.473Z"
   },
   {
    "duration": 9,
    "start_time": "2024-06-22T17:48:23.797Z"
   },
   {
    "duration": 108,
    "start_time": "2024-06-22T17:50:07.681Z"
   },
   {
    "duration": 1511,
    "start_time": "2024-06-22T17:50:32.951Z"
   },
   {
    "duration": 774,
    "start_time": "2024-06-22T17:50:34.466Z"
   },
   {
    "duration": 100,
    "start_time": "2024-06-22T17:50:35.243Z"
   },
   {
    "duration": 21,
    "start_time": "2024-06-22T17:50:35.345Z"
   },
   {
    "duration": 44,
    "start_time": "2024-06-22T17:50:35.373Z"
   },
   {
    "duration": 10,
    "start_time": "2024-06-22T17:50:35.420Z"
   },
   {
    "duration": 7,
    "start_time": "2024-06-22T17:50:35.433Z"
   },
   {
    "duration": 13,
    "start_time": "2024-06-22T17:50:35.443Z"
   },
   {
    "duration": 53,
    "start_time": "2024-06-22T17:50:35.459Z"
   },
   {
    "duration": 122,
    "start_time": "2024-06-22T17:50:35.515Z"
   },
   {
    "duration": 13,
    "start_time": "2024-06-22T17:50:35.640Z"
   },
   {
    "duration": 58,
    "start_time": "2024-06-22T17:50:35.655Z"
   },
   {
    "duration": 13,
    "start_time": "2024-06-22T17:50:35.716Z"
   },
   {
    "duration": 178,
    "start_time": "2024-06-22T17:50:35.735Z"
   },
   {
    "duration": 16,
    "start_time": "2024-06-22T17:50:35.916Z"
   },
   {
    "duration": 31,
    "start_time": "2024-06-22T17:50:35.935Z"
   },
   {
    "duration": 9,
    "start_time": "2024-06-22T17:50:35.969Z"
   },
   {
    "duration": 40,
    "start_time": "2024-06-22T17:50:35.982Z"
   },
   {
    "duration": 12,
    "start_time": "2024-06-22T17:50:36.025Z"
   },
   {
    "duration": 20,
    "start_time": "2024-06-22T17:50:36.039Z"
   },
   {
    "duration": 5,
    "start_time": "2024-06-22T17:50:36.062Z"
   },
   {
    "duration": 5,
    "start_time": "2024-06-22T17:50:36.113Z"
   },
   {
    "duration": 10,
    "start_time": "2024-06-22T17:50:36.121Z"
   },
   {
    "duration": 9,
    "start_time": "2024-06-22T17:50:36.133Z"
   },
   {
    "duration": 8,
    "start_time": "2024-06-22T17:50:36.145Z"
   },
   {
    "duration": 9,
    "start_time": "2024-06-22T17:50:36.156Z"
   },
   {
    "duration": 426,
    "start_time": "2024-06-22T17:50:36.213Z"
   },
   {
    "duration": 392,
    "start_time": "2024-06-22T17:50:36.642Z"
   },
   {
    "duration": 412,
    "start_time": "2024-06-22T17:50:37.037Z"
   },
   {
    "duration": 7,
    "start_time": "2024-06-22T17:50:37.452Z"
   },
   {
    "duration": 7,
    "start_time": "2024-06-22T17:50:37.462Z"
   },
   {
    "duration": 41,
    "start_time": "2024-06-22T17:50:37.472Z"
   },
   {
    "duration": 306,
    "start_time": "2024-06-22T17:50:37.515Z"
   },
   {
    "duration": 291,
    "start_time": "2024-06-22T17:50:37.824Z"
   },
   {
    "duration": 318,
    "start_time": "2024-06-22T17:50:38.118Z"
   },
   {
    "duration": 346,
    "start_time": "2024-06-22T17:50:38.440Z"
   },
   {
    "duration": 359,
    "start_time": "2024-06-22T17:50:38.790Z"
   },
   {
    "duration": 1752,
    "start_time": "2024-06-22T17:50:39.152Z"
   },
   {
    "duration": 0,
    "start_time": "2024-06-22T17:50:40.908Z"
   },
   {
    "duration": 0,
    "start_time": "2024-06-22T17:50:40.909Z"
   },
   {
    "duration": 0,
    "start_time": "2024-06-22T17:50:40.910Z"
   },
   {
    "duration": 0,
    "start_time": "2024-06-22T17:50:40.911Z"
   },
   {
    "duration": 311,
    "start_time": "2024-06-22T19:09:29.313Z"
   },
   {
    "duration": 5259,
    "start_time": "2024-06-22T19:09:32.877Z"
   },
   {
    "duration": 991,
    "start_time": "2024-06-22T19:09:38.141Z"
   },
   {
    "duration": 24,
    "start_time": "2024-06-22T19:09:39.135Z"
   },
   {
    "duration": 19,
    "start_time": "2024-06-22T19:09:39.162Z"
   },
   {
    "duration": 55,
    "start_time": "2024-06-22T19:09:39.186Z"
   },
   {
    "duration": 10,
    "start_time": "2024-06-22T19:09:39.245Z"
   },
   {
    "duration": 7,
    "start_time": "2024-06-22T19:09:39.258Z"
   },
   {
    "duration": 13,
    "start_time": "2024-06-22T19:09:39.268Z"
   },
   {
    "duration": 49,
    "start_time": "2024-06-22T19:09:39.284Z"
   },
   {
    "duration": 129,
    "start_time": "2024-06-22T19:09:39.336Z"
   },
   {
    "duration": 11,
    "start_time": "2024-06-22T19:09:39.467Z"
   },
   {
    "duration": 61,
    "start_time": "2024-06-22T19:09:39.482Z"
   },
   {
    "duration": 13,
    "start_time": "2024-06-22T19:09:39.546Z"
   },
   {
    "duration": 189,
    "start_time": "2024-06-22T19:09:39.565Z"
   },
   {
    "duration": 15,
    "start_time": "2024-06-22T19:09:39.756Z"
   },
   {
    "duration": 49,
    "start_time": "2024-06-22T19:09:39.775Z"
   },
   {
    "duration": 14,
    "start_time": "2024-06-22T19:09:39.828Z"
   },
   {
    "duration": 11,
    "start_time": "2024-06-22T19:09:39.844Z"
   },
   {
    "duration": 12,
    "start_time": "2024-06-22T19:09:39.857Z"
   },
   {
    "duration": 65,
    "start_time": "2024-06-22T19:09:39.872Z"
   },
   {
    "duration": 5,
    "start_time": "2024-06-22T19:09:39.940Z"
   },
   {
    "duration": 5,
    "start_time": "2024-06-22T19:09:39.948Z"
   },
   {
    "duration": 10,
    "start_time": "2024-06-22T19:09:39.957Z"
   },
   {
    "duration": 8,
    "start_time": "2024-06-22T19:09:39.970Z"
   },
   {
    "duration": 10,
    "start_time": "2024-06-22T19:09:40.024Z"
   },
   {
    "duration": 10,
    "start_time": "2024-06-22T19:09:40.036Z"
   },
   {
    "duration": 451,
    "start_time": "2024-06-22T19:09:40.049Z"
   },
   {
    "duration": 400,
    "start_time": "2024-06-22T19:09:40.504Z"
   },
   {
    "duration": 451,
    "start_time": "2024-06-22T19:09:40.908Z"
   },
   {
    "duration": 6,
    "start_time": "2024-06-22T19:09:41.362Z"
   },
   {
    "duration": 6,
    "start_time": "2024-06-22T19:09:41.372Z"
   },
   {
    "duration": 42,
    "start_time": "2024-06-22T19:09:41.381Z"
   },
   {
    "duration": 294,
    "start_time": "2024-06-22T19:09:41.425Z"
   },
   {
    "duration": 288,
    "start_time": "2024-06-22T19:09:41.724Z"
   },
   {
    "duration": 315,
    "start_time": "2024-06-22T19:09:42.015Z"
   },
   {
    "duration": 356,
    "start_time": "2024-06-22T19:09:42.334Z"
   },
   {
    "duration": 447,
    "start_time": "2024-06-22T19:09:42.694Z"
   },
   {
    "duration": 1336,
    "start_time": "2024-06-22T19:09:43.143Z"
   },
   {
    "duration": 0,
    "start_time": "2024-06-22T19:09:44.483Z"
   },
   {
    "duration": 0,
    "start_time": "2024-06-22T19:09:44.485Z"
   },
   {
    "duration": 0,
    "start_time": "2024-06-22T19:09:44.487Z"
   },
   {
    "duration": 0,
    "start_time": "2024-06-22T19:09:44.490Z"
   },
   {
    "duration": 39,
    "start_time": "2024-06-22T19:10:05.582Z"
   },
   {
    "duration": 11,
    "start_time": "2024-06-22T19:11:33.868Z"
   },
   {
    "duration": 6,
    "start_time": "2024-06-22T19:11:57.110Z"
   },
   {
    "duration": 88,
    "start_time": "2024-06-22T19:11:58.978Z"
   },
   {
    "duration": 5,
    "start_time": "2024-06-22T19:12:04.777Z"
   },
   {
    "duration": 37,
    "start_time": "2024-06-22T19:12:06.831Z"
   },
   {
    "duration": 13,
    "start_time": "2024-06-22T19:12:24.341Z"
   },
   {
    "duration": 9,
    "start_time": "2024-06-22T19:12:34.285Z"
   },
   {
    "duration": 3,
    "start_time": "2024-06-22T19:14:06.791Z"
   },
   {
    "duration": 108,
    "start_time": "2024-06-22T19:14:29.195Z"
   },
   {
    "duration": 15,
    "start_time": "2024-06-22T19:15:36.138Z"
   },
   {
    "duration": 26,
    "start_time": "2024-06-22T19:15:51.366Z"
   },
   {
    "duration": 39,
    "start_time": "2024-06-22T19:16:00.463Z"
   },
   {
    "duration": 36,
    "start_time": "2024-06-22T19:16:44.944Z"
   },
   {
    "duration": 1053,
    "start_time": "2024-06-22T19:17:23.749Z"
   },
   {
    "duration": 38,
    "start_time": "2024-06-22T19:17:40.182Z"
   },
   {
    "duration": 70,
    "start_time": "2024-06-22T19:17:52.666Z"
   },
   {
    "duration": 7,
    "start_time": "2024-06-22T19:18:07.639Z"
   },
   {
    "duration": 35,
    "start_time": "2024-06-22T19:18:11.847Z"
   },
   {
    "duration": 46,
    "start_time": "2024-06-22T19:18:27.924Z"
   },
   {
    "duration": 33,
    "start_time": "2024-06-22T19:18:34.294Z"
   },
   {
    "duration": 22,
    "start_time": "2024-06-22T19:18:36.881Z"
   },
   {
    "duration": 43,
    "start_time": "2024-06-22T19:18:39.637Z"
   },
   {
    "duration": 10,
    "start_time": "2024-06-22T19:18:52.878Z"
   },
   {
    "duration": 1500,
    "start_time": "2024-06-22T19:19:05.829Z"
   },
   {
    "duration": 1032,
    "start_time": "2024-06-22T19:19:07.334Z"
   },
   {
    "duration": 107,
    "start_time": "2024-06-22T19:19:08.369Z"
   },
   {
    "duration": 21,
    "start_time": "2024-06-22T19:19:08.481Z"
   },
   {
    "duration": 41,
    "start_time": "2024-06-22T19:19:08.506Z"
   },
   {
    "duration": 12,
    "start_time": "2024-06-22T19:19:08.550Z"
   },
   {
    "duration": 9,
    "start_time": "2024-06-22T19:19:08.565Z"
   },
   {
    "duration": 46,
    "start_time": "2024-06-22T19:19:08.578Z"
   },
   {
    "duration": 13,
    "start_time": "2024-06-22T19:19:08.628Z"
   },
   {
    "duration": 155,
    "start_time": "2024-06-22T19:19:08.644Z"
   },
   {
    "duration": 22,
    "start_time": "2024-06-22T19:19:08.802Z"
   },
   {
    "duration": 46,
    "start_time": "2024-06-22T19:19:08.827Z"
   },
   {
    "duration": 14,
    "start_time": "2024-06-22T19:19:08.879Z"
   },
   {
    "duration": 180,
    "start_time": "2024-06-22T19:19:08.931Z"
   },
   {
    "duration": 20,
    "start_time": "2024-06-22T19:19:09.114Z"
   },
   {
    "duration": 22,
    "start_time": "2024-06-22T19:19:09.138Z"
   },
   {
    "duration": 11,
    "start_time": "2024-06-22T19:19:09.163Z"
   },
   {
    "duration": 47,
    "start_time": "2024-06-22T19:19:09.177Z"
   },
   {
    "duration": 11,
    "start_time": "2024-06-22T19:19:09.228Z"
   },
   {
    "duration": 20,
    "start_time": "2024-06-22T19:19:09.242Z"
   },
   {
    "duration": 5,
    "start_time": "2024-06-22T19:19:09.264Z"
   },
   {
    "duration": 51,
    "start_time": "2024-06-22T19:19:09.272Z"
   },
   {
    "duration": 10,
    "start_time": "2024-06-22T19:19:09.326Z"
   },
   {
    "duration": 8,
    "start_time": "2024-06-22T19:19:09.338Z"
   },
   {
    "duration": 9,
    "start_time": "2024-06-22T19:19:09.349Z"
   },
   {
    "duration": 10,
    "start_time": "2024-06-22T19:19:09.362Z"
   },
   {
    "duration": 492,
    "start_time": "2024-06-22T19:19:09.375Z"
   },
   {
    "duration": 440,
    "start_time": "2024-06-22T19:19:09.870Z"
   },
   {
    "duration": 441,
    "start_time": "2024-06-22T19:19:10.322Z"
   },
   {
    "duration": 8,
    "start_time": "2024-06-22T19:19:10.769Z"
   },
   {
    "duration": 9,
    "start_time": "2024-06-22T19:19:10.781Z"
   },
   {
    "duration": 9,
    "start_time": "2024-06-22T19:19:10.829Z"
   },
   {
    "duration": 363,
    "start_time": "2024-06-22T19:19:10.842Z"
   },
   {
    "duration": 314,
    "start_time": "2024-06-22T19:19:11.209Z"
   },
   {
    "duration": 342,
    "start_time": "2024-06-22T19:19:11.526Z"
   },
   {
    "duration": 380,
    "start_time": "2024-06-22T19:19:11.871Z"
   },
   {
    "duration": 461,
    "start_time": "2024-06-22T19:19:12.254Z"
   },
   {
    "duration": 8,
    "start_time": "2024-06-22T19:19:12.724Z"
   },
   {
    "duration": 137,
    "start_time": "2024-06-22T19:19:12.735Z"
   },
   {
    "duration": 5,
    "start_time": "2024-06-22T19:19:12.876Z"
   },
   {
    "duration": 65,
    "start_time": "2024-06-22T19:19:12.895Z"
   },
   {
    "duration": 5,
    "start_time": "2024-06-22T19:19:12.964Z"
   },
   {
    "duration": 614,
    "start_time": "2024-06-22T19:19:12.973Z"
   },
   {
    "duration": 39,
    "start_time": "2024-06-22T19:19:48.677Z"
   },
   {
    "duration": 1308,
    "start_time": "2024-06-22T19:19:56.131Z"
   },
   {
    "duration": 36,
    "start_time": "2024-06-22T19:20:04.706Z"
   },
   {
    "duration": 68,
    "start_time": "2024-06-22T19:20:14.408Z"
   },
   {
    "duration": 10,
    "start_time": "2024-06-22T19:20:19.812Z"
   },
   {
    "duration": 33,
    "start_time": "2024-06-22T19:20:24.753Z"
   },
   {
    "duration": 8,
    "start_time": "2024-06-22T19:20:32.294Z"
   },
   {
    "duration": 1363,
    "start_time": "2024-06-22T19:20:50.178Z"
   },
   {
    "duration": 794,
    "start_time": "2024-06-22T19:20:51.546Z"
   },
   {
    "duration": 93,
    "start_time": "2024-06-22T19:20:52.343Z"
   },
   {
    "duration": 20,
    "start_time": "2024-06-22T19:20:52.439Z"
   },
   {
    "duration": 23,
    "start_time": "2024-06-22T19:20:52.463Z"
   },
   {
    "duration": 35,
    "start_time": "2024-06-22T19:20:52.489Z"
   },
   {
    "duration": 7,
    "start_time": "2024-06-22T19:20:52.527Z"
   },
   {
    "duration": 13,
    "start_time": "2024-06-22T19:20:52.536Z"
   },
   {
    "duration": 12,
    "start_time": "2024-06-22T19:20:52.552Z"
   },
   {
    "duration": 160,
    "start_time": "2024-06-22T19:20:52.568Z"
   },
   {
    "duration": 10,
    "start_time": "2024-06-22T19:20:52.731Z"
   },
   {
    "duration": 36,
    "start_time": "2024-06-22T19:20:52.744Z"
   },
   {
    "duration": 47,
    "start_time": "2024-06-22T19:20:52.783Z"
   },
   {
    "duration": 158,
    "start_time": "2024-06-22T19:20:52.836Z"
   },
   {
    "duration": 27,
    "start_time": "2024-06-22T19:20:52.997Z"
   },
   {
    "duration": 24,
    "start_time": "2024-06-22T19:20:53.027Z"
   },
   {
    "duration": 9,
    "start_time": "2024-06-22T19:20:53.054Z"
   },
   {
    "duration": 13,
    "start_time": "2024-06-22T19:20:53.066Z"
   },
   {
    "duration": 49,
    "start_time": "2024-06-22T19:20:53.082Z"
   },
   {
    "duration": 20,
    "start_time": "2024-06-22T19:20:53.135Z"
   },
   {
    "duration": 4,
    "start_time": "2024-06-22T19:20:53.159Z"
   },
   {
    "duration": 5,
    "start_time": "2024-06-22T19:20:53.167Z"
   },
   {
    "duration": 11,
    "start_time": "2024-06-22T19:20:53.223Z"
   },
   {
    "duration": 9,
    "start_time": "2024-06-22T19:20:53.237Z"
   },
   {
    "duration": 7,
    "start_time": "2024-06-22T19:20:53.249Z"
   },
   {
    "duration": 9,
    "start_time": "2024-06-22T19:20:53.260Z"
   },
   {
    "duration": 467,
    "start_time": "2024-06-22T19:20:53.272Z"
   },
   {
    "duration": 382,
    "start_time": "2024-06-22T19:20:53.745Z"
   },
   {
    "duration": 416,
    "start_time": "2024-06-22T19:20:54.129Z"
   },
   {
    "duration": 7,
    "start_time": "2024-06-22T19:20:54.548Z"
   },
   {
    "duration": 7,
    "start_time": "2024-06-22T19:20:54.558Z"
   },
   {
    "duration": 7,
    "start_time": "2024-06-22T19:20:54.568Z"
   },
   {
    "duration": 323,
    "start_time": "2024-06-22T19:20:54.578Z"
   },
   {
    "duration": 285,
    "start_time": "2024-06-22T19:20:54.905Z"
   },
   {
    "duration": 336,
    "start_time": "2024-06-22T19:20:55.193Z"
   },
   {
    "duration": 346,
    "start_time": "2024-06-22T19:20:55.535Z"
   },
   {
    "duration": 371,
    "start_time": "2024-06-22T19:20:55.884Z"
   },
   {
    "duration": 8,
    "start_time": "2024-06-22T19:20:56.259Z"
   },
   {
    "duration": 114,
    "start_time": "2024-06-22T19:20:56.270Z"
   },
   {
    "duration": 6,
    "start_time": "2024-06-22T19:20:56.387Z"
   },
   {
    "duration": 946,
    "start_time": "2024-06-22T19:20:56.404Z"
   },
   {
    "duration": 5,
    "start_time": "2024-06-22T19:20:57.429Z"
   },
   {
    "duration": 582,
    "start_time": "2024-06-22T19:20:57.443Z"
   },
   {
    "duration": 389,
    "start_time": "2024-06-22T19:21:14.686Z"
   },
   {
    "duration": 1322,
    "start_time": "2024-06-22T19:21:18.048Z"
   },
   {
    "duration": 1459,
    "start_time": "2024-06-22T19:22:24.455Z"
   },
   {
    "duration": 796,
    "start_time": "2024-06-22T19:22:25.922Z"
   },
   {
    "duration": 86,
    "start_time": "2024-06-22T19:22:26.720Z"
   },
   {
    "duration": 19,
    "start_time": "2024-06-22T19:22:26.822Z"
   },
   {
    "duration": 23,
    "start_time": "2024-06-22T19:22:26.844Z"
   },
   {
    "duration": 11,
    "start_time": "2024-06-22T19:22:26.869Z"
   },
   {
    "duration": 41,
    "start_time": "2024-06-22T19:22:26.883Z"
   },
   {
    "duration": 17,
    "start_time": "2024-06-22T19:22:26.927Z"
   },
   {
    "duration": 14,
    "start_time": "2024-06-22T19:22:26.948Z"
   },
   {
    "duration": 156,
    "start_time": "2024-06-22T19:22:26.968Z"
   },
   {
    "duration": 9,
    "start_time": "2024-06-22T19:22:27.127Z"
   },
   {
    "duration": 35,
    "start_time": "2024-06-22T19:22:27.141Z"
   },
   {
    "duration": 11,
    "start_time": "2024-06-22T19:22:27.179Z"
   },
   {
    "duration": 169,
    "start_time": "2024-06-22T19:22:27.223Z"
   },
   {
    "duration": 28,
    "start_time": "2024-06-22T19:22:27.396Z"
   },
   {
    "duration": 23,
    "start_time": "2024-06-22T19:22:27.427Z"
   },
   {
    "duration": 10,
    "start_time": "2024-06-22T19:22:27.453Z"
   },
   {
    "duration": 11,
    "start_time": "2024-06-22T19:22:27.466Z"
   },
   {
    "duration": 51,
    "start_time": "2024-06-22T19:22:27.480Z"
   },
   {
    "duration": 20,
    "start_time": "2024-06-22T19:22:27.534Z"
   },
   {
    "duration": 5,
    "start_time": "2024-06-22T19:22:27.556Z"
   },
   {
    "duration": 4,
    "start_time": "2024-06-22T19:22:27.564Z"
   },
   {
    "duration": 54,
    "start_time": "2024-06-22T19:22:27.571Z"
   },
   {
    "duration": 9,
    "start_time": "2024-06-22T19:22:27.628Z"
   },
   {
    "duration": 8,
    "start_time": "2024-06-22T19:22:27.640Z"
   },
   {
    "duration": 9,
    "start_time": "2024-06-22T19:22:27.652Z"
   },
   {
    "duration": 462,
    "start_time": "2024-06-22T19:22:27.664Z"
   },
   {
    "duration": 392,
    "start_time": "2024-06-22T19:22:28.134Z"
   },
   {
    "duration": 405,
    "start_time": "2024-06-22T19:22:28.528Z"
   },
   {
    "duration": 6,
    "start_time": "2024-06-22T19:22:28.937Z"
   },
   {
    "duration": 10,
    "start_time": "2024-06-22T19:22:28.946Z"
   },
   {
    "duration": 6,
    "start_time": "2024-06-22T19:22:28.959Z"
   },
   {
    "duration": 334,
    "start_time": "2024-06-22T19:22:28.968Z"
   },
   {
    "duration": 289,
    "start_time": "2024-06-22T19:22:29.305Z"
   },
   {
    "duration": 337,
    "start_time": "2024-06-22T19:22:29.597Z"
   },
   {
    "duration": 354,
    "start_time": "2024-06-22T19:22:29.937Z"
   },
   {
    "duration": 375,
    "start_time": "2024-06-22T19:22:30.294Z"
   },
   {
    "duration": 9,
    "start_time": "2024-06-22T19:22:30.672Z"
   },
   {
    "duration": 108,
    "start_time": "2024-06-22T19:22:30.684Z"
   },
   {
    "duration": 5,
    "start_time": "2024-06-22T19:22:30.795Z"
   },
   {
    "duration": 939,
    "start_time": "2024-06-22T19:22:30.803Z"
   },
   {
    "duration": 78,
    "start_time": "2024-06-22T19:22:31.744Z"
   },
   {
    "duration": 0,
    "start_time": "2024-06-22T19:22:32.469Z"
   },
   {
    "duration": 6,
    "start_time": "2024-06-22T19:24:26.801Z"
   },
   {
    "duration": 1011,
    "start_time": "2024-06-22T19:24:44.731Z"
   },
   {
    "duration": 1859,
    "start_time": "2024-06-22T19:25:02.366Z"
   },
   {
    "duration": 35,
    "start_time": "2024-06-22T19:25:48.758Z"
   },
   {
    "duration": 13,
    "start_time": "2024-06-22T19:25:52.103Z"
   },
   {
    "duration": 1935,
    "start_time": "2024-06-22T19:27:11.188Z"
   },
   {
    "duration": 1981,
    "start_time": "2024-06-22T19:27:48.745Z"
   },
   {
    "duration": 988,
    "start_time": "2024-06-22T19:28:00.754Z"
   },
   {
    "duration": 945,
    "start_time": "2024-06-22T19:28:06.686Z"
   },
   {
    "duration": 541,
    "start_time": "2024-06-22T19:28:09.981Z"
   },
   {
    "duration": 465,
    "start_time": "2024-06-22T19:28:15.170Z"
   },
   {
    "duration": 346,
    "start_time": "2024-06-22T19:28:20.077Z"
   },
   {
    "duration": 1382,
    "start_time": "2024-06-22T19:28:24.355Z"
   },
   {
    "duration": 1019,
    "start_time": "2024-06-22T19:28:28.612Z"
   },
   {
    "duration": 501,
    "start_time": "2024-06-22T19:28:32.041Z"
   },
   {
    "duration": 4737,
    "start_time": "2024-06-22T19:29:21.148Z"
   },
   {
    "duration": 1173,
    "start_time": "2024-06-22T19:31:46.624Z"
   },
   {
    "duration": 1832,
    "start_time": "2024-06-22T19:31:50.885Z"
   },
   {
    "duration": 803,
    "start_time": "2024-06-22T19:32:20.235Z"
   },
   {
    "duration": 3293,
    "start_time": "2024-06-22T19:33:35.330Z"
   },
   {
    "duration": 1147,
    "start_time": "2024-06-22T19:33:43.303Z"
   },
   {
    "duration": 803,
    "start_time": "2024-06-22T19:33:47.031Z"
   },
   {
    "duration": 436,
    "start_time": "2024-06-22T19:33:50.430Z"
   },
   {
    "duration": 1147,
    "start_time": "2024-06-22T19:33:54.533Z"
   },
   {
    "duration": 797,
    "start_time": "2024-06-22T19:33:58.006Z"
   },
   {
    "duration": 38,
    "start_time": "2024-06-22T19:36:10.186Z"
   },
   {
    "duration": 802,
    "start_time": "2024-06-22T19:36:17.170Z"
   },
   {
    "duration": 4889,
    "start_time": "2024-06-22T19:36:23.580Z"
   },
   {
    "duration": 801,
    "start_time": "2024-06-22T19:36:33.700Z"
   },
   {
    "duration": 4846,
    "start_time": "2024-06-22T19:37:29.694Z"
   },
   {
    "duration": 8,
    "start_time": "2024-06-22T19:38:51.383Z"
   },
   {
    "duration": 4821,
    "start_time": "2024-06-22T19:38:54.677Z"
   },
   {
    "duration": 760,
    "start_time": "2024-06-22T19:39:03.807Z"
   },
   {
    "duration": 1956,
    "start_time": "2024-06-22T19:39:08.967Z"
   },
   {
    "duration": 4815,
    "start_time": "2024-06-22T19:39:16.123Z"
   },
   {
    "duration": 7,
    "start_time": "2024-06-22T19:39:38.735Z"
   },
   {
    "duration": 4763,
    "start_time": "2024-06-22T19:39:42.041Z"
   },
   {
    "duration": 4749,
    "start_time": "2024-06-22T19:39:53.734Z"
   },
   {
    "duration": 3,
    "start_time": "2024-06-22T19:40:18.968Z"
   },
   {
    "duration": 1382,
    "start_time": "2024-06-22T19:43:13.567Z"
   },
   {
    "duration": 789,
    "start_time": "2024-06-22T19:43:14.953Z"
   },
   {
    "duration": 94,
    "start_time": "2024-06-22T19:43:15.746Z"
   },
   {
    "duration": 19,
    "start_time": "2024-06-22T19:43:15.844Z"
   },
   {
    "duration": 57,
    "start_time": "2024-06-22T19:43:15.865Z"
   },
   {
    "duration": 11,
    "start_time": "2024-06-22T19:43:15.925Z"
   },
   {
    "duration": 6,
    "start_time": "2024-06-22T19:43:15.941Z"
   },
   {
    "duration": 11,
    "start_time": "2024-06-22T19:43:15.951Z"
   },
   {
    "duration": 13,
    "start_time": "2024-06-22T19:43:15.967Z"
   },
   {
    "duration": 126,
    "start_time": "2024-06-22T19:43:16.024Z"
   },
   {
    "duration": 10,
    "start_time": "2024-06-22T19:43:16.154Z"
   },
   {
    "duration": 62,
    "start_time": "2024-06-22T19:43:16.167Z"
   },
   {
    "duration": 12,
    "start_time": "2024-06-22T19:43:16.232Z"
   },
   {
    "duration": 176,
    "start_time": "2024-06-22T19:43:16.246Z"
   },
   {
    "duration": 15,
    "start_time": "2024-06-22T19:43:16.426Z"
   },
   {
    "duration": 22,
    "start_time": "2024-06-22T19:43:16.444Z"
   },
   {
    "duration": 10,
    "start_time": "2024-06-22T19:43:16.468Z"
   },
   {
    "duration": 48,
    "start_time": "2024-06-22T19:43:16.481Z"
   },
   {
    "duration": 11,
    "start_time": "2024-06-22T19:43:16.532Z"
   },
   {
    "duration": 19,
    "start_time": "2024-06-22T19:43:16.546Z"
   },
   {
    "duration": 5,
    "start_time": "2024-06-22T19:43:16.567Z"
   },
   {
    "duration": 50,
    "start_time": "2024-06-22T19:43:16.574Z"
   },
   {
    "duration": 14,
    "start_time": "2024-06-22T19:43:16.630Z"
   },
   {
    "duration": 8,
    "start_time": "2024-06-22T19:43:16.647Z"
   },
   {
    "duration": 8,
    "start_time": "2024-06-22T19:43:16.659Z"
   },
   {
    "duration": 11,
    "start_time": "2024-06-22T19:43:16.671Z"
   },
   {
    "duration": 424,
    "start_time": "2024-06-22T19:43:16.724Z"
   },
   {
    "duration": 400,
    "start_time": "2024-06-22T19:43:17.156Z"
   },
   {
    "duration": 1435,
    "start_time": "2024-06-22T19:43:25.013Z"
   },
   {
    "duration": 788,
    "start_time": "2024-06-22T19:43:26.452Z"
   },
   {
    "duration": 95,
    "start_time": "2024-06-22T19:43:27.243Z"
   },
   {
    "duration": 20,
    "start_time": "2024-06-22T19:43:27.341Z"
   },
   {
    "duration": 28,
    "start_time": "2024-06-22T19:43:27.368Z"
   },
   {
    "duration": 31,
    "start_time": "2024-06-22T19:43:27.399Z"
   },
   {
    "duration": 7,
    "start_time": "2024-06-22T19:43:27.434Z"
   },
   {
    "duration": 13,
    "start_time": "2024-06-22T19:43:27.444Z"
   },
   {
    "duration": 12,
    "start_time": "2024-06-22T19:43:27.460Z"
   },
   {
    "duration": 165,
    "start_time": "2024-06-22T19:43:27.474Z"
   },
   {
    "duration": 10,
    "start_time": "2024-06-22T19:43:27.642Z"
   },
   {
    "duration": 37,
    "start_time": "2024-06-22T19:43:27.655Z"
   },
   {
    "duration": 12,
    "start_time": "2024-06-22T19:43:27.723Z"
   },
   {
    "duration": 169,
    "start_time": "2024-06-22T19:43:27.742Z"
   },
   {
    "duration": 19,
    "start_time": "2024-06-22T19:43:27.914Z"
   },
   {
    "duration": 22,
    "start_time": "2024-06-22T19:43:27.937Z"
   },
   {
    "duration": 9,
    "start_time": "2024-06-22T19:43:27.962Z"
   },
   {
    "duration": 54,
    "start_time": "2024-06-22T19:43:27.974Z"
   },
   {
    "duration": 11,
    "start_time": "2024-06-22T19:43:28.031Z"
   },
   {
    "duration": 20,
    "start_time": "2024-06-22T19:43:28.044Z"
   },
   {
    "duration": 5,
    "start_time": "2024-06-22T19:43:28.066Z"
   },
   {
    "duration": 4,
    "start_time": "2024-06-22T19:43:28.074Z"
   },
   {
    "duration": 53,
    "start_time": "2024-06-22T19:43:28.080Z"
   },
   {
    "duration": 9,
    "start_time": "2024-06-22T19:43:28.136Z"
   },
   {
    "duration": 8,
    "start_time": "2024-06-22T19:43:28.149Z"
   },
   {
    "duration": 9,
    "start_time": "2024-06-22T19:43:28.161Z"
   },
   {
    "duration": 469,
    "start_time": "2024-06-22T19:43:28.175Z"
   },
   {
    "duration": 390,
    "start_time": "2024-06-22T19:43:28.646Z"
   },
   {
    "duration": 424,
    "start_time": "2024-06-22T19:43:29.039Z"
   },
   {
    "duration": 7,
    "start_time": "2024-06-22T19:43:29.465Z"
   },
   {
    "duration": 7,
    "start_time": "2024-06-22T19:43:29.476Z"
   },
   {
    "duration": 38,
    "start_time": "2024-06-22T19:43:29.486Z"
   },
   {
    "duration": 315,
    "start_time": "2024-06-22T19:43:29.527Z"
   },
   {
    "duration": 299,
    "start_time": "2024-06-22T19:43:29.844Z"
   },
   {
    "duration": 335,
    "start_time": "2024-06-22T19:43:30.146Z"
   },
   {
    "duration": 366,
    "start_time": "2024-06-22T19:43:30.484Z"
   },
   {
    "duration": 382,
    "start_time": "2024-06-22T19:43:30.852Z"
   },
   {
    "duration": 9,
    "start_time": "2024-06-22T19:43:31.237Z"
   },
   {
    "duration": 105,
    "start_time": "2024-06-22T19:43:31.249Z"
   },
   {
    "duration": 4,
    "start_time": "2024-06-22T19:43:31.358Z"
   },
   {
    "duration": 558,
    "start_time": "2024-06-22T19:43:31.370Z"
   },
   {
    "duration": 4803,
    "start_time": "2024-06-22T19:43:42.752Z"
   },
   {
    "duration": 1388,
    "start_time": "2024-06-22T19:45:16.562Z"
   },
   {
    "duration": 793,
    "start_time": "2024-06-22T19:45:17.953Z"
   },
   {
    "duration": 93,
    "start_time": "2024-06-22T19:45:18.750Z"
   },
   {
    "duration": 19,
    "start_time": "2024-06-22T19:45:18.846Z"
   },
   {
    "duration": 24,
    "start_time": "2024-06-22T19:45:18.868Z"
   },
   {
    "duration": 13,
    "start_time": "2024-06-22T19:45:18.923Z"
   },
   {
    "duration": 8,
    "start_time": "2024-06-22T19:45:18.938Z"
   },
   {
    "duration": 13,
    "start_time": "2024-06-22T19:45:18.950Z"
   },
   {
    "duration": 13,
    "start_time": "2024-06-22T19:45:18.966Z"
   },
   {
    "duration": 154,
    "start_time": "2024-06-22T19:45:18.983Z"
   },
   {
    "duration": 10,
    "start_time": "2024-06-22T19:45:19.141Z"
   },
   {
    "duration": 37,
    "start_time": "2024-06-22T19:45:19.154Z"
   },
   {
    "duration": 39,
    "start_time": "2024-06-22T19:45:19.193Z"
   },
   {
    "duration": 173,
    "start_time": "2024-06-22T19:45:19.235Z"
   },
   {
    "duration": 23,
    "start_time": "2024-06-22T19:45:19.411Z"
   },
   {
    "duration": 20,
    "start_time": "2024-06-22T19:45:19.439Z"
   },
   {
    "duration": 9,
    "start_time": "2024-06-22T19:45:19.462Z"
   },
   {
    "duration": 48,
    "start_time": "2024-06-22T19:45:19.474Z"
   },
   {
    "duration": 13,
    "start_time": "2024-06-22T19:45:19.526Z"
   },
   {
    "duration": 23,
    "start_time": "2024-06-22T19:45:19.545Z"
   },
   {
    "duration": 5,
    "start_time": "2024-06-22T19:45:19.572Z"
   },
   {
    "duration": 43,
    "start_time": "2024-06-22T19:45:19.581Z"
   },
   {
    "duration": 14,
    "start_time": "2024-06-22T19:45:19.627Z"
   },
   {
    "duration": 8,
    "start_time": "2024-06-22T19:45:19.644Z"
   },
   {
    "duration": 10,
    "start_time": "2024-06-22T19:45:19.656Z"
   },
   {
    "duration": 10,
    "start_time": "2024-06-22T19:45:19.670Z"
   },
   {
    "duration": 433,
    "start_time": "2024-06-22T19:45:19.723Z"
   },
   {
    "duration": 395,
    "start_time": "2024-06-22T19:45:20.164Z"
   },
   {
    "duration": 425,
    "start_time": "2024-06-22T19:45:20.562Z"
   },
   {
    "duration": 6,
    "start_time": "2024-06-22T19:45:20.990Z"
   },
   {
    "duration": 26,
    "start_time": "2024-06-22T19:45:20.999Z"
   },
   {
    "duration": 8,
    "start_time": "2024-06-22T19:45:21.028Z"
   },
   {
    "duration": 318,
    "start_time": "2024-06-22T19:45:21.038Z"
   },
   {
    "duration": 286,
    "start_time": "2024-06-22T19:45:21.359Z"
   },
   {
    "duration": 342,
    "start_time": "2024-06-22T19:45:21.648Z"
   },
   {
    "duration": 331,
    "start_time": "2024-06-22T19:45:21.994Z"
   },
   {
    "duration": 359,
    "start_time": "2024-06-22T19:45:22.328Z"
   },
   {
    "duration": 9,
    "start_time": "2024-06-22T19:45:22.691Z"
   },
   {
    "duration": 104,
    "start_time": "2024-06-22T19:45:22.703Z"
   },
   {
    "duration": 4,
    "start_time": "2024-06-22T19:45:22.823Z"
   },
   {
    "duration": 503,
    "start_time": "2024-06-22T19:45:22.830Z"
   },
   {
    "duration": 4921,
    "start_time": "2024-06-22T19:45:23.336Z"
   },
   {
    "duration": 11813,
    "start_time": "2024-06-22T19:46:29.675Z"
   },
   {
    "duration": 11699,
    "start_time": "2024-06-22T19:47:26.843Z"
   },
   {
    "duration": 29009,
    "start_time": "2024-06-22T19:47:54.246Z"
   },
   {
    "duration": 40628,
    "start_time": "2024-06-22T19:48:37.683Z"
   },
   {
    "duration": 58826,
    "start_time": "2024-06-22T19:50:03.231Z"
   },
   {
    "duration": 47541,
    "start_time": "2024-06-22T19:51:10.961Z"
   },
   {
    "duration": 41814,
    "start_time": "2024-06-22T20:02:53.756Z"
   },
   {
    "duration": 29005,
    "start_time": "2024-06-22T20:03:44.507Z"
   },
   {
    "duration": 7234,
    "start_time": "2024-06-22T20:04:26.060Z"
   },
   {
    "duration": 28927,
    "start_time": "2024-06-22T20:04:38.687Z"
   },
   {
    "duration": 29321,
    "start_time": "2024-06-22T20:09:01.420Z"
   },
   {
    "duration": 29407,
    "start_time": "2024-06-22T20:10:38.598Z"
   },
   {
    "duration": 38,
    "start_time": "2024-06-22T20:12:43.759Z"
   },
   {
    "duration": 10,
    "start_time": "2024-06-22T20:12:49.003Z"
   },
   {
    "duration": 7,
    "start_time": "2024-06-22T20:13:52.500Z"
   },
   {
    "duration": 1788,
    "start_time": "2024-06-22T20:14:15.492Z"
   },
   {
    "duration": 37,
    "start_time": "2024-06-22T20:15:52.881Z"
   },
   {
    "duration": 6,
    "start_time": "2024-06-22T20:16:20.999Z"
   },
   {
    "duration": 20,
    "start_time": "2024-06-22T20:24:41.643Z"
   },
   {
    "duration": 67,
    "start_time": "2024-06-22T20:24:46.660Z"
   },
   {
    "duration": 31,
    "start_time": "2024-06-22T20:24:52.931Z"
   },
   {
    "duration": 34,
    "start_time": "2024-06-22T20:24:58.448Z"
   },
   {
    "duration": 34,
    "start_time": "2024-06-22T20:25:00.448Z"
   },
   {
    "duration": 67,
    "start_time": "2024-06-22T20:25:14.428Z"
   },
   {
    "duration": 245,
    "start_time": "2024-06-22T20:25:28.063Z"
   },
   {
    "duration": 54,
    "start_time": "2024-06-22T20:25:46.872Z"
   },
   {
    "duration": 156,
    "start_time": "2024-06-22T20:26:15.489Z"
   },
   {
    "duration": 134,
    "start_time": "2024-06-22T20:26:21.496Z"
   },
   {
    "duration": 209,
    "start_time": "2024-06-22T20:26:36.251Z"
   },
   {
    "duration": 263,
    "start_time": "2024-06-22T20:26:53.586Z"
   },
   {
    "duration": 1415,
    "start_time": "2024-06-22T20:27:14.879Z"
   },
   {
    "duration": 880,
    "start_time": "2024-06-22T20:27:16.298Z"
   },
   {
    "duration": 98,
    "start_time": "2024-06-22T20:27:17.181Z"
   },
   {
    "duration": 23,
    "start_time": "2024-06-22T20:27:17.284Z"
   },
   {
    "duration": 32,
    "start_time": "2024-06-22T20:27:17.324Z"
   },
   {
    "duration": 11,
    "start_time": "2024-06-22T20:27:17.362Z"
   },
   {
    "duration": 13,
    "start_time": "2024-06-22T20:27:17.381Z"
   },
   {
    "duration": 32,
    "start_time": "2024-06-22T20:27:17.400Z"
   },
   {
    "duration": 14,
    "start_time": "2024-06-22T20:27:17.435Z"
   },
   {
    "duration": 159,
    "start_time": "2024-06-22T20:27:17.456Z"
   },
   {
    "duration": 9,
    "start_time": "2024-06-22T20:27:17.623Z"
   },
   {
    "duration": 36,
    "start_time": "2024-06-22T20:27:17.635Z"
   },
   {
    "duration": 48,
    "start_time": "2024-06-22T20:27:17.675Z"
   },
   {
    "duration": 169,
    "start_time": "2024-06-22T20:27:17.726Z"
   },
   {
    "duration": 31,
    "start_time": "2024-06-22T20:27:17.899Z"
   },
   {
    "duration": 26,
    "start_time": "2024-06-22T20:27:17.933Z"
   },
   {
    "duration": 12,
    "start_time": "2024-06-22T20:27:17.963Z"
   },
   {
    "duration": 49,
    "start_time": "2024-06-22T20:27:17.979Z"
   },
   {
    "duration": 13,
    "start_time": "2024-06-22T20:27:18.032Z"
   },
   {
    "duration": 21,
    "start_time": "2024-06-22T20:27:18.048Z"
   },
   {
    "duration": 9,
    "start_time": "2024-06-22T20:27:18.072Z"
   },
   {
    "duration": 4,
    "start_time": "2024-06-22T20:27:18.123Z"
   },
   {
    "duration": 12,
    "start_time": "2024-06-22T20:27:18.131Z"
   },
   {
    "duration": 10,
    "start_time": "2024-06-22T20:27:18.146Z"
   },
   {
    "duration": 8,
    "start_time": "2024-06-22T20:27:18.159Z"
   },
   {
    "duration": 11,
    "start_time": "2024-06-22T20:27:18.170Z"
   },
   {
    "duration": 446,
    "start_time": "2024-06-22T20:27:18.224Z"
   },
   {
    "duration": 395,
    "start_time": "2024-06-22T20:27:18.679Z"
   },
   {
    "duration": 455,
    "start_time": "2024-06-22T20:27:19.078Z"
   },
   {
    "duration": 8,
    "start_time": "2024-06-22T20:27:19.539Z"
   },
   {
    "duration": 8,
    "start_time": "2024-06-22T20:27:19.550Z"
   },
   {
    "duration": 8,
    "start_time": "2024-06-22T20:27:19.561Z"
   },
   {
    "duration": 377,
    "start_time": "2024-06-22T20:27:19.572Z"
   },
   {
    "duration": 355,
    "start_time": "2024-06-22T20:27:19.952Z"
   },
   {
    "duration": 331,
    "start_time": "2024-06-22T20:27:20.310Z"
   },
   {
    "duration": 359,
    "start_time": "2024-06-22T20:27:20.645Z"
   },
   {
    "duration": 444,
    "start_time": "2024-06-22T20:27:21.011Z"
   },
   {
    "duration": 8,
    "start_time": "2024-06-22T20:27:21.459Z"
   },
   {
    "duration": 111,
    "start_time": "2024-06-22T20:27:21.470Z"
   },
   {
    "duration": 4,
    "start_time": "2024-06-22T20:27:21.584Z"
   },
   {
    "duration": 744,
    "start_time": "2024-06-22T20:27:21.592Z"
   },
   {
    "duration": 5370,
    "start_time": "2024-06-22T20:27:22.342Z"
   },
   {
    "duration": 30755,
    "start_time": "2024-06-22T20:27:27.716Z"
   },
   {
    "duration": 49,
    "start_time": "2024-06-22T20:27:58.477Z"
   },
   {
    "duration": 17,
    "start_time": "2024-06-22T20:30:46.244Z"
   },
   {
    "duration": 21,
    "start_time": "2024-06-22T20:30:52.840Z"
   },
   {
    "duration": 17,
    "start_time": "2024-06-22T20:32:53.922Z"
   },
   {
    "duration": 5,
    "start_time": "2024-06-22T20:33:11.161Z"
   },
   {
    "duration": 11,
    "start_time": "2024-06-22T20:33:46.363Z"
   },
   {
    "duration": 38,
    "start_time": "2024-06-22T20:33:51.706Z"
   },
   {
    "duration": 18,
    "start_time": "2024-06-22T20:33:55.431Z"
   },
   {
    "duration": 11,
    "start_time": "2024-06-22T20:34:19.279Z"
   },
   {
    "duration": 9,
    "start_time": "2024-06-22T20:34:33.775Z"
   },
   {
    "duration": 9259,
    "start_time": "2024-06-22T20:35:24.244Z"
   },
   {
    "duration": 67426,
    "start_time": "2024-06-22T20:36:43.252Z"
   },
   {
    "duration": 21104,
    "start_time": "2024-06-22T20:38:02.120Z"
   },
   {
    "duration": 5672,
    "start_time": "2024-06-22T20:42:33.771Z"
   },
   {
    "duration": 18594,
    "start_time": "2024-06-22T20:42:44.276Z"
   },
   {
    "duration": 3339,
    "start_time": "2024-06-22T20:44:05.559Z"
   },
   {
    "duration": 5333,
    "start_time": "2024-06-22T20:44:16.212Z"
   },
   {
    "duration": 5319,
    "start_time": "2024-06-22T20:44:26.410Z"
   },
   {
    "duration": 18334,
    "start_time": "2024-06-22T20:45:08.913Z"
   },
   {
    "duration": 35,
    "start_time": "2024-06-22T20:46:21.453Z"
   },
   {
    "duration": 9,
    "start_time": "2024-06-22T20:46:28.558Z"
   },
   {
    "duration": 7,
    "start_time": "2024-06-22T20:46:37.256Z"
   },
   {
    "duration": 42,
    "start_time": "2024-06-22T20:46:56.910Z"
   },
   {
    "duration": 34,
    "start_time": "2024-06-22T20:47:04.354Z"
   },
   {
    "duration": 38,
    "start_time": "2024-06-22T20:47:17.715Z"
   },
   {
    "duration": 35,
    "start_time": "2024-06-22T20:47:37.425Z"
   },
   {
    "duration": 44,
    "start_time": "2024-06-22T20:48:09.867Z"
   },
   {
    "duration": 9,
    "start_time": "2024-06-22T20:48:39.909Z"
   },
   {
    "duration": 17,
    "start_time": "2024-06-22T20:48:48.889Z"
   },
   {
    "duration": 17,
    "start_time": "2024-06-22T20:49:18.315Z"
   },
   {
    "duration": 118,
    "start_time": "2024-06-22T20:49:29.079Z"
   },
   {
    "duration": 36,
    "start_time": "2024-06-22T20:49:39.135Z"
   },
   {
    "duration": 8,
    "start_time": "2024-06-22T20:50:05.258Z"
   },
   {
    "duration": 9,
    "start_time": "2024-06-22T20:50:11.032Z"
   },
   {
    "duration": 5,
    "start_time": "2024-06-22T20:50:17.076Z"
   },
   {
    "duration": 12,
    "start_time": "2024-06-22T20:50:17.417Z"
   },
   {
    "duration": 1713,
    "start_time": "2024-06-22T20:50:17.711Z"
   },
   {
    "duration": 0,
    "start_time": "2024-06-22T20:50:19.427Z"
   },
   {
    "duration": 68,
    "start_time": "2024-06-22T21:33:31.496Z"
   },
   {
    "duration": 1412,
    "start_time": "2024-06-22T21:33:37.334Z"
   },
   {
    "duration": 794,
    "start_time": "2024-06-22T21:33:38.749Z"
   },
   {
    "duration": 92,
    "start_time": "2024-06-22T21:33:39.547Z"
   },
   {
    "duration": 21,
    "start_time": "2024-06-22T21:33:39.642Z"
   },
   {
    "duration": 52,
    "start_time": "2024-06-22T21:33:39.671Z"
   },
   {
    "duration": 14,
    "start_time": "2024-06-22T21:33:39.727Z"
   },
   {
    "duration": 8,
    "start_time": "2024-06-22T21:33:39.744Z"
   },
   {
    "duration": 12,
    "start_time": "2024-06-22T21:33:39.755Z"
   },
   {
    "duration": 53,
    "start_time": "2024-06-22T21:33:39.770Z"
   },
   {
    "duration": 126,
    "start_time": "2024-06-22T21:33:39.827Z"
   },
   {
    "duration": 9,
    "start_time": "2024-06-22T21:33:39.956Z"
   },
   {
    "duration": 63,
    "start_time": "2024-06-22T21:33:39.968Z"
   },
   {
    "duration": 11,
    "start_time": "2024-06-22T21:33:40.034Z"
   },
   {
    "duration": 174,
    "start_time": "2024-06-22T21:33:40.052Z"
   },
   {
    "duration": 17,
    "start_time": "2024-06-22T21:33:40.229Z"
   },
   {
    "duration": 22,
    "start_time": "2024-06-22T21:33:40.249Z"
   },
   {
    "duration": 50,
    "start_time": "2024-06-22T21:33:40.274Z"
   },
   {
    "duration": 12,
    "start_time": "2024-06-22T21:33:40.328Z"
   },
   {
    "duration": 11,
    "start_time": "2024-06-22T21:33:40.343Z"
   },
   {
    "duration": 19,
    "start_time": "2024-06-22T21:33:40.357Z"
   },
   {
    "duration": 45,
    "start_time": "2024-06-22T21:33:40.379Z"
   },
   {
    "duration": 10,
    "start_time": "2024-06-22T21:33:40.427Z"
   },
   {
    "duration": 10,
    "start_time": "2024-06-22T21:33:40.440Z"
   },
   {
    "duration": 9,
    "start_time": "2024-06-22T21:33:40.453Z"
   },
   {
    "duration": 10,
    "start_time": "2024-06-22T21:33:40.466Z"
   },
   {
    "duration": 51,
    "start_time": "2024-06-22T21:33:40.480Z"
   },
   {
    "duration": 440,
    "start_time": "2024-06-22T21:33:40.535Z"
   },
   {
    "duration": 392,
    "start_time": "2024-06-22T21:33:40.978Z"
   },
   {
    "duration": 426,
    "start_time": "2024-06-22T21:33:41.373Z"
   },
   {
    "duration": 7,
    "start_time": "2024-06-22T21:33:41.802Z"
   },
   {
    "duration": 7,
    "start_time": "2024-06-22T21:33:41.824Z"
   },
   {
    "duration": 6,
    "start_time": "2024-06-22T21:33:41.835Z"
   },
   {
    "duration": 319,
    "start_time": "2024-06-22T21:33:41.844Z"
   },
   {
    "duration": 284,
    "start_time": "2024-06-22T21:33:42.166Z"
   },
   {
    "duration": 319,
    "start_time": "2024-06-22T21:33:42.453Z"
   },
   {
    "duration": 345,
    "start_time": "2024-06-22T21:33:42.775Z"
   },
   {
    "duration": 371,
    "start_time": "2024-06-22T21:33:43.124Z"
   },
   {
    "duration": 8,
    "start_time": "2024-06-22T21:33:43.498Z"
   },
   {
    "duration": 100,
    "start_time": "2024-06-22T21:33:43.522Z"
   },
   {
    "duration": 5,
    "start_time": "2024-06-22T21:33:43.625Z"
   },
   {
    "duration": 506,
    "start_time": "2024-06-22T21:33:43.639Z"
   },
   {
    "duration": 4842,
    "start_time": "2024-06-22T21:33:44.222Z"
   },
   {
    "duration": 67787,
    "start_time": "2024-06-22T21:33:49.068Z"
   },
   {
    "duration": 5,
    "start_time": "2024-06-22T21:34:56.858Z"
   },
   {
    "duration": 13,
    "start_time": "2024-06-22T21:34:56.866Z"
   },
   {
    "duration": 8,
    "start_time": "2024-06-22T21:34:56.882Z"
   },
   {
    "duration": 18364,
    "start_time": "2024-06-22T21:34:56.924Z"
   },
   {
    "duration": 455,
    "start_time": "2024-06-22T21:35:15.294Z"
   },
   {
    "duration": 4871,
    "start_time": "2024-06-22T21:35:15.826Z"
   },
   {
    "duration": 38,
    "start_time": "2024-06-22T21:37:09.419Z"
   },
   {
    "duration": 41,
    "start_time": "2024-06-22T21:37:19.774Z"
   },
   {
    "duration": 507,
    "start_time": "2024-06-22T21:37:52.134Z"
   },
   {
    "duration": 61,
    "start_time": "2024-06-22T21:38:24.900Z"
   },
   {
    "duration": 23,
    "start_time": "2024-06-22T21:39:07.552Z"
   },
   {
    "duration": 11,
    "start_time": "2024-06-22T21:39:30.553Z"
   },
   {
    "duration": 52,
    "start_time": "2024-06-22T21:39:40.192Z"
   },
   {
    "duration": 34,
    "start_time": "2024-06-22T21:40:08.737Z"
   },
   {
    "duration": 17,
    "start_time": "2024-06-22T21:40:11.924Z"
   },
   {
    "duration": 16,
    "start_time": "2024-06-22T21:40:22.861Z"
   },
   {
    "duration": 13,
    "start_time": "2024-06-22T21:40:31.282Z"
   },
   {
    "duration": 23,
    "start_time": "2024-06-22T21:41:10.180Z"
   },
   {
    "duration": 24,
    "start_time": "2024-06-22T21:41:13.503Z"
   },
   {
    "duration": 34,
    "start_time": "2024-06-22T21:41:22.745Z"
   },
   {
    "duration": 11,
    "start_time": "2024-06-22T21:41:27.633Z"
   },
   {
    "duration": 37,
    "start_time": "2024-06-22T21:42:04.761Z"
   },
   {
    "duration": 38,
    "start_time": "2024-06-22T21:42:10.248Z"
   },
   {
    "duration": 37,
    "start_time": "2024-06-22T21:42:15.645Z"
   },
   {
    "duration": 22,
    "start_time": "2024-06-22T21:43:52.382Z"
   },
   {
    "duration": 10,
    "start_time": "2024-06-22T21:44:02.672Z"
   },
   {
    "duration": 7,
    "start_time": "2024-06-22T21:44:08.253Z"
   },
   {
    "duration": 8,
    "start_time": "2024-06-22T21:44:34.183Z"
   },
   {
    "duration": 8,
    "start_time": "2024-06-22T21:44:41.868Z"
   },
   {
    "duration": 12,
    "start_time": "2024-06-22T21:44:48.089Z"
   },
   {
    "duration": 9,
    "start_time": "2024-06-22T21:44:55.994Z"
   },
   {
    "duration": 9,
    "start_time": "2024-06-22T21:45:03.033Z"
   },
   {
    "duration": 9,
    "start_time": "2024-06-22T21:45:28.854Z"
   },
   {
    "duration": 555,
    "start_time": "2024-06-22T21:47:07.175Z"
   },
   {
    "duration": 4800,
    "start_time": "2024-06-22T21:47:08.329Z"
   },
   {
    "duration": 14740,
    "start_time": "2024-06-22T21:47:15.249Z"
   },
   {
    "duration": 4472,
    "start_time": "2024-06-22T21:48:18.460Z"
   },
   {
    "duration": 5,
    "start_time": "2024-06-22T21:58:22.151Z"
   },
   {
    "duration": 4,
    "start_time": "2024-06-22T21:58:34.345Z"
   },
   {
    "duration": 3,
    "start_time": "2024-06-22T21:58:49.625Z"
   },
   {
    "duration": 138,
    "start_time": "2024-06-22T21:59:57.058Z"
   },
   {
    "duration": 10,
    "start_time": "2024-06-22T22:00:03.218Z"
   },
   {
    "duration": 26,
    "start_time": "2024-06-22T22:00:20.689Z"
   },
   {
    "duration": 7,
    "start_time": "2024-06-22T22:00:25.712Z"
   },
   {
    "duration": 7,
    "start_time": "2024-06-22T22:00:37.666Z"
   },
   {
    "duration": 9,
    "start_time": "2024-06-22T22:00:43.610Z"
   },
   {
    "duration": 316,
    "start_time": "2024-06-22T22:01:14.453Z"
   },
   {
    "duration": 10,
    "start_time": "2024-06-22T22:01:23.454Z"
   },
   {
    "duration": 11,
    "start_time": "2024-06-22T22:01:26.549Z"
   },
   {
    "duration": 8,
    "start_time": "2024-06-22T22:02:15.807Z"
   },
   {
    "duration": 101,
    "start_time": "2024-06-22T22:02:56.423Z"
   },
   {
    "duration": 12,
    "start_time": "2024-06-22T22:03:14.754Z"
   },
   {
    "duration": 5049,
    "start_time": "2024-06-23T21:24:33.338Z"
   },
   {
    "duration": 987,
    "start_time": "2024-06-23T21:24:38.390Z"
   },
   {
    "duration": 33,
    "start_time": "2024-06-23T21:24:39.380Z"
   },
   {
    "duration": 18,
    "start_time": "2024-06-23T21:24:39.416Z"
   },
   {
    "duration": 22,
    "start_time": "2024-06-23T21:24:39.439Z"
   },
   {
    "duration": 10,
    "start_time": "2024-06-23T21:24:39.464Z"
   },
   {
    "duration": 8,
    "start_time": "2024-06-23T21:24:39.513Z"
   },
   {
    "duration": 12,
    "start_time": "2024-06-23T21:24:39.525Z"
   },
   {
    "duration": 12,
    "start_time": "2024-06-23T21:24:39.540Z"
   },
   {
    "duration": 156,
    "start_time": "2024-06-23T21:24:39.556Z"
   },
   {
    "duration": 11,
    "start_time": "2024-06-23T21:24:39.715Z"
   },
   {
    "duration": 40,
    "start_time": "2024-06-23T21:24:39.729Z"
   },
   {
    "duration": 40,
    "start_time": "2024-06-23T21:24:39.773Z"
   },
   {
    "duration": 166,
    "start_time": "2024-06-23T21:24:39.820Z"
   },
   {
    "duration": 27,
    "start_time": "2024-06-23T21:24:39.988Z"
   },
   {
    "duration": 24,
    "start_time": "2024-06-23T21:24:40.018Z"
   },
   {
    "duration": 9,
    "start_time": "2024-06-23T21:24:40.045Z"
   },
   {
    "duration": 10,
    "start_time": "2024-06-23T21:24:40.057Z"
   },
   {
    "duration": 51,
    "start_time": "2024-06-23T21:24:40.070Z"
   },
   {
    "duration": 19,
    "start_time": "2024-06-23T21:24:40.125Z"
   },
   {
    "duration": 5,
    "start_time": "2024-06-23T21:24:40.147Z"
   },
   {
    "duration": 4,
    "start_time": "2024-06-23T21:24:40.155Z"
   },
   {
    "duration": 55,
    "start_time": "2024-06-23T21:24:40.161Z"
   },
   {
    "duration": 8,
    "start_time": "2024-06-23T21:24:40.219Z"
   },
   {
    "duration": 7,
    "start_time": "2024-06-23T21:24:40.230Z"
   },
   {
    "duration": 8,
    "start_time": "2024-06-23T21:24:40.241Z"
   },
   {
    "duration": 473,
    "start_time": "2024-06-23T21:24:40.252Z"
   },
   {
    "duration": 467,
    "start_time": "2024-06-23T21:24:40.729Z"
   },
   {
    "duration": 427,
    "start_time": "2024-06-23T21:24:41.199Z"
   },
   {
    "duration": 7,
    "start_time": "2024-06-23T21:24:41.629Z"
   },
   {
    "duration": 6,
    "start_time": "2024-06-23T21:24:41.640Z"
   },
   {
    "duration": 7,
    "start_time": "2024-06-23T21:24:41.650Z"
   },
   {
    "duration": 340,
    "start_time": "2024-06-23T21:24:41.660Z"
   },
   {
    "duration": 303,
    "start_time": "2024-06-23T21:24:42.004Z"
   },
   {
    "duration": 315,
    "start_time": "2024-06-23T21:24:42.309Z"
   },
   {
    "duration": 338,
    "start_time": "2024-06-23T21:24:42.628Z"
   },
   {
    "duration": 394,
    "start_time": "2024-06-23T21:24:42.968Z"
   },
   {
    "duration": 7,
    "start_time": "2024-06-23T21:24:43.365Z"
   },
   {
    "duration": 114,
    "start_time": "2024-06-23T21:24:43.375Z"
   },
   {
    "duration": 5,
    "start_time": "2024-06-23T21:24:43.492Z"
   },
   {
    "duration": 522,
    "start_time": "2024-06-23T21:24:43.517Z"
   },
   {
    "duration": 4837,
    "start_time": "2024-06-23T21:24:44.114Z"
   },
   {
    "duration": 14446,
    "start_time": "2024-06-23T21:24:48.955Z"
   },
   {
    "duration": 10,
    "start_time": "2024-06-23T21:25:03.404Z"
   },
   {
    "duration": 13,
    "start_time": "2024-06-23T21:25:03.417Z"
   },
   {
    "duration": 7,
    "start_time": "2024-06-23T21:25:03.433Z"
   },
   {
    "duration": 4520,
    "start_time": "2024-06-23T21:25:03.443Z"
   },
   {
    "duration": 12,
    "start_time": "2024-06-23T21:25:07.966Z"
   },
   {
    "duration": 36,
    "start_time": "2024-06-23T21:25:07.981Z"
   },
   {
    "duration": 6,
    "start_time": "2024-06-23T21:29:22.638Z"
   },
   {
    "duration": 6,
    "start_time": "2024-06-23T21:29:24.726Z"
   },
   {
    "duration": 3,
    "start_time": "2024-06-23T21:29:26.814Z"
   },
   {
    "duration": 734,
    "start_time": "2024-06-23T21:30:33.905Z"
   },
   {
    "duration": 4,
    "start_time": "2024-06-23T21:30:51.279Z"
   },
   {
    "duration": 1404,
    "start_time": "2024-06-23T21:30:59.634Z"
   },
   {
    "duration": 812,
    "start_time": "2024-06-23T21:31:01.043Z"
   },
   {
    "duration": 96,
    "start_time": "2024-06-23T21:31:01.859Z"
   },
   {
    "duration": 17,
    "start_time": "2024-06-23T21:31:01.959Z"
   },
   {
    "duration": 44,
    "start_time": "2024-06-23T21:31:01.981Z"
   },
   {
    "duration": 10,
    "start_time": "2024-06-23T21:31:02.028Z"
   },
   {
    "duration": 7,
    "start_time": "2024-06-23T21:31:02.041Z"
   },
   {
    "duration": 13,
    "start_time": "2024-06-23T21:31:02.051Z"
   },
   {
    "duration": 51,
    "start_time": "2024-06-23T21:31:02.067Z"
   },
   {
    "duration": 125,
    "start_time": "2024-06-23T21:31:02.121Z"
   },
   {
    "duration": 9,
    "start_time": "2024-06-23T21:31:02.249Z"
   },
   {
    "duration": 57,
    "start_time": "2024-06-23T21:31:02.260Z"
   },
   {
    "duration": 11,
    "start_time": "2024-06-23T21:31:02.320Z"
   },
   {
    "duration": 178,
    "start_time": "2024-06-23T21:31:02.340Z"
   },
   {
    "duration": 17,
    "start_time": "2024-06-23T21:31:02.521Z"
   },
   {
    "duration": 25,
    "start_time": "2024-06-23T21:31:02.542Z"
   },
   {
    "duration": 51,
    "start_time": "2024-06-23T21:31:02.570Z"
   },
   {
    "duration": 13,
    "start_time": "2024-06-23T21:31:02.623Z"
   },
   {
    "duration": 13,
    "start_time": "2024-06-23T21:31:02.640Z"
   },
   {
    "duration": 66,
    "start_time": "2024-06-23T21:31:02.656Z"
   },
   {
    "duration": 4,
    "start_time": "2024-06-23T21:31:02.726Z"
   },
   {
    "duration": 4,
    "start_time": "2024-06-23T21:31:02.734Z"
   },
   {
    "duration": 7,
    "start_time": "2024-06-23T21:31:02.741Z"
   },
   {
    "duration": 6,
    "start_time": "2024-06-23T21:31:02.752Z"
   },
   {
    "duration": 51,
    "start_time": "2024-06-23T21:31:02.763Z"
   },
   {
    "duration": 9,
    "start_time": "2024-06-23T21:31:02.817Z"
   },
   {
    "duration": 467,
    "start_time": "2024-06-23T21:31:02.829Z"
   },
   {
    "duration": 417,
    "start_time": "2024-06-23T21:31:03.299Z"
   },
   {
    "duration": 421,
    "start_time": "2024-06-23T21:31:03.719Z"
   },
   {
    "duration": 7,
    "start_time": "2024-06-23T21:31:04.143Z"
   },
   {
    "duration": 7,
    "start_time": "2024-06-23T21:31:04.153Z"
   },
   {
    "duration": 7,
    "start_time": "2024-06-23T21:31:04.163Z"
   },
   {
    "duration": 333,
    "start_time": "2024-06-23T21:31:04.173Z"
   },
   {
    "duration": 285,
    "start_time": "2024-06-23T21:31:04.513Z"
   },
   {
    "duration": 332,
    "start_time": "2024-06-23T21:31:04.801Z"
   },
   {
    "duration": 356,
    "start_time": "2024-06-23T21:31:05.136Z"
   },
   {
    "duration": 377,
    "start_time": "2024-06-23T21:31:05.496Z"
   },
   {
    "duration": 7,
    "start_time": "2024-06-23T21:31:05.877Z"
   },
   {
    "duration": 111,
    "start_time": "2024-06-23T21:31:05.887Z"
   },
   {
    "duration": 5,
    "start_time": "2024-06-23T21:31:06.011Z"
   },
   {
    "duration": 508,
    "start_time": "2024-06-23T21:31:06.025Z"
   },
   {
    "duration": 4938,
    "start_time": "2024-06-23T21:31:06.536Z"
   },
   {
    "duration": 14476,
    "start_time": "2024-06-23T21:31:11.477Z"
   },
   {
    "duration": 5,
    "start_time": "2024-06-23T21:31:25.957Z"
   },
   {
    "duration": 11,
    "start_time": "2024-06-23T21:31:25.965Z"
   },
   {
    "duration": 33,
    "start_time": "2024-06-23T21:31:25.979Z"
   },
   {
    "duration": 4618,
    "start_time": "2024-06-23T21:31:26.016Z"
   },
   {
    "duration": 14,
    "start_time": "2024-06-23T21:31:30.641Z"
   },
   {
    "duration": 14,
    "start_time": "2024-06-23T21:31:30.657Z"
   },
   {
    "duration": 6,
    "start_time": "2024-06-23T21:31:30.717Z"
   },
   {
    "duration": 7,
    "start_time": "2024-06-23T21:33:11.583Z"
   },
   {
    "duration": 21,
    "start_time": "2024-06-23T21:34:06.453Z"
   },
   {
    "duration": 463,
    "start_time": "2024-06-23T21:34:30.014Z"
   },
   {
    "duration": 331,
    "start_time": "2024-06-23T21:34:44.478Z"
   },
   {
    "duration": 343,
    "start_time": "2024-06-23T21:34:51.790Z"
   },
   {
    "duration": 6258,
    "start_time": "2024-06-23T22:42:23.747Z"
   },
   {
    "duration": 1182,
    "start_time": "2024-06-23T22:42:30.009Z"
   },
   {
    "duration": 29,
    "start_time": "2024-06-23T22:42:31.194Z"
   },
   {
    "duration": 19,
    "start_time": "2024-06-23T22:42:31.228Z"
   },
   {
    "duration": 23,
    "start_time": "2024-06-23T22:42:31.250Z"
   },
   {
    "duration": 17,
    "start_time": "2024-06-23T22:42:31.307Z"
   },
   {
    "duration": 14,
    "start_time": "2024-06-23T22:42:31.329Z"
   },
   {
    "duration": 15,
    "start_time": "2024-06-23T22:42:31.346Z"
   },
   {
    "duration": 13,
    "start_time": "2024-06-23T22:42:31.365Z"
   },
   {
    "duration": 160,
    "start_time": "2024-06-23T22:42:31.411Z"
   },
   {
    "duration": 13,
    "start_time": "2024-06-23T22:42:31.574Z"
   },
   {
    "duration": 49,
    "start_time": "2024-06-23T22:42:31.608Z"
   },
   {
    "duration": 14,
    "start_time": "2024-06-23T22:42:31.661Z"
   },
   {
    "duration": 228,
    "start_time": "2024-06-23T22:42:31.679Z"
   },
   {
    "duration": 18,
    "start_time": "2024-06-23T22:42:31.911Z"
   },
   {
    "duration": 26,
    "start_time": "2024-06-23T22:42:31.933Z"
   },
   {
    "duration": 44,
    "start_time": "2024-06-23T22:42:31.962Z"
   },
   {
    "duration": 14,
    "start_time": "2024-06-23T22:42:32.009Z"
   },
   {
    "duration": 13,
    "start_time": "2024-06-23T22:42:32.026Z"
   },
   {
    "duration": 24,
    "start_time": "2024-06-23T22:42:32.042Z"
   },
   {
    "duration": 37,
    "start_time": "2024-06-23T22:42:32.069Z"
   },
   {
    "duration": 4,
    "start_time": "2024-06-23T22:42:32.109Z"
   },
   {
    "duration": 6,
    "start_time": "2024-06-23T22:42:32.116Z"
   },
   {
    "duration": 6,
    "start_time": "2024-06-23T22:42:32.125Z"
   },
   {
    "duration": 7,
    "start_time": "2024-06-23T22:42:32.134Z"
   },
   {
    "duration": 10,
    "start_time": "2024-06-23T22:42:32.144Z"
   },
   {
    "duration": 670,
    "start_time": "2024-06-23T22:42:32.157Z"
   },
   {
    "duration": 451,
    "start_time": "2024-06-23T22:42:32.844Z"
   },
   {
    "duration": 356,
    "start_time": "2024-06-23T22:42:33.298Z"
   },
   {
    "duration": 8,
    "start_time": "2024-06-23T22:42:33.658Z"
   },
   {
    "duration": 6,
    "start_time": "2024-06-23T22:42:33.671Z"
   },
   {
    "duration": 8,
    "start_time": "2024-06-23T22:42:33.708Z"
   },
   {
    "duration": 369,
    "start_time": "2024-06-23T22:42:33.722Z"
   },
   {
    "duration": 322,
    "start_time": "2024-06-23T22:42:34.096Z"
   },
   {
    "duration": 322,
    "start_time": "2024-06-23T22:42:34.421Z"
   },
   {
    "duration": 349,
    "start_time": "2024-06-23T22:42:34.747Z"
   },
   {
    "duration": 389,
    "start_time": "2024-06-23T22:42:35.099Z"
   },
   {
    "duration": 14,
    "start_time": "2024-06-23T22:42:35.494Z"
   },
   {
    "duration": 101,
    "start_time": "2024-06-23T22:42:35.511Z"
   },
   {
    "duration": 4,
    "start_time": "2024-06-23T22:42:35.615Z"
   },
   {
    "duration": 791,
    "start_time": "2024-06-23T22:42:35.622Z"
   },
   {
    "duration": 4918,
    "start_time": "2024-06-23T22:42:36.422Z"
   },
   {
    "duration": 14970,
    "start_time": "2024-06-23T22:42:41.343Z"
   },
   {
    "duration": 6,
    "start_time": "2024-06-23T22:42:56.317Z"
   },
   {
    "duration": 12,
    "start_time": "2024-06-23T22:42:56.327Z"
   },
   {
    "duration": 8,
    "start_time": "2024-06-23T22:42:56.343Z"
   },
   {
    "duration": 4659,
    "start_time": "2024-06-23T22:42:56.354Z"
   },
   {
    "duration": 14,
    "start_time": "2024-06-23T22:43:01.017Z"
   },
   {
    "duration": 13,
    "start_time": "2024-06-23T22:43:01.035Z"
   },
   {
    "duration": 440,
    "start_time": "2024-06-23T22:46:48.622Z"
   },
   {
    "duration": 7,
    "start_time": "2024-06-23T22:47:17.312Z"
   },
   {
    "duration": 7,
    "start_time": "2024-06-23T22:47:23.395Z"
   },
   {
    "duration": 18,
    "start_time": "2024-06-23T22:47:26.948Z"
   },
   {
    "duration": 7,
    "start_time": "2024-06-23T22:47:37.439Z"
   },
   {
    "duration": 3,
    "start_time": "2024-06-23T22:47:41.299Z"
   },
   {
    "duration": 5,
    "start_time": "2024-06-23T22:50:36.164Z"
   },
   {
    "duration": 5,
    "start_time": "2024-06-23T22:52:20.624Z"
   },
   {
    "duration": 8,
    "start_time": "2024-06-23T22:52:28.383Z"
   },
   {
    "duration": 28,
    "start_time": "2024-06-23T22:53:07.913Z"
   },
   {
    "duration": 11,
    "start_time": "2024-06-23T22:54:17.456Z"
   },
   {
    "duration": 11,
    "start_time": "2024-06-23T22:54:43.363Z"
   },
   {
    "duration": 7,
    "start_time": "2024-06-23T22:54:59.808Z"
   },
   {
    "duration": 6,
    "start_time": "2024-06-23T22:55:04.611Z"
   },
   {
    "duration": 10,
    "start_time": "2024-06-23T22:55:09.862Z"
   },
   {
    "duration": 113,
    "start_time": "2024-06-23T22:55:31.920Z"
   },
   {
    "duration": 6,
    "start_time": "2024-06-23T22:55:40.224Z"
   },
   {
    "duration": 6,
    "start_time": "2024-06-23T22:56:41.594Z"
   },
   {
    "duration": 23,
    "start_time": "2024-06-23T22:56:52.421Z"
   },
   {
    "duration": 6,
    "start_time": "2024-06-23T22:56:56.152Z"
   },
   {
    "duration": 964,
    "start_time": "2024-06-23T22:57:21.376Z"
   },
   {
    "duration": 138,
    "start_time": "2024-06-23T22:57:44.224Z"
   },
   {
    "duration": 40,
    "start_time": "2024-06-23T22:57:58.296Z"
   },
   {
    "duration": 3,
    "start_time": "2024-06-23T22:58:52.590Z"
   },
   {
    "duration": 25,
    "start_time": "2024-06-23T22:59:07.162Z"
   },
   {
    "duration": 47763,
    "start_time": "2024-06-23T22:59:14.111Z"
   },
   {
    "duration": 48144,
    "start_time": "2024-06-23T23:01:37.827Z"
   },
   {
    "duration": 7,
    "start_time": "2024-06-23T23:03:06.639Z"
   },
   {
    "duration": 6,
    "start_time": "2024-06-23T23:03:24.545Z"
   },
   {
    "duration": 5,
    "start_time": "2024-06-23T23:03:33.156Z"
   },
   {
    "duration": 6,
    "start_time": "2024-06-23T23:03:36.557Z"
   },
   {
    "duration": 6,
    "start_time": "2024-06-23T23:03:43.927Z"
   },
   {
    "duration": 12,
    "start_time": "2024-06-23T23:04:12.748Z"
   },
   {
    "duration": 13,
    "start_time": "2024-06-23T23:04:51.661Z"
   },
   {
    "duration": 6,
    "start_time": "2024-06-23T23:05:52.030Z"
   },
   {
    "duration": 6,
    "start_time": "2024-06-23T23:05:54.932Z"
   },
   {
    "duration": 7,
    "start_time": "2024-06-23T23:06:14.502Z"
   },
   {
    "duration": 6,
    "start_time": "2024-06-23T23:06:20.050Z"
   },
   {
    "duration": 138,
    "start_time": "2024-06-23T23:06:48.627Z"
   },
   {
    "duration": 9,
    "start_time": "2024-06-23T23:07:17.247Z"
   },
   {
    "duration": 1845,
    "start_time": "2024-06-23T23:08:38.175Z"
   },
   {
    "duration": 2097,
    "start_time": "2024-06-23T23:09:26.161Z"
   },
   {
    "duration": 1983,
    "start_time": "2024-06-23T23:09:32.070Z"
   },
   {
    "duration": 3258,
    "start_time": "2024-06-23T23:09:36.864Z"
   },
   {
    "duration": 3228,
    "start_time": "2024-06-23T23:09:46.744Z"
   },
   {
    "duration": 3251,
    "start_time": "2024-06-23T23:09:55.743Z"
   },
   {
    "duration": 4053,
    "start_time": "2024-06-23T23:10:07.558Z"
   },
   {
    "duration": 3980,
    "start_time": "2024-06-23T23:10:19.413Z"
   },
   {
    "duration": 4201,
    "start_time": "2024-06-23T23:10:31.736Z"
   },
   {
    "duration": 4172,
    "start_time": "2024-06-23T23:11:12.772Z"
   },
   {
    "duration": 4385,
    "start_time": "2024-06-23T23:11:22.938Z"
   },
   {
    "duration": 9,
    "start_time": "2024-06-23T23:11:57.830Z"
   },
   {
    "duration": 7,
    "start_time": "2024-06-23T23:12:00.945Z"
   },
   {
    "duration": 125,
    "start_time": "2024-06-23T23:12:08.166Z"
   },
   {
    "duration": 4809,
    "start_time": "2024-06-23T23:12:56.365Z"
   },
   {
    "duration": 4194,
    "start_time": "2024-06-23T23:13:01.178Z"
   },
   {
    "duration": 33,
    "start_time": "2024-06-23T23:22:11.497Z"
   },
   {
    "duration": 13,
    "start_time": "2024-06-23T23:22:20.336Z"
   },
   {
    "duration": 12,
    "start_time": "2024-06-23T23:22:40.786Z"
   },
   {
    "duration": 4,
    "start_time": "2024-06-23T23:23:25.604Z"
   },
   {
    "duration": 6,
    "start_time": "2024-06-23T23:23:52.319Z"
   },
   {
    "duration": 5,
    "start_time": "2024-06-23T23:23:55.850Z"
   },
   {
    "duration": 6,
    "start_time": "2024-06-23T23:24:05.826Z"
   },
   {
    "duration": 6,
    "start_time": "2024-06-23T23:24:28.498Z"
   },
   {
    "duration": 39,
    "start_time": "2024-06-23T23:24:45.303Z"
   },
   {
    "duration": 36,
    "start_time": "2024-06-23T23:24:56.223Z"
   },
   {
    "duration": 7,
    "start_time": "2024-06-23T23:25:20.829Z"
   },
   {
    "duration": 8,
    "start_time": "2024-06-23T23:26:00.024Z"
   },
   {
    "duration": 17,
    "start_time": "2024-06-23T23:26:08.799Z"
   },
   {
    "duration": 10,
    "start_time": "2024-06-23T23:26:34.890Z"
   },
   {
    "duration": 26,
    "start_time": "2024-06-23T23:27:32.087Z"
   },
   {
    "duration": 135,
    "start_time": "2024-06-23T23:27:56.572Z"
   },
   {
    "duration": 4621,
    "start_time": "2024-06-23T23:29:28.860Z"
   },
   {
    "duration": 7121,
    "start_time": "2024-06-23T23:30:08.898Z"
   },
   {
    "duration": 6957,
    "start_time": "2024-06-23T23:30:43.104Z"
   },
   {
    "duration": 6930,
    "start_time": "2024-06-23T23:31:02.563Z"
   },
   {
    "duration": 22,
    "start_time": "2024-06-23T23:45:15.216Z"
   },
   {
    "duration": 4,
    "start_time": "2024-06-23T23:47:57.084Z"
   },
   {
    "duration": 6,
    "start_time": "2024-06-23T23:48:33.115Z"
   },
   {
    "duration": 4,
    "start_time": "2024-06-23T23:51:29.552Z"
   },
   {
    "duration": 6,
    "start_time": "2024-06-23T23:51:43.750Z"
   },
   {
    "duration": 4,
    "start_time": "2024-06-23T23:54:34.934Z"
   },
   {
    "duration": 4,
    "start_time": "2024-06-23T23:55:25.468Z"
   },
   {
    "duration": 13,
    "start_time": "2024-06-23T23:56:17.928Z"
   },
   {
    "duration": 6,
    "start_time": "2024-06-23T23:56:21.959Z"
   },
   {
    "duration": 27,
    "start_time": "2024-06-23T23:56:25.149Z"
   },
   {
    "duration": 6,
    "start_time": "2024-06-23T23:56:29.886Z"
   },
   {
    "duration": 6,
    "start_time": "2024-06-23T23:59:04.862Z"
   },
   {
    "duration": 4,
    "start_time": "2024-06-23T23:59:13.094Z"
   },
   {
    "duration": 5,
    "start_time": "2024-06-23T23:59:54.457Z"
   },
   {
    "duration": 330,
    "start_time": "2024-06-24T21:39:46.613Z"
   },
   {
    "duration": 5015,
    "start_time": "2024-06-24T21:40:03.968Z"
   },
   {
    "duration": 960,
    "start_time": "2024-06-24T21:40:08.987Z"
   },
   {
    "duration": 27,
    "start_time": "2024-06-24T21:40:09.950Z"
   },
   {
    "duration": 41,
    "start_time": "2024-06-24T21:40:09.982Z"
   },
   {
    "duration": 19,
    "start_time": "2024-06-24T21:40:10.026Z"
   },
   {
    "duration": 11,
    "start_time": "2024-06-24T21:40:10.048Z"
   },
   {
    "duration": 8,
    "start_time": "2024-06-24T21:40:10.062Z"
   },
   {
    "duration": 11,
    "start_time": "2024-06-24T21:40:10.112Z"
   },
   {
    "duration": 12,
    "start_time": "2024-06-24T21:40:10.126Z"
   },
   {
    "duration": 141,
    "start_time": "2024-06-24T21:40:10.144Z"
   },
   {
    "duration": 30,
    "start_time": "2024-06-24T21:40:10.288Z"
   },
   {
    "duration": 44,
    "start_time": "2024-06-24T21:40:10.321Z"
   },
   {
    "duration": 19,
    "start_time": "2024-06-24T21:40:10.368Z"
   },
   {
    "duration": 155,
    "start_time": "2024-06-24T21:40:10.412Z"
   },
   {
    "duration": 15,
    "start_time": "2024-06-24T21:40:10.570Z"
   },
   {
    "duration": 42,
    "start_time": "2024-06-24T21:40:10.588Z"
   },
   {
    "duration": 10,
    "start_time": "2024-06-24T21:40:10.633Z"
   },
   {
    "duration": 11,
    "start_time": "2024-06-24T21:40:10.645Z"
   },
   {
    "duration": 54,
    "start_time": "2024-06-24T21:40:10.659Z"
   },
   {
    "duration": 20,
    "start_time": "2024-06-24T21:40:10.716Z"
   },
   {
    "duration": 5,
    "start_time": "2024-06-24T21:40:10.739Z"
   },
   {
    "duration": 5,
    "start_time": "2024-06-24T21:40:10.747Z"
   },
   {
    "duration": 7,
    "start_time": "2024-06-24T21:40:10.756Z"
   },
   {
    "duration": 51,
    "start_time": "2024-06-24T21:40:10.766Z"
   },
   {
    "duration": 10,
    "start_time": "2024-06-24T21:40:10.820Z"
   },
   {
    "duration": 9,
    "start_time": "2024-06-24T21:40:10.833Z"
   },
   {
    "duration": 471,
    "start_time": "2024-06-24T21:40:10.845Z"
   },
   {
    "duration": 342,
    "start_time": "2024-06-24T21:40:11.325Z"
   },
   {
    "duration": 355,
    "start_time": "2024-06-24T21:40:11.670Z"
   },
   {
    "duration": 8,
    "start_time": "2024-06-24T21:40:12.030Z"
   },
   {
    "duration": 6,
    "start_time": "2024-06-24T21:40:12.042Z"
   },
   {
    "duration": 7,
    "start_time": "2024-06-24T21:40:12.052Z"
   },
   {
    "duration": 336,
    "start_time": "2024-06-24T21:40:12.062Z"
   },
   {
    "duration": 290,
    "start_time": "2024-06-24T21:40:12.401Z"
   },
   {
    "duration": 340,
    "start_time": "2024-06-24T21:40:12.694Z"
   },
   {
    "duration": 350,
    "start_time": "2024-06-24T21:40:13.038Z"
   },
   {
    "duration": 380,
    "start_time": "2024-06-24T21:40:13.392Z"
   },
   {
    "duration": 8,
    "start_time": "2024-06-24T21:40:13.775Z"
   },
   {
    "duration": 108,
    "start_time": "2024-06-24T21:40:13.786Z"
   },
   {
    "duration": 17,
    "start_time": "2024-06-24T21:40:13.897Z"
   },
   {
    "duration": 512,
    "start_time": "2024-06-24T21:40:13.917Z"
   },
   {
    "duration": 4924,
    "start_time": "2024-06-24T21:40:14.431Z"
   },
   {
    "duration": 4195,
    "start_time": "2024-06-24T21:40:19.364Z"
   },
   {
    "duration": 14424,
    "start_time": "2024-06-24T21:40:23.562Z"
   },
   {
    "duration": 5,
    "start_time": "2024-06-24T21:40:37.990Z"
   },
   {
    "duration": 12,
    "start_time": "2024-06-24T21:40:38.013Z"
   },
   {
    "duration": 8,
    "start_time": "2024-06-24T21:40:38.028Z"
   },
   {
    "duration": 6938,
    "start_time": "2024-06-24T21:40:38.039Z"
   },
   {
    "duration": 14,
    "start_time": "2024-06-24T21:40:44.980Z"
   },
   {
    "duration": 12,
    "start_time": "2024-06-24T21:40:45.012Z"
   },
   {
    "duration": 11,
    "start_time": "2024-06-24T21:40:45.027Z"
   },
   {
    "duration": 5,
    "start_time": "2024-06-24T21:40:45.041Z"
   },
   {
    "duration": 4,
    "start_time": "2024-06-24T21:40:45.050Z"
   },
   {
    "duration": 55,
    "start_time": "2024-06-24T21:40:45.056Z"
   },
   {
    "duration": 34,
    "start_time": "2024-06-24T21:41:19.548Z"
   },
   {
    "duration": 12,
    "start_time": "2024-06-24T21:41:24.580Z"
   },
   {
    "duration": 10,
    "start_time": "2024-06-24T21:42:00.202Z"
   },
   {
    "duration": 21,
    "start_time": "2024-06-24T21:42:14.531Z"
   },
   {
    "duration": 1003,
    "start_time": "2024-06-24T21:42:28.304Z"
   },
   {
    "duration": 4,
    "start_time": "2024-06-24T21:42:43.293Z"
   },
   {
    "duration": 841,
    "start_time": "2024-06-24T21:42:43.304Z"
   },
   {
    "duration": 26,
    "start_time": "2024-06-24T21:42:44.148Z"
   },
   {
    "duration": 47,
    "start_time": "2024-06-24T21:42:44.177Z"
   },
   {
    "duration": 19,
    "start_time": "2024-06-24T21:42:44.227Z"
   },
   {
    "duration": 9,
    "start_time": "2024-06-24T21:42:44.252Z"
   },
   {
    "duration": 7,
    "start_time": "2024-06-24T21:42:44.264Z"
   },
   {
    "duration": 45,
    "start_time": "2024-06-24T21:42:44.273Z"
   },
   {
    "duration": 11,
    "start_time": "2024-06-24T21:42:44.321Z"
   },
   {
    "duration": 141,
    "start_time": "2024-06-24T21:42:44.335Z"
   },
   {
    "duration": 19,
    "start_time": "2024-06-24T21:42:44.480Z"
   },
   {
    "duration": 49,
    "start_time": "2024-06-24T21:42:44.502Z"
   },
   {
    "duration": 12,
    "start_time": "2024-06-24T21:42:44.554Z"
   },
   {
    "duration": 186,
    "start_time": "2024-06-24T21:42:44.569Z"
   },
   {
    "duration": 13,
    "start_time": "2024-06-24T21:42:44.763Z"
   },
   {
    "duration": 47,
    "start_time": "2024-06-24T21:42:44.779Z"
   },
   {
    "duration": 8,
    "start_time": "2024-06-24T21:42:44.829Z"
   },
   {
    "duration": 10,
    "start_time": "2024-06-24T21:42:44.839Z"
   },
   {
    "duration": 11,
    "start_time": "2024-06-24T21:42:44.852Z"
   },
   {
    "duration": 64,
    "start_time": "2024-06-24T21:42:44.866Z"
   },
   {
    "duration": 5,
    "start_time": "2024-06-24T21:42:44.933Z"
   },
   {
    "duration": 5,
    "start_time": "2024-06-24T21:42:44.940Z"
   },
   {
    "duration": 7,
    "start_time": "2024-06-24T21:42:44.948Z"
   },
   {
    "duration": 6,
    "start_time": "2024-06-24T21:42:44.958Z"
   },
   {
    "duration": 8,
    "start_time": "2024-06-24T21:42:45.014Z"
   },
   {
    "duration": 8,
    "start_time": "2024-06-24T21:42:45.025Z"
   },
   {
    "duration": 359,
    "start_time": "2024-06-24T21:42:45.036Z"
   },
   {
    "duration": 324,
    "start_time": "2024-06-24T21:42:45.399Z"
   },
   {
    "duration": 354,
    "start_time": "2024-06-24T21:42:45.727Z"
   },
   {
    "duration": 6,
    "start_time": "2024-06-24T21:42:46.084Z"
   },
   {
    "duration": 23,
    "start_time": "2024-06-24T21:42:46.094Z"
   },
   {
    "duration": 7,
    "start_time": "2024-06-24T21:42:46.120Z"
   },
   {
    "duration": 323,
    "start_time": "2024-06-24T21:42:46.131Z"
   },
   {
    "duration": 290,
    "start_time": "2024-06-24T21:42:46.458Z"
   },
   {
    "duration": 324,
    "start_time": "2024-06-24T21:42:46.751Z"
   },
   {
    "duration": 337,
    "start_time": "2024-06-24T21:42:47.078Z"
   },
   {
    "duration": 362,
    "start_time": "2024-06-24T21:42:47.419Z"
   },
   {
    "duration": 7,
    "start_time": "2024-06-24T21:42:47.785Z"
   },
   {
    "duration": 117,
    "start_time": "2024-06-24T21:42:47.795Z"
   },
   {
    "duration": 4,
    "start_time": "2024-06-24T21:42:47.916Z"
   },
   {
    "duration": 608,
    "start_time": "2024-06-24T21:42:47.923Z"
   },
   {
    "duration": 4855,
    "start_time": "2024-06-24T21:42:48.619Z"
   },
   {
    "duration": 4190,
    "start_time": "2024-06-24T21:42:53.477Z"
   },
   {
    "duration": 5,
    "start_time": "2024-06-24T21:43:21.347Z"
   },
   {
    "duration": 805,
    "start_time": "2024-06-24T21:43:21.418Z"
   },
   {
    "duration": 23,
    "start_time": "2024-06-24T21:43:22.239Z"
   },
   {
    "duration": 21,
    "start_time": "2024-06-24T21:43:22.325Z"
   },
   {
    "duration": 64,
    "start_time": "2024-06-24T21:43:22.368Z"
   },
   {
    "duration": 15,
    "start_time": "2024-06-24T21:43:22.570Z"
   },
   {
    "duration": 11,
    "start_time": "2024-06-24T21:43:22.621Z"
   },
   {
    "duration": 47,
    "start_time": "2024-06-24T21:43:22.676Z"
   },
   {
    "duration": 12,
    "start_time": "2024-06-24T21:43:22.742Z"
   },
   {
    "duration": 127,
    "start_time": "2024-06-24T21:43:22.935Z"
   },
   {
    "duration": 10,
    "start_time": "2024-06-24T21:43:23.065Z"
   },
   {
    "duration": 60,
    "start_time": "2024-06-24T21:43:23.078Z"
   },
   {
    "duration": 130,
    "start_time": "2024-06-24T21:43:29.128Z"
   },
   {
    "duration": 11,
    "start_time": "2024-06-24T21:43:31.028Z"
   },
   {
    "duration": 135,
    "start_time": "2024-06-24T21:43:32.716Z"
   },
   {
    "duration": 11,
    "start_time": "2024-06-24T21:43:35.062Z"
   },
   {
    "duration": 22,
    "start_time": "2024-06-24T21:43:38.129Z"
   },
   {
    "duration": 8,
    "start_time": "2024-06-24T21:43:40.171Z"
   },
   {
    "duration": 12,
    "start_time": "2024-06-24T21:43:40.763Z"
   },
   {
    "duration": 12,
    "start_time": "2024-06-24T21:43:42.622Z"
   },
   {
    "duration": 18,
    "start_time": "2024-06-24T21:43:43.065Z"
   },
   {
    "duration": 4,
    "start_time": "2024-06-24T21:43:44.754Z"
   },
   {
    "duration": 5,
    "start_time": "2024-06-24T21:43:45.021Z"
   },
   {
    "duration": 6,
    "start_time": "2024-06-24T21:43:45.231Z"
   },
   {
    "duration": 7,
    "start_time": "2024-06-24T21:43:45.630Z"
   },
   {
    "duration": 8,
    "start_time": "2024-06-24T21:43:47.598Z"
   },
   {
    "duration": 13,
    "start_time": "2024-06-24T21:43:47.743Z"
   },
   {
    "duration": 338,
    "start_time": "2024-06-24T21:43:47.826Z"
   },
   {
    "duration": 344,
    "start_time": "2024-06-24T21:43:48.168Z"
   },
   {
    "duration": 354,
    "start_time": "2024-06-24T21:43:48.515Z"
   },
   {
    "duration": 6,
    "start_time": "2024-06-24T21:43:48.875Z"
   },
   {
    "duration": 29,
    "start_time": "2024-06-24T21:43:48.884Z"
   },
   {
    "duration": 9,
    "start_time": "2024-06-24T21:43:48.916Z"
   },
   {
    "duration": 305,
    "start_time": "2024-06-24T21:43:48.928Z"
   },
   {
    "duration": 296,
    "start_time": "2024-06-24T21:43:49.236Z"
   },
   {
    "duration": 490,
    "start_time": "2024-06-24T21:43:49.536Z"
   },
   {
    "duration": 336,
    "start_time": "2024-06-24T21:43:50.031Z"
   },
   {
    "duration": 363,
    "start_time": "2024-06-24T21:43:50.371Z"
   },
   {
    "duration": 6,
    "start_time": "2024-06-24T21:43:50.738Z"
   },
   {
    "duration": 105,
    "start_time": "2024-06-24T21:43:50.747Z"
   },
   {
    "duration": 5,
    "start_time": "2024-06-24T21:43:50.855Z"
   },
   {
    "duration": 571,
    "start_time": "2024-06-24T21:43:50.863Z"
   },
   {
    "duration": 4842,
    "start_time": "2024-06-24T21:43:51.513Z"
   },
   {
    "duration": 4165,
    "start_time": "2024-06-24T21:43:56.359Z"
   },
   {
    "duration": 14512,
    "start_time": "2024-06-24T21:44:00.527Z"
   },
   {
    "duration": 5,
    "start_time": "2024-06-24T21:44:15.042Z"
   },
   {
    "duration": 11,
    "start_time": "2024-06-24T21:44:15.051Z"
   },
   {
    "duration": 8,
    "start_time": "2024-06-24T21:44:15.064Z"
   },
   {
    "duration": 6899,
    "start_time": "2024-06-24T21:44:15.076Z"
   },
   {
    "duration": 13,
    "start_time": "2024-06-24T21:44:21.978Z"
   },
   {
    "duration": 30,
    "start_time": "2024-06-24T21:44:21.994Z"
   },
   {
    "duration": 11,
    "start_time": "2024-06-24T21:44:22.028Z"
   },
   {
    "duration": 5,
    "start_time": "2024-06-24T21:44:22.042Z"
   },
   {
    "duration": 6,
    "start_time": "2024-06-24T21:44:22.050Z"
   },
   {
    "duration": 48,
    "start_time": "2024-06-24T21:44:22.065Z"
   },
   {
    "duration": 12,
    "start_time": "2024-06-24T21:44:22.117Z"
   },
   {
    "duration": 5,
    "start_time": "2024-06-24T21:44:22.172Z"
   },
   {
    "duration": 11,
    "start_time": "2024-06-24T21:44:54.743Z"
   },
   {
    "duration": 8,
    "start_time": "2024-06-24T21:44:57.217Z"
   },
   {
    "duration": 12,
    "start_time": "2024-06-24T21:44:57.725Z"
   },
   {
    "duration": 11,
    "start_time": "2024-06-24T21:44:59.599Z"
   },
   {
    "duration": 17,
    "start_time": "2024-06-24T21:45:00.098Z"
   },
   {
    "duration": 12,
    "start_time": "2024-06-24T21:45:10.049Z"
   },
   {
    "duration": 10,
    "start_time": "2024-06-24T21:45:14.490Z"
   },
   {
    "duration": 4,
    "start_time": "2024-06-24T21:45:14.789Z"
   },
   {
    "duration": 6,
    "start_time": "2024-06-24T21:45:15.055Z"
   },
   {
    "duration": 6,
    "start_time": "2024-06-24T21:45:15.321Z"
   },
   {
    "duration": 7,
    "start_time": "2024-06-24T21:45:16.615Z"
   },
   {
    "duration": 634,
    "start_time": "2024-06-24T21:45:17.321Z"
   },
   {
    "duration": 0,
    "start_time": "2024-06-24T21:45:17.959Z"
   },
   {
    "duration": 353,
    "start_time": "2024-06-24T21:45:17.962Z"
   },
   {
    "duration": 367,
    "start_time": "2024-06-24T21:45:18.318Z"
   },
   {
    "duration": 7,
    "start_time": "2024-06-24T21:45:18.688Z"
   },
   {
    "duration": 7,
    "start_time": "2024-06-24T21:45:18.715Z"
   },
   {
    "duration": 6,
    "start_time": "2024-06-24T21:45:18.725Z"
   },
   {
    "duration": 314,
    "start_time": "2024-06-24T21:45:18.735Z"
   },
   {
    "duration": 442,
    "start_time": "2024-06-24T21:45:19.056Z"
   },
   {
    "duration": 329,
    "start_time": "2024-06-24T21:45:19.501Z"
   },
   {
    "duration": 338,
    "start_time": "2024-06-24T21:45:19.836Z"
   },
   {
    "duration": 367,
    "start_time": "2024-06-24T21:45:20.178Z"
   },
   {
    "duration": 82,
    "start_time": "2024-06-24T21:45:20.548Z"
   },
   {
    "duration": 0,
    "start_time": "2024-06-24T21:45:20.633Z"
   },
   {
    "duration": 0,
    "start_time": "2024-06-24T21:45:20.635Z"
   },
   {
    "duration": 503,
    "start_time": "2024-06-24T21:45:21.334Z"
   },
   {
    "duration": 4874,
    "start_time": "2024-06-24T21:45:21.916Z"
   },
   {
    "duration": 4172,
    "start_time": "2024-06-24T21:45:26.793Z"
   },
   {
    "duration": 14516,
    "start_time": "2024-06-24T21:45:30.970Z"
   },
   {
    "duration": 6,
    "start_time": "2024-06-24T21:45:45.489Z"
   },
   {
    "duration": 27,
    "start_time": "2024-06-24T21:45:45.497Z"
   },
   {
    "duration": 87,
    "start_time": "2024-06-24T21:45:45.528Z"
   },
   {
    "duration": 0,
    "start_time": "2024-06-24T21:45:45.618Z"
   },
   {
    "duration": 0,
    "start_time": "2024-06-24T21:45:45.620Z"
   },
   {
    "duration": 0,
    "start_time": "2024-06-24T21:45:45.623Z"
   },
   {
    "duration": 0,
    "start_time": "2024-06-24T21:45:45.624Z"
   },
   {
    "duration": 0,
    "start_time": "2024-06-24T21:45:45.626Z"
   },
   {
    "duration": 0,
    "start_time": "2024-06-24T21:45:45.628Z"
   },
   {
    "duration": 0,
    "start_time": "2024-06-24T21:45:45.631Z"
   },
   {
    "duration": 14,
    "start_time": "2024-06-24T21:46:23.386Z"
   },
   {
    "duration": 82,
    "start_time": "2024-06-24T21:47:06.720Z"
   },
   {
    "duration": 6888,
    "start_time": "2024-06-24T21:47:15.918Z"
   },
   {
    "duration": 318,
    "start_time": "2024-06-24T21:48:20.771Z"
   },
   {
    "duration": 1497,
    "start_time": "2024-06-24T21:48:26.877Z"
   },
   {
    "duration": 775,
    "start_time": "2024-06-24T21:48:28.378Z"
   },
   {
    "duration": 26,
    "start_time": "2024-06-24T21:48:29.156Z"
   },
   {
    "duration": 33,
    "start_time": "2024-06-24T21:48:29.187Z"
   },
   {
    "duration": 19,
    "start_time": "2024-06-24T21:48:29.223Z"
   },
   {
    "duration": 9,
    "start_time": "2024-06-24T21:48:29.246Z"
   },
   {
    "duration": 7,
    "start_time": "2024-06-24T21:48:29.259Z"
   },
   {
    "duration": 13,
    "start_time": "2024-06-24T21:48:29.311Z"
   },
   {
    "duration": 13,
    "start_time": "2024-06-24T21:48:29.327Z"
   },
   {
    "duration": 154,
    "start_time": "2024-06-24T21:48:29.346Z"
   },
   {
    "duration": 15,
    "start_time": "2024-06-24T21:48:29.503Z"
   },
   {
    "duration": 37,
    "start_time": "2024-06-24T21:48:29.521Z"
   },
   {
    "duration": 13,
    "start_time": "2024-06-24T21:48:29.561Z"
   },
   {
    "duration": 174,
    "start_time": "2024-06-24T21:48:29.612Z"
   },
   {
    "duration": 28,
    "start_time": "2024-06-24T21:48:29.789Z"
   },
   {
    "duration": 21,
    "start_time": "2024-06-24T21:48:29.820Z"
   },
   {
    "duration": 10,
    "start_time": "2024-06-24T21:48:29.844Z"
   },
   {
    "duration": 14,
    "start_time": "2024-06-24T21:48:29.857Z"
   },
   {
    "duration": 12,
    "start_time": "2024-06-24T21:48:29.913Z"
   },
   {
    "duration": 19,
    "start_time": "2024-06-24T21:48:29.928Z"
   },
   {
    "duration": 4,
    "start_time": "2024-06-24T21:48:29.950Z"
   },
   {
    "duration": 5,
    "start_time": "2024-06-24T21:48:29.958Z"
   },
   {
    "duration": 51,
    "start_time": "2024-06-24T21:48:29.966Z"
   },
   {
    "duration": 6,
    "start_time": "2024-06-24T21:48:30.020Z"
   },
   {
    "duration": 11,
    "start_time": "2024-06-24T21:48:30.029Z"
   },
   {
    "duration": 9,
    "start_time": "2024-06-24T21:48:30.043Z"
   },
   {
    "duration": 412,
    "start_time": "2024-06-24T21:48:30.055Z"
   },
   {
    "duration": 337,
    "start_time": "2024-06-24T21:48:30.478Z"
   },
   {
    "duration": 353,
    "start_time": "2024-06-24T21:48:30.818Z"
   },
   {
    "duration": 7,
    "start_time": "2024-06-24T21:48:31.174Z"
   },
   {
    "duration": 30,
    "start_time": "2024-06-24T21:48:31.185Z"
   },
   {
    "duration": 8,
    "start_time": "2024-06-24T21:48:31.218Z"
   },
   {
    "duration": 316,
    "start_time": "2024-06-24T21:48:31.229Z"
   },
   {
    "duration": 295,
    "start_time": "2024-06-24T21:48:31.548Z"
   },
   {
    "duration": 324,
    "start_time": "2024-06-24T21:48:31.845Z"
   },
   {
    "duration": 408,
    "start_time": "2024-06-24T21:48:32.173Z"
   },
   {
    "duration": 390,
    "start_time": "2024-06-24T21:48:32.584Z"
   },
   {
    "duration": 8,
    "start_time": "2024-06-24T21:48:32.977Z"
   },
   {
    "duration": 124,
    "start_time": "2024-06-24T21:48:32.988Z"
   },
   {
    "duration": 9,
    "start_time": "2024-06-24T21:48:33.116Z"
   },
   {
    "duration": 596,
    "start_time": "2024-06-24T21:48:33.128Z"
   },
   {
    "duration": 4887,
    "start_time": "2024-06-24T21:48:33.728Z"
   },
   {
    "duration": 4209,
    "start_time": "2024-06-24T21:48:38.618Z"
   },
   {
    "duration": 14477,
    "start_time": "2024-06-24T21:48:42.829Z"
   },
   {
    "duration": 5,
    "start_time": "2024-06-24T21:48:57.313Z"
   },
   {
    "duration": 11,
    "start_time": "2024-06-24T21:48:57.321Z"
   },
   {
    "duration": 8,
    "start_time": "2024-06-24T21:48:57.334Z"
   },
   {
    "duration": 6983,
    "start_time": "2024-06-24T21:48:57.344Z"
   },
   {
    "duration": 13,
    "start_time": "2024-06-24T21:49:04.330Z"
   },
   {
    "duration": 13,
    "start_time": "2024-06-24T21:49:04.346Z"
   },
   {
    "duration": 11,
    "start_time": "2024-06-24T21:49:04.361Z"
   },
   {
    "duration": 5,
    "start_time": "2024-06-24T21:49:04.411Z"
   },
   {
    "duration": 4,
    "start_time": "2024-06-24T21:49:04.419Z"
   },
   {
    "duration": 5,
    "start_time": "2024-06-24T21:49:04.427Z"
   },
   {
    "duration": 4,
    "start_time": "2024-06-24T22:20:02.289Z"
   },
   {
    "duration": 4,
    "start_time": "2024-06-24T22:20:04.921Z"
   },
   {
    "duration": 5,
    "start_time": "2024-06-24T22:20:09.594Z"
   },
   {
    "duration": 34,
    "start_time": "2024-06-24T22:20:15.647Z"
   },
   {
    "duration": 10,
    "start_time": "2024-06-24T22:20:21.235Z"
   },
   {
    "duration": 8,
    "start_time": "2024-06-24T22:20:52.013Z"
   },
   {
    "duration": 138,
    "start_time": "2024-06-24T22:20:59.808Z"
   },
   {
    "duration": 5,
    "start_time": "2024-06-24T22:21:31.112Z"
   },
   {
    "duration": 7,
    "start_time": "2024-06-24T22:21:54.696Z"
   },
   {
    "duration": 242,
    "start_time": "2024-06-24T22:22:36.793Z"
   },
   {
    "duration": 35,
    "start_time": "2024-06-24T22:22:48.252Z"
   },
   {
    "duration": 13,
    "start_time": "2024-06-24T22:22:54.114Z"
   },
   {
    "duration": 6,
    "start_time": "2024-06-24T22:23:47.183Z"
   },
   {
    "duration": 774,
    "start_time": "2024-06-24T22:23:47.676Z"
   },
   {
    "duration": 24,
    "start_time": "2024-06-24T22:23:48.453Z"
   },
   {
    "duration": 43,
    "start_time": "2024-06-24T22:23:48.480Z"
   },
   {
    "duration": 20,
    "start_time": "2024-06-24T22:23:48.754Z"
   },
   {
    "duration": 10,
    "start_time": "2024-06-24T22:23:49.380Z"
   },
   {
    "duration": 7,
    "start_time": "2024-06-24T22:23:49.722Z"
   },
   {
    "duration": 11,
    "start_time": "2024-06-24T22:23:49.977Z"
   },
   {
    "duration": 11,
    "start_time": "2024-06-24T22:23:50.617Z"
   },
   {
    "duration": 101,
    "start_time": "2024-06-24T22:23:51.055Z"
   },
   {
    "duration": 10,
    "start_time": "2024-06-24T22:23:51.468Z"
   },
   {
    "duration": 35,
    "start_time": "2024-06-24T22:23:51.875Z"
   },
   {
    "duration": 12,
    "start_time": "2024-06-24T22:23:52.325Z"
   },
   {
    "duration": 136,
    "start_time": "2024-06-24T22:23:52.765Z"
   },
   {
    "duration": 12,
    "start_time": "2024-06-24T22:23:56.990Z"
   },
   {
    "duration": 19,
    "start_time": "2024-06-24T22:23:57.450Z"
   },
   {
    "duration": 8,
    "start_time": "2024-06-24T22:23:58.722Z"
   },
   {
    "duration": 10,
    "start_time": "2024-06-24T22:24:00.337Z"
   },
   {
    "duration": 10,
    "start_time": "2024-06-24T22:24:01.528Z"
   },
   {
    "duration": 21,
    "start_time": "2024-06-24T22:24:02.036Z"
   },
   {
    "duration": 5,
    "start_time": "2024-06-24T22:24:03.986Z"
   },
   {
    "duration": 8,
    "start_time": "2024-06-24T22:24:04.357Z"
   },
   {
    "duration": 7,
    "start_time": "2024-06-24T22:24:04.762Z"
   },
   {
    "duration": 6,
    "start_time": "2024-06-24T22:24:05.105Z"
   },
   {
    "duration": 8,
    "start_time": "2024-06-24T22:24:07.118Z"
   },
   {
    "duration": 8,
    "start_time": "2024-06-24T22:24:08.318Z"
   },
   {
    "duration": 330,
    "start_time": "2024-06-24T22:24:09.245Z"
   },
   {
    "duration": 312,
    "start_time": "2024-06-24T22:24:09.823Z"
   },
   {
    "duration": 331,
    "start_time": "2024-06-24T22:24:10.411Z"
   },
   {
    "duration": 6,
    "start_time": "2024-06-24T22:24:11.228Z"
   },
   {
    "duration": 7,
    "start_time": "2024-06-24T22:24:11.718Z"
   },
   {
    "duration": 7,
    "start_time": "2024-06-24T22:24:12.126Z"
   },
   {
    "duration": 309,
    "start_time": "2024-06-24T22:24:12.878Z"
   },
   {
    "duration": 292,
    "start_time": "2024-06-24T22:24:14.152Z"
   },
   {
    "duration": 391,
    "start_time": "2024-06-24T22:24:14.601Z"
   },
   {
    "duration": 328,
    "start_time": "2024-06-24T22:24:15.079Z"
   },
   {
    "duration": 363,
    "start_time": "2024-06-24T22:24:15.413Z"
   },
   {
    "duration": 6,
    "start_time": "2024-06-24T22:24:16.999Z"
   },
   {
    "duration": 91,
    "start_time": "2024-06-24T22:24:17.286Z"
   },
   {
    "duration": 76,
    "start_time": "2024-06-24T22:24:35.329Z"
   },
   {
    "duration": 97,
    "start_time": "2024-06-24T22:24:39.637Z"
   },
   {
    "duration": 10,
    "start_time": "2024-06-24T22:24:44.317Z"
   },
   {
    "duration": 505,
    "start_time": "2024-06-24T22:24:45.916Z"
   },
   {
    "duration": 4796,
    "start_time": "2024-06-24T22:24:46.735Z"
   },
   {
    "duration": 4193,
    "start_time": "2024-06-24T22:24:51.535Z"
   },
   {
    "duration": 14732,
    "start_time": "2024-06-24T22:24:55.731Z"
   },
   {
    "duration": 8,
    "start_time": "2024-06-24T22:25:10.467Z"
   },
   {
    "duration": 5,
    "start_time": "2024-06-24T22:25:36.853Z"
   },
   {
    "duration": 11,
    "start_time": "2024-06-24T22:25:37.210Z"
   },
   {
    "duration": 7,
    "start_time": "2024-06-24T22:25:37.608Z"
   },
   {
    "duration": 6944,
    "start_time": "2024-06-24T22:25:38.758Z"
   },
   {
    "duration": 11,
    "start_time": "2024-06-24T22:25:45.706Z"
   },
   {
    "duration": 129,
    "start_time": "2024-06-24T22:25:45.721Z"
   },
   {
    "duration": 38,
    "start_time": "2024-06-24T22:26:06.471Z"
   },
   {
    "duration": 10,
    "start_time": "2024-06-24T22:26:07.326Z"
   },
   {
    "duration": 103,
    "start_time": "2024-06-24T22:26:08.511Z"
   },
   {
    "duration": 14,
    "start_time": "2024-06-24T22:26:20.511Z"
   },
   {
    "duration": 14,
    "start_time": "2024-06-24T22:26:26.216Z"
   },
   {
    "duration": 9,
    "start_time": "2024-06-24T22:26:29.420Z"
   },
   {
    "duration": 14,
    "start_time": "2024-06-24T22:26:29.985Z"
   },
   {
    "duration": 109,
    "start_time": "2024-06-24T22:27:08.195Z"
   },
   {
    "duration": 12,
    "start_time": "2024-06-24T22:27:16.922Z"
   },
   {
    "duration": 12,
    "start_time": "2024-06-24T22:27:26.053Z"
   },
   {
    "duration": 41,
    "start_time": "2024-06-24T22:27:32.423Z"
   },
   {
    "duration": 34,
    "start_time": "2024-06-24T22:28:16.759Z"
   },
   {
    "duration": 34,
    "start_time": "2024-06-24T22:28:23.172Z"
   },
   {
    "duration": 34,
    "start_time": "2024-06-24T22:28:29.776Z"
   },
   {
    "duration": 11,
    "start_time": "2024-06-24T22:28:40.075Z"
   },
   {
    "duration": 11,
    "start_time": "2024-06-24T22:28:41.025Z"
   },
   {
    "duration": 10,
    "start_time": "2024-06-24T22:28:43.930Z"
   },
   {
    "duration": 11,
    "start_time": "2024-06-24T22:28:46.613Z"
   },
   {
    "duration": 12,
    "start_time": "2024-06-24T22:28:50.600Z"
   },
   {
    "duration": 6,
    "start_time": "2024-06-24T22:29:36.307Z"
   },
   {
    "duration": 5,
    "start_time": "2024-06-24T22:29:41.509Z"
   },
   {
    "duration": 9,
    "start_time": "2024-06-24T22:33:34.101Z"
   },
   {
    "duration": 1481,
    "start_time": "2024-06-24T22:33:54.536Z"
   },
   {
    "duration": 830,
    "start_time": "2024-06-24T22:33:56.024Z"
   },
   {
    "duration": 97,
    "start_time": "2024-06-24T22:33:56.856Z"
   },
   {
    "duration": 20,
    "start_time": "2024-06-24T22:33:56.958Z"
   },
   {
    "duration": 41,
    "start_time": "2024-06-24T22:33:56.981Z"
   },
   {
    "duration": 12,
    "start_time": "2024-06-24T22:33:57.026Z"
   },
   {
    "duration": 7,
    "start_time": "2024-06-24T22:33:57.041Z"
   },
   {
    "duration": 15,
    "start_time": "2024-06-24T22:33:57.054Z"
   },
   {
    "duration": 52,
    "start_time": "2024-06-24T22:33:57.072Z"
   },
   {
    "duration": 163,
    "start_time": "2024-06-24T22:33:57.131Z"
   },
   {
    "duration": 23,
    "start_time": "2024-06-24T22:33:57.298Z"
   },
   {
    "duration": 47,
    "start_time": "2024-06-24T22:33:57.325Z"
   },
   {
    "duration": 42,
    "start_time": "2024-06-24T22:33:57.376Z"
   },
   {
    "duration": 193,
    "start_time": "2024-06-24T22:33:57.421Z"
   },
   {
    "duration": 16,
    "start_time": "2024-06-24T22:33:57.618Z"
   },
   {
    "duration": 26,
    "start_time": "2024-06-24T22:33:57.637Z"
   },
   {
    "duration": 44,
    "start_time": "2024-06-24T22:33:57.669Z"
   },
   {
    "duration": 12,
    "start_time": "2024-06-24T22:33:57.716Z"
   },
   {
    "duration": 13,
    "start_time": "2024-06-24T22:33:57.731Z"
   },
   {
    "duration": 66,
    "start_time": "2024-06-24T22:33:57.748Z"
   },
   {
    "duration": 4,
    "start_time": "2024-06-24T22:33:57.817Z"
   },
   {
    "duration": 5,
    "start_time": "2024-06-24T22:33:57.824Z"
   },
   {
    "duration": 6,
    "start_time": "2024-06-24T22:33:57.832Z"
   },
   {
    "duration": 6,
    "start_time": "2024-06-24T22:33:57.842Z"
   },
   {
    "duration": 8,
    "start_time": "2024-06-24T22:33:57.851Z"
   },
   {
    "duration": 59,
    "start_time": "2024-06-24T22:33:57.861Z"
   },
   {
    "duration": 463,
    "start_time": "2024-06-24T22:33:57.927Z"
   },
   {
    "duration": 386,
    "start_time": "2024-06-24T22:33:58.404Z"
   },
   {
    "duration": 372,
    "start_time": "2024-06-24T22:33:58.794Z"
   },
   {
    "duration": 7,
    "start_time": "2024-06-24T22:33:59.169Z"
   },
   {
    "duration": 8,
    "start_time": "2024-06-24T22:33:59.179Z"
   },
   {
    "duration": 25,
    "start_time": "2024-06-24T22:33:59.191Z"
   },
   {
    "duration": 426,
    "start_time": "2024-06-24T22:33:59.220Z"
   },
   {
    "duration": 439,
    "start_time": "2024-06-24T22:33:59.649Z"
   },
   {
    "duration": 458,
    "start_time": "2024-06-24T22:34:00.093Z"
   },
   {
    "duration": 505,
    "start_time": "2024-06-24T22:34:00.555Z"
   },
   {
    "duration": 544,
    "start_time": "2024-06-24T22:34:01.063Z"
   },
   {
    "duration": 12,
    "start_time": "2024-06-24T22:34:01.610Z"
   },
   {
    "duration": 117,
    "start_time": "2024-06-24T22:34:01.625Z"
   },
   {
    "duration": 6,
    "start_time": "2024-06-24T22:34:01.745Z"
   },
   {
    "duration": 1161,
    "start_time": "2024-06-24T22:34:01.754Z"
   },
   {
    "duration": 5003,
    "start_time": "2024-06-24T22:34:02.925Z"
   },
   {
    "duration": 4269,
    "start_time": "2024-06-24T22:34:07.931Z"
   },
   {
    "duration": 14626,
    "start_time": "2024-06-24T22:34:12.204Z"
   },
   {
    "duration": 5,
    "start_time": "2024-06-24T22:34:26.834Z"
   },
   {
    "duration": 12,
    "start_time": "2024-06-24T22:34:26.842Z"
   },
   {
    "duration": 8,
    "start_time": "2024-06-24T22:34:26.857Z"
   },
   {
    "duration": 6985,
    "start_time": "2024-06-24T22:34:26.868Z"
   },
   {
    "duration": 14,
    "start_time": "2024-06-24T22:34:33.856Z"
   },
   {
    "duration": 39,
    "start_time": "2024-06-24T22:34:33.874Z"
   },
   {
    "duration": 12,
    "start_time": "2024-06-24T22:34:33.917Z"
   },
   {
    "duration": 5,
    "start_time": "2024-06-24T22:34:33.932Z"
   },
   {
    "duration": 5,
    "start_time": "2024-06-24T22:34:33.940Z"
   },
   {
    "duration": 5,
    "start_time": "2024-06-24T22:34:33.949Z"
   },
   {
    "duration": 87,
    "start_time": "2024-06-24T22:34:33.961Z"
   },
   {
    "duration": 5,
    "start_time": "2024-06-24T22:36:25.119Z"
   },
   {
    "duration": 428,
    "start_time": "2024-06-24T22:36:27.897Z"
   },
   {
    "duration": 386,
    "start_time": "2024-06-24T22:36:32.719Z"
   },
   {
    "duration": 12,
    "start_time": "2024-06-24T22:36:52.989Z"
   },
   {
    "duration": 10,
    "start_time": "2024-06-24T22:38:23.478Z"
   },
   {
    "duration": 1479,
    "start_time": "2024-06-24T22:38:35.452Z"
   },
   {
    "duration": 1448,
    "start_time": "2024-06-24T22:38:49.792Z"
   },
   {
    "duration": 786,
    "start_time": "2024-06-24T22:38:51.243Z"
   },
   {
    "duration": 105,
    "start_time": "2024-06-24T22:38:52.032Z"
   },
   {
    "duration": 18,
    "start_time": "2024-06-24T22:38:52.142Z"
   },
   {
    "duration": 49,
    "start_time": "2024-06-24T22:38:52.163Z"
   },
   {
    "duration": 10,
    "start_time": "2024-06-24T22:38:52.214Z"
   },
   {
    "duration": 7,
    "start_time": "2024-06-24T22:38:52.227Z"
   },
   {
    "duration": 13,
    "start_time": "2024-06-24T22:38:52.237Z"
   },
   {
    "duration": 14,
    "start_time": "2024-06-24T22:38:52.253Z"
   },
   {
    "duration": 121,
    "start_time": "2024-06-24T22:38:52.313Z"
   },
   {
    "duration": 11,
    "start_time": "2024-06-24T22:38:52.437Z"
   },
   {
    "duration": 62,
    "start_time": "2024-06-24T22:38:52.451Z"
   },
   {
    "duration": 12,
    "start_time": "2024-06-24T22:38:52.516Z"
   },
   {
    "duration": 174,
    "start_time": "2024-06-24T22:38:52.531Z"
   },
   {
    "duration": 16,
    "start_time": "2024-06-24T22:38:52.708Z"
   },
   {
    "duration": 22,
    "start_time": "2024-06-24T22:38:52.727Z"
   },
   {
    "duration": 11,
    "start_time": "2024-06-24T22:38:52.752Z"
   },
   {
    "duration": 54,
    "start_time": "2024-06-24T22:38:52.765Z"
   },
   {
    "duration": 11,
    "start_time": "2024-06-24T22:38:52.822Z"
   },
   {
    "duration": 20,
    "start_time": "2024-06-24T22:38:52.836Z"
   },
   {
    "duration": 4,
    "start_time": "2024-06-24T22:38:52.859Z"
   },
   {
    "duration": 5,
    "start_time": "2024-06-24T22:38:52.911Z"
   },
   {
    "duration": 6,
    "start_time": "2024-06-24T22:38:52.919Z"
   },
   {
    "duration": 7,
    "start_time": "2024-06-24T22:38:52.928Z"
   },
   {
    "duration": 7,
    "start_time": "2024-06-24T22:38:52.939Z"
   },
   {
    "duration": 9,
    "start_time": "2024-06-24T22:38:52.950Z"
   },
   {
    "duration": 0,
    "start_time": "2024-06-24T22:38:56.615Z"
   },
   {
    "duration": 0,
    "start_time": "2024-06-24T22:38:56.618Z"
   },
   {
    "duration": 0,
    "start_time": "2024-06-24T22:38:56.620Z"
   },
   {
    "duration": 0,
    "start_time": "2024-06-24T22:38:56.622Z"
   },
   {
    "duration": 0,
    "start_time": "2024-06-24T22:38:56.625Z"
   },
   {
    "duration": 0,
    "start_time": "2024-06-24T22:38:56.626Z"
   },
   {
    "duration": 0,
    "start_time": "2024-06-24T22:38:56.628Z"
   },
   {
    "duration": 0,
    "start_time": "2024-06-24T22:38:56.630Z"
   },
   {
    "duration": 0,
    "start_time": "2024-06-24T22:38:56.632Z"
   },
   {
    "duration": 0,
    "start_time": "2024-06-24T22:38:56.634Z"
   },
   {
    "duration": 0,
    "start_time": "2024-06-24T22:38:56.636Z"
   },
   {
    "duration": 0,
    "start_time": "2024-06-24T22:38:56.638Z"
   },
   {
    "duration": 0,
    "start_time": "2024-06-24T22:38:56.639Z"
   },
   {
    "duration": 0,
    "start_time": "2024-06-24T22:38:56.641Z"
   },
   {
    "duration": 0,
    "start_time": "2024-06-24T22:38:56.644Z"
   },
   {
    "duration": 0,
    "start_time": "2024-06-24T22:38:56.645Z"
   },
   {
    "duration": 0,
    "start_time": "2024-06-24T22:38:56.647Z"
   },
   {
    "duration": 0,
    "start_time": "2024-06-24T22:38:56.648Z"
   },
   {
    "duration": 0,
    "start_time": "2024-06-24T22:38:56.711Z"
   },
   {
    "duration": 0,
    "start_time": "2024-06-24T22:38:56.714Z"
   },
   {
    "duration": 0,
    "start_time": "2024-06-24T22:38:56.716Z"
   },
   {
    "duration": 0,
    "start_time": "2024-06-24T22:38:56.718Z"
   },
   {
    "duration": 0,
    "start_time": "2024-06-24T22:38:56.719Z"
   },
   {
    "duration": 0,
    "start_time": "2024-06-24T22:38:56.721Z"
   },
   {
    "duration": 0,
    "start_time": "2024-06-24T22:38:56.723Z"
   },
   {
    "duration": 0,
    "start_time": "2024-06-24T22:38:56.725Z"
   },
   {
    "duration": 0,
    "start_time": "2024-06-24T22:38:56.727Z"
   },
   {
    "duration": 0,
    "start_time": "2024-06-24T22:38:56.729Z"
   },
   {
    "duration": 0,
    "start_time": "2024-06-24T22:38:56.731Z"
   },
   {
    "duration": 0,
    "start_time": "2024-06-24T22:38:56.733Z"
   },
   {
    "duration": 0,
    "start_time": "2024-06-24T22:38:56.734Z"
   },
   {
    "duration": 0,
    "start_time": "2024-06-24T22:38:56.736Z"
   },
   {
    "duration": 0,
    "start_time": "2024-06-24T22:38:56.738Z"
   },
   {
    "duration": 0,
    "start_time": "2024-06-24T22:38:56.741Z"
   },
   {
    "duration": 0,
    "start_time": "2024-06-24T22:38:56.742Z"
   },
   {
    "duration": 0,
    "start_time": "2024-06-24T22:38:56.745Z"
   },
   {
    "duration": 0,
    "start_time": "2024-06-24T22:38:56.746Z"
   },
   {
    "duration": 0,
    "start_time": "2024-06-24T22:38:56.748Z"
   },
   {
    "duration": 0,
    "start_time": "2024-06-24T22:38:56.750Z"
   },
   {
    "duration": 0,
    "start_time": "2024-06-24T22:38:56.813Z"
   },
   {
    "duration": 0,
    "start_time": "2024-06-24T22:38:56.816Z"
   },
   {
    "duration": 0,
    "start_time": "2024-06-24T22:38:56.818Z"
   },
   {
    "duration": 0,
    "start_time": "2024-06-24T22:38:56.827Z"
   },
   {
    "duration": 0,
    "start_time": "2024-06-24T22:38:56.829Z"
   },
   {
    "duration": 0,
    "start_time": "2024-06-24T22:38:56.831Z"
   },
   {
    "duration": 1,
    "start_time": "2024-06-24T22:38:56.833Z"
   },
   {
    "duration": 0,
    "start_time": "2024-06-24T22:38:56.836Z"
   },
   {
    "duration": 0,
    "start_time": "2024-06-24T22:38:56.838Z"
   },
   {
    "duration": 0,
    "start_time": "2024-06-24T22:38:56.841Z"
   },
   {
    "duration": 0,
    "start_time": "2024-06-24T22:38:56.844Z"
   },
   {
    "duration": 0,
    "start_time": "2024-06-24T22:38:56.846Z"
   },
   {
    "duration": 0,
    "start_time": "2024-06-24T22:38:56.848Z"
   },
   {
    "duration": 0,
    "start_time": "2024-06-24T22:38:56.913Z"
   },
   {
    "duration": 0,
    "start_time": "2024-06-24T22:38:56.915Z"
   },
   {
    "duration": 33,
    "start_time": "2024-06-24T22:39:44.834Z"
   },
   {
    "duration": 28,
    "start_time": "2024-06-24T22:39:46.104Z"
   },
   {
    "duration": 29,
    "start_time": "2024-06-24T22:39:53.952Z"
   },
   {
    "duration": 13,
    "start_time": "2024-06-24T22:39:59.240Z"
   },
   {
    "duration": 28,
    "start_time": "2024-06-24T22:40:06.284Z"
   },
   {
    "duration": 12,
    "start_time": "2024-06-24T22:40:10.252Z"
   },
   {
    "duration": 26,
    "start_time": "2024-06-24T22:40:25.637Z"
   },
   {
    "duration": 38,
    "start_time": "2024-06-24T22:40:42.337Z"
   },
   {
    "duration": 7799,
    "start_time": "2024-06-24T22:40:54.824Z"
   },
   {
    "duration": 22270,
    "start_time": "2024-06-24T22:41:18.803Z"
   },
   {
    "duration": 1421,
    "start_time": "2024-06-24T22:42:02.194Z"
   },
   {
    "duration": 22102,
    "start_time": "2024-06-24T22:42:12.374Z"
   },
   {
    "duration": 28,
    "start_time": "2024-06-24T22:43:42.924Z"
   },
   {
    "duration": 26,
    "start_time": "2024-06-24T22:43:50.669Z"
   },
   {
    "duration": 14424,
    "start_time": "2024-06-24T22:43:54.942Z"
   },
   {
    "duration": 85,
    "start_time": "2024-06-24T22:44:12.991Z"
   },
   {
    "duration": 24,
    "start_time": "2024-06-24T22:44:21.783Z"
   },
   {
    "duration": 35,
    "start_time": "2024-06-24T22:44:29.991Z"
   },
   {
    "duration": 280,
    "start_time": "2024-06-24T22:44:48.807Z"
   },
   {
    "duration": 27,
    "start_time": "2024-06-24T23:15:48.006Z"
   },
   {
    "duration": 5,
    "start_time": "2024-06-24T23:15:53.106Z"
   },
   {
    "duration": 858,
    "start_time": "2024-06-24T23:15:53.117Z"
   },
   {
    "duration": 37,
    "start_time": "2024-06-24T23:15:53.977Z"
   },
   {
    "duration": 18,
    "start_time": "2024-06-24T23:15:54.020Z"
   },
   {
    "duration": 20,
    "start_time": "2024-06-24T23:15:54.041Z"
   },
   {
    "duration": 10,
    "start_time": "2024-06-24T23:15:54.064Z"
   },
   {
    "duration": 42,
    "start_time": "2024-06-24T23:15:54.077Z"
   },
   {
    "duration": 12,
    "start_time": "2024-06-24T23:15:54.122Z"
   },
   {
    "duration": 12,
    "start_time": "2024-06-24T23:15:54.137Z"
   },
   {
    "duration": 143,
    "start_time": "2024-06-24T23:15:54.152Z"
   },
   {
    "duration": 19,
    "start_time": "2024-06-24T23:15:54.298Z"
   },
   {
    "duration": 38,
    "start_time": "2024-06-24T23:15:54.321Z"
   },
   {
    "duration": 12,
    "start_time": "2024-06-24T23:15:54.366Z"
   },
   {
    "duration": 174,
    "start_time": "2024-06-24T23:15:54.381Z"
   },
   {
    "duration": 13,
    "start_time": "2024-06-24T23:15:54.559Z"
   },
   {
    "duration": 48,
    "start_time": "2024-06-24T23:15:54.576Z"
   },
   {
    "duration": 10,
    "start_time": "2024-06-24T23:15:54.628Z"
   },
   {
    "duration": 14,
    "start_time": "2024-06-24T23:15:54.642Z"
   },
   {
    "duration": 56,
    "start_time": "2024-06-24T23:15:54.659Z"
   },
   {
    "duration": 20,
    "start_time": "2024-06-24T23:15:54.718Z"
   },
   {
    "duration": 5,
    "start_time": "2024-06-24T23:15:54.741Z"
   },
   {
    "duration": 4,
    "start_time": "2024-06-24T23:15:54.749Z"
   },
   {
    "duration": 7,
    "start_time": "2024-06-24T23:15:54.757Z"
   },
   {
    "duration": 6,
    "start_time": "2024-06-24T23:15:54.812Z"
   },
   {
    "duration": 8,
    "start_time": "2024-06-24T23:15:54.821Z"
   },
   {
    "duration": 8,
    "start_time": "2024-06-24T23:15:54.833Z"
   },
   {
    "duration": 376,
    "start_time": "2024-06-24T23:15:54.844Z"
   },
   {
    "duration": 330,
    "start_time": "2024-06-24T23:15:55.223Z"
   },
   {
    "duration": 393,
    "start_time": "2024-06-24T23:15:55.556Z"
   },
   {
    "duration": 6,
    "start_time": "2024-06-24T23:15:55.953Z"
   },
   {
    "duration": 7,
    "start_time": "2024-06-24T23:15:55.962Z"
   },
   {
    "duration": 40,
    "start_time": "2024-06-24T23:15:55.972Z"
   },
   {
    "duration": 299,
    "start_time": "2024-06-24T23:15:56.016Z"
   },
   {
    "duration": 290,
    "start_time": "2024-06-24T23:15:56.318Z"
   },
   {
    "duration": 332,
    "start_time": "2024-06-24T23:15:56.613Z"
   },
   {
    "duration": 338,
    "start_time": "2024-06-24T23:15:56.948Z"
   },
   {
    "duration": 367,
    "start_time": "2024-06-24T23:15:57.295Z"
   },
   {
    "duration": 7,
    "start_time": "2024-06-24T23:15:57.665Z"
   },
   {
    "duration": 104,
    "start_time": "2024-06-24T23:15:57.676Z"
   },
   {
    "duration": 4,
    "start_time": "2024-06-24T23:15:57.784Z"
   },
   {
    "duration": 26,
    "start_time": "2024-06-24T23:15:57.812Z"
   },
   {
    "duration": 0,
    "start_time": "2024-06-24T23:15:57.840Z"
   },
   {
    "duration": 0,
    "start_time": "2024-06-24T23:15:57.842Z"
   },
   {
    "duration": 0,
    "start_time": "2024-06-24T23:15:57.844Z"
   },
   {
    "duration": 0,
    "start_time": "2024-06-24T23:15:57.847Z"
   },
   {
    "duration": 0,
    "start_time": "2024-06-24T23:15:57.848Z"
   },
   {
    "duration": 0,
    "start_time": "2024-06-24T23:15:57.850Z"
   },
   {
    "duration": 0,
    "start_time": "2024-06-24T23:15:57.852Z"
   },
   {
    "duration": 0,
    "start_time": "2024-06-24T23:15:57.854Z"
   },
   {
    "duration": 0,
    "start_time": "2024-06-24T23:15:57.856Z"
   },
   {
    "duration": 0,
    "start_time": "2024-06-24T23:15:57.859Z"
   },
   {
    "duration": 0,
    "start_time": "2024-06-24T23:15:57.861Z"
   },
   {
    "duration": 0,
    "start_time": "2024-06-24T23:15:57.865Z"
   },
   {
    "duration": 0,
    "start_time": "2024-06-24T23:15:57.866Z"
   },
   {
    "duration": 40,
    "start_time": "2024-06-24T23:16:48.500Z"
   },
   {
    "duration": 16,
    "start_time": "2024-06-24T23:16:56.013Z"
   },
   {
    "duration": 9,
    "start_time": "2024-06-24T23:17:15.296Z"
   },
   {
    "duration": 10,
    "start_time": "2024-06-24T23:17:15.692Z"
   },
   {
    "duration": 12,
    "start_time": "2024-06-24T23:17:18.663Z"
   },
   {
    "duration": 19,
    "start_time": "2024-06-24T23:17:21.335Z"
   },
   {
    "duration": 4,
    "start_time": "2024-06-24T23:17:26.371Z"
   },
   {
    "duration": 4,
    "start_time": "2024-06-24T23:17:26.776Z"
   },
   {
    "duration": 6,
    "start_time": "2024-06-24T23:17:27.256Z"
   },
   {
    "duration": 6,
    "start_time": "2024-06-24T23:17:28.038Z"
   },
   {
    "duration": 6,
    "start_time": "2024-06-24T23:17:43.832Z"
   },
   {
    "duration": 8,
    "start_time": "2024-06-24T23:17:57.404Z"
   },
   {
    "duration": 71,
    "start_time": "2024-06-24T23:18:01.775Z"
   },
   {
    "duration": 7,
    "start_time": "2024-06-24T23:18:20.973Z"
   },
   {
    "duration": 40,
    "start_time": "2024-06-24T23:18:24.648Z"
   },
   {
    "duration": 6,
    "start_time": "2024-06-24T23:18:39.414Z"
   },
   {
    "duration": 77,
    "start_time": "2024-06-24T23:18:57.840Z"
   },
   {
    "duration": 93,
    "start_time": "2024-06-24T23:19:02.593Z"
   },
   {
    "duration": 74,
    "start_time": "2024-06-24T23:19:09.817Z"
   },
   {
    "duration": 96,
    "start_time": "2024-06-24T23:19:14.775Z"
   },
   {
    "duration": 70,
    "start_time": "2024-06-24T23:19:46.836Z"
   },
   {
    "duration": 4,
    "start_time": "2024-06-24T23:19:53.856Z"
   },
   {
    "duration": 26,
    "start_time": "2024-06-24T23:19:56.563Z"
   },
   {
    "duration": 137,
    "start_time": "2024-06-24T23:20:04.375Z"
   },
   {
    "duration": 36,
    "start_time": "2024-06-24T23:20:35.256Z"
   },
   {
    "duration": 11,
    "start_time": "2024-06-24T23:20:42.040Z"
   },
   {
    "duration": 11,
    "start_time": "2024-06-24T23:23:20.889Z"
   },
   {
    "duration": 10,
    "start_time": "2024-06-24T23:23:31.424Z"
   },
   {
    "duration": 109,
    "start_time": "2024-06-24T23:23:34.217Z"
   },
   {
    "duration": 26,
    "start_time": "2024-06-24T23:23:58.347Z"
   },
   {
    "duration": 159,
    "start_time": "2024-06-24T23:24:23.158Z"
   },
   {
    "duration": 76,
    "start_time": "2024-06-24T23:24:33.090Z"
   },
   {
    "duration": 4,
    "start_time": "2024-06-24T23:24:36.412Z"
   },
   {
    "duration": 25,
    "start_time": "2024-06-24T23:25:18.086Z"
   },
   {
    "duration": 31,
    "start_time": "2024-06-24T23:25:20.576Z"
   },
   {
    "duration": 3974,
    "start_time": "2024-06-24T23:25:22.938Z"
   },
   {
    "duration": 7,
    "start_time": "2024-06-24T23:26:12.562Z"
   },
   {
    "duration": 72,
    "start_time": "2024-06-24T23:26:36.784Z"
   },
   {
    "duration": 82,
    "start_time": "2024-06-24T23:26:54.790Z"
   },
   {
    "duration": 8,
    "start_time": "2024-06-24T23:27:16.523Z"
   },
   {
    "duration": 120,
    "start_time": "2024-06-24T23:27:19.315Z"
   },
   {
    "duration": 12,
    "start_time": "2024-06-24T23:27:36.693Z"
   },
   {
    "duration": 71,
    "start_time": "2024-06-24T23:27:51.282Z"
   },
   {
    "duration": 7,
    "start_time": "2024-06-24T23:28:00.007Z"
   },
   {
    "duration": 9,
    "start_time": "2024-06-24T23:28:08.038Z"
   },
   {
    "duration": 17,
    "start_time": "2024-06-24T23:28:13.308Z"
   },
   {
    "duration": 112,
    "start_time": "2024-06-24T23:28:59.113Z"
   },
   {
    "duration": 194,
    "start_time": "2024-06-24T23:29:14.837Z"
   },
   {
    "duration": 259,
    "start_time": "2024-06-24T23:29:44.063Z"
   },
   {
    "duration": 38,
    "start_time": "2024-06-24T23:30:02.257Z"
   },
   {
    "duration": 1361,
    "start_time": "2024-06-24T23:30:30.642Z"
   },
   {
    "duration": 11,
    "start_time": "2024-06-24T23:30:57.761Z"
   },
   {
    "duration": 13,
    "start_time": "2024-06-24T23:33:26.493Z"
   },
   {
    "duration": 13,
    "start_time": "2024-06-24T23:33:28.656Z"
   },
   {
    "duration": 243,
    "start_time": "2024-06-24T23:33:32.074Z"
   },
   {
    "duration": 21,
    "start_time": "2024-06-24T23:34:17.350Z"
   },
   {
    "duration": 12,
    "start_time": "2024-06-24T23:34:20.530Z"
   },
   {
    "duration": 34,
    "start_time": "2024-06-24T23:34:39.463Z"
   },
   {
    "duration": 16,
    "start_time": "2024-06-24T23:34:44.482Z"
   },
   {
    "duration": 33,
    "start_time": "2024-06-24T23:35:17.669Z"
   },
   {
    "duration": 8,
    "start_time": "2024-06-24T23:35:41.450Z"
   },
   {
    "duration": 10,
    "start_time": "2024-06-24T23:36:02.654Z"
   },
   {
    "duration": 356,
    "start_time": "2024-06-24T23:36:06.906Z"
   },
   {
    "duration": 70,
    "start_time": "2024-06-24T23:36:17.138Z"
   },
   {
    "duration": 4,
    "start_time": "2024-06-24T23:36:22.477Z"
   },
   {
    "duration": 8,
    "start_time": "2024-06-24T23:36:24.884Z"
   },
   {
    "duration": 1361,
    "start_time": "2024-06-24T23:36:31.916Z"
   },
   {
    "duration": 130,
    "start_time": "2024-06-24T23:36:43.646Z"
   },
   {
    "duration": 1368,
    "start_time": "2024-06-24T23:37:25.253Z"
   },
   {
    "duration": 871,
    "start_time": "2024-06-24T23:37:26.624Z"
   },
   {
    "duration": 93,
    "start_time": "2024-06-24T23:37:27.499Z"
   },
   {
    "duration": 31,
    "start_time": "2024-06-24T23:37:27.596Z"
   },
   {
    "duration": 20,
    "start_time": "2024-06-24T23:37:27.630Z"
   },
   {
    "duration": 19,
    "start_time": "2024-06-24T23:37:41.052Z"
   },
   {
    "duration": 10,
    "start_time": "2024-06-24T23:37:44.161Z"
   },
   {
    "duration": 7,
    "start_time": "2024-06-24T23:37:44.517Z"
   },
   {
    "duration": 12,
    "start_time": "2024-06-24T23:37:45.124Z"
   },
   {
    "duration": 12,
    "start_time": "2024-06-24T23:37:45.835Z"
   },
   {
    "duration": 123,
    "start_time": "2024-06-24T23:37:51.492Z"
   },
   {
    "duration": 10,
    "start_time": "2024-06-24T23:37:52.077Z"
   },
   {
    "duration": 40,
    "start_time": "2024-06-24T23:37:54.102Z"
   },
   {
    "duration": 13,
    "start_time": "2024-06-24T23:37:54.729Z"
   },
   {
    "duration": 157,
    "start_time": "2024-06-24T23:37:55.045Z"
   },
   {
    "duration": 17,
    "start_time": "2024-06-24T23:38:00.511Z"
   },
   {
    "duration": 22,
    "start_time": "2024-06-24T23:38:03.946Z"
   },
   {
    "duration": 10,
    "start_time": "2024-06-24T23:38:10.008Z"
   },
   {
    "duration": 11,
    "start_time": "2024-06-24T23:38:11.381Z"
   },
   {
    "duration": 13,
    "start_time": "2024-06-24T23:38:15.833Z"
   },
   {
    "duration": 21,
    "start_time": "2024-06-24T23:38:18.954Z"
   },
   {
    "duration": 4,
    "start_time": "2024-06-24T23:38:22.646Z"
   },
   {
    "duration": 4,
    "start_time": "2024-06-24T23:38:23.584Z"
   },
   {
    "duration": 6,
    "start_time": "2024-06-24T23:38:27.336Z"
   },
   {
    "duration": 6,
    "start_time": "2024-06-24T23:38:29.833Z"
   },
   {
    "duration": 7,
    "start_time": "2024-06-24T23:38:39.351Z"
   },
   {
    "duration": 8,
    "start_time": "2024-06-24T23:39:04.371Z"
   },
   {
    "duration": 11,
    "start_time": "2024-06-24T23:39:17.039Z"
   },
   {
    "duration": 9,
    "start_time": "2024-06-24T23:39:23.974Z"
   },
   {
    "duration": 11,
    "start_time": "2024-06-24T23:39:32.594Z"
   },
   {
    "duration": 353,
    "start_time": "2024-06-24T23:39:37.772Z"
   },
   {
    "duration": 321,
    "start_time": "2024-06-24T23:39:40.686Z"
   },
   {
    "duration": 348,
    "start_time": "2024-06-24T23:39:43.260Z"
   },
   {
    "duration": 7,
    "start_time": "2024-06-24T23:39:46.163Z"
   },
   {
    "duration": 7,
    "start_time": "2024-06-24T23:39:48.674Z"
   },
   {
    "duration": 7,
    "start_time": "2024-06-24T23:39:50.962Z"
   },
   {
    "duration": 289,
    "start_time": "2024-06-24T23:39:53.783Z"
   },
   {
    "duration": 292,
    "start_time": "2024-06-24T23:39:57.190Z"
   },
   {
    "duration": 312,
    "start_time": "2024-06-24T23:39:58.407Z"
   },
   {
    "duration": 335,
    "start_time": "2024-06-24T23:39:59.673Z"
   },
   {
    "duration": 378,
    "start_time": "2024-06-24T23:40:00.138Z"
   },
   {
    "duration": 11,
    "start_time": "2024-06-24T23:40:15.583Z"
   },
   {
    "duration": 11,
    "start_time": "2024-06-24T23:40:24.372Z"
   },
   {
    "duration": 1740,
    "start_time": "2024-06-24T23:40:31.410Z"
   },
   {
    "duration": 43,
    "start_time": "2024-06-24T23:40:45.640Z"
   },
   {
    "duration": 1037,
    "start_time": "2024-06-24T23:41:07.777Z"
   },
   {
    "duration": 257,
    "start_time": "2024-06-24T23:41:17.120Z"
   },
   {
    "duration": 37,
    "start_time": "2024-06-24T23:41:28.230Z"
   },
   {
    "duration": 22,
    "start_time": "2024-06-24T23:41:32.603Z"
   },
   {
    "duration": 8,
    "start_time": "2024-06-24T23:41:52.841Z"
   },
   {
    "duration": 55,
    "start_time": "2024-06-24T23:41:55.076Z"
   },
   {
    "duration": 10,
    "start_time": "2024-06-24T23:42:05.098Z"
   },
   {
    "duration": 8,
    "start_time": "2024-06-24T23:42:39.194Z"
   },
   {
    "duration": 11,
    "start_time": "2024-06-24T23:42:39.832Z"
   },
   {
    "duration": 1403,
    "start_time": "2024-06-24T23:43:01.435Z"
   },
   {
    "duration": 1090,
    "start_time": "2024-06-24T23:43:02.842Z"
   },
   {
    "duration": 189,
    "start_time": "2024-06-24T23:43:03.936Z"
   },
   {
    "duration": 20,
    "start_time": "2024-06-24T23:43:04.128Z"
   },
   {
    "duration": 61,
    "start_time": "2024-06-24T23:43:04.152Z"
   },
   {
    "duration": 9,
    "start_time": "2024-06-24T23:43:04.805Z"
   },
   {
    "duration": 6,
    "start_time": "2024-06-24T23:43:05.166Z"
   },
   {
    "duration": 12,
    "start_time": "2024-06-24T23:43:05.519Z"
   },
   {
    "duration": 12,
    "start_time": "2024-06-24T23:43:06.084Z"
   },
   {
    "duration": 112,
    "start_time": "2024-06-24T23:43:06.558Z"
   },
   {
    "duration": 9,
    "start_time": "2024-06-24T23:43:06.889Z"
   },
   {
    "duration": 36,
    "start_time": "2024-06-24T23:43:07.220Z"
   },
   {
    "duration": 11,
    "start_time": "2024-06-24T23:43:07.564Z"
   },
   {
    "duration": 153,
    "start_time": "2024-06-24T23:43:07.882Z"
   },
   {
    "duration": 22,
    "start_time": "2024-06-24T23:43:09.607Z"
   },
   {
    "duration": 22,
    "start_time": "2024-06-24T23:43:11.165Z"
   },
   {
    "duration": 10,
    "start_time": "2024-06-24T23:43:12.224Z"
   },
   {
    "duration": 11,
    "start_time": "2024-06-24T23:43:12.850Z"
   },
   {
    "duration": 11,
    "start_time": "2024-06-24T23:43:13.858Z"
   },
   {
    "duration": 23,
    "start_time": "2024-06-24T23:43:14.736Z"
   },
   {
    "duration": 5,
    "start_time": "2024-06-24T23:43:19.948Z"
   },
   {
    "duration": 4,
    "start_time": "2024-06-24T23:43:20.729Z"
   },
   {
    "duration": 6,
    "start_time": "2024-06-24T23:43:21.756Z"
   },
   {
    "duration": 5,
    "start_time": "2024-06-24T23:43:22.507Z"
   },
   {
    "duration": 7,
    "start_time": "2024-06-24T23:43:26.389Z"
   },
   {
    "duration": 8,
    "start_time": "2024-06-24T23:43:28.643Z"
   },
   {
    "duration": 38,
    "start_time": "2024-06-24T23:43:35.773Z"
   },
   {
    "duration": 8,
    "start_time": "2024-06-24T23:44:34.922Z"
   },
   {
    "duration": 12,
    "start_time": "2024-06-24T23:44:36.656Z"
   },
   {
    "duration": 11,
    "start_time": "2024-06-24T23:44:40.226Z"
   },
   {
    "duration": 19,
    "start_time": "2024-06-24T23:44:40.840Z"
   },
   {
    "duration": 4,
    "start_time": "2024-06-24T23:44:44.108Z"
   },
   {
    "duration": 4,
    "start_time": "2024-06-24T23:44:44.459Z"
   },
   {
    "duration": 6,
    "start_time": "2024-06-24T23:44:44.778Z"
   },
   {
    "duration": 6,
    "start_time": "2024-06-24T23:44:45.349Z"
   },
   {
    "duration": 8,
    "start_time": "2024-06-24T23:44:48.434Z"
   },
   {
    "duration": 8,
    "start_time": "2024-06-24T23:44:51.963Z"
   },
   {
    "duration": 33,
    "start_time": "2024-06-24T23:44:54.613Z"
   },
   {
    "duration": 404,
    "start_time": "2024-06-24T23:45:04.780Z"
   },
   {
    "duration": 12,
    "start_time": "2024-06-24T23:45:09.578Z"
   },
   {
    "duration": 11,
    "start_time": "2024-06-24T23:45:19.519Z"
   },
   {
    "duration": 10,
    "start_time": "2024-06-24T23:45:26.750Z"
   },
   {
    "duration": 362,
    "start_time": "2024-06-24T23:45:30.129Z"
   },
   {
    "duration": 323,
    "start_time": "2024-06-24T23:45:30.820Z"
   },
   {
    "duration": 332,
    "start_time": "2024-06-24T23:45:31.617Z"
   },
   {
    "duration": 6,
    "start_time": "2024-06-24T23:45:32.727Z"
   },
   {
    "duration": 7,
    "start_time": "2024-06-24T23:45:33.377Z"
   },
   {
    "duration": 7,
    "start_time": "2024-06-24T23:45:34.050Z"
   },
   {
    "duration": 278,
    "start_time": "2024-06-24T23:45:35.741Z"
   },
   {
    "duration": 275,
    "start_time": "2024-06-24T23:45:38.996Z"
   },
   {
    "duration": 310,
    "start_time": "2024-06-24T23:45:41.991Z"
   },
   {
    "duration": 434,
    "start_time": "2024-06-24T23:45:44.190Z"
   },
   {
    "duration": 346,
    "start_time": "2024-06-24T23:45:46.655Z"
   },
   {
    "duration": 58,
    "start_time": "2024-06-24T23:45:51.458Z"
   },
   {
    "duration": 10,
    "start_time": "2024-06-24T23:46:01.679Z"
   },
   {
    "duration": 8,
    "start_time": "2024-06-24T23:46:37.496Z"
   },
   {
    "duration": 9,
    "start_time": "2024-06-24T23:46:45.724Z"
   },
   {
    "duration": 11,
    "start_time": "2024-06-24T23:47:58.276Z"
   },
   {
    "duration": 1342,
    "start_time": "2024-06-24T23:48:20.667Z"
   },
   {
    "duration": 7,
    "start_time": "2024-06-24T23:48:31.453Z"
   },
   {
    "duration": 5,
    "start_time": "2024-06-24T23:48:34.518Z"
   },
   {
    "duration": 4761,
    "start_time": "2024-06-24T23:48:37.752Z"
   },
   {
    "duration": 27,
    "start_time": "2024-06-24T23:48:45.920Z"
   },
   {
    "duration": 4151,
    "start_time": "2024-06-24T23:48:56.608Z"
   },
   {
    "duration": 14414,
    "start_time": "2024-06-24T23:49:04.408Z"
   },
   {
    "duration": 5,
    "start_time": "2024-06-24T23:49:26.841Z"
   },
   {
    "duration": 11,
    "start_time": "2024-06-24T23:49:29.188Z"
   },
   {
    "duration": 8,
    "start_time": "2024-06-24T23:49:34.609Z"
   },
   {
    "duration": 22459,
    "start_time": "2024-06-24T23:49:37.345Z"
   },
   {
    "duration": 22126,
    "start_time": "2024-06-24T23:50:36.065Z"
   },
   {
    "duration": 12,
    "start_time": "2024-06-24T23:51:13.053Z"
   },
   {
    "duration": 12,
    "start_time": "2024-06-24T23:51:15.202Z"
   },
   {
    "duration": 19,
    "start_time": "2024-06-24T23:51:18.534Z"
   },
   {
    "duration": 5,
    "start_time": "2024-06-24T23:51:19.816Z"
   },
   {
    "duration": 4,
    "start_time": "2024-06-24T23:51:37.379Z"
   },
   {
    "duration": 4,
    "start_time": "2024-06-24T23:51:41.000Z"
   },
   {
    "duration": 4,
    "start_time": "2024-06-24T23:52:04.702Z"
   },
   {
    "duration": 5,
    "start_time": "2024-06-24T23:52:07.011Z"
   },
   {
    "duration": 30,
    "start_time": "2024-06-24T23:54:27.543Z"
   },
   {
    "duration": 4,
    "start_time": "2024-06-24T23:54:33.440Z"
   },
   {
    "duration": 150143,
    "start_time": "2024-06-24T23:57:22.322Z"
   },
   {
    "duration": 0,
    "start_time": "2024-06-24T23:59:52.467Z"
   },
   {
    "duration": 151945,
    "start_time": "2024-06-25T00:11:08.313Z"
   },
   {
    "duration": 0,
    "start_time": "2024-06-25T00:13:40.261Z"
   },
   {
    "duration": 0,
    "start_time": "2024-06-25T00:13:40.262Z"
   },
   {
    "duration": 5,
    "start_time": "2024-06-25T00:14:22.422Z"
   },
   {
    "duration": 153015,
    "start_time": "2024-06-25T00:15:10.890Z"
   },
   {
    "duration": 16,
    "start_time": "2024-06-25T00:17:43.919Z"
   },
   {
    "duration": 5,
    "start_time": "2024-06-25T00:19:19.825Z"
   },
   {
    "duration": 37546,
    "start_time": "2024-06-25T00:19:23.194Z"
   },
   {
    "duration": 35,
    "start_time": "2024-06-25T00:22:59.332Z"
   },
   {
    "duration": 12,
    "start_time": "2024-06-25T00:23:06.135Z"
   },
   {
    "duration": 21909,
    "start_time": "2024-06-25T00:23:23.663Z"
   },
   {
    "duration": 21926,
    "start_time": "2024-06-25T00:24:01.817Z"
   },
   {
    "duration": 36,
    "start_time": "2024-06-25T00:24:53.060Z"
   },
   {
    "duration": 10,
    "start_time": "2024-06-25T00:24:59.815Z"
   },
   {
    "duration": 6,
    "start_time": "2024-06-25T00:25:09.858Z"
   },
   {
    "duration": 6,
    "start_time": "2024-06-25T00:25:17.856Z"
   },
   {
    "duration": 35,
    "start_time": "2024-06-25T00:25:55.781Z"
   },
   {
    "duration": 21815,
    "start_time": "2024-06-25T00:26:07.324Z"
   },
   {
    "duration": 5,
    "start_time": "2024-06-25T00:27:31.179Z"
   },
   {
    "duration": 6,
    "start_time": "2024-06-25T00:28:33.758Z"
   },
   {
    "duration": 34,
    "start_time": "2024-06-25T00:29:02.413Z"
   },
   {
    "duration": 9,
    "start_time": "2024-06-25T00:29:37.445Z"
   },
   {
    "duration": 11,
    "start_time": "2024-06-25T00:29:44.505Z"
   },
   {
    "duration": 13,
    "start_time": "2024-06-25T00:29:49.650Z"
   },
   {
    "duration": 10,
    "start_time": "2024-06-25T00:29:54.532Z"
   },
   {
    "duration": 10,
    "start_time": "2024-06-25T00:30:05.292Z"
   },
   {
    "duration": 21979,
    "start_time": "2024-06-25T00:30:16.935Z"
   },
   {
    "duration": 22317,
    "start_time": "2024-06-25T00:31:23.967Z"
   },
   {
    "duration": 6,
    "start_time": "2024-06-25T00:34:35.565Z"
   },
   {
    "duration": 5,
    "start_time": "2024-06-25T00:34:43.771Z"
   },
   {
    "duration": 6,
    "start_time": "2024-06-25T00:35:11.495Z"
   },
   {
    "duration": 16,
    "start_time": "2024-06-25T00:36:42.204Z"
   },
   {
    "duration": 22,
    "start_time": "2024-06-25T00:36:50.006Z"
   },
   {
    "duration": 33,
    "start_time": "2024-06-25T00:37:41.171Z"
   },
   {
    "duration": 170,
    "start_time": "2024-06-25T00:37:53.577Z"
   },
   {
    "duration": 34,
    "start_time": "2024-06-25T00:38:02.198Z"
   },
   {
    "duration": 35,
    "start_time": "2024-06-25T00:38:07.699Z"
   },
   {
    "duration": 16,
    "start_time": "2024-06-25T00:38:11.448Z"
   },
   {
    "duration": 23,
    "start_time": "2024-06-25T00:38:29.443Z"
   },
   {
    "duration": 16,
    "start_time": "2024-06-25T00:42:49.405Z"
   },
   {
    "duration": 16,
    "start_time": "2024-06-25T00:42:57.800Z"
   },
   {
    "duration": 18,
    "start_time": "2024-06-25T00:43:20.469Z"
   },
   {
    "duration": 16,
    "start_time": "2024-06-25T00:43:32.491Z"
   },
   {
    "duration": 8,
    "start_time": "2024-06-25T00:43:52.029Z"
   },
   {
    "duration": 23,
    "start_time": "2024-06-25T00:44:57.389Z"
   },
   {
    "duration": 5,
    "start_time": "2024-06-25T00:45:15.052Z"
   },
   {
    "duration": 24,
    "start_time": "2024-06-25T00:45:45.827Z"
   },
   {
    "duration": 40,
    "start_time": "2024-06-25T00:45:57.478Z"
   },
   {
    "duration": 5,
    "start_time": "2024-06-25T00:46:37.259Z"
   },
   {
    "duration": 8,
    "start_time": "2024-06-25T00:47:00.440Z"
   },
   {
    "duration": 8,
    "start_time": "2024-06-25T00:47:03.358Z"
   },
   {
    "duration": 8,
    "start_time": "2024-06-25T00:47:26.917Z"
   },
   {
    "duration": 15,
    "start_time": "2024-06-25T00:47:58.978Z"
   },
   {
    "duration": 20,
    "start_time": "2024-06-25T00:48:04.582Z"
   },
   {
    "duration": 9,
    "start_time": "2024-06-25T00:48:44.483Z"
   },
   {
    "duration": 37,
    "start_time": "2024-06-25T00:48:51.178Z"
   },
   {
    "duration": 20,
    "start_time": "2024-06-25T00:48:54.610Z"
   },
   {
    "duration": 8,
    "start_time": "2024-06-25T00:49:55.873Z"
   },
   {
    "duration": 13,
    "start_time": "2024-06-25T00:50:09.929Z"
   },
   {
    "duration": 7,
    "start_time": "2024-06-25T00:50:28.593Z"
   },
   {
    "duration": 4066,
    "start_time": "2024-06-25T00:50:40.737Z"
   },
   {
    "duration": 11,
    "start_time": "2024-06-25T00:51:11.625Z"
   },
   {
    "duration": 7,
    "start_time": "2024-06-25T00:51:24.784Z"
   },
   {
    "duration": 20,
    "start_time": "2024-06-25T00:51:34.585Z"
   },
   {
    "duration": 17,
    "start_time": "2024-06-25T00:51:38.913Z"
   },
   {
    "duration": 21,
    "start_time": "2024-06-25T00:51:51.641Z"
   },
   {
    "duration": 20,
    "start_time": "2024-06-25T00:52:07.217Z"
   },
   {
    "duration": 23,
    "start_time": "2024-06-25T00:52:19.253Z"
   },
   {
    "duration": 9,
    "start_time": "2024-06-25T00:52:46.333Z"
   },
   {
    "duration": 17,
    "start_time": "2024-06-25T00:52:57.860Z"
   },
   {
    "duration": 17,
    "start_time": "2024-06-25T00:53:08.828Z"
   },
   {
    "duration": 6,
    "start_time": "2024-06-25T00:54:04.478Z"
   },
   {
    "duration": 7,
    "start_time": "2024-06-25T00:54:39.150Z"
   },
   {
    "duration": 9,
    "start_time": "2024-06-25T00:55:17.555Z"
   },
   {
    "duration": 17,
    "start_time": "2024-06-25T00:56:01.960Z"
   },
   {
    "duration": 10,
    "start_time": "2024-06-25T00:56:04.028Z"
   },
   {
    "duration": 2794,
    "start_time": "2024-06-25T00:56:07.157Z"
   },
   {
    "duration": 2335,
    "start_time": "2024-06-25T00:56:13.396Z"
   },
   {
    "duration": 7986,
    "start_time": "2024-06-25T00:56:18.929Z"
   },
   {
    "duration": 12680,
    "start_time": "2024-06-25T00:57:00.094Z"
   },
   {
    "duration": 14,
    "start_time": "2024-06-25T00:57:18.727Z"
   },
   {
    "duration": 13,
    "start_time": "2024-06-25T00:57:20.621Z"
   },
   {
    "duration": 12673,
    "start_time": "2024-06-25T00:57:23.260Z"
   },
   {
    "duration": 18,
    "start_time": "2024-06-25T00:57:53.688Z"
   },
   {
    "duration": 4,
    "start_time": "2024-06-25T00:57:54.915Z"
   },
   {
    "duration": 4,
    "start_time": "2024-06-25T00:57:58.326Z"
   },
   {
    "duration": 5,
    "start_time": "2024-06-25T00:58:00.461Z"
   },
   {
    "duration": 12704,
    "start_time": "2024-06-25T00:58:26.202Z"
   },
   {
    "duration": 0,
    "start_time": "2024-06-25T00:58:38.908Z"
   },
   {
    "duration": 34,
    "start_time": "2024-06-25T01:06:30.456Z"
   },
   {
    "duration": 18,
    "start_time": "2024-06-25T01:06:35.195Z"
   },
   {
    "duration": 14,
    "start_time": "2024-06-25T01:06:47.449Z"
   },
   {
    "duration": 35,
    "start_time": "2024-06-25T01:07:03.473Z"
   },
   {
    "duration": 15,
    "start_time": "2024-06-25T01:07:08.200Z"
   },
   {
    "duration": 20,
    "start_time": "2024-06-25T01:09:31.505Z"
   },
   {
    "duration": 16,
    "start_time": "2024-06-25T01:09:40.252Z"
   },
   {
    "duration": 15,
    "start_time": "2024-06-25T01:09:46.285Z"
   },
   {
    "duration": 1429,
    "start_time": "2024-06-25T01:10:03.150Z"
   },
   {
    "duration": 806,
    "start_time": "2024-06-25T01:10:04.583Z"
   },
   {
    "duration": 95,
    "start_time": "2024-06-25T01:10:05.392Z"
   },
   {
    "duration": 31,
    "start_time": "2024-06-25T01:10:05.490Z"
   },
   {
    "duration": 19,
    "start_time": "2024-06-25T01:10:05.526Z"
   },
   {
    "duration": 10,
    "start_time": "2024-06-25T01:10:06.350Z"
   },
   {
    "duration": 6,
    "start_time": "2024-06-25T01:10:06.708Z"
   },
   {
    "duration": 12,
    "start_time": "2024-06-25T01:10:06.989Z"
   },
   {
    "duration": 15,
    "start_time": "2024-06-25T01:10:07.544Z"
   },
   {
    "duration": 113,
    "start_time": "2024-06-25T01:10:07.815Z"
   },
   {
    "duration": 11,
    "start_time": "2024-06-25T01:10:08.358Z"
   },
   {
    "duration": 38,
    "start_time": "2024-06-25T01:10:08.654Z"
   },
   {
    "duration": 11,
    "start_time": "2024-06-25T01:10:09.072Z"
   },
   {
    "duration": 154,
    "start_time": "2024-06-25T01:10:09.475Z"
   },
   {
    "duration": 15,
    "start_time": "2024-06-25T01:10:11.433Z"
   },
   {
    "duration": 21,
    "start_time": "2024-06-25T01:10:12.313Z"
   },
   {
    "duration": 10,
    "start_time": "2024-06-25T01:10:13.310Z"
   },
   {
    "duration": 7,
    "start_time": "2024-06-25T01:10:15.124Z"
   },
   {
    "duration": 10,
    "start_time": "2024-06-25T01:10:16.105Z"
   },
   {
    "duration": 12,
    "start_time": "2024-06-25T01:10:19.288Z"
   },
   {
    "duration": 20,
    "start_time": "2024-06-25T01:10:19.765Z"
   },
   {
    "duration": 4,
    "start_time": "2024-06-25T01:10:21.961Z"
   },
   {
    "duration": 4,
    "start_time": "2024-06-25T01:10:22.459Z"
   },
   {
    "duration": 6,
    "start_time": "2024-06-25T01:10:23.000Z"
   },
   {
    "duration": 6,
    "start_time": "2024-06-25T01:10:23.760Z"
   },
   {
    "duration": 7,
    "start_time": "2024-06-25T01:10:29.041Z"
   },
   {
    "duration": 413,
    "start_time": "2024-06-25T01:10:33.753Z"
   },
   {
    "duration": 23,
    "start_time": "2024-06-25T01:10:34.183Z"
   },
   {
    "duration": 352,
    "start_time": "2024-06-25T01:10:48.664Z"
   },
   {
    "duration": 310,
    "start_time": "2024-06-25T01:10:50.157Z"
   },
   {
    "duration": 355,
    "start_time": "2024-06-25T01:10:51.305Z"
   },
   {
    "duration": 6,
    "start_time": "2024-06-25T01:10:52.569Z"
   },
   {
    "duration": 7,
    "start_time": "2024-06-25T01:10:53.356Z"
   },
   {
    "duration": 7,
    "start_time": "2024-06-25T01:10:54.113Z"
   },
   {
    "duration": 299,
    "start_time": "2024-06-25T01:10:55.775Z"
   },
   {
    "duration": 279,
    "start_time": "2024-06-25T01:10:58.109Z"
   },
   {
    "duration": 314,
    "start_time": "2024-06-25T01:10:59.205Z"
   },
   {
    "duration": 414,
    "start_time": "2024-06-25T01:11:00.057Z"
   },
   {
    "duration": 381,
    "start_time": "2024-06-25T01:11:00.475Z"
   },
   {
    "duration": 56,
    "start_time": "2024-06-25T01:11:02.383Z"
   },
   {
    "duration": 35,
    "start_time": "2024-06-25T01:11:15.749Z"
   },
   {
    "duration": 20,
    "start_time": "2024-06-25T01:11:18.794Z"
   },
   {
    "duration": 5,
    "start_time": "2024-06-25T01:11:34.331Z"
   },
   {
    "duration": 29,
    "start_time": "2024-06-25T01:11:37.055Z"
   },
   {
    "duration": 6,
    "start_time": "2024-06-25T01:12:33.066Z"
   },
   {
    "duration": 38,
    "start_time": "2024-06-25T01:12:39.626Z"
   },
   {
    "duration": 7,
    "start_time": "2024-06-25T01:12:57.950Z"
   },
   {
    "duration": 40,
    "start_time": "2024-06-25T01:13:03.152Z"
   },
   {
    "duration": 15,
    "start_time": "2024-06-25T01:13:07.732Z"
   },
   {
    "duration": 1318,
    "start_time": "2024-06-25T01:13:56.360Z"
   },
   {
    "duration": 8,
    "start_time": "2024-06-25T01:14:14.657Z"
   },
   {
    "duration": 5,
    "start_time": "2024-06-25T01:14:16.541Z"
   },
   {
    "duration": 34,
    "start_time": "2024-06-25T01:14:18.736Z"
   },
   {
    "duration": 11,
    "start_time": "2024-06-25T01:14:45.970Z"
   },
   {
    "duration": 33,
    "start_time": "2024-06-25T01:14:50.703Z"
   },
   {
    "duration": 18,
    "start_time": "2024-06-25T01:15:02.604Z"
   },
   {
    "duration": 169,
    "start_time": "2024-06-25T01:16:15.815Z"
   },
   {
    "duration": 9,
    "start_time": "2024-06-25T01:17:49.941Z"
   },
   {
    "duration": 77,
    "start_time": "2024-06-25T01:17:58.368Z"
   },
   {
    "duration": 16,
    "start_time": "2024-06-25T01:18:03.024Z"
   },
   {
    "duration": 4,
    "start_time": "2024-06-25T01:18:12.897Z"
   },
   {
    "duration": 9,
    "start_time": "2024-06-25T01:18:18.552Z"
   },
   {
    "duration": 1455,
    "start_time": "2024-06-25T01:19:51.799Z"
   },
   {
    "duration": 829,
    "start_time": "2024-06-25T01:19:53.257Z"
   },
   {
    "duration": 97,
    "start_time": "2024-06-25T01:19:54.088Z"
   },
   {
    "duration": 35,
    "start_time": "2024-06-25T01:19:54.189Z"
   },
   {
    "duration": 19,
    "start_time": "2024-06-25T01:19:54.227Z"
   },
   {
    "duration": 10,
    "start_time": "2024-06-25T01:19:54.249Z"
   },
   {
    "duration": 7,
    "start_time": "2024-06-25T01:19:54.382Z"
   },
   {
    "duration": 12,
    "start_time": "2024-06-25T01:19:54.837Z"
   },
   {
    "duration": 13,
    "start_time": "2024-06-25T01:19:55.515Z"
   },
   {
    "duration": 113,
    "start_time": "2024-06-25T01:19:55.782Z"
   },
   {
    "duration": 10,
    "start_time": "2024-06-25T01:19:56.154Z"
   },
   {
    "duration": 36,
    "start_time": "2024-06-25T01:19:56.462Z"
   },
   {
    "duration": 13,
    "start_time": "2024-06-25T01:19:56.811Z"
   },
   {
    "duration": 153,
    "start_time": "2024-06-25T01:19:57.058Z"
   },
   {
    "duration": 15,
    "start_time": "2024-06-25T01:19:58.462Z"
   },
   {
    "duration": 21,
    "start_time": "2024-06-25T01:19:58.722Z"
   },
   {
    "duration": 10,
    "start_time": "2024-06-25T01:19:59.351Z"
   },
   {
    "duration": 8,
    "start_time": "2024-06-25T01:19:59.648Z"
   },
   {
    "duration": 10,
    "start_time": "2024-06-25T01:19:59.998Z"
   },
   {
    "duration": 11,
    "start_time": "2024-06-25T01:20:00.469Z"
   },
   {
    "duration": 19,
    "start_time": "2024-06-25T01:20:00.858Z"
   },
   {
    "duration": 5,
    "start_time": "2024-06-25T01:20:02.644Z"
   },
   {
    "duration": 5,
    "start_time": "2024-06-25T01:20:03.043Z"
   },
   {
    "duration": 6,
    "start_time": "2024-06-25T01:20:04.181Z"
   },
   {
    "duration": 6,
    "start_time": "2024-06-25T01:20:04.570Z"
   },
   {
    "duration": 7,
    "start_time": "2024-06-25T01:20:07.206Z"
   },
   {
    "duration": 355,
    "start_time": "2024-06-25T01:20:10.443Z"
   },
   {
    "duration": 327,
    "start_time": "2024-06-25T01:20:11.569Z"
   },
   {
    "duration": 363,
    "start_time": "2024-06-25T01:20:12.297Z"
   },
   {
    "duration": 7,
    "start_time": "2024-06-25T01:20:13.381Z"
   },
   {
    "duration": 7,
    "start_time": "2024-06-25T01:20:14.094Z"
   },
   {
    "duration": 6,
    "start_time": "2024-06-25T01:20:14.785Z"
   },
   {
    "duration": 282,
    "start_time": "2024-06-25T01:20:16.464Z"
   },
   {
    "duration": 285,
    "start_time": "2024-06-25T01:20:18.933Z"
   },
   {
    "duration": 311,
    "start_time": "2024-06-25T01:20:19.822Z"
   },
   {
    "duration": 331,
    "start_time": "2024-06-25T01:20:20.484Z"
   },
   {
    "duration": 367,
    "start_time": "2024-06-25T01:20:20.901Z"
   },
   {
    "duration": 11,
    "start_time": "2024-06-25T01:20:36.102Z"
   },
   {
    "duration": 8,
    "start_time": "2024-06-25T01:22:29.022Z"
   },
   {
    "duration": 10,
    "start_time": "2024-06-25T01:22:38.072Z"
   },
   {
    "duration": 8,
    "start_time": "2024-06-25T01:22:44.893Z"
   },
   {
    "duration": 57,
    "start_time": "2024-06-25T01:22:51.297Z"
   },
   {
    "duration": 11,
    "start_time": "2024-06-25T01:22:59.444Z"
   },
   {
    "duration": 4751,
    "start_time": "2024-06-25T01:23:07.314Z"
   },
   {
    "duration": 4163,
    "start_time": "2024-06-25T01:23:14.904Z"
   },
   {
    "duration": 14421,
    "start_time": "2024-06-25T01:23:20.652Z"
   },
   {
    "duration": 5,
    "start_time": "2024-06-25T01:24:24.952Z"
   },
   {
    "duration": 11,
    "start_time": "2024-06-25T01:24:25.556Z"
   },
   {
    "duration": 8,
    "start_time": "2024-06-25T01:24:27.638Z"
   },
   {
    "duration": 22026,
    "start_time": "2024-06-25T01:24:30.886Z"
   },
   {
    "duration": 22724,
    "start_time": "2024-06-25T01:25:27.735Z"
   },
   {
    "duration": 22071,
    "start_time": "2024-06-25T01:25:59.297Z"
   },
   {
    "duration": 22068,
    "start_time": "2024-06-25T01:26:39.388Z"
   },
   {
    "duration": 22010,
    "start_time": "2024-06-25T01:27:16.520Z"
   },
   {
    "duration": 22111,
    "start_time": "2024-06-25T01:29:37.645Z"
   },
   {
    "duration": 22051,
    "start_time": "2024-06-25T01:30:35.342Z"
   },
   {
    "duration": 12,
    "start_time": "2024-06-25T01:32:36.478Z"
   },
   {
    "duration": 12,
    "start_time": "2024-06-25T01:32:37.048Z"
   },
   {
    "duration": 21873,
    "start_time": "2024-06-25T01:32:39.175Z"
   },
   {
    "duration": 0,
    "start_time": "2024-06-25T01:33:01.051Z"
   },
   {
    "duration": 0,
    "start_time": "2024-06-25T01:33:01.055Z"
   },
   {
    "duration": 21953,
    "start_time": "2024-06-25T01:33:12.297Z"
   },
   {
    "duration": 34,
    "start_time": "2024-06-25T01:33:40.292Z"
   },
   {
    "duration": 4,
    "start_time": "2024-06-25T01:33:53.558Z"
   },
   {
    "duration": 19,
    "start_time": "2024-06-25T01:33:58.216Z"
   },
   {
    "duration": 5,
    "start_time": "2024-06-25T01:34:00.566Z"
   },
   {
    "duration": 5,
    "start_time": "2024-06-25T01:34:03.051Z"
   },
   {
    "duration": 4,
    "start_time": "2024-06-25T01:34:05.305Z"
   },
   {
    "duration": 19,
    "start_time": "2024-06-25T01:34:45.397Z"
   },
   {
    "duration": 18,
    "start_time": "2024-06-25T01:34:53.094Z"
   },
   {
    "duration": 4,
    "start_time": "2024-06-25T01:34:56.309Z"
   },
   {
    "duration": 27,
    "start_time": "2024-06-25T01:38:15.791Z"
   },
   {
    "duration": 162,
    "start_time": "2024-06-25T01:38:42.805Z"
   },
   {
    "duration": 4986,
    "start_time": "2024-06-25T23:36:51.492Z"
   },
   {
    "duration": 1019,
    "start_time": "2024-06-25T23:36:56.481Z"
   },
   {
    "duration": 30,
    "start_time": "2024-06-25T23:36:57.503Z"
   },
   {
    "duration": 18,
    "start_time": "2024-06-25T23:36:57.537Z"
   },
   {
    "duration": 20,
    "start_time": "2024-06-25T23:36:57.558Z"
   },
   {
    "duration": 42,
    "start_time": "2024-06-25T23:36:57.582Z"
   },
   {
    "duration": 9,
    "start_time": "2024-06-25T23:36:57.627Z"
   },
   {
    "duration": 11,
    "start_time": "2024-06-25T23:36:57.640Z"
   },
   {
    "duration": 14,
    "start_time": "2024-06-25T23:36:57.655Z"
   },
   {
    "duration": 161,
    "start_time": "2024-06-25T23:36:57.675Z"
   },
   {
    "duration": 10,
    "start_time": "2024-06-25T23:36:57.839Z"
   },
   {
    "duration": 39,
    "start_time": "2024-06-25T23:36:57.851Z"
   },
   {
    "duration": 39,
    "start_time": "2024-06-25T23:36:57.893Z"
   },
   {
    "duration": 168,
    "start_time": "2024-06-25T23:36:57.940Z"
   },
   {
    "duration": 16,
    "start_time": "2024-06-25T23:36:59.986Z"
   },
   {
    "duration": 21,
    "start_time": "2024-06-25T23:37:00.479Z"
   },
   {
    "duration": 10,
    "start_time": "2024-06-25T23:37:01.512Z"
   },
   {
    "duration": 8,
    "start_time": "2024-06-25T23:37:01.903Z"
   },
   {
    "duration": 11,
    "start_time": "2024-06-25T23:37:02.373Z"
   },
   {
    "duration": 10,
    "start_time": "2024-06-25T23:37:03.106Z"
   },
   {
    "duration": 19,
    "start_time": "2024-06-25T23:37:03.885Z"
   },
   {
    "duration": 4,
    "start_time": "2024-06-25T23:37:06.303Z"
   },
   {
    "duration": 4,
    "start_time": "2024-06-25T23:37:06.692Z"
   },
   {
    "duration": 5,
    "start_time": "2024-06-25T23:37:07.046Z"
   },
   {
    "duration": 5,
    "start_time": "2024-06-25T23:37:07.440Z"
   },
   {
    "duration": 10,
    "start_time": "2024-06-25T23:37:15.558Z"
   },
   {
    "duration": 357,
    "start_time": "2024-06-25T23:37:27.443Z"
   },
   {
    "duration": 380,
    "start_time": "2024-06-25T23:37:28.394Z"
   },
   {
    "duration": 332,
    "start_time": "2024-06-25T23:37:29.254Z"
   },
   {
    "duration": 37,
    "start_time": "2024-06-25T23:38:15.573Z"
   },
   {
    "duration": 18,
    "start_time": "2024-06-25T23:38:19.895Z"
   },
   {
    "duration": 19,
    "start_time": "2024-06-25T23:38:29.765Z"
   },
   {
    "duration": 414,
    "start_time": "2024-06-25T23:38:40.346Z"
   },
   {
    "duration": 23,
    "start_time": "2024-06-25T23:38:43.875Z"
   },
   {
    "duration": 15,
    "start_time": "2024-06-25T23:39:00.338Z"
   },
   {
    "duration": 1412,
    "start_time": "2024-06-25T23:39:32.946Z"
   },
   {
    "duration": 16,
    "start_time": "2024-06-25T23:39:50.049Z"
   },
   {
    "duration": 1386,
    "start_time": "2024-06-25T23:40:20.560Z"
   },
   {
    "duration": 779,
    "start_time": "2024-06-25T23:40:21.949Z"
   },
   {
    "duration": 99,
    "start_time": "2024-06-25T23:40:22.732Z"
   },
   {
    "duration": 22,
    "start_time": "2024-06-25T23:40:22.836Z"
   },
   {
    "duration": 19,
    "start_time": "2024-06-25T23:40:28.691Z"
   },
   {
    "duration": 9,
    "start_time": "2024-06-25T23:40:29.900Z"
   },
   {
    "duration": 6,
    "start_time": "2024-06-25T23:40:30.167Z"
   },
   {
    "duration": 13,
    "start_time": "2024-06-25T23:40:30.421Z"
   },
   {
    "duration": 13,
    "start_time": "2024-06-25T23:40:30.975Z"
   },
   {
    "duration": 129,
    "start_time": "2024-06-25T23:40:31.336Z"
   },
   {
    "duration": 9,
    "start_time": "2024-06-25T23:40:32.158Z"
   },
   {
    "duration": 36,
    "start_time": "2024-06-25T23:40:32.486Z"
   },
   {
    "duration": 13,
    "start_time": "2024-06-25T23:40:33.826Z"
   },
   {
    "duration": 151,
    "start_time": "2024-06-25T23:40:34.204Z"
   },
   {
    "duration": 20,
    "start_time": "2024-06-25T23:40:47.004Z"
   },
   {
    "duration": 22,
    "start_time": "2024-06-25T23:40:51.672Z"
   },
   {
    "duration": 20,
    "start_time": "2024-06-25T23:40:58.540Z"
   },
   {
    "duration": 9,
    "start_time": "2024-06-25T23:41:10.830Z"
   },
   {
    "duration": 8,
    "start_time": "2024-06-25T23:41:11.184Z"
   },
   {
    "duration": 10,
    "start_time": "2024-06-25T23:41:12.494Z"
   },
   {
    "duration": 12,
    "start_time": "2024-06-25T23:41:16.038Z"
   },
   {
    "duration": 19,
    "start_time": "2024-06-25T23:41:16.883Z"
   },
   {
    "duration": 6,
    "start_time": "2024-06-25T23:41:24.496Z"
   },
   {
    "duration": 4,
    "start_time": "2024-06-25T23:41:24.872Z"
   },
   {
    "duration": 5,
    "start_time": "2024-06-25T23:41:25.219Z"
   },
   {
    "duration": 6,
    "start_time": "2024-06-25T23:41:25.798Z"
   },
   {
    "duration": 7,
    "start_time": "2024-06-25T23:41:29.442Z"
   },
   {
    "duration": 8,
    "start_time": "2024-06-25T23:41:54.716Z"
   },
   {
    "duration": 7,
    "start_time": "2024-06-25T23:41:58.629Z"
   },
   {
    "duration": 1244,
    "start_time": "2024-06-25T23:42:03.606Z"
   },
   {
    "duration": 718,
    "start_time": "2024-06-25T23:42:41.924Z"
   },
   {
    "duration": 69,
    "start_time": "2024-06-25T23:42:45.928Z"
   },
   {
    "duration": 8,
    "start_time": "2024-06-25T23:42:53.184Z"
   },
   {
    "duration": 88,
    "start_time": "2024-06-25T23:43:20.227Z"
   },
   {
    "duration": 7,
    "start_time": "2024-06-25T23:43:24.022Z"
   },
   {
    "duration": 19,
    "start_time": "2024-06-25T23:43:31.793Z"
   },
   {
    "duration": 38,
    "start_time": "2024-06-25T23:43:37.684Z"
   },
   {
    "duration": 7,
    "start_time": "2024-06-25T23:43:45.392Z"
   },
   {
    "duration": 18,
    "start_time": "2024-06-25T23:43:54.170Z"
   },
   {
    "duration": 21,
    "start_time": "2024-06-25T23:44:19.789Z"
   },
   {
    "duration": 68,
    "start_time": "2024-06-25T23:45:07.486Z"
   },
   {
    "duration": 66,
    "start_time": "2024-06-25T23:45:22.342Z"
   },
   {
    "duration": 7,
    "start_time": "2024-06-25T23:45:37.132Z"
   },
   {
    "duration": 21,
    "start_time": "2024-06-25T23:45:48.060Z"
   },
   {
    "duration": 18,
    "start_time": "2024-06-25T23:46:07.165Z"
   },
   {
    "duration": 35,
    "start_time": "2024-06-25T23:46:30.020Z"
   },
   {
    "duration": 37,
    "start_time": "2024-06-25T23:47:02.023Z"
   },
   {
    "duration": 84,
    "start_time": "2024-06-25T23:47:10.892Z"
   },
   {
    "duration": 7,
    "start_time": "2024-06-25T23:47:25.204Z"
   },
   {
    "duration": 19,
    "start_time": "2024-06-25T23:47:38.591Z"
   },
   {
    "duration": 1451,
    "start_time": "2024-06-25T23:48:18.392Z"
   },
   {
    "duration": 816,
    "start_time": "2024-06-25T23:48:19.847Z"
   },
   {
    "duration": 98,
    "start_time": "2024-06-25T23:48:20.665Z"
   },
   {
    "duration": 20,
    "start_time": "2024-06-25T23:48:20.767Z"
   },
   {
    "duration": 42,
    "start_time": "2024-06-25T23:48:20.790Z"
   },
   {
    "duration": 10,
    "start_time": "2024-06-25T23:48:20.835Z"
   },
   {
    "duration": 7,
    "start_time": "2024-06-25T23:48:20.848Z"
   },
   {
    "duration": 13,
    "start_time": "2024-06-25T23:48:20.858Z"
   },
   {
    "duration": 50,
    "start_time": "2024-06-25T23:48:20.874Z"
   },
   {
    "duration": 136,
    "start_time": "2024-06-25T23:48:20.932Z"
   },
   {
    "duration": 10,
    "start_time": "2024-06-25T23:48:21.072Z"
   },
   {
    "duration": 68,
    "start_time": "2024-06-25T23:48:21.086Z"
   },
   {
    "duration": 13,
    "start_time": "2024-06-25T23:48:21.156Z"
   },
   {
    "duration": 179,
    "start_time": "2024-06-25T23:48:21.173Z"
   },
   {
    "duration": 14,
    "start_time": "2024-06-25T23:48:21.355Z"
   },
   {
    "duration": 23,
    "start_time": "2024-06-25T23:48:21.373Z"
   },
   {
    "duration": 11,
    "start_time": "2024-06-25T23:48:21.423Z"
   },
   {
    "duration": 8,
    "start_time": "2024-06-25T23:48:21.436Z"
   },
   {
    "duration": 11,
    "start_time": "2024-06-25T23:48:21.447Z"
   },
   {
    "duration": 11,
    "start_time": "2024-06-25T23:48:21.460Z"
   },
   {
    "duration": 64,
    "start_time": "2024-06-25T23:48:21.474Z"
   },
   {
    "duration": 6,
    "start_time": "2024-06-25T23:48:21.540Z"
   },
   {
    "duration": 5,
    "start_time": "2024-06-25T23:48:21.550Z"
   },
   {
    "duration": 8,
    "start_time": "2024-06-25T23:48:21.559Z"
   },
   {
    "duration": 52,
    "start_time": "2024-06-25T23:48:21.570Z"
   },
   {
    "duration": 8,
    "start_time": "2024-06-25T23:48:21.625Z"
   },
   {
    "duration": 20,
    "start_time": "2024-06-25T23:48:24.872Z"
   },
   {
    "duration": 1691,
    "start_time": "2024-06-25T23:49:02.381Z"
   },
   {
    "duration": 6,
    "start_time": "2024-06-25T23:49:15.687Z"
   },
   {
    "duration": 18,
    "start_time": "2024-06-25T23:49:22.642Z"
   },
   {
    "duration": 301,
    "start_time": "2024-06-25T23:50:29.279Z"
   },
   {
    "duration": 1430,
    "start_time": "2024-06-25T23:50:34.356Z"
   },
   {
    "duration": 841,
    "start_time": "2024-06-25T23:50:35.790Z"
   },
   {
    "duration": 31,
    "start_time": "2024-06-25T23:50:36.634Z"
   },
   {
    "duration": 63,
    "start_time": "2024-06-25T23:50:36.668Z"
   },
   {
    "duration": 19,
    "start_time": "2024-06-25T23:50:36.735Z"
   },
   {
    "duration": 66,
    "start_time": "2024-06-25T23:50:36.757Z"
   },
   {
    "duration": 7,
    "start_time": "2024-06-25T23:50:36.825Z"
   },
   {
    "duration": 13,
    "start_time": "2024-06-25T23:50:36.835Z"
   },
   {
    "duration": 15,
    "start_time": "2024-06-25T23:50:36.851Z"
   },
   {
    "duration": 202,
    "start_time": "2024-06-25T23:50:36.924Z"
   },
   {
    "duration": 10,
    "start_time": "2024-06-25T23:50:37.129Z"
   },
   {
    "duration": 100,
    "start_time": "2024-06-25T23:50:37.141Z"
   },
   {
    "duration": 13,
    "start_time": "2024-06-25T23:50:37.244Z"
   },
   {
    "duration": 205,
    "start_time": "2024-06-25T23:50:37.268Z"
   },
   {
    "duration": 20,
    "start_time": "2024-06-25T23:50:37.477Z"
   },
   {
    "duration": 35,
    "start_time": "2024-06-25T23:50:37.502Z"
   },
   {
    "duration": 9,
    "start_time": "2024-06-25T23:50:37.540Z"
   },
   {
    "duration": 7,
    "start_time": "2024-06-25T23:50:37.553Z"
   },
   {
    "duration": 11,
    "start_time": "2024-06-25T23:50:37.564Z"
   },
   {
    "duration": 54,
    "start_time": "2024-06-25T23:50:37.578Z"
   },
   {
    "duration": 20,
    "start_time": "2024-06-25T23:50:37.635Z"
   },
   {
    "duration": 5,
    "start_time": "2024-06-25T23:50:37.658Z"
   },
   {
    "duration": 3,
    "start_time": "2024-06-25T23:50:37.667Z"
   },
   {
    "duration": 52,
    "start_time": "2024-06-25T23:50:37.673Z"
   },
   {
    "duration": 6,
    "start_time": "2024-06-25T23:50:37.728Z"
   },
   {
    "duration": 8,
    "start_time": "2024-06-25T23:50:37.738Z"
   },
   {
    "duration": 20,
    "start_time": "2024-06-25T23:50:39.657Z"
   },
   {
    "duration": 20,
    "start_time": "2024-06-25T23:51:10.680Z"
   },
   {
    "duration": 1401,
    "start_time": "2024-06-25T23:51:56.608Z"
   },
   {
    "duration": 8,
    "start_time": "2024-06-25T23:52:07.687Z"
   },
   {
    "duration": 8,
    "start_time": "2024-06-25T23:52:30.241Z"
   },
   {
    "duration": 25,
    "start_time": "2024-06-25T23:52:37.793Z"
   },
   {
    "duration": 16,
    "start_time": "2024-06-25T23:53:22.881Z"
   },
   {
    "duration": 16,
    "start_time": "2024-06-25T23:53:42.162Z"
   },
   {
    "duration": 5,
    "start_time": "2024-06-25T23:54:25.100Z"
   },
   {
    "duration": 20,
    "start_time": "2024-06-25T23:54:33.957Z"
   },
   {
    "duration": 19,
    "start_time": "2024-06-25T23:54:48.648Z"
   },
   {
    "duration": 6,
    "start_time": "2024-06-25T23:55:14.423Z"
   },
   {
    "duration": 22,
    "start_time": "2024-06-25T23:55:27.994Z"
   },
   {
    "duration": 21,
    "start_time": "2024-06-25T23:55:33.934Z"
   },
   {
    "duration": 8,
    "start_time": "2024-06-25T23:55:38.919Z"
   },
   {
    "duration": 26,
    "start_time": "2024-06-25T23:55:48.141Z"
   },
   {
    "duration": 19,
    "start_time": "2024-06-25T23:56:35.053Z"
   },
   {
    "duration": 3809,
    "start_time": "2024-06-25T23:58:12.564Z"
   },
   {
    "duration": 5630,
    "start_time": "2024-06-25T23:58:38.841Z"
   },
   {
    "duration": 5716,
    "start_time": "2024-06-26T00:00:02.494Z"
   },
   {
    "duration": 5855,
    "start_time": "2024-06-26T00:00:32.885Z"
   },
   {
    "duration": 7,
    "start_time": "2024-06-26T00:00:41.421Z"
   },
   {
    "duration": 13,
    "start_time": "2024-06-26T00:00:48.219Z"
   },
   {
    "duration": 2790,
    "start_time": "2024-06-26T00:01:20.822Z"
   },
   {
    "duration": 11178,
    "start_time": "2024-06-26T00:01:31.107Z"
   },
   {
    "duration": 27,
    "start_time": "2024-06-26T00:01:58.928Z"
   },
   {
    "duration": 37,
    "start_time": "2024-06-26T00:02:22.177Z"
   },
   {
    "duration": 15,
    "start_time": "2024-06-26T00:02:28.083Z"
   },
   {
    "duration": 17335,
    "start_time": "2024-06-26T00:02:55.181Z"
   },
   {
    "duration": 17171,
    "start_time": "2024-06-26T00:03:31.332Z"
   },
   {
    "duration": 17200,
    "start_time": "2024-06-26T00:04:04.954Z"
   },
   {
    "duration": 17273,
    "start_time": "2024-06-26T00:05:11.526Z"
   },
   {
    "duration": 6,
    "start_time": "2024-06-26T00:06:23.768Z"
   },
   {
    "duration": 4,
    "start_time": "2024-06-26T00:06:38.188Z"
   },
   {
    "duration": 5,
    "start_time": "2024-06-26T00:06:50.612Z"
   },
   {
    "duration": 5,
    "start_time": "2024-06-26T00:06:58.434Z"
   },
   {
    "duration": 4,
    "start_time": "2024-06-26T00:07:29.914Z"
   },
   {
    "duration": 35,
    "start_time": "2024-06-26T00:08:05.450Z"
   },
   {
    "duration": 46,
    "start_time": "2024-06-26T00:08:39.381Z"
   },
   {
    "duration": 110,
    "start_time": "2024-06-26T00:08:47.815Z"
   },
   {
    "duration": 224,
    "start_time": "2024-06-26T00:09:28.636Z"
   },
   {
    "duration": 221,
    "start_time": "2024-06-26T00:09:53.830Z"
   },
   {
    "duration": 263,
    "start_time": "2024-06-26T00:11:17.164Z"
   },
   {
    "duration": 299,
    "start_time": "2024-06-26T00:11:25.630Z"
   },
   {
    "duration": 225,
    "start_time": "2024-06-26T00:11:36.327Z"
   },
   {
    "duration": 228,
    "start_time": "2024-06-26T00:12:07.045Z"
   },
   {
    "duration": 64,
    "start_time": "2024-06-26T00:12:41.865Z"
   },
   {
    "duration": 94,
    "start_time": "2024-06-26T00:12:46.948Z"
   },
   {
    "duration": 19,
    "start_time": "2024-06-26T00:13:49.936Z"
   },
   {
    "duration": 14,
    "start_time": "2024-06-26T00:14:02.886Z"
   },
   {
    "duration": 17,
    "start_time": "2024-06-26T00:14:15.697Z"
   },
   {
    "duration": 15,
    "start_time": "2024-06-26T00:14:21.712Z"
   },
   {
    "duration": 14,
    "start_time": "2024-06-26T00:14:34.608Z"
   },
   {
    "duration": 100,
    "start_time": "2024-06-26T00:15:16.637Z"
   },
   {
    "duration": 114,
    "start_time": "2024-06-26T00:15:24.412Z"
   },
   {
    "duration": 37,
    "start_time": "2024-06-26T00:15:56.596Z"
   },
   {
    "duration": 55,
    "start_time": "2024-06-26T00:16:01.681Z"
   },
   {
    "duration": 115,
    "start_time": "2024-06-26T00:16:26.512Z"
   },
   {
    "duration": 597,
    "start_time": "2024-06-26T00:17:52.936Z"
   },
   {
    "duration": 613,
    "start_time": "2024-06-26T00:18:23.115Z"
   },
   {
    "duration": 6,
    "start_time": "2024-06-26T00:20:50.225Z"
   },
   {
    "duration": 1427,
    "start_time": "2024-06-26T00:21:09.620Z"
   },
   {
    "duration": 799,
    "start_time": "2024-06-26T00:21:11.051Z"
   },
   {
    "duration": 103,
    "start_time": "2024-06-26T00:21:11.853Z"
   },
   {
    "duration": 20,
    "start_time": "2024-06-26T00:21:11.961Z"
   },
   {
    "duration": 44,
    "start_time": "2024-06-26T00:21:11.984Z"
   },
   {
    "duration": 11,
    "start_time": "2024-06-26T00:21:12.031Z"
   },
   {
    "duration": 7,
    "start_time": "2024-06-26T00:21:12.045Z"
   },
   {
    "duration": 11,
    "start_time": "2024-06-26T00:21:12.056Z"
   },
   {
    "duration": 54,
    "start_time": "2024-06-26T00:21:12.070Z"
   },
   {
    "duration": 125,
    "start_time": "2024-06-26T00:21:12.129Z"
   },
   {
    "duration": 10,
    "start_time": "2024-06-26T00:21:12.257Z"
   },
   {
    "duration": 60,
    "start_time": "2024-06-26T00:21:12.270Z"
   },
   {
    "duration": 12,
    "start_time": "2024-06-26T00:21:12.333Z"
   },
   {
    "duration": 177,
    "start_time": "2024-06-26T00:21:12.347Z"
   },
   {
    "duration": 15,
    "start_time": "2024-06-26T00:21:12.527Z"
   },
   {
    "duration": 22,
    "start_time": "2024-06-26T00:21:12.545Z"
   },
   {
    "duration": 10,
    "start_time": "2024-06-26T00:21:12.570Z"
   },
   {
    "duration": 46,
    "start_time": "2024-06-26T00:21:12.583Z"
   },
   {
    "duration": 11,
    "start_time": "2024-06-26T00:21:12.632Z"
   },
   {
    "duration": 10,
    "start_time": "2024-06-26T00:21:12.646Z"
   },
   {
    "duration": 21,
    "start_time": "2024-06-26T00:21:12.659Z"
   },
   {
    "duration": 5,
    "start_time": "2024-06-26T00:21:12.724Z"
   },
   {
    "duration": 5,
    "start_time": "2024-06-26T00:21:12.732Z"
   },
   {
    "duration": 7,
    "start_time": "2024-06-26T00:21:12.740Z"
   },
   {
    "duration": 7,
    "start_time": "2024-06-26T00:21:12.750Z"
   },
   {
    "duration": 7,
    "start_time": "2024-06-26T00:21:12.760Z"
   },
   {
    "duration": 55,
    "start_time": "2024-06-26T00:21:12.771Z"
   },
   {
    "duration": 19,
    "start_time": "2024-06-26T00:21:12.835Z"
   },
   {
    "duration": 385,
    "start_time": "2024-06-26T00:21:12.857Z"
   },
   {
    "duration": 319,
    "start_time": "2024-06-26T00:21:13.244Z"
   },
   {
    "duration": 356,
    "start_time": "2024-06-26T00:21:13.566Z"
   },
   {
    "duration": 8,
    "start_time": "2024-06-26T00:21:13.925Z"
   },
   {
    "duration": 7,
    "start_time": "2024-06-26T00:21:13.936Z"
   },
   {
    "duration": 7,
    "start_time": "2024-06-26T00:21:13.945Z"
   },
   {
    "duration": 336,
    "start_time": "2024-06-26T00:21:13.956Z"
   },
   {
    "duration": 294,
    "start_time": "2024-06-26T00:21:14.295Z"
   },
   {
    "duration": 316,
    "start_time": "2024-06-26T00:21:14.592Z"
   },
   {
    "duration": 346,
    "start_time": "2024-06-26T00:21:14.911Z"
   },
   {
    "duration": 367,
    "start_time": "2024-06-26T00:21:15.261Z"
   },
   {
    "duration": 56,
    "start_time": "2024-06-26T00:21:15.631Z"
   },
   {
    "duration": 5,
    "start_time": "2024-06-26T00:21:15.690Z"
   },
   {
    "duration": 25,
    "start_time": "2024-06-26T00:21:15.698Z"
   },
   {
    "duration": 417,
    "start_time": "2024-06-26T00:21:15.727Z"
   },
   {
    "duration": 521,
    "start_time": "2024-06-26T00:21:19.259Z"
   },
   {
    "duration": 1985,
    "start_time": "2024-06-26T00:24:37.321Z"
   },
   {
    "duration": 5609,
    "start_time": "2024-06-26T00:25:16.246Z"
   },
   {
    "duration": 679,
    "start_time": "2024-06-26T00:25:21.858Z"
   },
   {
    "duration": 19366,
    "start_time": "2024-06-26T00:25:52.499Z"
   },
   {
    "duration": 68,
    "start_time": "2024-06-26T00:27:04.482Z"
   },
   {
    "duration": 12,
    "start_time": "2024-06-26T00:27:14.079Z"
   },
   {
    "duration": 8,
    "start_time": "2024-06-26T00:28:58.319Z"
   },
   {
    "duration": 13,
    "start_time": "2024-06-26T00:29:07.296Z"
   },
   {
    "duration": 7,
    "start_time": "2024-06-26T00:29:25.094Z"
   },
   {
    "duration": 13,
    "start_time": "2024-06-26T00:29:32.838Z"
   },
   {
    "duration": 13,
    "start_time": "2024-06-26T00:29:48.942Z"
   },
   {
    "duration": 19,
    "start_time": "2024-06-26T00:29:57.036Z"
   },
   {
    "duration": 31,
    "start_time": "2024-06-26T00:30:03.468Z"
   },
   {
    "duration": 14,
    "start_time": "2024-06-26T00:30:59.971Z"
   },
   {
    "duration": 23,
    "start_time": "2024-06-26T00:31:17.673Z"
   },
   {
    "duration": 5,
    "start_time": "2024-06-26T00:31:22.439Z"
   },
   {
    "duration": 417,
    "start_time": "2024-06-26T00:31:28.906Z"
   },
   {
    "duration": 13970,
    "start_time": "2024-06-26T00:31:41.403Z"
   },
   {
    "duration": 1294,
    "start_time": "2024-06-26T00:32:21.935Z"
   },
   {
    "duration": 2584,
    "start_time": "2024-06-26T00:33:05.558Z"
   },
   {
    "duration": 5801,
    "start_time": "2024-06-26T00:33:19.427Z"
   },
   {
    "duration": 1317,
    "start_time": "2024-06-26T00:33:35.712Z"
   },
   {
    "duration": 593,
    "start_time": "2024-06-26T00:33:51.445Z"
   },
   {
    "duration": 857,
    "start_time": "2024-06-26T00:33:57.782Z"
   },
   {
    "duration": 1009,
    "start_time": "2024-06-26T00:34:02.721Z"
   },
   {
    "duration": 1067,
    "start_time": "2024-06-26T00:35:20.456Z"
   },
   {
    "duration": 14044,
    "start_time": "2024-06-26T00:35:27.333Z"
   },
   {
    "duration": 4089,
    "start_time": "2024-06-26T00:36:20.547Z"
   },
   {
    "duration": 7521,
    "start_time": "2024-06-26T00:36:31.243Z"
   },
   {
    "duration": 7211,
    "start_time": "2024-06-26T00:36:57.475Z"
   },
   {
    "duration": 7172,
    "start_time": "2024-06-26T00:38:58.215Z"
   },
   {
    "duration": 4,
    "start_time": "2024-06-26T00:39:55.051Z"
   },
   {
    "duration": 7002,
    "start_time": "2024-06-26T00:39:59.111Z"
   },
   {
    "duration": 6976,
    "start_time": "2024-06-26T00:40:24.643Z"
   },
   {
    "duration": 7271,
    "start_time": "2024-06-26T00:40:33.046Z"
   },
   {
    "duration": 6966,
    "start_time": "2024-06-26T00:40:55.144Z"
   },
   {
    "duration": 10,
    "start_time": "2024-06-26T00:42:41.147Z"
   },
   {
    "duration": 6987,
    "start_time": "2024-06-26T00:44:15.173Z"
   },
   {
    "duration": 3,
    "start_time": "2024-06-26T00:45:01.271Z"
   },
   {
    "duration": 880,
    "start_time": "2024-06-26T00:45:12.787Z"
   },
   {
    "duration": 904,
    "start_time": "2024-06-26T00:45:25.307Z"
   },
   {
    "duration": 902,
    "start_time": "2024-06-26T00:45:39.177Z"
   },
   {
    "duration": 887,
    "start_time": "2024-06-26T00:45:48.495Z"
   },
   {
    "duration": 988,
    "start_time": "2024-06-26T00:46:11.938Z"
   },
   {
    "duration": 991,
    "start_time": "2024-06-26T00:46:46.184Z"
   },
   {
    "duration": 20,
    "start_time": "2024-06-26T00:47:14.555Z"
   },
   {
    "duration": 18,
    "start_time": "2024-06-26T00:47:19.117Z"
   },
   {
    "duration": 960,
    "start_time": "2024-06-26T00:50:03.154Z"
   },
   {
    "duration": 954,
    "start_time": "2024-06-26T00:50:29.451Z"
   },
   {
    "duration": 37,
    "start_time": "2024-06-26T00:51:32.685Z"
   },
   {
    "duration": 15,
    "start_time": "2024-06-26T00:51:37.737Z"
   },
   {
    "duration": 939,
    "start_time": "2024-06-26T00:51:54.135Z"
   },
   {
    "duration": 921,
    "start_time": "2024-06-26T00:52:03.604Z"
   },
   {
    "duration": 891,
    "start_time": "2024-06-26T00:52:21.658Z"
   },
   {
    "duration": 922,
    "start_time": "2024-06-26T00:52:53.935Z"
   },
   {
    "duration": 2067,
    "start_time": "2024-06-26T00:53:20.283Z"
   },
   {
    "duration": 39,
    "start_time": "2024-06-26T00:53:46.676Z"
   },
   {
    "duration": 1000,
    "start_time": "2024-06-26T00:54:01.883Z"
   },
   {
    "duration": 904,
    "start_time": "2024-06-26T00:54:29.129Z"
   },
   {
    "duration": 884,
    "start_time": "2024-06-26T00:54:44.033Z"
   },
   {
    "duration": 883,
    "start_time": "2024-06-26T00:54:58.426Z"
   },
   {
    "duration": 995,
    "start_time": "2024-06-26T00:55:14.128Z"
   },
   {
    "duration": 1019,
    "start_time": "2024-06-26T00:55:40.285Z"
   },
   {
    "duration": 946,
    "start_time": "2024-06-26T00:56:09.778Z"
   },
   {
    "duration": 906,
    "start_time": "2024-06-26T00:56:26.766Z"
   },
   {
    "duration": 35,
    "start_time": "2024-06-26T01:00:52.062Z"
   },
   {
    "duration": 134,
    "start_time": "2024-06-26T01:01:24.503Z"
   },
   {
    "duration": 37,
    "start_time": "2024-06-26T01:01:40.156Z"
   },
   {
    "duration": 29,
    "start_time": "2024-06-26T01:02:12.392Z"
   },
   {
    "duration": 10,
    "start_time": "2024-06-26T01:02:20.692Z"
   },
   {
    "duration": 11,
    "start_time": "2024-06-26T01:02:32.402Z"
   },
   {
    "duration": 12,
    "start_time": "2024-06-26T01:02:39.976Z"
   },
   {
    "duration": 14,
    "start_time": "2024-06-26T01:02:46.333Z"
   },
   {
    "duration": 5,
    "start_time": "2024-06-26T01:05:01.157Z"
   },
   {
    "duration": 774,
    "start_time": "2024-06-26T01:05:01.168Z"
   },
   {
    "duration": 25,
    "start_time": "2024-06-26T01:05:01.945Z"
   },
   {
    "duration": 19,
    "start_time": "2024-06-26T01:05:01.973Z"
   },
   {
    "duration": 43,
    "start_time": "2024-06-26T01:05:01.997Z"
   },
   {
    "duration": 11,
    "start_time": "2024-06-26T01:05:02.043Z"
   },
   {
    "duration": 8,
    "start_time": "2024-06-26T01:05:02.056Z"
   },
   {
    "duration": 55,
    "start_time": "2024-06-26T01:05:02.067Z"
   },
   {
    "duration": 11,
    "start_time": "2024-06-26T01:05:02.125Z"
   },
   {
    "duration": 120,
    "start_time": "2024-06-26T01:05:02.138Z"
   },
   {
    "duration": 9,
    "start_time": "2024-06-26T01:05:02.261Z"
   },
   {
    "duration": 56,
    "start_time": "2024-06-26T01:05:02.273Z"
   },
   {
    "duration": 11,
    "start_time": "2024-06-26T01:05:02.332Z"
   },
   {
    "duration": 162,
    "start_time": "2024-06-26T01:05:02.351Z"
   },
   {
    "duration": 16,
    "start_time": "2024-06-26T01:05:02.516Z"
   },
   {
    "duration": 23,
    "start_time": "2024-06-26T01:05:02.535Z"
   },
   {
    "duration": 9,
    "start_time": "2024-06-26T01:05:02.560Z"
   },
   {
    "duration": 6,
    "start_time": "2024-06-26T01:05:02.572Z"
   },
   {
    "duration": 48,
    "start_time": "2024-06-26T01:05:02.581Z"
   },
   {
    "duration": 13,
    "start_time": "2024-06-26T01:05:02.632Z"
   },
   {
    "duration": 21,
    "start_time": "2024-06-26T01:05:02.648Z"
   },
   {
    "duration": 51,
    "start_time": "2024-06-26T01:05:02.672Z"
   },
   {
    "duration": 4,
    "start_time": "2024-06-26T01:05:02.725Z"
   },
   {
    "duration": 6,
    "start_time": "2024-06-26T01:05:02.732Z"
   },
   {
    "duration": 6,
    "start_time": "2024-06-26T01:05:02.741Z"
   },
   {
    "duration": 7,
    "start_time": "2024-06-26T01:05:02.751Z"
   },
   {
    "duration": 370,
    "start_time": "2024-06-26T01:05:02.762Z"
   },
   {
    "duration": 326,
    "start_time": "2024-06-26T01:05:03.135Z"
   },
   {
    "duration": 373,
    "start_time": "2024-06-26T01:05:03.464Z"
   },
   {
    "duration": 7,
    "start_time": "2024-06-26T01:05:03.843Z"
   },
   {
    "duration": 8,
    "start_time": "2024-06-26T01:05:03.853Z"
   },
   {
    "duration": 6,
    "start_time": "2024-06-26T01:05:03.864Z"
   },
   {
    "duration": 321,
    "start_time": "2024-06-26T01:05:03.874Z"
   },
   {
    "duration": 284,
    "start_time": "2024-06-26T01:05:04.198Z"
   },
   {
    "duration": 310,
    "start_time": "2024-06-26T01:05:04.485Z"
   },
   {
    "duration": 348,
    "start_time": "2024-06-26T01:05:04.798Z"
   },
   {
    "duration": 358,
    "start_time": "2024-06-26T01:05:05.149Z"
   },
   {
    "duration": 53,
    "start_time": "2024-06-26T01:05:05.522Z"
   },
   {
    "duration": 14,
    "start_time": "2024-06-26T01:05:05.578Z"
   },
   {
    "duration": 9,
    "start_time": "2024-06-26T01:05:05.594Z"
   },
   {
    "duration": 5,
    "start_time": "2024-06-26T01:05:22.857Z"
   },
   {
    "duration": 17,
    "start_time": "2024-06-26T01:05:27.583Z"
   },
   {
    "duration": 653,
    "start_time": "2024-06-26T01:06:14.220Z"
   },
   {
    "duration": 24,
    "start_time": "2024-06-26T01:06:53.487Z"
   },
   {
    "duration": 14,
    "start_time": "2024-06-26T01:07:12.080Z"
   },
   {
    "duration": 22,
    "start_time": "2024-06-26T01:07:34.234Z"
   },
   {
    "duration": 21,
    "start_time": "2024-06-26T01:08:45.597Z"
   },
   {
    "duration": 23,
    "start_time": "2024-06-26T01:08:50.943Z"
   },
   {
    "duration": 4,
    "start_time": "2024-06-26T01:08:56.718Z"
   },
   {
    "duration": 195,
    "start_time": "2024-06-26T01:09:18.612Z"
   },
   {
    "duration": 119,
    "start_time": "2024-06-26T01:09:44.915Z"
   },
   {
    "duration": 19,
    "start_time": "2024-06-26T01:10:25.311Z"
   },
   {
    "duration": 5203,
    "start_time": "2024-06-26T06:57:41.696Z"
   },
   {
    "duration": 999,
    "start_time": "2024-06-26T06:57:46.903Z"
   },
   {
    "duration": 30,
    "start_time": "2024-06-26T06:57:47.905Z"
   },
   {
    "duration": 22,
    "start_time": "2024-06-26T06:57:47.938Z"
   },
   {
    "duration": 45,
    "start_time": "2024-06-26T06:57:47.964Z"
   },
   {
    "duration": 11,
    "start_time": "2024-06-26T06:57:48.011Z"
   },
   {
    "duration": 6,
    "start_time": "2024-06-26T06:57:48.026Z"
   },
   {
    "duration": 54,
    "start_time": "2024-06-26T06:57:48.036Z"
   },
   {
    "duration": 12,
    "start_time": "2024-06-26T06:57:48.093Z"
   },
   {
    "duration": 154,
    "start_time": "2024-06-26T06:57:48.108Z"
   },
   {
    "duration": 11,
    "start_time": "2024-06-26T06:57:48.266Z"
   },
   {
    "duration": 36,
    "start_time": "2024-06-26T06:57:48.291Z"
   },
   {
    "duration": 13,
    "start_time": "2024-06-26T06:57:48.330Z"
   },
   {
    "duration": 194,
    "start_time": "2024-06-26T06:57:48.349Z"
   },
   {
    "duration": 16,
    "start_time": "2024-06-26T06:57:48.546Z"
   },
   {
    "duration": 40,
    "start_time": "2024-06-26T06:57:48.565Z"
   },
   {
    "duration": 13,
    "start_time": "2024-06-26T06:57:48.608Z"
   },
   {
    "duration": 8,
    "start_time": "2024-06-26T06:57:48.624Z"
   },
   {
    "duration": 11,
    "start_time": "2024-06-26T06:57:48.635Z"
   },
   {
    "duration": 49,
    "start_time": "2024-06-26T06:57:48.649Z"
   },
   {
    "duration": 19,
    "start_time": "2024-06-26T06:57:48.701Z"
   },
   {
    "duration": 5,
    "start_time": "2024-06-26T06:57:48.722Z"
   },
   {
    "duration": 4,
    "start_time": "2024-06-26T06:57:48.730Z"
   },
   {
    "duration": 53,
    "start_time": "2024-06-26T06:57:48.738Z"
   },
   {
    "duration": 7,
    "start_time": "2024-06-26T06:57:48.795Z"
   },
   {
    "duration": 7,
    "start_time": "2024-06-26T06:57:48.805Z"
   },
   {
    "duration": 392,
    "start_time": "2024-06-26T06:57:48.815Z"
   },
   {
    "duration": 380,
    "start_time": "2024-06-26T06:57:49.210Z"
   },
   {
    "duration": 358,
    "start_time": "2024-06-26T06:57:49.593Z"
   },
   {
    "duration": 8,
    "start_time": "2024-06-26T06:57:49.954Z"
   },
   {
    "duration": 38,
    "start_time": "2024-06-26T06:57:49.966Z"
   },
   {
    "duration": 7,
    "start_time": "2024-06-26T06:57:50.008Z"
   },
   {
    "duration": 319,
    "start_time": "2024-06-26T06:57:50.018Z"
   },
   {
    "duration": 396,
    "start_time": "2024-06-26T06:57:50.340Z"
   },
   {
    "duration": 328,
    "start_time": "2024-06-26T06:57:50.739Z"
   },
   {
    "duration": 356,
    "start_time": "2024-06-26T06:57:51.070Z"
   },
   {
    "duration": 392,
    "start_time": "2024-06-26T06:57:51.429Z"
   },
   {
    "duration": 75,
    "start_time": "2024-06-26T06:57:51.824Z"
   },
   {
    "duration": 14,
    "start_time": "2024-06-26T06:57:51.902Z"
   },
   {
    "duration": 6,
    "start_time": "2024-06-26T06:57:51.919Z"
   },
   {
    "duration": 8,
    "start_time": "2024-06-26T06:57:51.933Z"
   },
   {
    "duration": 4,
    "start_time": "2024-06-26T06:58:02.819Z"
   },
   {
    "duration": 2597,
    "start_time": "2024-06-26T06:58:40.053Z"
   },
   {
    "duration": 2654,
    "start_time": "2024-06-26T06:59:21.426Z"
   },
   {
    "duration": 3092,
    "start_time": "2024-06-26T06:59:54.144Z"
   },
   {
    "duration": 3823,
    "start_time": "2024-06-26T07:00:24.119Z"
   },
   {
    "duration": 6,
    "start_time": "2024-06-26T07:00:52.647Z"
   },
   {
    "duration": 5,
    "start_time": "2024-06-26T07:01:09.079Z"
   },
   {
    "duration": 5553,
    "start_time": "2024-06-26T19:11:06.320Z"
   },
   {
    "duration": 1070,
    "start_time": "2024-06-26T19:11:11.877Z"
   },
   {
    "duration": 28,
    "start_time": "2024-06-26T19:11:12.950Z"
   },
   {
    "duration": 20,
    "start_time": "2024-06-26T19:11:12.981Z"
   },
   {
    "duration": 47,
    "start_time": "2024-06-26T19:11:13.007Z"
   },
   {
    "duration": 10,
    "start_time": "2024-06-26T19:11:13.057Z"
   },
   {
    "duration": 9,
    "start_time": "2024-06-26T19:11:13.069Z"
   },
   {
    "duration": 13,
    "start_time": "2024-06-26T19:11:13.082Z"
   },
   {
    "duration": 46,
    "start_time": "2024-06-26T19:11:13.098Z"
   },
   {
    "duration": 124,
    "start_time": "2024-06-26T19:11:13.147Z"
   },
   {
    "duration": 13,
    "start_time": "2024-06-26T19:11:13.274Z"
   },
   {
    "duration": 60,
    "start_time": "2024-06-26T19:11:13.290Z"
   },
   {
    "duration": 14,
    "start_time": "2024-06-26T19:11:13.354Z"
   },
   {
    "duration": 176,
    "start_time": "2024-06-26T19:11:13.377Z"
   },
   {
    "duration": 17,
    "start_time": "2024-06-26T19:11:13.556Z"
   },
   {
    "duration": 22,
    "start_time": "2024-06-26T19:11:13.576Z"
   },
   {
    "duration": 39,
    "start_time": "2024-06-26T19:11:13.602Z"
   },
   {
    "duration": 9,
    "start_time": "2024-06-26T19:11:13.643Z"
   },
   {
    "duration": 17,
    "start_time": "2024-06-26T19:11:13.654Z"
   },
   {
    "duration": 11,
    "start_time": "2024-06-26T19:11:13.674Z"
   },
   {
    "duration": 50,
    "start_time": "2024-06-26T19:11:13.688Z"
   },
   {
    "duration": 4,
    "start_time": "2024-06-26T19:11:13.740Z"
   },
   {
    "duration": 7,
    "start_time": "2024-06-26T19:11:13.746Z"
   },
   {
    "duration": 6,
    "start_time": "2024-06-26T19:11:13.755Z"
   },
   {
    "duration": 10,
    "start_time": "2024-06-26T19:11:13.768Z"
   },
   {
    "duration": 7,
    "start_time": "2024-06-26T19:11:13.781Z"
   },
   {
    "duration": 384,
    "start_time": "2024-06-26T19:11:13.791Z"
   },
   {
    "duration": 425,
    "start_time": "2024-06-26T19:11:14.178Z"
   },
   {
    "duration": 367,
    "start_time": "2024-06-26T19:11:14.608Z"
   },
   {
    "duration": 8,
    "start_time": "2024-06-26T19:11:14.979Z"
   },
   {
    "duration": 10,
    "start_time": "2024-06-26T19:11:14.992Z"
   },
   {
    "duration": 34,
    "start_time": "2024-06-26T19:11:15.005Z"
   },
   {
    "duration": 346,
    "start_time": "2024-06-26T19:11:15.045Z"
   },
   {
    "duration": 303,
    "start_time": "2024-06-26T19:11:15.394Z"
   },
   {
    "duration": 352,
    "start_time": "2024-06-26T19:11:15.700Z"
   },
   {
    "duration": 336,
    "start_time": "2024-06-26T19:11:16.054Z"
   },
   {
    "duration": 361,
    "start_time": "2024-06-26T19:11:16.393Z"
   },
   {
    "duration": 58,
    "start_time": "2024-06-26T19:11:16.758Z"
   },
   {
    "duration": 28,
    "start_time": "2024-06-26T19:11:16.819Z"
   },
   {
    "duration": 9,
    "start_time": "2024-06-26T19:11:16.849Z"
   },
   {
    "duration": 10,
    "start_time": "2024-06-26T19:11:16.866Z"
   },
   {
    "duration": 564,
    "start_time": "2024-06-26T19:12:00.196Z"
   },
   {
    "duration": 5,
    "start_time": "2024-06-26T19:12:08.274Z"
   },
   {
    "duration": 6,
    "start_time": "2024-06-26T19:12:12.631Z"
   },
   {
    "duration": 122,
    "start_time": "2024-06-26T19:12:43.322Z"
   },
   {
    "duration": 16,
    "start_time": "2024-06-26T19:13:32.994Z"
   },
   {
    "duration": 769,
    "start_time": "2024-06-26T19:13:48.582Z"
   },
   {
    "duration": 905,
    "start_time": "2024-06-26T19:13:52.448Z"
   },
   {
    "duration": 516,
    "start_time": "2024-06-26T19:14:01.517Z"
   },
   {
    "duration": 932,
    "start_time": "2024-06-26T19:14:07.113Z"
   },
   {
    "duration": 34,
    "start_time": "2024-06-26T19:14:15.064Z"
   },
   {
    "duration": 889,
    "start_time": "2024-06-26T19:14:23.757Z"
   },
   {
    "duration": 875,
    "start_time": "2024-06-26T19:14:47.374Z"
   },
   {
    "duration": 1090,
    "start_time": "2024-06-26T19:14:59.041Z"
   },
   {
    "duration": 26,
    "start_time": "2024-06-26T19:15:30.244Z"
   },
   {
    "duration": 1051,
    "start_time": "2024-06-26T19:15:40.295Z"
   },
   {
    "duration": 973,
    "start_time": "2024-06-26T19:15:56.696Z"
   },
   {
    "duration": 1175,
    "start_time": "2024-06-26T19:16:08.557Z"
   },
   {
    "duration": 1060,
    "start_time": "2024-06-26T19:16:37.586Z"
   },
   {
    "duration": 1226,
    "start_time": "2024-06-26T19:16:43.927Z"
   },
   {
    "duration": 1424,
    "start_time": "2024-06-26T19:16:51.711Z"
   },
   {
    "duration": 1360,
    "start_time": "2024-06-26T19:17:08.675Z"
   },
   {
    "duration": 938,
    "start_time": "2024-06-26T19:18:07.205Z"
   },
   {
    "duration": 4,
    "start_time": "2024-06-26T19:18:32.300Z"
   },
   {
    "duration": 7426,
    "start_time": "2024-06-26T19:20:33.400Z"
   },
   {
    "duration": 7222,
    "start_time": "2024-06-26T19:21:03.486Z"
   },
   {
    "duration": 7271,
    "start_time": "2024-06-26T19:21:15.365Z"
   },
   {
    "duration": 418922,
    "start_time": "2024-06-26T19:25:05.884Z"
   },
   {
    "duration": 6,
    "start_time": "2024-06-26T19:32:04.810Z"
   },
   {
    "duration": 13069,
    "start_time": "2024-06-26T19:35:57.988Z"
   },
   {
    "duration": 846271,
    "start_time": "2024-06-26T19:36:51.949Z"
   },
   {
    "duration": 9,
    "start_time": "2024-06-26T20:06:37.706Z"
   },
   {
    "duration": 9,
    "start_time": "2024-06-26T20:07:00.490Z"
   },
   {
    "duration": 12,
    "start_time": "2024-06-26T20:07:06.648Z"
   },
   {
    "duration": 11,
    "start_time": "2024-06-26T20:07:42.334Z"
   },
   {
    "duration": 131,
    "start_time": "2024-06-26T20:08:12.773Z"
   },
   {
    "duration": 83,
    "start_time": "2024-06-26T20:08:31.955Z"
   },
   {
    "duration": 198,
    "start_time": "2024-06-26T20:08:49.511Z"
   },
   {
    "duration": 10,
    "start_time": "2024-06-26T20:09:19.101Z"
   },
   {
    "duration": 14,
    "start_time": "2024-06-26T20:09:23.123Z"
   },
   {
    "duration": 10,
    "start_time": "2024-06-26T20:09:56.394Z"
   },
   {
    "duration": 7,
    "start_time": "2024-06-26T20:10:50.577Z"
   },
   {
    "duration": 9,
    "start_time": "2024-06-26T20:10:57.128Z"
   },
   {
    "duration": 16,
    "start_time": "2024-06-26T20:11:00.723Z"
   },
   {
    "duration": 62,
    "start_time": "2024-06-26T20:12:03.452Z"
   },
   {
    "duration": 7,
    "start_time": "2024-06-26T20:12:31.874Z"
   },
   {
    "duration": 4,
    "start_time": "2024-06-26T20:13:04.321Z"
   },
   {
    "duration": 19,
    "start_time": "2024-06-26T20:13:56.739Z"
   },
   {
    "duration": 22,
    "start_time": "2024-06-26T20:14:11.423Z"
   },
   {
    "duration": 18,
    "start_time": "2024-06-26T20:16:08.752Z"
   },
   {
    "duration": 37,
    "start_time": "2024-06-26T20:16:20.108Z"
   },
   {
    "duration": 20,
    "start_time": "2024-06-26T20:16:23.136Z"
   },
   {
    "duration": 4157,
    "start_time": "2024-06-26T21:55:36.323Z"
   },
   {
    "duration": 527,
    "start_time": "2024-06-26T21:56:02.895Z"
   },
   {
    "duration": 5,
    "start_time": "2024-06-26T21:56:22.593Z"
   },
   {
    "duration": 1103,
    "start_time": "2024-06-26T21:56:22.603Z"
   },
   {
    "duration": 37,
    "start_time": "2024-06-26T21:56:23.709Z"
   },
   {
    "duration": 25,
    "start_time": "2024-06-26T21:56:23.751Z"
   },
   {
    "duration": 25,
    "start_time": "2024-06-26T21:56:23.782Z"
   },
   {
    "duration": 11,
    "start_time": "2024-06-26T21:56:23.832Z"
   },
   {
    "duration": 7,
    "start_time": "2024-06-26T21:56:23.847Z"
   },
   {
    "duration": 15,
    "start_time": "2024-06-26T21:56:23.858Z"
   },
   {
    "duration": 55,
    "start_time": "2024-06-26T21:56:23.877Z"
   },
   {
    "duration": 124,
    "start_time": "2024-06-26T21:56:23.938Z"
   },
   {
    "duration": 11,
    "start_time": "2024-06-26T21:56:24.066Z"
   },
   {
    "duration": 68,
    "start_time": "2024-06-26T21:56:24.080Z"
   },
   {
    "duration": 13,
    "start_time": "2024-06-26T21:56:24.153Z"
   },
   {
    "duration": 188,
    "start_time": "2024-06-26T21:56:24.175Z"
   },
   {
    "duration": 18,
    "start_time": "2024-06-26T21:56:24.366Z"
   },
   {
    "duration": 47,
    "start_time": "2024-06-26T21:56:24.388Z"
   },
   {
    "duration": 10,
    "start_time": "2024-06-26T21:56:24.438Z"
   },
   {
    "duration": 11,
    "start_time": "2024-06-26T21:56:24.451Z"
   },
   {
    "duration": 13,
    "start_time": "2024-06-26T21:56:24.464Z"
   },
   {
    "duration": 53,
    "start_time": "2024-06-26T21:56:24.480Z"
   },
   {
    "duration": 25,
    "start_time": "2024-06-26T21:56:24.541Z"
   },
   {
    "duration": 5,
    "start_time": "2024-06-26T21:56:24.570Z"
   },
   {
    "duration": 4,
    "start_time": "2024-06-26T21:56:24.581Z"
   },
   {
    "duration": 7,
    "start_time": "2024-06-26T21:56:24.589Z"
   },
   {
    "duration": 8,
    "start_time": "2024-06-26T21:56:24.634Z"
   },
   {
    "duration": 13,
    "start_time": "2024-06-26T21:56:24.649Z"
   },
   {
    "duration": 378,
    "start_time": "2024-06-26T21:56:24.666Z"
   },
   {
    "duration": 339,
    "start_time": "2024-06-26T21:56:25.047Z"
   },
   {
    "duration": 405,
    "start_time": "2024-06-26T21:56:25.390Z"
   },
   {
    "duration": 9,
    "start_time": "2024-06-26T21:56:25.799Z"
   },
   {
    "duration": 7,
    "start_time": "2024-06-26T21:56:25.830Z"
   },
   {
    "duration": 7,
    "start_time": "2024-06-26T21:56:25.841Z"
   },
   {
    "duration": 324,
    "start_time": "2024-06-26T21:56:25.852Z"
   },
   {
    "duration": 307,
    "start_time": "2024-06-26T21:56:26.179Z"
   },
   {
    "duration": 333,
    "start_time": "2024-06-26T21:56:26.490Z"
   },
   {
    "duration": 401,
    "start_time": "2024-06-26T21:56:26.830Z"
   },
   {
    "duration": 509,
    "start_time": "2024-06-26T21:56:27.234Z"
   },
   {
    "duration": 60,
    "start_time": "2024-06-26T21:56:27.745Z"
   },
   {
    "duration": 37,
    "start_time": "2024-06-26T21:56:27.808Z"
   },
   {
    "duration": 10,
    "start_time": "2024-06-26T21:56:27.850Z"
   },
   {
    "duration": 5,
    "start_time": "2024-06-26T21:56:27.871Z"
   },
   {
    "duration": 1301,
    "start_time": "2024-06-26T21:56:27.879Z"
   },
   {
    "duration": 1110,
    "start_time": "2024-06-26T21:56:47.923Z"
   },
   {
    "duration": 24,
    "start_time": "2024-06-26T21:57:13.371Z"
   },
   {
    "duration": 5,
    "start_time": "2024-06-26T21:57:16.577Z"
   },
   {
    "duration": 21,
    "start_time": "2024-06-26T21:57:17.089Z"
   },
   {
    "duration": 25,
    "start_time": "2024-06-26T21:57:34.041Z"
   },
   {
    "duration": 38,
    "start_time": "2024-06-26T21:57:57.305Z"
   },
   {
    "duration": 7,
    "start_time": "2024-06-26T21:58:39.333Z"
   },
   {
    "duration": 24,
    "start_time": "2024-06-26T21:58:46.143Z"
   },
   {
    "duration": 5,
    "start_time": "2024-06-26T21:58:50.115Z"
   },
   {
    "duration": 6,
    "start_time": "2024-06-26T21:58:59.011Z"
   },
   {
    "duration": 13,
    "start_time": "2024-06-26T21:59:09.339Z"
   },
   {
    "duration": 24,
    "start_time": "2024-06-26T21:59:18.935Z"
   },
   {
    "duration": 1062,
    "start_time": "2024-06-26T22:06:09.688Z"
   },
   {
    "duration": 36,
    "start_time": "2024-06-26T22:06:34.396Z"
   },
   {
    "duration": 7,
    "start_time": "2024-06-26T22:06:47.336Z"
   },
   {
    "duration": 17,
    "start_time": "2024-06-26T22:07:58.722Z"
   },
   {
    "duration": 17,
    "start_time": "2024-06-26T22:08:33.124Z"
   },
   {
    "duration": 1018,
    "start_time": "2024-06-26T22:09:07.126Z"
   },
   {
    "duration": 5,
    "start_time": "2024-06-26T22:39:00.661Z"
   },
   {
    "duration": 6,
    "start_time": "2024-06-26T22:44:15.497Z"
   },
   {
    "duration": 4,
    "start_time": "2024-06-26T22:46:23.386Z"
   },
   {
    "duration": 6,
    "start_time": "2024-06-26T22:47:41.048Z"
   },
   {
    "duration": 7,
    "start_time": "2024-06-26T22:47:42.001Z"
   },
   {
    "duration": 1477,
    "start_time": "2024-06-26T22:49:42.977Z"
   },
   {
    "duration": 802,
    "start_time": "2024-06-26T22:49:44.458Z"
   },
   {
    "duration": 95,
    "start_time": "2024-06-26T22:49:45.264Z"
   },
   {
    "duration": 18,
    "start_time": "2024-06-26T22:49:45.362Z"
   },
   {
    "duration": 44,
    "start_time": "2024-06-26T22:49:45.386Z"
   },
   {
    "duration": 9,
    "start_time": "2024-06-26T22:49:45.434Z"
   },
   {
    "duration": 7,
    "start_time": "2024-06-26T22:49:45.446Z"
   },
   {
    "duration": 12,
    "start_time": "2024-06-26T22:49:45.456Z"
   },
   {
    "duration": 14,
    "start_time": "2024-06-26T22:49:45.474Z"
   },
   {
    "duration": 159,
    "start_time": "2024-06-26T22:49:45.491Z"
   },
   {
    "duration": 9,
    "start_time": "2024-06-26T22:49:45.653Z"
   },
   {
    "duration": 36,
    "start_time": "2024-06-26T22:49:45.665Z"
   },
   {
    "duration": 13,
    "start_time": "2024-06-26T22:49:45.731Z"
   },
   {
    "duration": 181,
    "start_time": "2024-06-26T22:49:45.752Z"
   },
   {
    "duration": 15,
    "start_time": "2024-06-26T22:49:45.937Z"
   },
   {
    "duration": 22,
    "start_time": "2024-06-26T22:49:45.955Z"
   },
   {
    "duration": 10,
    "start_time": "2024-06-26T22:49:45.980Z"
   },
   {
    "duration": 46,
    "start_time": "2024-06-26T22:49:45.993Z"
   },
   {
    "duration": 12,
    "start_time": "2024-06-26T22:49:46.042Z"
   },
   {
    "duration": 13,
    "start_time": "2024-06-26T22:49:46.057Z"
   },
   {
    "duration": 67,
    "start_time": "2024-06-26T22:49:46.074Z"
   },
   {
    "duration": 6,
    "start_time": "2024-06-26T22:49:46.144Z"
   },
   {
    "duration": 5,
    "start_time": "2024-06-26T22:49:46.153Z"
   },
   {
    "duration": 6,
    "start_time": "2024-06-26T22:49:46.161Z"
   },
   {
    "duration": 7,
    "start_time": "2024-06-26T22:49:46.170Z"
   },
   {
    "duration": 53,
    "start_time": "2024-06-26T22:49:46.180Z"
   },
   {
    "duration": 372,
    "start_time": "2024-06-26T22:49:46.237Z"
   },
   {
    "duration": 321,
    "start_time": "2024-06-26T22:49:46.612Z"
   },
   {
    "duration": 345,
    "start_time": "2024-06-26T22:49:46.936Z"
   },
   {
    "duration": 6,
    "start_time": "2024-06-26T22:49:47.285Z"
   },
   {
    "duration": 6,
    "start_time": "2024-06-26T22:49:47.295Z"
   },
   {
    "duration": 6,
    "start_time": "2024-06-26T22:49:47.330Z"
   },
   {
    "duration": 300,
    "start_time": "2024-06-26T22:49:47.339Z"
   },
   {
    "duration": 282,
    "start_time": "2024-06-26T22:49:47.642Z"
   },
   {
    "duration": 311,
    "start_time": "2024-06-26T22:49:47.931Z"
   },
   {
    "duration": 355,
    "start_time": "2024-06-26T22:49:48.244Z"
   },
   {
    "duration": 355,
    "start_time": "2024-06-26T22:49:48.603Z"
   },
   {
    "duration": 74,
    "start_time": "2024-06-26T22:49:48.961Z"
   },
   {
    "duration": 14,
    "start_time": "2024-06-26T22:49:49.038Z"
   },
   {
    "duration": 5,
    "start_time": "2024-06-26T22:49:49.056Z"
   },
   {
    "duration": 502,
    "start_time": "2024-06-26T22:49:58.670Z"
   },
   {
    "duration": 6,
    "start_time": "2024-06-26T22:50:05.565Z"
   },
   {
    "duration": 6,
    "start_time": "2024-06-26T22:50:06.315Z"
   },
   {
    "duration": 26,
    "start_time": "2024-06-26T22:50:06.900Z"
   },
   {
    "duration": 3,
    "start_time": "2024-06-26T22:50:26.015Z"
   },
   {
    "duration": 51,
    "start_time": "2024-06-26T22:50:31.755Z"
   },
   {
    "duration": 10,
    "start_time": "2024-06-26T22:50:52.157Z"
   },
   {
    "duration": 62,
    "start_time": "2024-06-26T22:50:53.876Z"
   },
   {
    "duration": 8,
    "start_time": "2024-06-26T22:53:37.173Z"
   },
   {
    "duration": 59,
    "start_time": "2024-06-26T22:53:40.733Z"
   },
   {
    "duration": 7,
    "start_time": "2024-06-26T22:54:28.813Z"
   },
   {
    "duration": 4,
    "start_time": "2024-06-26T22:54:31.575Z"
   },
   {
    "duration": 212,
    "start_time": "2024-06-26T22:54:35.008Z"
   },
   {
    "duration": 6,
    "start_time": "2024-06-26T22:58:25.093Z"
   },
   {
    "duration": 3,
    "start_time": "2024-06-26T22:58:25.988Z"
   },
   {
    "duration": 248,
    "start_time": "2024-06-26T22:58:29.729Z"
   },
   {
    "duration": 32,
    "start_time": "2024-06-26T22:59:03.435Z"
   },
   {
    "duration": 86,
    "start_time": "2024-06-26T22:59:09.137Z"
   },
   {
    "duration": 252,
    "start_time": "2024-06-26T22:59:35.201Z"
   },
   {
    "duration": 9,
    "start_time": "2024-06-26T23:02:22.070Z"
   },
   {
    "duration": 30,
    "start_time": "2024-06-26T23:03:05.619Z"
   },
   {
    "duration": 3,
    "start_time": "2024-06-26T23:03:25.604Z"
   },
   {
    "duration": 7,
    "start_time": "2024-06-26T23:03:29.793Z"
   },
   {
    "duration": 7,
    "start_time": "2024-06-26T23:04:17.678Z"
   },
   {
    "duration": 3,
    "start_time": "2024-06-26T23:04:18.333Z"
   },
   {
    "duration": 24,
    "start_time": "2024-06-26T23:04:19.464Z"
   },
   {
    "duration": 116,
    "start_time": "2024-06-26T23:04:25.129Z"
   },
   {
    "duration": 36,
    "start_time": "2024-06-26T23:13:00.648Z"
   },
   {
    "duration": 588,
    "start_time": "2024-06-26T23:13:18.449Z"
   },
   {
    "duration": 686,
    "start_time": "2024-06-26T23:13:57.558Z"
   },
   {
    "duration": 434,
    "start_time": "2024-06-26T23:14:41.805Z"
   },
   {
    "duration": 346,
    "start_time": "2024-06-26T23:15:06.190Z"
   },
   {
    "duration": 6,
    "start_time": "2024-06-26T23:15:24.062Z"
   },
   {
    "duration": 679,
    "start_time": "2024-06-26T23:15:59.674Z"
   },
   {
    "duration": 3,
    "start_time": "2024-06-26T23:16:25.927Z"
   },
   {
    "duration": 4,
    "start_time": "2024-06-26T23:16:49.253Z"
   },
   {
    "duration": 248812,
    "start_time": "2024-06-26T23:20:05.532Z"
   },
   {
    "duration": 6,
    "start_time": "2024-06-26T23:24:14.347Z"
   },
   {
    "duration": 39,
    "start_time": "2024-06-26T23:26:02.710Z"
   },
   {
    "duration": 16,
    "start_time": "2024-06-26T23:26:06.612Z"
   },
   {
    "duration": 8,
    "start_time": "2024-06-26T23:26:43.900Z"
   },
   {
    "duration": 908,
    "start_time": "2024-06-26T23:26:59.694Z"
   },
   {
    "duration": 13,
    "start_time": "2024-06-26T23:27:05.876Z"
   },
   {
    "duration": 21,
    "start_time": "2024-06-26T23:27:31.856Z"
   },
   {
    "duration": 6,
    "start_time": "2024-06-26T23:27:53.878Z"
   },
   {
    "duration": 11,
    "start_time": "2024-06-26T23:28:02.025Z"
   },
   {
    "duration": 678,
    "start_time": "2024-06-26T23:28:21.518Z"
   },
   {
    "duration": 5,
    "start_time": "2024-06-26T23:28:30.404Z"
   },
   {
    "duration": 20,
    "start_time": "2024-06-26T23:28:38.892Z"
   },
   {
    "duration": 7,
    "start_time": "2024-06-26T23:29:15.227Z"
   },
   {
    "duration": 42,
    "start_time": "2024-06-26T23:29:28.848Z"
   },
   {
    "duration": 21,
    "start_time": "2024-06-26T23:29:33.295Z"
   },
   {
    "duration": 72,
    "start_time": "2024-06-26T23:29:57.120Z"
   },
   {
    "duration": 70,
    "start_time": "2024-06-26T23:30:09.711Z"
   },
   {
    "duration": 9,
    "start_time": "2024-06-26T23:30:29.741Z"
   },
   {
    "duration": 22,
    "start_time": "2024-06-26T23:30:40.652Z"
   },
   {
    "duration": 8,
    "start_time": "2024-06-26T23:31:03.934Z"
   },
   {
    "duration": 225,
    "start_time": "2024-06-26T23:32:00.724Z"
   },
   {
    "duration": 26,
    "start_time": "2024-06-26T23:32:53.002Z"
   },
   {
    "duration": 27,
    "start_time": "2024-06-26T23:34:42.588Z"
   },
   {
    "duration": 26,
    "start_time": "2024-06-26T23:34:45.313Z"
   },
   {
    "duration": 57,
    "start_time": "2024-06-26T23:36:24.471Z"
   },
   {
    "duration": 30,
    "start_time": "2024-06-26T23:36:32.331Z"
   },
   {
    "duration": 14,
    "start_time": "2024-06-26T23:36:35.888Z"
   },
   {
    "duration": 6,
    "start_time": "2024-06-26T23:37:01.260Z"
   },
   {
    "duration": 246,
    "start_time": "2024-06-26T23:37:21.744Z"
   },
   {
    "duration": 6,
    "start_time": "2024-06-26T23:37:38.899Z"
   },
   {
    "duration": 7,
    "start_time": "2024-06-26T23:37:49.519Z"
   },
   {
    "duration": 6,
    "start_time": "2024-06-26T23:37:56.840Z"
   },
   {
    "duration": 24,
    "start_time": "2024-06-26T23:42:12.297Z"
   },
   {
    "duration": 7,
    "start_time": "2024-06-26T23:42:26.576Z"
   },
   {
    "duration": 9,
    "start_time": "2024-06-26T23:42:43.429Z"
   },
   {
    "duration": 10,
    "start_time": "2024-06-26T23:42:47.560Z"
   },
   {
    "duration": 11,
    "start_time": "2024-06-26T23:43:02.761Z"
   },
   {
    "duration": 10,
    "start_time": "2024-06-26T23:43:12.148Z"
   },
   {
    "duration": 11,
    "start_time": "2024-06-26T23:43:17.450Z"
   },
   {
    "duration": 53,
    "start_time": "2024-06-26T23:43:19.878Z"
   },
   {
    "duration": 35,
    "start_time": "2024-06-26T23:43:25.498Z"
   },
   {
    "duration": 172,
    "start_time": "2024-06-26T23:43:32.699Z"
   },
   {
    "duration": 266,
    "start_time": "2024-06-26T23:44:37.836Z"
   },
   {
    "duration": 80,
    "start_time": "2024-06-26T23:45:31.027Z"
   },
   {
    "duration": 6,
    "start_time": "2024-06-26T23:45:36.673Z"
   },
   {
    "duration": 6,
    "start_time": "2024-06-26T23:45:39.912Z"
   },
   {
    "duration": 8,
    "start_time": "2024-06-26T23:45:48.588Z"
   },
   {
    "duration": 5,
    "start_time": "2024-06-26T23:45:57.812Z"
   },
   {
    "duration": 37,
    "start_time": "2024-06-26T23:46:13.433Z"
   },
   {
    "duration": 81,
    "start_time": "2024-06-26T23:46:21.086Z"
   },
   {
    "duration": 5,
    "start_time": "2024-06-26T23:48:50.669Z"
   },
   {
    "duration": 41,
    "start_time": "2024-06-26T23:50:11.774Z"
   },
   {
    "duration": 5,
    "start_time": "2024-06-26T23:50:14.416Z"
   },
   {
    "duration": 5,
    "start_time": "2024-06-26T23:50:22.580Z"
   },
   {
    "duration": 4230,
    "start_time": "2024-06-26T23:52:16.536Z"
   },
   {
    "duration": 4259,
    "start_time": "2024-06-26T23:52:53.636Z"
   },
   {
    "duration": 4546,
    "start_time": "2024-06-26T23:53:11.034Z"
   },
   {
    "duration": 84,
    "start_time": "2024-06-26T23:56:17.054Z"
   },
   {
    "duration": 69,
    "start_time": "2024-06-26T23:56:48.802Z"
   },
   {
    "duration": 357,
    "start_time": "2024-06-26T23:57:12.987Z"
   },
   {
    "duration": 96,
    "start_time": "2024-06-26T23:58:40.380Z"
   },
   {
    "duration": 93,
    "start_time": "2024-06-26T23:58:54.416Z"
   },
   {
    "duration": 1504,
    "start_time": "2024-06-26T23:59:21.214Z"
   },
   {
    "duration": 829,
    "start_time": "2024-06-26T23:59:22.722Z"
   },
   {
    "duration": 94,
    "start_time": "2024-06-26T23:59:23.554Z"
   },
   {
    "duration": 18,
    "start_time": "2024-06-26T23:59:23.652Z"
   },
   {
    "duration": 21,
    "start_time": "2024-06-26T23:59:23.674Z"
   },
   {
    "duration": 10,
    "start_time": "2024-06-26T23:59:23.730Z"
   },
   {
    "duration": 8,
    "start_time": "2024-06-26T23:59:23.742Z"
   },
   {
    "duration": 12,
    "start_time": "2024-06-26T23:59:23.753Z"
   },
   {
    "duration": 11,
    "start_time": "2024-06-26T23:59:23.771Z"
   },
   {
    "duration": 157,
    "start_time": "2024-06-26T23:59:23.788Z"
   },
   {
    "duration": 10,
    "start_time": "2024-06-26T23:59:23.947Z"
   },
   {
    "duration": 37,
    "start_time": "2024-06-26T23:59:23.959Z"
   },
   {
    "duration": 41,
    "start_time": "2024-06-26T23:59:23.999Z"
   },
   {
    "duration": 178,
    "start_time": "2024-06-26T23:59:24.044Z"
   },
   {
    "duration": 19,
    "start_time": "2024-06-26T23:59:24.225Z"
   },
   {
    "duration": 21,
    "start_time": "2024-06-26T23:59:24.247Z"
   },
   {
    "duration": 9,
    "start_time": "2024-06-26T23:59:24.271Z"
   },
   {
    "duration": 49,
    "start_time": "2024-06-26T23:59:24.282Z"
   },
   {
    "duration": 12,
    "start_time": "2024-06-26T23:59:24.333Z"
   },
   {
    "duration": 12,
    "start_time": "2024-06-26T23:59:24.348Z"
   },
   {
    "duration": 20,
    "start_time": "2024-06-26T23:59:24.362Z"
   },
   {
    "duration": 44,
    "start_time": "2024-06-26T23:59:24.386Z"
   },
   {
    "duration": 4,
    "start_time": "2024-06-26T23:59:24.434Z"
   },
   {
    "duration": 7,
    "start_time": "2024-06-26T23:59:24.442Z"
   },
   {
    "duration": 6,
    "start_time": "2024-06-26T23:59:24.451Z"
   },
   {
    "duration": 7,
    "start_time": "2024-06-26T23:59:24.460Z"
   },
   {
    "duration": 396,
    "start_time": "2024-06-26T23:59:24.471Z"
   },
   {
    "duration": 330,
    "start_time": "2024-06-26T23:59:24.876Z"
   },
   {
    "duration": 348,
    "start_time": "2024-06-26T23:59:25.209Z"
   },
   {
    "duration": 6,
    "start_time": "2024-06-26T23:59:25.560Z"
   },
   {
    "duration": 7,
    "start_time": "2024-06-26T23:59:25.570Z"
   },
   {
    "duration": 7,
    "start_time": "2024-06-26T23:59:25.580Z"
   },
   {
    "duration": 330,
    "start_time": "2024-06-26T23:59:25.590Z"
   },
   {
    "duration": 282,
    "start_time": "2024-06-26T23:59:25.930Z"
   },
   {
    "duration": 339,
    "start_time": "2024-06-26T23:59:26.215Z"
   },
   {
    "duration": 337,
    "start_time": "2024-06-26T23:59:26.557Z"
   },
   {
    "duration": 352,
    "start_time": "2024-06-26T23:59:26.897Z"
   },
   {
    "duration": 59,
    "start_time": "2024-06-26T23:59:27.252Z"
   },
   {
    "duration": 28,
    "start_time": "2024-06-26T23:59:27.313Z"
   },
   {
    "duration": 8,
    "start_time": "2024-06-26T23:59:27.344Z"
   },
   {
    "duration": 6,
    "start_time": "2024-06-26T23:59:27.356Z"
   },
   {
    "duration": 4,
    "start_time": "2024-06-26T23:59:27.365Z"
   },
   {
    "duration": 247462,
    "start_time": "2024-06-26T23:59:27.372Z"
   },
   {
    "duration": 4,
    "start_time": "2024-06-27T00:03:34.841Z"
   },
   {
    "duration": 497,
    "start_time": "2024-06-27T00:22:37.746Z"
   },
   {
    "duration": 24,
    "start_time": "2024-06-27T00:23:01.835Z"
   },
   {
    "duration": 4219,
    "start_time": "2024-06-27T00:23:05.835Z"
   },
   {
    "duration": 4298,
    "start_time": "2024-06-27T00:23:32.647Z"
   },
   {
    "duration": 4408,
    "start_time": "2024-06-27T00:24:23.164Z"
   },
   {
    "duration": 8,
    "start_time": "2024-06-27T00:24:59.816Z"
   },
   {
    "duration": 4192,
    "start_time": "2024-06-27T00:25:13.778Z"
   },
   {
    "duration": 4264,
    "start_time": "2024-06-27T00:25:42.669Z"
   },
   {
    "duration": 8,
    "start_time": "2024-06-27T00:25:54.701Z"
   },
   {
    "duration": 4169,
    "start_time": "2024-06-27T00:26:06.240Z"
   },
   {
    "duration": 4222,
    "start_time": "2024-06-27T00:26:14.028Z"
   },
   {
    "duration": 4202,
    "start_time": "2024-06-27T00:26:36.121Z"
   },
   {
    "duration": 22,
    "start_time": "2024-06-27T00:26:55.930Z"
   },
   {
    "duration": 6,
    "start_time": "2024-06-27T00:26:59.101Z"
   },
   {
    "duration": 4244,
    "start_time": "2024-06-27T00:27:00.306Z"
   },
   {
    "duration": 23,
    "start_time": "2024-06-27T00:27:04.553Z"
   },
   {
    "duration": 648,
    "start_time": "2024-06-27T00:27:14.903Z"
   },
   {
    "duration": 14,
    "start_time": "2024-06-27T00:27:32.089Z"
   },
   {
    "duration": 13,
    "start_time": "2024-06-27T00:27:47.950Z"
   },
   {
    "duration": 8,
    "start_time": "2024-06-27T00:28:19.347Z"
   },
   {
    "duration": 11,
    "start_time": "2024-06-27T00:28:30.225Z"
   },
   {
    "duration": 24,
    "start_time": "2024-06-27T00:28:54.859Z"
   },
   {
    "duration": 452,
    "start_time": "2024-06-27T00:29:03.764Z"
   },
   {
    "duration": 79,
    "start_time": "2024-06-27T00:29:40.463Z"
   },
   {
    "duration": 12,
    "start_time": "2024-06-27T00:29:49.760Z"
   },
   {
    "duration": 10,
    "start_time": "2024-06-27T00:30:10.130Z"
   },
   {
    "duration": 410,
    "start_time": "2024-06-27T00:30:21.477Z"
   },
   {
    "duration": 13,
    "start_time": "2024-06-27T00:31:05.426Z"
   },
   {
    "duration": 8,
    "start_time": "2024-06-27T00:31:18.067Z"
   },
   {
    "duration": 6,
    "start_time": "2024-06-27T00:32:06.334Z"
   },
   {
    "duration": 9,
    "start_time": "2024-06-27T00:33:55.677Z"
   },
   {
    "duration": 309,
    "start_time": "2024-06-27T00:34:36.266Z"
   },
   {
    "duration": 1412,
    "start_time": "2024-06-27T00:34:45.687Z"
   },
   {
    "duration": 801,
    "start_time": "2024-06-27T00:34:47.102Z"
   },
   {
    "duration": 39,
    "start_time": "2024-06-27T00:34:47.907Z"
   },
   {
    "duration": 19,
    "start_time": "2024-06-27T00:34:47.950Z"
   },
   {
    "duration": 24,
    "start_time": "2024-06-27T00:34:47.973Z"
   },
   {
    "duration": 42,
    "start_time": "2024-06-27T00:34:47.999Z"
   },
   {
    "duration": 6,
    "start_time": "2024-06-27T00:34:48.044Z"
   },
   {
    "duration": 13,
    "start_time": "2024-06-27T00:34:48.054Z"
   },
   {
    "duration": 13,
    "start_time": "2024-06-27T00:34:48.071Z"
   },
   {
    "duration": 115,
    "start_time": "2024-06-27T00:34:48.130Z"
   },
   {
    "duration": 12,
    "start_time": "2024-06-27T00:34:48.248Z"
   },
   {
    "duration": 36,
    "start_time": "2024-06-27T00:34:48.263Z"
   },
   {
    "duration": 37,
    "start_time": "2024-06-27T00:34:48.302Z"
   },
   {
    "duration": 197,
    "start_time": "2024-06-27T00:34:48.341Z"
   },
   {
    "duration": 17,
    "start_time": "2024-06-27T00:34:48.541Z"
   },
   {
    "duration": 22,
    "start_time": "2024-06-27T00:34:48.560Z"
   },
   {
    "duration": 45,
    "start_time": "2024-06-27T00:34:48.585Z"
   },
   {
    "duration": 9,
    "start_time": "2024-06-27T00:34:48.633Z"
   },
   {
    "duration": 10,
    "start_time": "2024-06-27T00:34:48.645Z"
   },
   {
    "duration": 11,
    "start_time": "2024-06-27T00:34:48.658Z"
   },
   {
    "duration": 66,
    "start_time": "2024-06-27T00:34:48.673Z"
   },
   {
    "duration": 5,
    "start_time": "2024-06-27T00:34:48.742Z"
   },
   {
    "duration": 4,
    "start_time": "2024-06-27T00:34:48.751Z"
   },
   {
    "duration": 7,
    "start_time": "2024-06-27T00:34:48.758Z"
   },
   {
    "duration": 7,
    "start_time": "2024-06-27T00:34:48.768Z"
   },
   {
    "duration": 53,
    "start_time": "2024-06-27T00:34:48.778Z"
   },
   {
    "duration": 361,
    "start_time": "2024-06-27T00:34:48.834Z"
   },
   {
    "duration": 329,
    "start_time": "2024-06-27T00:34:49.202Z"
   },
   {
    "duration": 377,
    "start_time": "2024-06-27T00:34:49.535Z"
   },
   {
    "duration": 16,
    "start_time": "2024-06-27T00:34:49.915Z"
   },
   {
    "duration": 7,
    "start_time": "2024-06-27T00:34:49.934Z"
   },
   {
    "duration": 6,
    "start_time": "2024-06-27T00:34:49.944Z"
   },
   {
    "duration": 318,
    "start_time": "2024-06-27T00:34:49.954Z"
   },
   {
    "duration": 289,
    "start_time": "2024-06-27T00:34:50.276Z"
   },
   {
    "duration": 319,
    "start_time": "2024-06-27T00:34:50.568Z"
   },
   {
    "duration": 408,
    "start_time": "2024-06-27T00:34:50.890Z"
   },
   {
    "duration": 360,
    "start_time": "2024-06-27T00:34:51.302Z"
   },
   {
    "duration": 65,
    "start_time": "2024-06-27T00:34:51.665Z"
   },
   {
    "duration": 15,
    "start_time": "2024-06-27T00:34:51.733Z"
   },
   {
    "duration": 172,
    "start_time": "2024-06-27T00:34:51.751Z"
   },
   {
    "duration": 9,
    "start_time": "2024-06-27T00:35:15.475Z"
   },
   {
    "duration": 20,
    "start_time": "2024-06-27T00:35:21.801Z"
   },
   {
    "duration": 9,
    "start_time": "2024-06-27T00:35:33.893Z"
   },
   {
    "duration": 16,
    "start_time": "2024-06-27T00:35:38.341Z"
   },
   {
    "duration": 18,
    "start_time": "2024-06-27T00:35:42.877Z"
   },
   {
    "duration": 6,
    "start_time": "2024-06-27T00:35:56.278Z"
   },
   {
    "duration": 3,
    "start_time": "2024-06-27T00:35:57.018Z"
   },
   {
    "duration": 30,
    "start_time": "2024-06-27T00:35:58.026Z"
   },
   {
    "duration": 10,
    "start_time": "2024-06-27T00:36:25.074Z"
   },
   {
    "duration": 4277,
    "start_time": "2024-06-27T00:36:40.423Z"
   },
   {
    "duration": 7,
    "start_time": "2024-06-27T00:36:47.655Z"
   },
   {
    "duration": 4,
    "start_time": "2024-06-27T00:36:48.056Z"
   },
   {
    "duration": 246578,
    "start_time": "2024-06-27T00:36:48.563Z"
   },
   {
    "duration": 6,
    "start_time": "2024-06-27T00:40:55.146Z"
   },
   {
    "duration": 4310,
    "start_time": "2024-06-27T00:40:55.155Z"
   },
   {
    "duration": 10,
    "start_time": "2024-06-27T00:40:59.469Z"
   },
   {
    "duration": 6,
    "start_time": "2024-06-27T00:42:09.168Z"
   },
   {
    "duration": 4294,
    "start_time": "2024-06-27T00:42:11.363Z"
   },
   {
    "duration": 11,
    "start_time": "2024-06-27T00:42:15.661Z"
   },
   {
    "duration": 5,
    "start_time": "2024-06-27T00:42:27.858Z"
   },
   {
    "duration": 4305,
    "start_time": "2024-06-27T00:42:28.615Z"
   },
   {
    "duration": 15,
    "start_time": "2024-06-27T00:42:32.923Z"
   },
   {
    "duration": 23,
    "start_time": "2024-06-27T00:42:40.042Z"
   },
   {
    "duration": 881,
    "start_time": "2024-06-27T00:42:56.211Z"
   },
   {
    "duration": 99,
    "start_time": "2024-06-27T00:43:59.692Z"
   },
   {
    "duration": 36,
    "start_time": "2024-06-27T00:44:07.644Z"
   },
   {
    "duration": 35,
    "start_time": "2024-06-27T00:44:11.880Z"
   },
   {
    "duration": 7,
    "start_time": "2024-06-27T00:44:25.697Z"
   },
   {
    "duration": 11,
    "start_time": "2024-06-27T00:44:29.389Z"
   },
   {
    "duration": 31,
    "start_time": "2024-06-27T00:45:00.931Z"
   },
   {
    "duration": 31,
    "start_time": "2024-06-27T00:45:12.793Z"
   },
   {
    "duration": 29,
    "start_time": "2024-06-27T00:45:22.025Z"
   },
   {
    "duration": 26,
    "start_time": "2024-06-27T00:46:36.998Z"
   },
   {
    "duration": 13,
    "start_time": "2024-06-27T00:46:46.710Z"
   },
   {
    "duration": 14,
    "start_time": "2024-06-27T00:46:55.808Z"
   },
   {
    "duration": 24,
    "start_time": "2024-06-27T00:47:02.078Z"
   },
   {
    "duration": 12,
    "start_time": "2024-06-27T00:47:14.452Z"
   },
   {
    "duration": 25,
    "start_time": "2024-06-27T00:47:38.890Z"
   },
   {
    "duration": 26,
    "start_time": "2024-06-27T00:48:33.891Z"
   },
   {
    "duration": 13,
    "start_time": "2024-06-27T00:48:41.794Z"
   },
   {
    "duration": 63,
    "start_time": "2024-06-27T00:49:01.435Z"
   },
   {
    "duration": 6,
    "start_time": "2024-06-27T00:49:32.333Z"
   },
   {
    "duration": 60,
    "start_time": "2024-06-27T00:49:34.907Z"
   },
   {
    "duration": 49,
    "start_time": "2024-06-27T00:50:49.232Z"
   },
   {
    "duration": 40,
    "start_time": "2024-06-27T00:50:58.383Z"
   },
   {
    "duration": 12,
    "start_time": "2024-06-27T00:51:02.368Z"
   },
   {
    "duration": 27,
    "start_time": "2024-06-27T00:51:33.836Z"
   },
   {
    "duration": 16,
    "start_time": "2024-06-27T00:53:05.835Z"
   },
   {
    "duration": 6,
    "start_time": "2024-06-27T00:53:09.293Z"
   },
   {
    "duration": 47,
    "start_time": "2024-06-27T00:53:34.883Z"
   },
   {
    "duration": 8,
    "start_time": "2024-06-27T00:53:48.817Z"
   },
   {
    "duration": 14,
    "start_time": "2024-06-27T00:53:52.417Z"
   },
   {
    "duration": 52,
    "start_time": "2024-06-27T00:54:09.056Z"
   },
   {
    "duration": 44,
    "start_time": "2024-06-27T00:54:44.428Z"
   },
   {
    "duration": 4,
    "start_time": "2024-06-27T00:54:50.211Z"
   },
   {
    "duration": 5,
    "start_time": "2024-06-27T00:54:51.944Z"
   },
   {
    "duration": 6,
    "start_time": "2024-06-27T00:55:12.616Z"
   },
   {
    "duration": 5,
    "start_time": "2024-06-27T00:55:49.938Z"
   },
   {
    "duration": 26,
    "start_time": "2024-06-27T00:56:40.588Z"
   },
   {
    "duration": 11,
    "start_time": "2024-06-27T00:56:51.107Z"
   },
   {
    "duration": 151,
    "start_time": "2024-06-27T00:56:51.998Z"
   },
   {
    "duration": 24,
    "start_time": "2024-06-27T00:57:05.022Z"
   },
   {
    "duration": 51,
    "start_time": "2024-06-27T00:57:19.121Z"
   },
   {
    "duration": 6,
    "start_time": "2024-06-27T00:57:26.511Z"
   },
   {
    "duration": 25,
    "start_time": "2024-06-27T00:57:41.801Z"
   },
   {
    "duration": 6,
    "start_time": "2024-06-27T00:57:52.989Z"
   },
   {
    "duration": 6,
    "start_time": "2024-06-27T00:58:02.511Z"
   },
   {
    "duration": 24,
    "start_time": "2024-06-27T00:58:26.324Z"
   },
   {
    "duration": 4,
    "start_time": "2024-06-27T00:58:32.597Z"
   },
   {
    "duration": 11,
    "start_time": "2024-06-27T00:58:43.076Z"
   },
   {
    "duration": 5,
    "start_time": "2024-06-27T00:58:44.868Z"
   },
   {
    "duration": 37,
    "start_time": "2024-06-27T00:59:10.131Z"
   },
   {
    "duration": 3,
    "start_time": "2024-06-27T00:59:20.298Z"
   },
   {
    "duration": 6,
    "start_time": "2024-06-27T00:59:24.387Z"
   },
   {
    "duration": 5,
    "start_time": "2024-06-27T00:59:51.290Z"
   },
   {
    "duration": 5,
    "start_time": "2024-06-27T00:59:55.775Z"
   }
  ],
  "kernelspec": {
   "display_name": "Python 3 (ipykernel)",
   "language": "python",
   "name": "python3"
  },
  "language_info": {
   "codemirror_mode": {
    "name": "ipython",
    "version": 3
   },
   "file_extension": ".py",
   "mimetype": "text/x-python",
   "name": "python",
   "nbconvert_exporter": "python",
   "pygments_lexer": "ipython3",
   "version": "3.9.19"
  },
  "toc": {
   "base_numbering": 1,
   "nav_menu": {},
   "number_sections": true,
   "sideBar": true,
   "skip_h1_title": true,
   "title_cell": "Table of Contents",
   "title_sidebar": "Contents",
   "toc_cell": false,
   "toc_position": {},
   "toc_section_display": true,
   "toc_window_display": false
  }
 },
 "nbformat": 4,
 "nbformat_minor": 2
}
